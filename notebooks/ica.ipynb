{
 "cells": [
  {
   "cell_type": "code",
   "execution_count": 1,
   "id": "99eda386",
   "metadata": {},
   "outputs": [],
   "source": [
    "import numpy as np\n",
    "import pandas as pd\n",
    "import numpy as np\n",
    "import os\n",
    "import matplotlib.pyplot as plt\n",
    "import csv\n",
    "from datetime import date, datetime\n",
    "import datetime\n",
    "from sklearn.cluster import KMeans\n",
    "from sklearn.decomposition import PCA, FastICA\n",
    "from sklearn.preprocessing import StandardScaler, MinMaxScaler\n",
    "from sklearn.preprocessing import RobustScaler\n",
    "from scipy.spatial.distance import euclidean\n",
    "from sklearn.feature_selection import f_regression\n",
    "from statsmodels.tsa.stattools import adfuller\n",
    "from sklearn.manifold import TSNE\n",
    "from DBCV import DBCV\n",
    "import hdbscan\n",
    "import csv\n",
    "import multiprocessing\n",
    "import itertools\n",
    "import operator\n",
    "plt.style.use('fivethirtyeight')\n",
    "from osgeo import gdal \n",
    "from subprocess import Popen\n",
    "import numpy.ma as ma\n",
    "from numpy import linalg as LA\n",
    "from dtaidistance import dtw"
   ]
  },
  {
   "cell_type": "code",
   "execution_count": null,
   "id": "53f4c7f4",
   "metadata": {},
   "outputs": [],
   "source": [
    "from rasterio.transform import Affine"
   ]
  },
  {
   "cell_type": "code",
   "execution_count": 2,
   "id": "cc211b0c",
   "metadata": {},
   "outputs": [],
   "source": [
    "class Data():\n",
    "    \n",
    "    def __init__(self, filename1, filename2, pc=0.3):\n",
    "        self.load(filename1, filename2, pc)\n",
    "        \n",
    "    def set_latitudes(self, latitudes):\n",
    "        self.latitudes = latitudes\n",
    "        \n",
    "    def set_longitudes(self, longitudes):\n",
    "        self.longitudes = longitudes\n",
    "        \n",
    "    def set_topo(self, topo):\n",
    "        self.topo = topo\n",
    "        \n",
    "    def set_ns_mean_velocities(self, velocities):\n",
    "        self.ns_mean_velocities = velocities\n",
    "        \n",
    "    def set_ew_mean_velocities(self, velocities):\n",
    "        self.ew_mean_velocities = velocities\n",
    "    \n",
    "    def set_dates(self, dates):\n",
    "        self.dates = dates\n",
    "    \n",
    "    def set_ns_displacements(self, ns_displacements):\n",
    "        self.ns_displacements = ns_displacements\n",
    "        \n",
    "    def set_ew_displacements(self, ew_displacements):\n",
    "        self.ew_displacements = ew_displacements\n",
    "        \n",
    "    def load(self, ns_file_path, ew_file_path, pc):\n",
    "        ns_displacements, ew_displacements, booleans = [], [], []\n",
    "        ns_infos, ns = self.load_component(ns_file_path)\n",
    "        ew_infos, ew = self.load_component(ew_file_path)\n",
    "        m = len(ns[0])\n",
    "        \n",
    "        mask = [(ns[n].isnull().sum().sum() / len(ns[0])) < pc for n in range(len(ns))]\n",
    "        \n",
    "        for n, components in enumerate(zip(ns, ew)):\n",
    "            if ns[n].isnull().sum().sum() / m < pc:\n",
    "                ns_displacements.append(components[0].interpolate(limit_direction='both', inplace=False)['displacement'].values)\n",
    "                ew_displacements.append(components[1].interpolate(limit_direction='both', inplace=False)['displacement'].values)\n",
    "                booleans.append(False)\n",
    "            else:\n",
    "                booleans.append(True)\n",
    "            \n",
    "        self.set_latitudes(ns_infos['Lat'].values[mask])\n",
    "        self.set_longitudes(ns_infos['Lon'].values[mask])\n",
    "        self.set_topo(ns_infos['Topo'].values[mask])\n",
    "        self.set_ns_mean_velocities(ns_infos['Vel'].values[mask])\n",
    "        self.set_ew_mean_velocities(ew_infos['Vel'].values[mask])\n",
    "        self.set_ns_displacements(np.array(ns_displacements))\n",
    "        self.set_ew_displacements(np.array(ew_displacements))\n",
    "        self.set_dates(ns[0].index)\n",
    "        \n",
    "    #np.count_nonzero(np.isnan(data))\n",
    "    def load_image_correlation(self, ns_fi, ew_filename):\n",
    "        df_ns, df_ns_ts = self.load_component(ns_filename)\n",
    "        df_ew, df_ew_ts = self.load_component(ew_filename)\n",
    "        df_ew.rename(columns={'Vel': 'Vel_ew'}, inplace=True)\n",
    "        df_ns.rename(columns={'Vel': 'Vel_ns'}, inplace=True)\n",
    "        geo = pd.concat([df_ew[['id', 'Lat','Lon','Topo','Vel_ew']], df_ns[['Vel_ns']]], axis=1)\n",
    "        return geo, df_ns_ts, df_ew_ts\n",
    "        \n",
    "    def load_component(self, filename):\n",
    "        \n",
    "        # numéro de la ligne ou commence les données\n",
    "        num_start = 44\n",
    "        # numéro de la ligne ou se trouve la liste des dates\n",
    "        num_list_dates = 40\n",
    "        # attributs présent dans les données\n",
    "        columns = ['id', 'Lat','Lon', 'Topo', 'Vel', 'Coer',' CosN', 'CosE', 'CosU']\n",
    "        # dictionnaire stockant les données\n",
    "        data = {column: [] for column in columns}\n",
    "        # liste des dates \n",
    "        indexes = []\n",
    "        # series temporelles\n",
    "        series = []\n",
    "        # liste de dataframes\n",
    "        df_series = []\n",
    "        \n",
    "        with open(filename) as csv_file:\n",
    "            csv_reader = csv.reader(csv_file, delimiter=\",\")\n",
    "            line_count = 1 \n",
    "            for row in csv_reader:\n",
    "                if line_count == num_list_dates:\n",
    "                    indexes = [row[0].split(' ')[1]] + row[1:]\n",
    "                if line_count >= num_start:\n",
    "                    # extraction des premiers attributs\n",
    "                    for i in range(len(columns)):\n",
    "                        data[columns[i]].append(row[i])\n",
    "                    # extraction de l'attribut TS(série temporelle)\n",
    "                    series.append([float(v) for v in row[len(columns):]])\n",
    "                line_count  += 1\n",
    "            if len(indexes) != len(series[0]):\n",
    "                print('Erreur : Les indexes et les valeurs ne correspondent pas')\n",
    "            # convertir les index en date\n",
    "            indexes = [d.strip()[0:8] for d in indexes]\n",
    "            # créer une liste de dataframes, chacun contenant une série temporelle\n",
    "            for serie in series:\n",
    "                tmp_serie = pd.DataFrame({'displacement': pd.Series(serie, index=pd.DatetimeIndex(indexes))})\n",
    "                tmp_serie.sort_index(inplace=True)\n",
    "                df_series.append(tmp_serie)\n",
    "            # creer un dataframe pour les autres attributs\n",
    "            df = pd.DataFrame(data)\n",
    "            for column in df.columns:\n",
    "                df[column] = pd.to_numeric(df[column], errors='coerce')\n",
    "            df.set_index('id')\n",
    "        return df, df_series"
   ]
  },
  {
   "cell_type": "code",
   "execution_count": null,
   "id": "78935272",
   "metadata": {},
   "outputs": [],
   "source": [
    "class Displacement():\n",
    "    def __init__(self):\n",
    "        pass\n",
    "    \n",
    "    def compute_velocity(self, displacement):\n",
    "        return 0\n",
    "    \n",
    "    def test(self):\n",
    "        return 0\n",
    "    \n",
    "    def is_mean_velocity_significant(self, displacements, days):\n",
    "        # extraire X et y\n",
    "        X = StandardScaler().fit_transform(displacements)\n",
    "        # calculer la p-value de la regression lineaire\n",
    "        _, pval = f_regression(X, days)\n",
    "        return  pval[0]\n",
    "    \n",
    "    def compute_inst_vel(self, displacements, dates):\n",
    "        diff_displacements, durations = self.prepare(displacements, dates)\n",
    "        return np.divide(diff_displacements, durations)\n",
    "    \n",
    "    # TODO\n",
    "    def is_stationary(self, displacement, alpha, freq='D'):\n",
    "        resampled = displacement.resample(freq)\n",
    "        interpolated = upsampled.interpolate(method='linear')\n",
    "        return self.compute_adfuller(interpolated) < alpha\n",
    "    \n",
    "     # TODO\n",
    "    def smooth(self, displacement, factor):\n",
    "        std = math.sqrt(serie.var())\n",
    "        for i in range(len(serie)):\n",
    "            if abs(serie.iloc[i].displacement) > ampl*std:\n",
    "                serie.iloc[i, serie.columns.get_loc('displacement')]= np.nan\n",
    "        return serie.interpolate(limit_direction='both', inplace=False)\n",
    "    \n",
    "    def prepare(self, displacement, dates):\n",
    "        durations = np.diff(dates) / np.timedelta64(1,'D')\n",
    "        return self.transform_displacement(displacement), self.transform_date(dates)\n",
    "    \n",
    "    def transform_date(self, dates):\n",
    "        temp = np.diff(np.array(dates))\n",
    "        shifted = np.array([np.timedelta64(1, 'D') for n in range(temp.shape[0])])\n",
    "        shifted[0:-1] = temp[1:]\n",
    "        return (shifted + temp)[:-1] / np.timedelta64(1,'D')\n",
    "    \n",
    "    def transform_displacement(self, displacement):\n",
    "        temp = np.diff(np.array(displacement))\n",
    "        shifted = np.zeros(temp.shape[0])\n",
    "        shifted[0:-1] = temp[1:]\n",
    "        return np.add(temp, shifted)[:-1]\n",
    "    \n",
    "    def transform_dates_for_lnreg(self, dates):\n",
    "        lnr_dates = np.cumsum( np.diff(data.dates) /  np.timedelta64(1,'D') )\n",
    "        return np.insert(lnr_dates, 0, 0, axis=0)"
   ]
  },
  {
   "cell_type": "code",
   "execution_count": 3,
   "id": "dc75f772",
   "metadata": {},
   "outputs": [],
   "source": [
    "class DataFromImageCorrelation():\n",
    "    \n",
    "    def __init__(self, data, raster_folder_name, dem_filename, pc=0.4, alpha=0.05, ref='wgs84'):\n",
    "        self.data  = data\n",
    "        self.compute_slope_map(raster_folder_name, dem_filename)\n",
    "        self.compute_vlm_std()\n",
    "        self.n_cores = multiprocessing.cpu_count()\n",
    "        self.pc = pc\n",
    "        self.ref = ref\n",
    "        self.alpha = alpha\n",
    "        self.velocities = []\n",
    "        self.mask = np.array([])\n",
    "    \n",
    "    def compute_vel(self, ns_component, ew_component):\n",
    "        return math.sqrt(ns_component * ns_component + ew_component * ew_component)\n",
    "    \n",
    "    def is_ns_mean_velocity_significant(self, n):\n",
    "        displacement = self.data.ns_displacements[n].reshape(-1, 1)\n",
    "        dates = Displacement().transform_dates_for_lnreg(self.data.dates)\n",
    "        return Displacement().is_mean_velocity_significant(displacement, dates) < self.alpha\n",
    "    \n",
    "    def is_ew_mean_velocity_significant(self, n):\n",
    "        displacement = self.data.ew_displacements[n].reshape(-1, 1)\n",
    "        dates = Displacement().transform_dates_for_lnreg(self.data.dates)\n",
    "        return Displacement().is_mean_velocity_significant(displacement, dates) < self.alpha\n",
    "    \n",
    "    def is_mean_velocity_significant(self, n):\n",
    "        return self.is_ns_mean_velocity_significant(n) and self.is_ew_mean_velocity_significant(n)\n",
    "    \n",
    "    def is_moving(self, n, factor):\n",
    "        ns_vel = data.ns_mean_velocities[n]\n",
    "        ew_vel = data.ew_mean_velocities[n]\n",
    "        return self.compute_vel(ns_vel, ew_vel) > factor * self.sigma\n",
    "    \n",
    "    def filter_by(self, factor, min_slope=5):\n",
    "        vfunc = np.vectorize(self.is_to_select)\n",
    "        self.mask = vfunc(np.arange(self.data.latitudes.shape[0]), factor, min_slope)\n",
    "\n",
    "    def is_to_select(self, n, factor, min_slope):\n",
    "        return (self.is_moving(n, factor) and\n",
    "               self.is_ns_mean_velocity_significant(n) and\n",
    "                self.is_ew_mean_velocity_significant(n))\n",
    "    \n",
    "    def filter_by_linear_reg(self):\n",
    "        pass\n",
    "                \n",
    "    def compute_vlm_std(self):\n",
    "        vfunc = np.vectorize(self.compute_vel)\n",
    "        ns_velocities = self.data.ns_mean_velocities\n",
    "        ew_velocities = self.data.ew_mean_velocities\n",
    "        self.sigma = np.std(vfunc(ns_velocities, ew_velocities))\n",
    "        \n",
    "    def compute_inst_vels(self, series):\n",
    "        with multiprocessing.Pool(self.n_cores) as p:\n",
    "            results = p.map(Displacement().compute_inst_vel, series)\n",
    "            return results\n",
    "        \n",
    "    def compute_velocities(self):\n",
    "        if self.mask.shape[0] > 0:\n",
    "            ns_displacements = self.data.ns_displacements[~np.array(self.mask)]\n",
    "            ew_displacements = self.data.ew_displacements[~np.array(self.mask)]\n",
    "            ns_vels = self.compute_inst_vels(ns_displacements)\n",
    "            ew_vels = self.compute_inst_vels(ew_displacements)\n",
    "            vfunc = np.vectorize(self.compute_vel)\n",
    "            self.velocities = np.array([vfunc(ns, ew) for ns, ew in zip(ns_displacements, ew_displacements)])\n",
    "                    \n",
    "    def set_slope_map_path(self, slope_map_path):\n",
    "        self.slope_map_path = slope_map_path\n",
    "        \n",
    "    def load_raster(self, raster_folder_name, raster_filename):\n",
    "        return gdal.Open(raster_folder_name + '/' +  raster_filename)\n",
    "        \n",
    "    def compute_slope_map(self, raster_folder_name, dem_name):\n",
    "        dem = None\n",
    "        slope_map = None\n",
    "        slope_map_name = dem_name.split('.')[0] + '_' + 'slope_map.tif'\n",
    "        slope_map_path = raster_folder_name + '/' + slope_map_name\n",
    "        if not os.path.isfile(slope_map_path):\n",
    "            dem = gdal.Open(raster_folder_name + '/'+ dem_name)\n",
    "            slope_map = gdal.DEMProcessing(slope_map_path, dem, 'slope', computeEdges = True)\n",
    "        self.set_slope_map_path(slope_map_path)"
   ]
  },
  {
   "cell_type": "markdown",
   "id": "0db25a6c",
   "metadata": {},
   "source": [
    "# Application"
   ]
  },
  {
   "cell_type": "markdown",
   "id": "5d0ebd41",
   "metadata": {},
   "source": [
    "## Chargement des données"
   ]
  },
  {
   "cell_type": "code",
   "execution_count": null,
   "id": "2d396b43",
   "metadata": {},
   "outputs": [],
   "source": [
    "DATA_PATH  = './donnees' \n",
    "ns_path = 'rasters/Lavalette/MM_TIO_NS_31TGK_20151227_to_20200906.csv'\n",
    "ew_path = 'rasters/Lavalette/MM_TIO_EW_31TGK_20151227_to_20200906.csv'"
   ]
  },
  {
   "cell_type": "code",
   "execution_count": null,
   "id": "dce0130c",
   "metadata": {},
   "outputs": [],
   "source": [
    "data = Data(ns_path, ew_path)"
   ]
  },
  {
   "cell_type": "markdown",
   "id": "18b5e309",
   "metadata": {},
   "source": [
    "## Calcul des profils de vitesse"
   ]
  },
  {
   "cell_type": "code",
   "execution_count": null,
   "id": "03bd4b09",
   "metadata": {},
   "outputs": [],
   "source": [
    " def plot_disp_ns_ew(ns_ts, ew_ts):\n",
    "\n",
    "        fig, ax = plt.subplots(2, 1, figsize=(15,10))\n",
    "\n",
    "        ax[0].plot(ns_ts, color='blue', label='displacement (m)', marker='o', linewidth=2)\n",
    "        ax[0].set_title('NS cumulative displacement')\n",
    "        ax[0].set_xlabel('time')\n",
    "        ax[0].set_ylabel('displacement')\n",
    "        ax[0].legend()\n",
    "\n",
    "        ax[1].plot(ew_ts, color='orange', label='displacement (m)', marker='o', linewidth=2)\n",
    "        ax[1].set_title('EW cumulative displacement')\n",
    "        ax[1].set_xlabel('time')\n",
    "        ax[1].set_ylabel('displacement')\n",
    "        ax[1].legend()\n",
    "        plt.savefig('displacement.png')\n",
    "        fig.tight_layout()\n",
    "        plt.show()\n",
    "        "
   ]
  },
  {
   "cell_type": "markdown",
   "id": "e81377fb",
   "metadata": {},
   "source": [
    "## Analyse en composantes princpales(PCA) et décomposition en composantes indépendantes (ICA)"
   ]
  },
  {
   "cell_type": "code",
   "execution_count": null,
   "id": "23df7af8",
   "metadata": {},
   "outputs": [],
   "source": [
    "from sklearn.decomposition import PCA, FastICA"
   ]
  },
  {
   "cell_type": "markdown",
   "id": "e9ec5d15",
   "metadata": {},
   "source": [
    "# Sélection des sources"
   ]
  },
  {
   "cell_type": "markdown",
   "id": "4a683938",
   "metadata": {},
   "source": [
    "# Remarques"
   ]
  },
  {
   "cell_type": "markdown",
   "id": "a6ab91e2",
   "metadata": {},
   "source": [
    "* les deux méthodes ne renvoient pas la même amplitude \n",
    "* amplitude plus faible avec ICA\n",
    "* les sources avec PCA sont obtenues dans la base orthogonal formée par les composantes principales\n"
   ]
  },
  {
   "cell_type": "code",
   "execution_count": null,
   "id": "c1052632",
   "metadata": {},
   "outputs": [],
   "source": [
    "def generate_kml_file(latitudes, longitudes, color, kml=None, filename='visualization', generate=True):\n",
    "    \n",
    "    url = 'http://maps.google.com/mapfiles/ms/micons/'\n",
    "    kml = simplekml.Kml()\n",
    "    for n, coords in enumerate(zip(latitudes, longitudes)):\n",
    "        pnt = kml.newpoint(description=str(n), coords=[(coords[0], coords[1])])\n",
    "        pnt.iconstyle.icon.href = url + color + '-dot.png'\n",
    "    if generate:\n",
    "        kml.save(filename + '.kml')\n",
    "        return  None\n",
    "    else:\n",
    "        return kml\n",
    "        "
   ]
  },
  {
   "cell_type": "markdown",
   "id": "ba3d5561",
   "metadata": {},
   "source": [
    "# Décomposition en composantes indépendantes"
   ]
  },
  {
   "cell_type": "code",
   "execution_count": 4,
   "id": "433b097f",
   "metadata": {},
   "outputs": [],
   "source": [
    "ica_path = 'donnees/ica/'"
   ]
  },
  {
   "cell_type": "code",
   "execution_count": 5,
   "id": "9273e7bd",
   "metadata": {},
   "outputs": [],
   "source": [
    "import os"
   ]
  },
  {
   "cell_type": "code",
   "execution_count": 6,
   "id": "178d3392",
   "metadata": {},
   "outputs": [],
   "source": [
    "# UU : EW\n",
    "# VV : NS\n",
    "def load_displacements(ica_path):\n",
    "    uu, vv = [], []\n",
    "    for filename in os.listdir(ica_path):\n",
    "        if 'corrected' in filename:\n",
    "            raster = gdal.Open(ica_path + filename)\n",
    "            values = raster.GetRasterBand(1).ReadAsArray()\n",
    "            if 'MM_NS' in filename:\n",
    "                vv.append(values)\n",
    "            if 'MM_EW' in filename:\n",
    "                uu.append(values)\n",
    "    return np.array(uu), np.array(vv)"
   ]
  },
  {
   "cell_type": "code",
   "execution_count": 7,
   "id": "17916f44",
   "metadata": {},
   "outputs": [],
   "source": [
    "def get_component_filenames(ica_path, component):\n",
    "    filenames = []\n",
    "    for filename in os.listdir(ica_path):\n",
    "        if 'corrected' in filename and  component in filename:\n",
    "            filenames.append(filename)\n",
    "    return filenames"
   ]
  },
  {
   "cell_type": "code",
   "execution_count": 8,
   "id": "9a28d5e8",
   "metadata": {},
   "outputs": [],
   "source": [
    "UU, VV = load_displacements(ica_path)"
   ]
  },
  {
   "cell_type": "code",
   "execution_count": null,
   "id": "1476f7bf",
   "metadata": {},
   "outputs": [],
   "source": [
    "UU.shape"
   ]
  },
  {
   "cell_type": "code",
   "execution_count": null,
   "id": "d58f677c",
   "metadata": {},
   "outputs": [],
   "source": [
    "UU = []\n",
    "VV = []\n",
    "F2 = os.listdir(ica_path)\n",
    "for f in F2:\n",
    "    if f.startswith('MM_EW') and f.endswith('.tif'):\n",
    "        ds = gdal.Open(ica_path + f)\n",
    "        img = ds.ReadAsArray()\n",
    "        UU.append(img)\n",
    "    if f.startswith('MM_NS') and f.endswith('.tif'):\n",
    "        ds = gdal.Open(ica_path + f)\n",
    "        img = ds.ReadAsArray()\n",
    "        VV.append(img)"
   ]
  },
  {
   "cell_type": "code",
   "execution_count": null,
   "id": "c0076d9e",
   "metadata": {},
   "outputs": [],
   "source": [
    "np.array(UU).shape"
   ]
  },
  {
   "cell_type": "code",
   "execution_count": null,
   "id": "20d0f865",
   "metadata": {},
   "outputs": [],
   "source": [
    "from datetime import datetime\n",
    "\n",
    "def to_date(string):\n",
    "    year = string[0:4]\n",
    "    month = string[4:6]\n",
    "    day = string[6:8]\n",
    "    new_str = ' '.join([year, month, day])\n",
    "    return datetime.strptime(new_str, \"%Y %m %d\")\n",
    "\n",
    "def to_filename(year, month, day):\n",
    "    new_month = None\n",
    "    new_day   = None\n",
    "    if month < 10:\n",
    "        new_month = '0' + str(month)\n",
    "    else:\n",
    "        new_month = str(month)\n",
    "    if day < 10:\n",
    "        new_day = '0' + str(day)\n",
    "    else:\n",
    "        new_day = str(day)\n",
    "        \n",
    "    return str(year) + new_month + new_day \n",
    "\n",
    "def checked_connection_(date1, date2, filenames):\n",
    "    year1, month1, day1 = date1.year, date1.month, date1.day\n",
    "    year2, month2, day2 = date2.year, date2.month, date2.day\n",
    "    for filename in filenames:\n",
    "        if to_filename(year1, month1, day1) in filename and to_filename(year2, month2, day2) in filename:\n",
    "            return 1\n",
    "        else:\n",
    "            return 0"
   ]
  },
  {
   "cell_type": "code",
   "execution_count": 16,
   "id": "d212c4a2",
   "metadata": {},
   "outputs": [],
   "source": [
    "def check_connection(date1, date2, filenames):\n",
    "    for filename in filenames:\n",
    "         if 1 in filenames:\n",
    "            return True\n",
    "    return False\n",
    "\n",
    "def extract_dates(filenames):\n",
    "    dates = [s for filename in filenames for s in filename.split('_') if s.isdigit()]\n",
    "    dates = list(OrderedDict.fromkeys(sorted(dates)))\n",
    "    return sorted(dates)"
   ]
  },
  {
   "cell_type": "code",
   "execution_count": 17,
   "id": "324f8b86",
   "metadata": {},
   "outputs": [],
   "source": [
    " from collections import OrderedDict\n",
    "# filenames = get_component_filenames(ica_path, 'MM_NS')\n",
    "# dates = [s for filename in filenames for s in filename.split('_') if s.isdigit()]\n",
    "# dates = [to_date(date) for date in dates]\n",
    "# dates = sorted(dates)\n",
    "# dates = list(OrderedDict.fromkeys(sorted(dates)))\n",
    "# dates"
   ]
  },
  {
   "cell_type": "code",
   "execution_count": 14,
   "id": "7a0ab8f1",
   "metadata": {},
   "outputs": [],
   "source": [
    "filenames = get_component_filenames(ica_path, 'MM_NS')\n",
    "dates  = extract_dates(filenames)"
   ]
  },
  {
   "cell_type": "code",
   "execution_count": 18,
   "id": "573de317",
   "metadata": {},
   "outputs": [
    {
     "name": "stdout",
     "output_type": "stream",
     "text": [
      "Couple n'existe pas\n"
     ]
    }
   ],
   "source": [
    "for filename in filenames:\n",
    "    if dates[0] in filename and dates[1] in filename:\n",
    "        print('Couple existe')\n",
    "        break\n",
    "print('Couple n\\'existe pas')"
   ]
  },
  {
   "cell_type": "code",
   "execution_count": 19,
   "id": "5ed66e07",
   "metadata": {},
   "outputs": [],
   "source": [
    "couples_dict = {}\n",
    "for n in range(len(dates)):\n",
    "    for m in range(n + 1, len(dates)):\n",
    "        status = False\n",
    "        for filename in filenames:\n",
    "            if dates[n] in filename and dates[m] in filename:\n",
    "                status = True\n",
    "                couples_dict[str(n)] = m\n",
    "        if status:\n",
    "            break"
   ]
  },
  {
   "cell_type": "code",
   "execution_count": 20,
   "id": "01d59661",
   "metadata": {},
   "outputs": [],
   "source": [
    "# construction de la matrice A\n",
    "A = []\n",
    "for n in range(len(dates)):\n",
    "    for m in range(n + 1, len(dates)):\n",
    "        for filename in filenames:\n",
    "            if dates[n] in filename and dates[m] in filename:\n",
    "                b = np.zeros(len(dates))\n",
    "                x = couples_dict[str(n)]\n",
    "                b[n:m] = 1\n",
    "                A.append(b)"
   ]
  },
  {
   "cell_type": "code",
   "execution_count": 21,
   "id": "a969d5b8",
   "metadata": {},
   "outputs": [],
   "source": [
    "AA = np.linalg.pinv(np.transpose(A).dot(A)).dot(np.transpose(A))"
   ]
  },
  {
   "cell_type": "code",
   "execution_count": 22,
   "id": "7cf42a70",
   "metadata": {},
   "outputs": [],
   "source": [
    "vv_4ica=[]\n",
    "uu_4ica=[]\n",
    "for i in range(0, np.size(VV,1)):\n",
    "    for j in range(0, np.size(UU,2)):\n",
    "        vv_4ica.append(VV[:,i,j])\n",
    "        uu_4ica.append(UU[:,i,j]) "
   ]
  },
  {
   "cell_type": "code",
   "execution_count": 126,
   "id": "2b8d6e26",
   "metadata": {},
   "outputs": [
    {
     "data": {
      "text/plain": [
       "(87607, 1612)"
      ]
     },
     "execution_count": 126,
     "metadata": {},
     "output_type": "execute_result"
    }
   ],
   "source": [
    "np.array(vv_4ica).shape"
   ]
  },
  {
   "cell_type": "code",
   "execution_count": 128,
   "id": "fbaa7a2d",
   "metadata": {},
   "outputs": [],
   "source": [
    "Nica=5\n",
    "icav = FastICA(n_components=Nica, whiten='boolean')\n",
    "icau = FastICA(n_components=Nica, whiten='boolean')\n",
    "\n",
    "S_v = icav.fit_transform(vv_4ica)  # Reconstruct signals\n",
    "S_u = icau.fit_transform(uu_4ica)  # Reconstruct signals\n",
    "S_v_t = np.transpose(S_v)\n",
    "S_u_t = np.transpose(S_u)\n",
    "A_v = icav.mixing_\n",
    "A_u = icau.mixing_"
   ]
  },
  {
   "cell_type": "code",
   "execution_count": null,
   "id": "267e29bf",
   "metadata": {},
   "outputs": [],
   "source": [
    "def from_utm_to_lat_lon(filename):\n",
    "        # Read raster\n",
    "        with rasterio.open(filename) as r:\n",
    "            T0 = r.transform  # upper-left pixel corner affine transform\n",
    "            p1 = Proj(r.crs)\n",
    "            A = r.read()  # pixel values\n",
    "\n",
    "        # All rows and columns\n",
    "        cols, rows = np.meshgrid(np.arange(A.shape[2]), np.arange(A.shape[1]))\n",
    "\n",
    "        # Get affine transform for pixel centres\n",
    "        T1 = T0 * Affine.translation(0.5, 0.5)\n",
    "        # Function to convert pixel row/column index (from 0) to easting/northing at centre\n",
    "        rc2en = lambda r, c: (c, r) * T1\n",
    "\n",
    "        # All eastings and northings (there is probably a faster way to do this)\n",
    "        eastings, northings = np.vectorize(rc2en, otypes=[float, float])(rows, cols)\n",
    "\n",
    "        # Project all longitudes, latitudes\n",
    "        p2 = Proj(proj='latlong',datum='WGS84')\n",
    "        lats, lons = transform(p1, p2, eastings, northings)\n",
    "\n",
    "        return lats, lons"
   ]
  },
  {
   "cell_type": "code",
   "execution_count": null,
   "id": "8790cee4",
   "metadata": {},
   "outputs": [],
   "source": [
    "import rasterio\n",
    "from pyproj import Proj, transform\n",
    "from affine import Affine\n",
    "test = rasterio.open(ica_path + 'MM_EW_displ_31TGK_20170311_vs_20200424_FILTER_Displmax.tif')\n",
    "lats, lons = from_utm_to_lat_lon(ica_path + 'MM_EW_displ_31TGK_20170311_vs_20200424_FILTER_Displmax.tif')"
   ]
  },
  {
   "cell_type": "code",
   "execution_count": null,
   "id": "9278e77d",
   "metadata": {},
   "outputs": [],
   "source": [
    "def generate_kml_file(indexes, latitudes, longitudes, color, filename='visualization_ica'):\n",
    "    url = 'http://maps.google.com/mapfiles/ms/micons/'\n",
    "    kml = simplekml.Kml()\n",
    "    for n in range(len(latitudes)):\n",
    "        pnt = kml.newpoint(description=str(indexes[n]), coords=[(latitudes[n], longitudes[n])])\n",
    "        pnt.iconstyle.icon.href = url + color + '-dot.png'\n",
    "    kml.save(filename + '.kml')"
   ]
  },
  {
   "cell_type": "code",
   "execution_count": null,
   "id": "ee135393",
   "metadata": {},
   "outputs": [],
   "source": [
    "import simplekml\n",
    "generate_kml_file(np.arange(28000, 35000, 1), lats.flatten()[28000:35000], lons.flatten()[28000:35000], 'yellow')"
   ]
  },
  {
   "cell_type": "code",
   "execution_count": null,
   "id": "1cbd15b9",
   "metadata": {},
   "outputs": [],
   "source": [
    "tolerances = [0.001, 0.001, 0.001, 0.001, 0.01, 0.1, 0.1, 0.1, 0.1, 0.1, 0.1, 1, 1, 1, 1,1]"
   ]
  },
  {
   "cell_type": "code",
   "execution_count": null,
   "id": "03f64876",
   "metadata": {},
   "outputs": [],
   "source": [
    "NS, EW = [], []\n",
    "tolerances = [0.001, 0.001, 0.001, 0.001, 0.01, 0.1, 0.1, 0.1, 0.1, 0.1, 0.1, 1, 1, 1, 1, 1]\n",
    "nsources = [5, 10, 15, 20, 25, 30, 35, 40, 45, 50, 55, 60, 65, 70, 75, 80]\n",
    "\n",
    "for n in range(len(nsources)):\n",
    "    icav = FastICA(n_components=nsources[n], whiten='boolean', tol=tolerances[n])\n",
    "    icau = FastICA(n_components=nsources[n], whiten='boolean', tol=tolerances[n])\n",
    "\n",
    "    S_v = icav.fit_transform(vv_4ica)  # Reconstruct signals\n",
    "    S_u = icau.fit_transform(uu_4ica)  # Reconstruct signals\n",
    "    S_v_t = np.transpose(S_v)\n",
    "    S_u_t = np.transpose(S_u)\n",
    "    A_v = icav.mixing_\n",
    "    A_u = icau.mixing_\n",
    "\n",
    "    du = []\n",
    "    dv = []\n",
    "    for i in range(0, nsources[n]):\n",
    "        du.append(AA.dot(A_u[:, i]))\n",
    "        dv.append(AA.dot(A_v[:, i]))\n",
    "        \n",
    "    Iu_f = None\n",
    "    Iv_f = None\n",
    "    Ew = []\n",
    "    Ns = []\n",
    "    Iv_f = np.dot(np.transpose(dv), S_v.T).T\n",
    "    Iu_f = np.dot(np.transpose(du), S_u.T).T\n",
    "    \n",
    "    for i in range(Iu_f.shape[0]):\n",
    "        Ew.append(np.cumsum(Iu_f[i, :]))\n",
    "        Ns.append(np.cumsum(Iv_f[i, :]))\n",
    "        \n",
    "    NS.append(Ns)\n",
    "    EW.append(Ew)\n",
    "    \n",
    "    print('Decompostion %d completed' % (n))"
   ]
  },
  {
   "cell_type": "code",
   "execution_count": null,
   "id": "5fbcf0a5",
   "metadata": {},
   "outputs": [],
   "source": [
    "cmap = plt.get_cmap('viridis')\n",
    "colors = [cmap(i) for i in np.linspace(0, 1, len(nsources))]"
   ]
  },
  {
   "cell_type": "code",
   "execution_count": null,
   "id": "612b038f",
   "metadata": {},
   "outputs": [],
   "source": [
    "sig =  29760\n",
    "#colors = ['green', 'blue', 'red', 'orange', 'purple', 'gray', 'olive', 'brown']\n",
    "plt.figure(figsize=(15, 8))\n",
    "for m in range(len(nsources)):\n",
    "    plt.plot(NS[m][sig], color=colors[m], label='nsource = %d' % (nsources[m]), linewidth=2)\n",
    "    plt.xlabel('acquisitions')\n",
    "    plt.ylabel('déplacement (m)')\n",
    "    plt.legend()\n",
    "plt.savefig('ns_ica_increasint_nsources.png')"
   ]
  },
  {
   "cell_type": "code",
   "execution_count": null,
   "id": "76a973ec",
   "metadata": {},
   "outputs": [],
   "source": [
    "sig = 29760\n",
    "#colors = ['green', 'blue', 'red', 'orange', 'purple', 'gray', 'olive', 'brown']\n",
    "plt.figure(figsize=(15, 8))\n",
    "for m in range(len(nsources)):\n",
    "    plt.plot(EW[m][sig], color=colors[m], label='nsource = %d' % (nsources[m]), linewidth=2)\n",
    "    plt.xlabel('acquisitions')\n",
    "    plt.ylabel('déplacement (m)')\n",
    "    plt.legend()\n",
    "plt.savefig('ew_ica_increasint_nsources.png')"
   ]
  },
  {
   "cell_type": "code",
   "execution_count": null,
   "id": "6e8fcf8b",
   "metadata": {},
   "outputs": [],
   "source": [
    "kurtosis_vr_sig = []\n",
    "for m in range(len(nsources)):\n",
    "    kurtosis_vr_sig.append(kurtosis(NS[m][sig]))\n",
    "plt.plot(kurtosis_vr_sig, color='r', linewidth=3)\n",
    "plt.show()"
   ]
  },
  {
   "cell_type": "code",
   "execution_count": null,
   "id": "b2705736",
   "metadata": {},
   "outputs": [],
   "source": [
    "from numpy import linalg as LA"
   ]
  },
  {
   "cell_type": "code",
   "execution_count": null,
   "id": "5d25a0b6",
   "metadata": {},
   "outputs": [],
   "source": [
    "noise = 28190\n",
    "#colors = ['green', 'blue', 'red', 'orange', 'purple', 'gray', 'olive', 'brown']\n",
    "plt.figure(figsize=(15, 8))\n",
    "for m in range(len(colors)):\n",
    "    plt.plot(NS[m][noise], color=colors[m], label='nsource = %d' % (nsources[m]), linewidth=2)\n",
    "    plt.legend()"
   ]
  },
  {
   "cell_type": "code",
   "execution_count": null,
   "id": "805d6839",
   "metadata": {},
   "outputs": [],
   "source": [
    "kurtosis_vr_noise = []\n",
    "for m in range(len(nsources)):\n",
    "    kurtosis_vr_noise.append(kurtosis(NS[m][noise]))\n",
    "plt.plot(np.array(kurtosis_vr_noise), color='r', linewidth=3)\n",
    "plt.show()"
   ]
  },
  {
   "cell_type": "code",
   "execution_count": null,
   "id": "613c59d0",
   "metadata": {},
   "outputs": [],
   "source": [
    "distances = []\n",
    "for n in range(len(nsources) - 1):\n",
    "    distances.append(LA.norm(NS[-1][noise] - NS[n][noise]))\n",
    "plt.plot(distances)\n",
    "plt.show()"
   ]
  },
  {
   "cell_type": "code",
   "execution_count": null,
   "id": "88841d1b",
   "metadata": {},
   "outputs": [],
   "source": [
    "n_components = 29\n",
    "icav = FastICA(n_components=n_components, whiten='boolean')\n",
    "icau = FastICA(n_components=n_components, whiten='boolean')\n",
    "\n",
    "S_v = icav.fit_transform(vv_4ica)  # Reconstruct signals\n",
    "S_u = icau.fit_transform(uu_4ica)  # Reconstruct signals\n",
    "S_v_t = np.transpose(S_v)\n",
    "S_u_t = np.transpose(S_u)\n",
    "A_v = icav.mixing_\n",
    "A_u = icau.mixing_\n",
    "\n",
    "du = []\n",
    "dv = []\n",
    "for i in range(0, n_components):\n",
    "    du.append(AA.dot(A_u[:, i]))\n",
    "    dv.append(AA.dot(A_v[:, i]))\n",
    "        \n",
    "Iu_f = None\n",
    "Iv_f = None\n",
    "Ew = []\n",
    "Ns = []\n",
    "Iv_f = np.dot(np.transpose(dv), S_v.T).T\n",
    "Iu_f = np.dot(np.transpose(du), S_u.T).T\n",
    "    \n",
    "for i in range(Iu_f.shape[0]):\n",
    "    Ew.append(np.cumsum(Iu_f[i, :]))\n",
    "    Ns.append(np.cumsum(Iv_f[i, :]))\n",
    "        "
   ]
  },
  {
   "cell_type": "code",
   "execution_count": null,
   "id": "9b777a83",
   "metadata": {},
   "outputs": [],
   "source": [
    "plt.plot(Ns[29176])\n",
    "plt.plot()"
   ]
  },
  {
   "cell_type": "code",
   "execution_count": null,
   "id": "5b564e95",
   "metadata": {},
   "outputs": [],
   "source": [
    "signals = [34900, 28490, 37520, 36659, 42193, 30546, 34313, 38980, 30237, 33451, 22367, 24713, 22961, 25887, 28509]\n",
    "non_signals = [47521, 40813, 47557, 47841, 49882, 43172, 48141, 41143, 45777, 44317,5842, 42256, 44879, 39398 ,46649]"
   ]
  },
  {
   "cell_type": "code",
   "execution_count": null,
   "id": "70d869d9",
   "metadata": {},
   "outputs": [],
   "source": [
    "from scipy.stats import kurtosis\n",
    "from scipy.stats import skew"
   ]
  },
  {
   "cell_type": "code",
   "execution_count": null,
   "id": "39338f29",
   "metadata": {},
   "outputs": [],
   "source": [
    "for k in range(0, n_components):\n",
    "    plt.figure(figsize=(10, 10))\n",
    "    plt.subplot(1,2,1)\n",
    "    max_val = np.max(S_u_t[k,:].flatten())\n",
    "    plt.imshow(np.reshape(S_u_t[k,:], (np.size(UU,1), np.size(UU,2))))\n",
    "    plt.title(str(kurtosis(S_u_t[k,:])) + \"  \" + str(skew(S_u_t[k,:])))\n",
    "    plt.colorbar()\n",
    "    plt.subplot(1,2,2)\n",
    "    plt.imshow(np.reshape(S_v_t[k,:], (np.size(UU,1), np.size(UU,2))))\n",
    "    plt.title(kurtosis(S_v_t[k,:]))\n",
    "plt.show()"
   ]
  },
  {
   "cell_type": "code",
   "execution_count": null,
   "id": "dcb82b7f",
   "metadata": {},
   "outputs": [],
   "source": [
    "# trier les sources dans l'ordre croissant de leur kurtosis\n",
    "kurtosis_u = {}\n",
    "kurtosis_v = {}\n",
    "for n in range(n_components):\n",
    "    kurtosis_u[n] = kurtosis(S_u_t[n,:])\n",
    "    kurtosis_v[n] = kurtosis(S_v_t[n,:])\n",
    "kurtosis_u_sorted = {k: v for k, v in sorted(kurtosis_u.items(), key=lambda item: item[1])}\n",
    "kurtosis_v_sorted = {k: v for k, v in sorted(kurtosis_v.items(), key=lambda item: item[1])}"
   ]
  },
  {
   "cell_type": "code",
   "execution_count": null,
   "id": "5cbe7461",
   "metadata": {},
   "outputs": [],
   "source": [
    "k = 1\n",
    "plt.imshow(S_u_t[k, :].reshape((UU.shape[1], UU.shape[2])))\n",
    "plt.title(kurtosis(S_u_t[k, :]))\n",
    "plt.colorbar()\n",
    "plt.show()"
   ]
  },
  {
   "cell_type": "code",
   "execution_count": null,
   "id": "95f1712d",
   "metadata": {},
   "outputs": [],
   "source": [
    "from scipy import ndimage, misc"
   ]
  },
  {
   "cell_type": "code",
   "execution_count": null,
   "id": "27b774aa",
   "metadata": {},
   "outputs": [],
   "source": [
    "from scipy.stats import norm, kurtosis"
   ]
  },
  {
   "cell_type": "code",
   "execution_count": null,
   "id": "4d0c2a41",
   "metadata": {},
   "outputs": [],
   "source": [
    "# ajouter progressivement le sources et observer le comportement des séries temporelles ?\n",
    "NS_, EW_ = [], []\n",
    "for k, v in kurtosis_u_sorted.items():\n",
    "    \n",
    "    S_u_c = S_u[:, :]\n",
    "    S_v_c = S_v[:, :]\n",
    "    \n",
    "    for n in range(S_u.shape[1]):\n",
    "        if k != n:\n",
    "            S_u_c[:, n] = 0\n",
    "            S_v_c[:, n] = 0\n",
    "            \n",
    "    Iu_f = None\n",
    "    Iv_f = None\n",
    "    Ew_ = []\n",
    "    Ns_ = []\n",
    "    Iv_f = np.dot(np.transpose(dv), S_v_c.T).T\n",
    "    Iu_f = np.dot(np.transpose(du), S_u_c.T).T\n",
    "\n",
    "    for i in range(Iu_f.shape[0]):\n",
    "            Ew.append(np.cumsum(Iu_f[i, :]))\n",
    "            Ns.append(np.cumsum(Iv_f[i, :]))\n",
    "    EW_.append(Ew)\n",
    "    NS_.append(Ns)"
   ]
  },
  {
   "cell_type": "markdown",
   "id": "3b5bf6d9",
   "metadata": {},
   "source": [
    "# Détermination du nombre de sources"
   ]
  },
  {
   "cell_type": "code",
   "execution_count": null,
   "id": "221031ba",
   "metadata": {},
   "outputs": [],
   "source": [
    "def estimate_nsources(G, data, start=10, step=5, max_iter=100, ica_tol=0.001, dt_tol=0.01):\n",
    "    \n",
    "    for i range(max_iter):\n",
    "        n_components = start + i * step\n",
    "        ica = FastICA(n_components=n_components, whiten='boolean', tol=ica_tol)        \n",
    "        sources = ica.fit_transform(data)  \n",
    "        sources_t = np.transpose(sources)\n",
    "        A = ica.mixing_\n",
    "        \n",
    "        du = []\n",
    "        dv = []\n",
    "        \n",
    "        for i in range(0, n_components):\n",
    "            du.append(G.dot(A[:, i]))\n",
    "            dv.append(G.dot(A[:, i]))\n",
    "            \n",
    "        I, C = [], []\n",
    "        \n",
    "        I = np.dot(np.transpose(dv), sources.T).T\n",
    "\n",
    "        for i in range(I.shape[0]):\n",
    "            C.append(np.cumsum(I[i, :]))\n",
    "        \n",
    "        for n in range(len(C)):\n",
    "            \n",
    "import random\n",
    "def seek_number_sources(data, n_components_min, n_componets_max, step=5, max_iter=100, tol=0.0001, seed=1000, max_value=1000):\n",
    "    \n",
    "    np.random(seed)\n",
    "    random_states = random.sample(range(max_value), max_iter)\n",
    "    components = []\n",
    "    \n",
    "    for n_components in range(n_components_min, n_componets_max, step):\n",
    "        for n_iter in range(max_iter):\n",
    "            ica = FastICA(n_components=n_components, whiten='boolean', tol=tol)\n",
    "            components_iter.transpose(ica.fit_transform(data))\n",
    "            "
   ]
  },
  {
   "cell_type": "code",
   "execution_count": 121,
   "id": "4fc50115",
   "metadata": {},
   "outputs": [],
   "source": [
    "import random\n",
    "from scipy.stats import pearsonr\n",
    "from sklearn.cluster import AgglomerativeClustering\n",
    "from sklearn.metrics import silhouette_samples, silhouette_score\n",
    "from scipy import stats\n",
    "\n",
    "def seek_number_sources(data, n_components_min=2, n_components_max=30, step=1, max_iter=100, ica_max_iter=300, seed=1000, max_value=1000):\n",
    "    \n",
    "    random.seed(seed)\n",
    "    random_states = random.sample(range(max_value), max_iter)\n",
    "    cluster_qualities, mixings, labels = [], [], []\n",
    "\n",
    "    # génération des composantes indépendantes\n",
    "    for n_components in range(n_components_min, n_components_max, step):\n",
    "        components = []\n",
    "        print(n_component)\n",
    "        for n_iter in range(max_iter):\n",
    "            ica = FastICA(n_components=n_components, random_state=random_states[n_iter], max_iter=ica_max_iter)\n",
    "            components_iter = np.transpose(ica.fit_transform(data))\n",
    "            for rw in np.transpose(ica.mixing_):\n",
    "                mixings.append(list(rw))\n",
    "            #components.append(components_iter)\n",
    "        # compute similarity matrix\n",
    "        # X = np.transpose(np.array(components)).reshape((n_components * max_iter, -1))\n",
    "        \n",
    "    return np.array(mixings)\n",
    "\n",
    "def compute_similarity_matrix(data, metric='pearson'):\n",
    "        size = len(data)\n",
    "        distances_matrix = np.zeros(shape=(size, size))\n",
    "        \n",
    "        for n in range(size):\n",
    "            for m in range(n + 1, size):\n",
    "                r = 1 - abs(pearsonr(data[n], data[m])[0]) # attention aux valeurs négatives !\n",
    "                distances_matrix[m, n] = r\n",
    "                distances_matrix[n, m] = r\n",
    "                \n",
    "        return distances_matrix\n",
    "    \n",
    "def average_intra_cluster_similarity(data, labels, num_cluster):\n",
    "    r = 0.0\n",
    "    object_indexes = np.where(labels == num_cluster)[0]\n",
    "    card_cluster = object_indexes.shape[0]\n",
    "    for i in range(card_cluster):\n",
    "        for j in range(i, card_cluster):\n",
    "            n, m = object_indexes[i], object_indexes[j]\n",
    "            #r += pearsonr(data[n], data[m])[0]\n",
    "            r += abs(pearsonr(data[n], data[m])[0])\n",
    "            #r += - distances[object_indexes[i], object_indexes[j]] + 1\n",
    "    return  r / (card_cluster * card_cluster)\n",
    "\n",
    "def average_inter_cluster_similarity(data, labels, num_cluster):\n",
    "    r = 0.0\n",
    "    object_indexes = np.where(labels == num_cluster)[0]\n",
    "    non_object_indexes = np.where(labels != num_cluster)[0]\n",
    "    card_cluster = object_indexes.shape[0]\n",
    "    for i in range(object_indexes.shape[0]):\n",
    "        for j in range(non_object_indexes.shape[0]):\n",
    "            n, m = object_indexes[i], non_object_indexes[j]\n",
    "            r += abs(pearsonr(data[n], data[m])[0])\n",
    "           # r += stats.spearmanr(data[n], data[m])[0]\n",
    "    \n",
    "    return r / (card_cluster * (labels.shape[0] - card_cluster))\n",
    "\n",
    "def cluster_quality(data, labels, num_cluster):\n",
    "    avg_inter_sm = average_inter_cluster_similarity(data, labels, num_cluster)\n",
    "    avg_intra_sm = average_intra_cluster_similarity(data, labels, num_cluster)\n",
    "    return avg_intra_sm - avg_inter_sm\n",
    "\n",
    "# à modifier\n",
    "def average_clustering_quality(data, labels , n_clusters):\n",
    "    avg = 0.0\n",
    "    for num_cluster in range(n_clusters):\n",
    "        avg +=  cluster_quality(data, labels, num_cluster)\n",
    "    return avg / n_clusters"
   ]
  },
  {
   "cell_type": "code",
   "execution_count": null,
   "id": "9ae7c8c8",
   "metadata": {},
   "outputs": [],
   "source": [
    "model = AgglomerativeClustering(affinity='precomputed', n_clusters=10, linkage='average').fit(distances)\n",
    "l = average_clustering_quality(X1, model.labels_, 10)"
   ]
  },
  {
   "cell_type": "code",
   "execution_count": null,
   "id": "bc156e7f",
   "metadata": {},
   "outputs": [],
   "source": [
    "# lorsque le clustering est parfait, on a Iq(Ck) = 1 c'est à dire le premier terme vaut 1 et le second terme vaut zero\n",
    "# par conséquent le premier doit augmenter et le second terme diminuer au cours de chaque iteration"
   ]
  },
  {
   "cell_type": "code",
   "execution_count": 122,
   "id": "0cecfe51",
   "metadata": {},
   "outputs": [
    {
     "name": "stdout",
     "output_type": "stream",
     "text": [
      "2\n",
      "2\n",
      "2\n",
      "2\n",
      "2\n",
      "2\n",
      "2\n",
      "2\n",
      "2\n",
      "2\n",
      "2\n",
      "2\n",
      "2\n",
      "2\n",
      "2\n",
      "2\n",
      "2\n",
      "2\n",
      "2\n",
      "2\n",
      "2\n",
      "2\n",
      "2\n",
      "2\n",
      "2\n",
      "2\n",
      "2\n",
      "2\n"
     ]
    },
    {
     "name": "stderr",
     "output_type": "stream",
     "text": [
      "c:\\users\\plateforme_gt\\appdata\\local\\programs\\python\\python39\\lib\\site-packages\\sklearn\\decomposition\\_fastica.py:118: ConvergenceWarning: FastICA did not converge. Consider increasing tolerance or the maximum number of iterations.\n",
      "  warnings.warn('FastICA did not converge. Consider increasing '\n",
      "c:\\users\\plateforme_gt\\appdata\\local\\programs\\python\\python39\\lib\\site-packages\\sklearn\\decomposition\\_fastica.py:118: ConvergenceWarning: FastICA did not converge. Consider increasing tolerance or the maximum number of iterations.\n",
      "  warnings.warn('FastICA did not converge. Consider increasing '\n"
     ]
    },
    {
     "name": "stdout",
     "output_type": "stream",
     "text": [
      "2\n"
     ]
    },
    {
     "name": "stderr",
     "output_type": "stream",
     "text": [
      "c:\\users\\plateforme_gt\\appdata\\local\\programs\\python\\python39\\lib\\site-packages\\sklearn\\decomposition\\_fastica.py:118: ConvergenceWarning: FastICA did not converge. Consider increasing tolerance or the maximum number of iterations.\n",
      "  warnings.warn('FastICA did not converge. Consider increasing '\n",
      "c:\\users\\plateforme_gt\\appdata\\local\\programs\\python\\python39\\lib\\site-packages\\sklearn\\decomposition\\_fastica.py:118: ConvergenceWarning: FastICA did not converge. Consider increasing tolerance or the maximum number of iterations.\n",
      "  warnings.warn('FastICA did not converge. Consider increasing '\n",
      "c:\\users\\plateforme_gt\\appdata\\local\\programs\\python\\python39\\lib\\site-packages\\sklearn\\decomposition\\_fastica.py:118: ConvergenceWarning: FastICA did not converge. Consider increasing tolerance or the maximum number of iterations.\n",
      "  warnings.warn('FastICA did not converge. Consider increasing '\n",
      "c:\\users\\plateforme_gt\\appdata\\local\\programs\\python\\python39\\lib\\site-packages\\sklearn\\decomposition\\_fastica.py:118: ConvergenceWarning: FastICA did not converge. Consider increasing tolerance or the maximum number of iterations.\n",
      "  warnings.warn('FastICA did not converge. Consider increasing '\n",
      "c:\\users\\plateforme_gt\\appdata\\local\\programs\\python\\python39\\lib\\site-packages\\sklearn\\decomposition\\_fastica.py:118: ConvergenceWarning: FastICA did not converge. Consider increasing tolerance or the maximum number of iterations.\n",
      "  warnings.warn('FastICA did not converge. Consider increasing '\n",
      "c:\\users\\plateforme_gt\\appdata\\local\\programs\\python\\python39\\lib\\site-packages\\sklearn\\decomposition\\_fastica.py:118: ConvergenceWarning: FastICA did not converge. Consider increasing tolerance or the maximum number of iterations.\n",
      "  warnings.warn('FastICA did not converge. Consider increasing '\n",
      "c:\\users\\plateforme_gt\\appdata\\local\\programs\\python\\python39\\lib\\site-packages\\sklearn\\decomposition\\_fastica.py:118: ConvergenceWarning: FastICA did not converge. Consider increasing tolerance or the maximum number of iterations.\n",
      "  warnings.warn('FastICA did not converge. Consider increasing '\n",
      "c:\\users\\plateforme_gt\\appdata\\local\\programs\\python\\python39\\lib\\site-packages\\sklearn\\decomposition\\_fastica.py:118: ConvergenceWarning: FastICA did not converge. Consider increasing tolerance or the maximum number of iterations.\n",
      "  warnings.warn('FastICA did not converge. Consider increasing '\n",
      "c:\\users\\plateforme_gt\\appdata\\local\\programs\\python\\python39\\lib\\site-packages\\sklearn\\decomposition\\_fastica.py:118: ConvergenceWarning: FastICA did not converge. Consider increasing tolerance or the maximum number of iterations.\n",
      "  warnings.warn('FastICA did not converge. Consider increasing '\n",
      "c:\\users\\plateforme_gt\\appdata\\local\\programs\\python\\python39\\lib\\site-packages\\sklearn\\decomposition\\_fastica.py:118: ConvergenceWarning: FastICA did not converge. Consider increasing tolerance or the maximum number of iterations.\n",
      "  warnings.warn('FastICA did not converge. Consider increasing '\n"
     ]
    },
    {
     "name": "stdout",
     "output_type": "stream",
     "text": [
      "2\n"
     ]
    },
    {
     "name": "stderr",
     "output_type": "stream",
     "text": [
      "c:\\users\\plateforme_gt\\appdata\\local\\programs\\python\\python39\\lib\\site-packages\\sklearn\\decomposition\\_fastica.py:118: ConvergenceWarning: FastICA did not converge. Consider increasing tolerance or the maximum number of iterations.\n",
      "  warnings.warn('FastICA did not converge. Consider increasing '\n",
      "c:\\users\\plateforme_gt\\appdata\\local\\programs\\python\\python39\\lib\\site-packages\\sklearn\\decomposition\\_fastica.py:118: ConvergenceWarning: FastICA did not converge. Consider increasing tolerance or the maximum number of iterations.\n",
      "  warnings.warn('FastICA did not converge. Consider increasing '\n",
      "c:\\users\\plateforme_gt\\appdata\\local\\programs\\python\\python39\\lib\\site-packages\\sklearn\\decomposition\\_fastica.py:118: ConvergenceWarning: FastICA did not converge. Consider increasing tolerance or the maximum number of iterations.\n",
      "  warnings.warn('FastICA did not converge. Consider increasing '\n",
      "c:\\users\\plateforme_gt\\appdata\\local\\programs\\python\\python39\\lib\\site-packages\\sklearn\\decomposition\\_fastica.py:118: ConvergenceWarning: FastICA did not converge. Consider increasing tolerance or the maximum number of iterations.\n",
      "  warnings.warn('FastICA did not converge. Consider increasing '\n",
      "c:\\users\\plateforme_gt\\appdata\\local\\programs\\python\\python39\\lib\\site-packages\\sklearn\\decomposition\\_fastica.py:118: ConvergenceWarning: FastICA did not converge. Consider increasing tolerance or the maximum number of iterations.\n",
      "  warnings.warn('FastICA did not converge. Consider increasing '\n",
      "c:\\users\\plateforme_gt\\appdata\\local\\programs\\python\\python39\\lib\\site-packages\\sklearn\\decomposition\\_fastica.py:118: ConvergenceWarning: FastICA did not converge. Consider increasing tolerance or the maximum number of iterations.\n",
      "  warnings.warn('FastICA did not converge. Consider increasing '\n",
      "c:\\users\\plateforme_gt\\appdata\\local\\programs\\python\\python39\\lib\\site-packages\\sklearn\\decomposition\\_fastica.py:118: ConvergenceWarning: FastICA did not converge. Consider increasing tolerance or the maximum number of iterations.\n",
      "  warnings.warn('FastICA did not converge. Consider increasing '\n"
     ]
    },
    {
     "name": "stdout",
     "output_type": "stream",
     "text": [
      "2\n"
     ]
    },
    {
     "name": "stderr",
     "output_type": "stream",
     "text": [
      "c:\\users\\plateforme_gt\\appdata\\local\\programs\\python\\python39\\lib\\site-packages\\sklearn\\decomposition\\_fastica.py:118: ConvergenceWarning: FastICA did not converge. Consider increasing tolerance or the maximum number of iterations.\n",
      "  warnings.warn('FastICA did not converge. Consider increasing '\n",
      "c:\\users\\plateforme_gt\\appdata\\local\\programs\\python\\python39\\lib\\site-packages\\sklearn\\decomposition\\_fastica.py:118: ConvergenceWarning: FastICA did not converge. Consider increasing tolerance or the maximum number of iterations.\n",
      "  warnings.warn('FastICA did not converge. Consider increasing '\n"
     ]
    },
    {
     "ename": "KeyboardInterrupt",
     "evalue": "",
     "output_type": "error",
     "traceback": [
      "\u001b[1;31m---------------------------------------------------------------------------\u001b[0m",
      "\u001b[1;31mKeyboardInterrupt\u001b[0m                         Traceback (most recent call last)",
      "\u001b[1;32mC:\\Users\\PLATEF~1\\AppData\\Local\\Temp/ipykernel_6604/2090964100.py\u001b[0m in \u001b[0;36m<module>\u001b[1;34m\u001b[0m\n\u001b[1;32m----> 1\u001b[1;33m \u001b[0mX1\u001b[0m \u001b[1;33m=\u001b[0m \u001b[0mseek_number_sources\u001b[0m\u001b[1;33m(\u001b[0m\u001b[0muu_4ica\u001b[0m\u001b[1;33m,\u001b[0m \u001b[0mn_components_min\u001b[0m\u001b[1;33m=\u001b[0m\u001b[1;36m2\u001b[0m\u001b[1;33m,\u001b[0m \u001b[0mn_components_max\u001b[0m\u001b[1;33m=\u001b[0m\u001b[1;36m51\u001b[0m\u001b[1;33m,\u001b[0m \u001b[0mstep\u001b[0m\u001b[1;33m=\u001b[0m\u001b[1;36m1\u001b[0m\u001b[1;33m,\u001b[0m \u001b[0mmax_iter\u001b[0m\u001b[1;33m=\u001b[0m\u001b[1;36m60\u001b[0m\u001b[1;33m)\u001b[0m\u001b[1;33m\u001b[0m\u001b[1;33m\u001b[0m\u001b[0m\n\u001b[0m\u001b[0;32m      2\u001b[0m \u001b[1;32mwith\u001b[0m \u001b[0mopen\u001b[0m\u001b[1;33m(\u001b[0m\u001b[1;34m'x1uu.pkl'\u001b[0m\u001b[1;33m,\u001b[0m\u001b[1;34m'wb'\u001b[0m\u001b[1;33m)\u001b[0m \u001b[1;32mas\u001b[0m \u001b[0mf\u001b[0m\u001b[1;33m:\u001b[0m\u001b[1;33m\u001b[0m\u001b[1;33m\u001b[0m\u001b[0m\n\u001b[0;32m      3\u001b[0m     \u001b[0mpickle\u001b[0m\u001b[1;33m.\u001b[0m\u001b[0mdump\u001b[0m\u001b[1;33m(\u001b[0m\u001b[0mX1\u001b[0m\u001b[1;33m,\u001b[0m \u001b[0mf\u001b[0m\u001b[1;33m)\u001b[0m\u001b[1;33m\u001b[0m\u001b[1;33m\u001b[0m\u001b[0m\n",
      "\u001b[1;32mC:\\Users\\PLATEF~1\\AppData\\Local\\Temp/ipykernel_6604/2848454480.py\u001b[0m in \u001b[0;36mseek_number_sources\u001b[1;34m(data, n_components_min, n_components_max, step, max_iter, ica_max_iter, seed, max_value)\u001b[0m\n\u001b[0;32m     17\u001b[0m         \u001b[1;32mfor\u001b[0m \u001b[0mn_iter\u001b[0m \u001b[1;32min\u001b[0m \u001b[0mrange\u001b[0m\u001b[1;33m(\u001b[0m\u001b[0mmax_iter\u001b[0m\u001b[1;33m)\u001b[0m\u001b[1;33m:\u001b[0m\u001b[1;33m\u001b[0m\u001b[1;33m\u001b[0m\u001b[0m\n\u001b[0;32m     18\u001b[0m             \u001b[0mica\u001b[0m \u001b[1;33m=\u001b[0m \u001b[0mFastICA\u001b[0m\u001b[1;33m(\u001b[0m\u001b[0mn_components\u001b[0m\u001b[1;33m=\u001b[0m\u001b[0mn_components\u001b[0m\u001b[1;33m,\u001b[0m \u001b[0mrandom_state\u001b[0m\u001b[1;33m=\u001b[0m\u001b[0mrandom_states\u001b[0m\u001b[1;33m[\u001b[0m\u001b[0mn_iter\u001b[0m\u001b[1;33m]\u001b[0m\u001b[1;33m,\u001b[0m \u001b[0mmax_iter\u001b[0m\u001b[1;33m=\u001b[0m\u001b[0mica_max_iter\u001b[0m\u001b[1;33m)\u001b[0m\u001b[1;33m\u001b[0m\u001b[1;33m\u001b[0m\u001b[0m\n\u001b[1;32m---> 19\u001b[1;33m             \u001b[0mcomponents_iter\u001b[0m \u001b[1;33m=\u001b[0m \u001b[0mnp\u001b[0m\u001b[1;33m.\u001b[0m\u001b[0mtranspose\u001b[0m\u001b[1;33m(\u001b[0m\u001b[0mica\u001b[0m\u001b[1;33m.\u001b[0m\u001b[0mfit_transform\u001b[0m\u001b[1;33m(\u001b[0m\u001b[0mdata\u001b[0m\u001b[1;33m)\u001b[0m\u001b[1;33m)\u001b[0m\u001b[1;33m\u001b[0m\u001b[1;33m\u001b[0m\u001b[0m\n\u001b[0m\u001b[0;32m     20\u001b[0m             \u001b[1;32mfor\u001b[0m \u001b[0mrw\u001b[0m \u001b[1;32min\u001b[0m \u001b[0mnp\u001b[0m\u001b[1;33m.\u001b[0m\u001b[0mtranspose\u001b[0m\u001b[1;33m(\u001b[0m\u001b[0mica\u001b[0m\u001b[1;33m.\u001b[0m\u001b[0mmixing_\u001b[0m\u001b[1;33m)\u001b[0m\u001b[1;33m:\u001b[0m\u001b[1;33m\u001b[0m\u001b[1;33m\u001b[0m\u001b[0m\n\u001b[0;32m     21\u001b[0m                 \u001b[0mmixings\u001b[0m\u001b[1;33m.\u001b[0m\u001b[0mappend\u001b[0m\u001b[1;33m(\u001b[0m\u001b[0mlist\u001b[0m\u001b[1;33m(\u001b[0m\u001b[0mrw\u001b[0m\u001b[1;33m)\u001b[0m\u001b[1;33m)\u001b[0m\u001b[1;33m\u001b[0m\u001b[1;33m\u001b[0m\u001b[0m\n",
      "\u001b[1;32mc:\\users\\plateforme_gt\\appdata\\local\\programs\\python\\python39\\lib\\site-packages\\sklearn\\decomposition\\_fastica.py\u001b[0m in \u001b[0;36mfit_transform\u001b[1;34m(self, X, y)\u001b[0m\n\u001b[0;32m    555\u001b[0m         \u001b[0mX_new\u001b[0m \u001b[1;33m:\u001b[0m \u001b[0mndarray\u001b[0m \u001b[0mof\u001b[0m \u001b[0mshape\u001b[0m \u001b[1;33m(\u001b[0m\u001b[0mn_samples\u001b[0m\u001b[1;33m,\u001b[0m \u001b[0mn_components\u001b[0m\u001b[1;33m)\u001b[0m\u001b[1;33m\u001b[0m\u001b[1;33m\u001b[0m\u001b[0m\n\u001b[0;32m    556\u001b[0m         \"\"\"\n\u001b[1;32m--> 557\u001b[1;33m         \u001b[1;32mreturn\u001b[0m \u001b[0mself\u001b[0m\u001b[1;33m.\u001b[0m\u001b[0m_fit\u001b[0m\u001b[1;33m(\u001b[0m\u001b[0mX\u001b[0m\u001b[1;33m,\u001b[0m \u001b[0mcompute_sources\u001b[0m\u001b[1;33m=\u001b[0m\u001b[1;32mTrue\u001b[0m\u001b[1;33m)\u001b[0m\u001b[1;33m\u001b[0m\u001b[1;33m\u001b[0m\u001b[0m\n\u001b[0m\u001b[0;32m    558\u001b[0m \u001b[1;33m\u001b[0m\u001b[0m\n\u001b[0;32m    559\u001b[0m     \u001b[1;32mdef\u001b[0m \u001b[0mfit\u001b[0m\u001b[1;33m(\u001b[0m\u001b[0mself\u001b[0m\u001b[1;33m,\u001b[0m \u001b[0mX\u001b[0m\u001b[1;33m,\u001b[0m \u001b[0my\u001b[0m\u001b[1;33m=\u001b[0m\u001b[1;32mNone\u001b[0m\u001b[1;33m)\u001b[0m\u001b[1;33m:\u001b[0m\u001b[1;33m\u001b[0m\u001b[1;33m\u001b[0m\u001b[0m\n",
      "\u001b[1;32mc:\\users\\plateforme_gt\\appdata\\local\\programs\\python\\python39\\lib\\site-packages\\sklearn\\decomposition\\_fastica.py\u001b[0m in \u001b[0;36m_fit\u001b[1;34m(self, X, compute_sources)\u001b[0m\n\u001b[0;32m    477\u001b[0m \u001b[1;33m\u001b[0m\u001b[0m\n\u001b[0;32m    478\u001b[0m             \u001b[1;31m# Whitening and preprocessing by PCA\u001b[0m\u001b[1;33m\u001b[0m\u001b[1;33m\u001b[0m\u001b[1;33m\u001b[0m\u001b[0m\n\u001b[1;32m--> 479\u001b[1;33m             \u001b[0mu\u001b[0m\u001b[1;33m,\u001b[0m \u001b[0md\u001b[0m\u001b[1;33m,\u001b[0m \u001b[0m_\u001b[0m \u001b[1;33m=\u001b[0m \u001b[0mlinalg\u001b[0m\u001b[1;33m.\u001b[0m\u001b[0msvd\u001b[0m\u001b[1;33m(\u001b[0m\u001b[0mX\u001b[0m\u001b[1;33m,\u001b[0m \u001b[0mfull_matrices\u001b[0m\u001b[1;33m=\u001b[0m\u001b[1;32mFalse\u001b[0m\u001b[1;33m,\u001b[0m \u001b[0mcheck_finite\u001b[0m\u001b[1;33m=\u001b[0m\u001b[1;32mFalse\u001b[0m\u001b[1;33m)\u001b[0m\u001b[1;33m\u001b[0m\u001b[1;33m\u001b[0m\u001b[0m\n\u001b[0m\u001b[0;32m    480\u001b[0m \u001b[1;33m\u001b[0m\u001b[0m\n\u001b[0;32m    481\u001b[0m             \u001b[1;32mdel\u001b[0m \u001b[0m_\u001b[0m\u001b[1;33m\u001b[0m\u001b[1;33m\u001b[0m\u001b[0m\n",
      "\u001b[1;32mc:\\users\\plateforme_gt\\appdata\\local\\programs\\python\\python39\\lib\\site-packages\\scipy\\linalg\\decomp_svd.py\u001b[0m in \u001b[0;36msvd\u001b[1;34m(a, full_matrices, compute_uv, overwrite_a, check_finite, lapack_driver)\u001b[0m\n\u001b[0;32m    125\u001b[0m \u001b[1;33m\u001b[0m\u001b[0m\n\u001b[0;32m    126\u001b[0m     \u001b[1;31m# perform decomposition\u001b[0m\u001b[1;33m\u001b[0m\u001b[1;33m\u001b[0m\u001b[1;33m\u001b[0m\u001b[0m\n\u001b[1;32m--> 127\u001b[1;33m     u, s, v, info = gesXd(a1, compute_uv=compute_uv, lwork=lwork,\n\u001b[0m\u001b[0;32m    128\u001b[0m                           full_matrices=full_matrices, overwrite_a=overwrite_a)\n\u001b[0;32m    129\u001b[0m \u001b[1;33m\u001b[0m\u001b[0m\n",
      "\u001b[1;31mKeyboardInterrupt\u001b[0m: "
     ]
    }
   ],
   "source": [
    "X1 = seek_number_sources(uu_4ica, n_components_min=2, n_components_max=51, step=1, max_iter=60)\n",
    "with open('x1uu.pkl','wb') as f:\n",
    "    pickle.dump(X1, f)"
   ]
  },
  {
   "cell_type": "code",
   "execution_count": 123,
   "id": "1b7e2297",
   "metadata": {},
   "outputs": [],
   "source": [
    "def benchmark_validation(X1, distances, n_components_min, n_components_max, step):\n",
    "    \n",
    "    dunn, sc, pearson = [], [], []\n",
    "    # clusteriser les données pour chaque nombre de composantes testées\n",
    "    for n_clusters in range(n_components_min, n_components_max, step):\n",
    "        model = AgglomerativeClustering(affinity='precomputed', n_clusters=n_clusters, linkage='average').fit(distances)\n",
    "        labels = model.labels_\n",
    "        # coefficient de silhouette\n",
    "        print('coefficient de silhouette')\n",
    "        sc.append(silhouette_score(distances, labels, metric='precomputed'))\n",
    "        # indice de DUNN\n",
    "        # indice prédéfini\n",
    "        print('coefficient de pearson absolute')\n",
    "        pearson.append(average_clustering_quality(X1, labels, n_clusters))\n",
    "        \n",
    "    return dunn, sc, pearson"
   ]
  },
  {
   "cell_type": "code",
   "execution_count": null,
   "id": "df8079fe",
   "metadata": {},
   "outputs": [],
   "source": [
    "uu_distances = compute_similarity_matrix(UU_X1)"
   ]
  },
  {
   "cell_type": "code",
   "execution_count": 124,
   "id": "05c38a8b",
   "metadata": {},
   "outputs": [
    {
     "ename": "NameError",
     "evalue": "name 'uu_distances' is not defined",
     "output_type": "error",
     "traceback": [
      "\u001b[1;31m---------------------------------------------------------------------------\u001b[0m",
      "\u001b[1;31mNameError\u001b[0m                                 Traceback (most recent call last)",
      "\u001b[1;32mC:\\Users\\PLATEF~1\\AppData\\Local\\Temp/ipykernel_6604/2146199555.py\u001b[0m in \u001b[0;36m<module>\u001b[1;34m\u001b[0m\n\u001b[1;32m----> 1\u001b[1;33m \u001b[0m_\u001b[0m\u001b[1;33m,\u001b[0m \u001b[0muu_sc\u001b[0m\u001b[1;33m,\u001b[0m \u001b[0muu_pearson\u001b[0m \u001b[1;33m=\u001b[0m \u001b[0mbenchmark_validation\u001b[0m\u001b[1;33m(\u001b[0m\u001b[0mUU_X1\u001b[0m\u001b[1;33m,\u001b[0m \u001b[0muu_distances\u001b[0m\u001b[1;33m,\u001b[0m \u001b[1;36m2\u001b[0m\u001b[1;33m,\u001b[0m \u001b[1;36m30\u001b[0m\u001b[1;33m,\u001b[0m \u001b[1;36m1\u001b[0m\u001b[1;33m)\u001b[0m\u001b[1;33m\u001b[0m\u001b[1;33m\u001b[0m\u001b[0m\n\u001b[0m",
      "\u001b[1;31mNameError\u001b[0m: name 'uu_distances' is not defined"
     ]
    }
   ],
   "source": [
    "_, uu_sc, uu_pearson = benchmark_validation(UU_X1, uu_distances, 2, 30, 1)"
   ]
  },
  {
   "cell_type": "code",
   "execution_count": 141,
   "id": "c6a1f0c6",
   "metadata": {
    "scrolled": true
   },
   "outputs": [
    {
     "name": "stdout",
     "output_type": "stream",
     "text": [
      "2\n",
      "2\n",
      "2\n",
      "2\n",
      "2\n",
      "2\n",
      "2\n",
      "2\n",
      "2\n",
      "2\n",
      "2\n",
      "2\n",
      "2\n",
      "2\n",
      "2\n",
      "2\n",
      "2\n"
     ]
    },
    {
     "ename": "KeyboardInterrupt",
     "evalue": "",
     "output_type": "error",
     "traceback": [
      "\u001b[1;31m---------------------------------------------------------------------------\u001b[0m",
      "\u001b[1;31mKeyboardInterrupt\u001b[0m                         Traceback (most recent call last)",
      "\u001b[1;32mC:\\Users\\PLATEF~1\\AppData\\Local\\Temp/ipykernel_6604/3871887959.py\u001b[0m in \u001b[0;36m<module>\u001b[1;34m\u001b[0m\n\u001b[1;32m----> 1\u001b[1;33m \u001b[0mX2\u001b[0m \u001b[1;33m=\u001b[0m \u001b[0mseek_number_sources\u001b[0m\u001b[1;33m(\u001b[0m\u001b[0mvv_4ica\u001b[0m\u001b[1;33m,\u001b[0m \u001b[0mn_components_min\u001b[0m\u001b[1;33m=\u001b[0m\u001b[1;36m2\u001b[0m\u001b[1;33m,\u001b[0m \u001b[0mn_components_max\u001b[0m\u001b[1;33m=\u001b[0m\u001b[1;36m30\u001b[0m\u001b[1;33m,\u001b[0m \u001b[0mstep\u001b[0m\u001b[1;33m=\u001b[0m\u001b[1;36m1\u001b[0m\u001b[1;33m,\u001b[0m \u001b[0mmax_iter\u001b[0m\u001b[1;33m=\u001b[0m\u001b[1;36m100\u001b[0m\u001b[1;33m)\u001b[0m\u001b[1;33m\u001b[0m\u001b[1;33m\u001b[0m\u001b[0m\n\u001b[0m\u001b[0;32m      2\u001b[0m \u001b[1;32mimport\u001b[0m \u001b[0mpickle\u001b[0m\u001b[1;33m\u001b[0m\u001b[1;33m\u001b[0m\u001b[0m\n\u001b[0;32m      3\u001b[0m \u001b[1;32mwith\u001b[0m \u001b[0mopen\u001b[0m\u001b[1;33m(\u001b[0m\u001b[1;34m'x2vv.pkl'\u001b[0m\u001b[1;33m,\u001b[0m\u001b[1;34m'wb'\u001b[0m\u001b[1;33m)\u001b[0m \u001b[1;32mas\u001b[0m \u001b[0mf\u001b[0m\u001b[1;33m:\u001b[0m\u001b[1;33m\u001b[0m\u001b[1;33m\u001b[0m\u001b[0m\n\u001b[0;32m      4\u001b[0m     \u001b[0mpickle\u001b[0m\u001b[1;33m.\u001b[0m\u001b[0mdump\u001b[0m\u001b[1;33m(\u001b[0m\u001b[0mX2\u001b[0m\u001b[1;33m,\u001b[0m \u001b[0mf\u001b[0m\u001b[1;33m)\u001b[0m\u001b[1;33m\u001b[0m\u001b[1;33m\u001b[0m\u001b[0m\n",
      "\u001b[1;32mC:\\Users\\PLATEF~1\\AppData\\Local\\Temp/ipykernel_6604/2848454480.py\u001b[0m in \u001b[0;36mseek_number_sources\u001b[1;34m(data, n_components_min, n_components_max, step, max_iter, ica_max_iter, seed, max_value)\u001b[0m\n\u001b[0;32m     17\u001b[0m         \u001b[1;32mfor\u001b[0m \u001b[0mn_iter\u001b[0m \u001b[1;32min\u001b[0m \u001b[0mrange\u001b[0m\u001b[1;33m(\u001b[0m\u001b[0mmax_iter\u001b[0m\u001b[1;33m)\u001b[0m\u001b[1;33m:\u001b[0m\u001b[1;33m\u001b[0m\u001b[1;33m\u001b[0m\u001b[0m\n\u001b[0;32m     18\u001b[0m             \u001b[0mica\u001b[0m \u001b[1;33m=\u001b[0m \u001b[0mFastICA\u001b[0m\u001b[1;33m(\u001b[0m\u001b[0mn_components\u001b[0m\u001b[1;33m=\u001b[0m\u001b[0mn_components\u001b[0m\u001b[1;33m,\u001b[0m \u001b[0mrandom_state\u001b[0m\u001b[1;33m=\u001b[0m\u001b[0mrandom_states\u001b[0m\u001b[1;33m[\u001b[0m\u001b[0mn_iter\u001b[0m\u001b[1;33m]\u001b[0m\u001b[1;33m,\u001b[0m \u001b[0mmax_iter\u001b[0m\u001b[1;33m=\u001b[0m\u001b[0mica_max_iter\u001b[0m\u001b[1;33m)\u001b[0m\u001b[1;33m\u001b[0m\u001b[1;33m\u001b[0m\u001b[0m\n\u001b[1;32m---> 19\u001b[1;33m             \u001b[0mcomponents_iter\u001b[0m \u001b[1;33m=\u001b[0m \u001b[0mnp\u001b[0m\u001b[1;33m.\u001b[0m\u001b[0mtranspose\u001b[0m\u001b[1;33m(\u001b[0m\u001b[0mica\u001b[0m\u001b[1;33m.\u001b[0m\u001b[0mfit_transform\u001b[0m\u001b[1;33m(\u001b[0m\u001b[0mdata\u001b[0m\u001b[1;33m)\u001b[0m\u001b[1;33m)\u001b[0m\u001b[1;33m\u001b[0m\u001b[1;33m\u001b[0m\u001b[0m\n\u001b[0m\u001b[0;32m     20\u001b[0m             \u001b[1;32mfor\u001b[0m \u001b[0mrw\u001b[0m \u001b[1;32min\u001b[0m \u001b[0mnp\u001b[0m\u001b[1;33m.\u001b[0m\u001b[0mtranspose\u001b[0m\u001b[1;33m(\u001b[0m\u001b[0mica\u001b[0m\u001b[1;33m.\u001b[0m\u001b[0mmixing_\u001b[0m\u001b[1;33m)\u001b[0m\u001b[1;33m:\u001b[0m\u001b[1;33m\u001b[0m\u001b[1;33m\u001b[0m\u001b[0m\n\u001b[0;32m     21\u001b[0m                 \u001b[0mmixings\u001b[0m\u001b[1;33m.\u001b[0m\u001b[0mappend\u001b[0m\u001b[1;33m(\u001b[0m\u001b[0mlist\u001b[0m\u001b[1;33m(\u001b[0m\u001b[0mrw\u001b[0m\u001b[1;33m)\u001b[0m\u001b[1;33m)\u001b[0m\u001b[1;33m\u001b[0m\u001b[1;33m\u001b[0m\u001b[0m\n",
      "\u001b[1;32mc:\\users\\plateforme_gt\\appdata\\local\\programs\\python\\python39\\lib\\site-packages\\sklearn\\decomposition\\_fastica.py\u001b[0m in \u001b[0;36mfit_transform\u001b[1;34m(self, X, y)\u001b[0m\n\u001b[0;32m    555\u001b[0m         \u001b[0mX_new\u001b[0m \u001b[1;33m:\u001b[0m \u001b[0mndarray\u001b[0m \u001b[0mof\u001b[0m \u001b[0mshape\u001b[0m \u001b[1;33m(\u001b[0m\u001b[0mn_samples\u001b[0m\u001b[1;33m,\u001b[0m \u001b[0mn_components\u001b[0m\u001b[1;33m)\u001b[0m\u001b[1;33m\u001b[0m\u001b[1;33m\u001b[0m\u001b[0m\n\u001b[0;32m    556\u001b[0m         \"\"\"\n\u001b[1;32m--> 557\u001b[1;33m         \u001b[1;32mreturn\u001b[0m \u001b[0mself\u001b[0m\u001b[1;33m.\u001b[0m\u001b[0m_fit\u001b[0m\u001b[1;33m(\u001b[0m\u001b[0mX\u001b[0m\u001b[1;33m,\u001b[0m \u001b[0mcompute_sources\u001b[0m\u001b[1;33m=\u001b[0m\u001b[1;32mTrue\u001b[0m\u001b[1;33m)\u001b[0m\u001b[1;33m\u001b[0m\u001b[1;33m\u001b[0m\u001b[0m\n\u001b[0m\u001b[0;32m    558\u001b[0m \u001b[1;33m\u001b[0m\u001b[0m\n\u001b[0;32m    559\u001b[0m     \u001b[1;32mdef\u001b[0m \u001b[0mfit\u001b[0m\u001b[1;33m(\u001b[0m\u001b[0mself\u001b[0m\u001b[1;33m,\u001b[0m \u001b[0mX\u001b[0m\u001b[1;33m,\u001b[0m \u001b[0my\u001b[0m\u001b[1;33m=\u001b[0m\u001b[1;32mNone\u001b[0m\u001b[1;33m)\u001b[0m\u001b[1;33m:\u001b[0m\u001b[1;33m\u001b[0m\u001b[1;33m\u001b[0m\u001b[0m\n",
      "\u001b[1;32mc:\\users\\plateforme_gt\\appdata\\local\\programs\\python\\python39\\lib\\site-packages\\sklearn\\decomposition\\_fastica.py\u001b[0m in \u001b[0;36m_fit\u001b[1;34m(self, X, compute_sources)\u001b[0m\n\u001b[0;32m    477\u001b[0m \u001b[1;33m\u001b[0m\u001b[0m\n\u001b[0;32m    478\u001b[0m             \u001b[1;31m# Whitening and preprocessing by PCA\u001b[0m\u001b[1;33m\u001b[0m\u001b[1;33m\u001b[0m\u001b[1;33m\u001b[0m\u001b[0m\n\u001b[1;32m--> 479\u001b[1;33m             \u001b[0mu\u001b[0m\u001b[1;33m,\u001b[0m \u001b[0md\u001b[0m\u001b[1;33m,\u001b[0m \u001b[0m_\u001b[0m \u001b[1;33m=\u001b[0m \u001b[0mlinalg\u001b[0m\u001b[1;33m.\u001b[0m\u001b[0msvd\u001b[0m\u001b[1;33m(\u001b[0m\u001b[0mX\u001b[0m\u001b[1;33m,\u001b[0m \u001b[0mfull_matrices\u001b[0m\u001b[1;33m=\u001b[0m\u001b[1;32mFalse\u001b[0m\u001b[1;33m,\u001b[0m \u001b[0mcheck_finite\u001b[0m\u001b[1;33m=\u001b[0m\u001b[1;32mFalse\u001b[0m\u001b[1;33m)\u001b[0m\u001b[1;33m\u001b[0m\u001b[1;33m\u001b[0m\u001b[0m\n\u001b[0m\u001b[0;32m    480\u001b[0m \u001b[1;33m\u001b[0m\u001b[0m\n\u001b[0;32m    481\u001b[0m             \u001b[1;32mdel\u001b[0m \u001b[0m_\u001b[0m\u001b[1;33m\u001b[0m\u001b[1;33m\u001b[0m\u001b[0m\n",
      "\u001b[1;32mc:\\users\\plateforme_gt\\appdata\\local\\programs\\python\\python39\\lib\\site-packages\\scipy\\linalg\\decomp_svd.py\u001b[0m in \u001b[0;36msvd\u001b[1;34m(a, full_matrices, compute_uv, overwrite_a, check_finite, lapack_driver)\u001b[0m\n\u001b[0;32m    125\u001b[0m \u001b[1;33m\u001b[0m\u001b[0m\n\u001b[0;32m    126\u001b[0m     \u001b[1;31m# perform decomposition\u001b[0m\u001b[1;33m\u001b[0m\u001b[1;33m\u001b[0m\u001b[1;33m\u001b[0m\u001b[0m\n\u001b[1;32m--> 127\u001b[1;33m     u, s, v, info = gesXd(a1, compute_uv=compute_uv, lwork=lwork,\n\u001b[0m\u001b[0;32m    128\u001b[0m                           full_matrices=full_matrices, overwrite_a=overwrite_a)\n\u001b[0;32m    129\u001b[0m \u001b[1;33m\u001b[0m\u001b[0m\n",
      "\u001b[1;31mKeyboardInterrupt\u001b[0m: "
     ]
    }
   ],
   "source": [
    "X2 = seek_number_sources(vv_4ica, n_components_min=2, n_components_max=30, step=1, max_iter=100)\n",
    "import pickle\n",
    "with open('x2vv.pkl','wb') as f:\n",
    "    pickle.dump(X2, f)"
   ]
  },
  {
   "cell_type": "code",
   "execution_count": 27,
   "id": "2386ff96",
   "metadata": {},
   "outputs": [],
   "source": [
    "import pickle\n",
    "\n",
    "with open('x1uu.pkl', 'rb') as f:\n",
    "    UU_X1 = pickle.load(f)\n",
    "    \n",
    "with open('x2vv.pkl', 'rb') as f:\n",
    "    VV_X2 = pickle.load(f)"
   ]
  },
  {
   "cell_type": "code",
   "execution_count": 134,
   "id": "19acf261",
   "metadata": {},
   "outputs": [],
   "source": [
    "def validate(data, n_components_min, n_components_max, n_iterations, ward=True):\n",
    "    \n",
    "    start = 0\n",
    "    pearson, silhouette = [], []\n",
    "\n",
    "    for n_components in range(n_components_min, n_components_max, 1):\n",
    "        end  = start + n_components * n_iterations\n",
    "        X = data[start:end, :]\n",
    "        distances = compute_similarity_matrix(X)\n",
    "        results = None\n",
    "        if not ward:\n",
    "            results = AgglomerativeClustering(affinity='precomputed', n_clusters=n_components, linkage='average').fit(distances)\n",
    "        else:\n",
    "            results = AgglomerativeClustering(n_clusters=n_components).fit(X)\n",
    "            print('ward')\n",
    "        pearson.append(average_clustering_quality(X, results.labels_, n_components))\n",
    "        silhouette.append(silhouette_score(distances, results.labels_, metric='precomputed'))\n",
    "        print('%d finished' % n_components)\n",
    "        start = end + 1\n",
    "        \n",
    "    return pearson, silhouette"
   ]
  },
  {
   "cell_type": "code",
   "execution_count": 135,
   "id": "21b33652",
   "metadata": {},
   "outputs": [
    {
     "name": "stdout",
     "output_type": "stream",
     "text": [
      "ward\n",
      "2 finished\n",
      "ward\n",
      "3 finished\n",
      "ward\n",
      "4 finished\n",
      "ward\n",
      "5 finished\n",
      "ward\n",
      "6 finished\n",
      "ward\n",
      "7 finished\n",
      "ward\n",
      "8 finished\n",
      "ward\n",
      "9 finished\n",
      "ward\n",
      "10 finished\n",
      "ward\n",
      "11 finished\n",
      "ward\n",
      "12 finished\n",
      "ward\n",
      "13 finished\n",
      "ward\n",
      "14 finished\n",
      "ward\n",
      "15 finished\n",
      "ward\n",
      "16 finished\n",
      "ward\n",
      "17 finished\n",
      "ward\n",
      "18 finished\n",
      "ward\n",
      "19 finished\n",
      "ward\n",
      "20 finished\n",
      "ward\n",
      "21 finished\n",
      "ward\n",
      "22 finished\n",
      "ward\n",
      "23 finished\n",
      "ward\n",
      "24 finished\n",
      "ward\n",
      "25 finished\n",
      "ward\n",
      "26 finished\n",
      "ward\n",
      "27 finished\n",
      "ward\n",
      "28 finished\n",
      "ward\n",
      "29 finished\n"
     ]
    }
   ],
   "source": [
    "uu_pearson, uu_silhouette = validate(UU_X1, 2, 30, 50, ward=True)\n",
    "\n"
   ]
  },
  {
   "cell_type": "code",
   "execution_count": 66,
   "id": "d7f6c854",
   "metadata": {},
   "outputs": [
    {
     "name": "stdout",
     "output_type": "stream",
     "text": [
      "(100, 1612)\n",
      "2 finished\n",
      "(150, 1612)\n",
      "3 finished\n",
      "(200, 1612)\n",
      "4 finished\n",
      "(250, 1612)\n",
      "5 finished\n",
      "(300, 1612)\n",
      "6 finished\n",
      "(350, 1612)\n",
      "7 finished\n",
      "(400, 1612)\n",
      "8 finished\n",
      "(450, 1612)\n",
      "9 finished\n",
      "(500, 1612)\n",
      "10 finished\n",
      "(550, 1612)\n",
      "11 finished\n",
      "(600, 1612)\n",
      "12 finished\n",
      "(650, 1612)\n",
      "13 finished\n",
      "(700, 1612)\n",
      "14 finished\n",
      "(750, 1612)\n",
      "15 finished\n",
      "(800, 1612)\n",
      "16 finished\n",
      "(850, 1612)\n",
      "17 finished\n",
      "(900, 1612)\n",
      "18 finished\n",
      "(950, 1612)\n",
      "19 finished\n",
      "(1000, 1612)\n",
      "20 finished\n",
      "(1050, 1612)\n",
      "21 finished\n",
      "(1100, 1612)\n",
      "22 finished\n",
      "(1150, 1612)\n",
      "23 finished\n",
      "(1200, 1612)\n",
      "24 finished\n",
      "(1250, 1612)\n",
      "25 finished\n",
      "(1300, 1612)\n",
      "26 finished\n",
      "(1350, 1612)\n",
      "27 finished\n",
      "(1400, 1612)\n",
      "28 finished\n",
      "(1423, 1612)\n",
      "29 finished\n"
     ]
    }
   ],
   "source": [
    "vv_pearson, vv_silhouette = validate(VV_X2, 2, 30, 50)"
   ]
  },
  {
   "cell_type": "code",
   "execution_count": 106,
   "id": "5c048451",
   "metadata": {},
   "outputs": [
    {
     "data": {
      "image/png": "[encoded data removed]",
      "text/plain": [
       "<Figure size 1080x360 with 2 Axes>"
      ]
     },
     "metadata": {},
     "output_type": "display_data"
    }
   ],
   "source": [
    "plt.figure(figsize=(15, 5))\n",
    "plt.subplot(1,2,1)\n",
    "plt.plot(np.arange(n_components_min, n_components_max, 1), vv_pearson, marker='o', color='b', linewidth=2)\n",
    "plt.xlabel('nombre de clusters')\n",
    "plt.ylabel('Coefficient prédéfini')\n",
    "plt.subplot(1,2,2)\n",
    "plt.plot(np.arange(n_components_min, n_components_max, 1), vv_silhouette, marker='o', color='g', linewidth=2)\n",
    "plt.xlabel('nombre de clusters')\n",
    "plt.ylabel('coefficient de silhouette')\n",
    "plt.tight_layout()\n",
    "plt.savefig('vv_validation.png')\n",
    "plt.show()"
   ]
  },
  {
   "cell_type": "code",
   "execution_count": 103,
   "id": "ca7d42a4",
   "metadata": {},
   "outputs": [
    {
     "data": {
      "image/png": "[encoded data removed]",
      "text/plain": [
       "<Figure size 1080x360 with 2 Axes>"
      ]
     },
     "metadata": {},
     "output_type": "display_data"
    }
   ],
   "source": [
    "plt.figure(figsize=(15, 5))\n",
    "plt.subplot(1,2,1)\n",
    "plt.plot(np.arange(n_components_min, n_components_max, 1), uu_pearson, marker='o', color='b', linewidth=2)\n",
    "plt.xlabel('nombre de clusters')\n",
    "plt.ylabel('Coefficient prédéfini')\n",
    "plt.subplot(1,2,2)\n",
    "plt.plot(np.arange(n_components_min, n_components_max, 1), uu_silhouette, marker='o', color='g', linewidth=2)\n",
    "plt.xlabel('nombre de clusters')\n",
    "plt.ylabel('coefficient de silhouette')\n",
    "plt.tight_layout()\n",
    "plt.savefig('uu_validation.png')\n",
    "plt.show()"
   ]
  },
  {
   "cell_type": "code",
   "execution_count": 54,
   "id": "9dfb2b30",
   "metadata": {},
   "outputs": [
    {
     "ename": "KeyboardInterrupt",
     "evalue": "",
     "output_type": "error",
     "traceback": [
      "\u001b[1;31m---------------------------------------------------------------------------\u001b[0m",
      "\u001b[1;31mKeyboardInterrupt\u001b[0m                         Traceback (most recent call last)",
      "\u001b[1;32mC:\\Users\\PLATEF~1\\AppData\\Local\\Temp/ipykernel_6604/2123708653.py\u001b[0m in \u001b[0;36m<module>\u001b[1;34m\u001b[0m\n\u001b[1;32m----> 1\u001b[1;33m \u001b[0mdistances\u001b[0m \u001b[1;33m=\u001b[0m \u001b[0mcompute_similarity_matrix\u001b[0m\u001b[1;33m(\u001b[0m\u001b[0mUU_X1\u001b[0m\u001b[1;33m)\u001b[0m\u001b[1;33m\u001b[0m\u001b[1;33m\u001b[0m\u001b[0m\n\u001b[0m",
      "\u001b[1;32mC:\\Users\\PLATEF~1\\AppData\\Local\\Temp/ipykernel_6604/755482278.py\u001b[0m in \u001b[0;36mcompute_similarity_matrix\u001b[1;34m(data, metric)\u001b[0m\n\u001b[0;32m     41\u001b[0m         \u001b[1;32mfor\u001b[0m \u001b[0mn\u001b[0m \u001b[1;32min\u001b[0m \u001b[0mrange\u001b[0m\u001b[1;33m(\u001b[0m\u001b[0msize\u001b[0m\u001b[1;33m)\u001b[0m\u001b[1;33m:\u001b[0m\u001b[1;33m\u001b[0m\u001b[1;33m\u001b[0m\u001b[0m\n\u001b[0;32m     42\u001b[0m             \u001b[1;32mfor\u001b[0m \u001b[0mm\u001b[0m \u001b[1;32min\u001b[0m \u001b[0mrange\u001b[0m\u001b[1;33m(\u001b[0m\u001b[0mn\u001b[0m \u001b[1;33m+\u001b[0m \u001b[1;36m1\u001b[0m\u001b[1;33m,\u001b[0m \u001b[0msize\u001b[0m\u001b[1;33m)\u001b[0m\u001b[1;33m:\u001b[0m\u001b[1;33m\u001b[0m\u001b[1;33m\u001b[0m\u001b[0m\n\u001b[1;32m---> 43\u001b[1;33m                 \u001b[0mr\u001b[0m \u001b[1;33m=\u001b[0m \u001b[1;36m1\u001b[0m \u001b[1;33m-\u001b[0m \u001b[0mabs\u001b[0m\u001b[1;33m(\u001b[0m\u001b[0mpearsonr\u001b[0m\u001b[1;33m(\u001b[0m\u001b[0mdata\u001b[0m\u001b[1;33m[\u001b[0m\u001b[0mn\u001b[0m\u001b[1;33m]\u001b[0m\u001b[1;33m,\u001b[0m \u001b[0mdata\u001b[0m\u001b[1;33m[\u001b[0m\u001b[0mm\u001b[0m\u001b[1;33m]\u001b[0m\u001b[1;33m)\u001b[0m\u001b[1;33m[\u001b[0m\u001b[1;36m0\u001b[0m\u001b[1;33m]\u001b[0m\u001b[1;33m)\u001b[0m \u001b[1;31m# attention aux valeurs négatives !\u001b[0m\u001b[1;33m\u001b[0m\u001b[1;33m\u001b[0m\u001b[0m\n\u001b[0m\u001b[0;32m     44\u001b[0m                 \u001b[0mdistances_matrix\u001b[0m\u001b[1;33m[\u001b[0m\u001b[0mm\u001b[0m\u001b[1;33m,\u001b[0m \u001b[0mn\u001b[0m\u001b[1;33m]\u001b[0m \u001b[1;33m=\u001b[0m \u001b[0mr\u001b[0m\u001b[1;33m\u001b[0m\u001b[1;33m\u001b[0m\u001b[0m\n\u001b[0;32m     45\u001b[0m                 \u001b[0mdistances_matrix\u001b[0m\u001b[1;33m[\u001b[0m\u001b[0mn\u001b[0m\u001b[1;33m,\u001b[0m \u001b[0mm\u001b[0m\u001b[1;33m]\u001b[0m \u001b[1;33m=\u001b[0m \u001b[0mr\u001b[0m\u001b[1;33m\u001b[0m\u001b[1;33m\u001b[0m\u001b[0m\n",
      "\u001b[1;32mc:\\users\\plateforme_gt\\appdata\\local\\programs\\python\\python39\\lib\\site-packages\\scipy\\stats\\stats.py\u001b[0m in \u001b[0;36mpearsonr\u001b[1;34m(x, y)\u001b[0m\n\u001b[0;32m   4020\u001b[0m \u001b[1;33m\u001b[0m\u001b[0m\n\u001b[0;32m   4021\u001b[0m     \u001b[1;31m# If an input is constant, the correlation coefficient is not defined.\u001b[0m\u001b[1;33m\u001b[0m\u001b[1;33m\u001b[0m\u001b[1;33m\u001b[0m\u001b[0m\n\u001b[1;32m-> 4022\u001b[1;33m     \u001b[1;32mif\u001b[0m \u001b[1;33m(\u001b[0m\u001b[0mx\u001b[0m \u001b[1;33m==\u001b[0m \u001b[0mx\u001b[0m\u001b[1;33m[\u001b[0m\u001b[1;36m0\u001b[0m\u001b[1;33m]\u001b[0m\u001b[1;33m)\u001b[0m\u001b[1;33m.\u001b[0m\u001b[0mall\u001b[0m\u001b[1;33m(\u001b[0m\u001b[1;33m)\u001b[0m \u001b[1;32mor\u001b[0m \u001b[1;33m(\u001b[0m\u001b[0my\u001b[0m \u001b[1;33m==\u001b[0m \u001b[0my\u001b[0m\u001b[1;33m[\u001b[0m\u001b[1;36m0\u001b[0m\u001b[1;33m]\u001b[0m\u001b[1;33m)\u001b[0m\u001b[1;33m.\u001b[0m\u001b[0mall\u001b[0m\u001b[1;33m(\u001b[0m\u001b[1;33m)\u001b[0m\u001b[1;33m:\u001b[0m\u001b[1;33m\u001b[0m\u001b[1;33m\u001b[0m\u001b[0m\n\u001b[0m\u001b[0;32m   4023\u001b[0m         \u001b[0mwarnings\u001b[0m\u001b[1;33m.\u001b[0m\u001b[0mwarn\u001b[0m\u001b[1;33m(\u001b[0m\u001b[0mPearsonRConstantInputWarning\u001b[0m\u001b[1;33m(\u001b[0m\u001b[1;33m)\u001b[0m\u001b[1;33m)\u001b[0m\u001b[1;33m\u001b[0m\u001b[1;33m\u001b[0m\u001b[0m\n\u001b[0;32m   4024\u001b[0m         \u001b[1;32mreturn\u001b[0m \u001b[0mnp\u001b[0m\u001b[1;33m.\u001b[0m\u001b[0mnan\u001b[0m\u001b[1;33m,\u001b[0m \u001b[0mnp\u001b[0m\u001b[1;33m.\u001b[0m\u001b[0mnan\u001b[0m\u001b[1;33m\u001b[0m\u001b[1;33m\u001b[0m\u001b[0m\n",
      "\u001b[1;31mKeyboardInterrupt\u001b[0m: "
     ]
    }
   ],
   "source": [
    "distances = compute_similarity_matrix(UU_X1)"
   ]
  },
  {
   "cell_type": "code",
   "execution_count": null,
   "id": "cff29b5a",
   "metadata": {},
   "outputs": [],
   "source": [
    "# normaliser chaque ligne de la matrice\n",
    "UU_X1_norm = []\n",
    "VV_X2_norm = []\n",
    "for n in range(UU_X1.shape[0]):\n",
    "    UU_X1_norm.append( (UU_X1[n] - UU_X1[n].mean()) / UU_X1[n].std() )\n",
    "    VV_X2_norm.append( (VV_X2[n] - VV_X2[n].mean()) / VV_X2[n].std() )"
   ]
  },
  {
   "cell_type": "code",
   "execution_count": null,
   "id": "85eb19d3",
   "metadata": {},
   "outputs": [],
   "source": [
    "scores = []\n",
    "for n_clusters in range(2, 30, 1):\n",
    "    print(n_clusters)\n",
    "    model = AgglomerativeClustering(n_clusters=n_clusters)\n",
    "    results = model.fit(UU_X1_norm)\n",
    "    scores.append(silhouette_score(UU_X1_norm, results.labels_))"
   ]
  },
  {
   "cell_type": "code",
   "execution_count": null,
   "id": "d6a4311d",
   "metadata": {},
   "outputs": [],
   "source": [
    "vv_scores = []\n",
    "for n_clusters in range(2, 30, 1):\n",
    "    print(n_clusters)\n",
    "    model = AgglomerativeClustering(n_clusters=n_clusters)\n",
    "    results = model.fit(VV_X2_norm)\n",
    "    vv_scores.append(silhouette_score(VV_X2_norm, results.labels_))"
   ]
  },
  {
   "cell_type": "code",
   "execution_count": null,
   "id": "5cd156e8",
   "metadata": {},
   "outputs": [],
   "source": [
    "plt.plot(np.arange(2, 30, 1), scores)\n",
    "plt.xlabel('nombre de clusters')\n",
    "plt.ylabel('coefficient de silhouette')\n",
    "plt.tight_layout()\n",
    "plt.savefig('sc_scores_uu')\n",
    "plt.show()"
   ]
  },
  {
   "cell_type": "code",
   "execution_count": null,
   "id": "84d1279d",
   "metadata": {},
   "outputs": [],
   "source": [
    "_, uu_sc, uu_pearson = benchmark_validation(X1, distances, 2, 30, 1)"
   ]
  },
  {
   "cell_type": "code",
   "execution_count": null,
   "id": "428373ca",
   "metadata": {},
   "outputs": [],
   "source": [
    "def init_worker(components, shape, n_proc):\n",
    "    global VAR_DICT\n",
    "    VAR_DICT['components'] = components\n",
    "    VAR_DICT['shape'] = shape\n",
    "    VAR_DICT['n_proc'] = n_proc\n",
    "    \n",
    "def compute_pearson(rank, n, m)\n",
    "    if \n",
    "    return 1 - abs(pearsonr(X[n], X[m])[0])"
   ]
  },
  {
   "cell_type": "markdown",
   "id": "5d35b297",
   "metadata": {},
   "source": [
    "# Distrubution de la kurtosis en fonction du nombre de sources"
   ]
  },
  {
   "cell_type": "code",
   "execution_count": null,
   "id": "5550b3de",
   "metadata": {},
   "outputs": [],
   "source": [
    "kurtosis_u_t, kurtosis_v_t = [], []\n",
    "nsources = [20, 30, 40, 50, 60, 70, 80, 90]\n",
    "#nsources = [20, 30]\n",
    "\n",
    "for n in range(len(nsources)):\n",
    "    \n",
    "    icav = FastICA(n_components=nsources[n], whiten='boolean', tol=1)\n",
    "    icau = FastICA(n_components=nsources[n], whiten='boolean', tol=1)\n",
    "\n",
    "    S_v = icav.fit_transform(vv_4ica)  # Reconstruct signals\n",
    "    S_u = icau.fit_transform(uu_4ica)  # Reconstruct signals\n",
    "    S_v_t = np.transpose(S_v)\n",
    "    S_u_t = np.transpose(S_u)\n",
    "    A_v = icav.mixing_\n",
    "    A_u = icau.mixing_\n",
    "    \n",
    "    kurtosis_u = []\n",
    "    kurtosis_v = []\n",
    "    \n",
    "    for m in range(nsources[n]):\n",
    "        kurtosis_u.append(kurtosis(S_u_t[m,:]))\n",
    "        kurtosis_v.append(kurtosis(S_v_t[m,:]))\n",
    "    \n",
    "    kurtosis_u_t.append(kurtosis_u)\n",
    "    kurtosis_v_t.append(kurtosis_v)\n",
    "    \n",
    "    print('Execution with n = %d completed' % nsources[n])"
   ]
  },
  {
   "cell_type": "markdown",
   "id": "b46cc0bb",
   "metadata": {},
   "source": [
    "# Création des données de base"
   ]
  },
  {
   "cell_type": "code",
   "execution_count": null,
   "id": "5dc2b21c",
   "metadata": {},
   "outputs": [],
   "source": [
    "n_components = 30\n",
    "icav = FastICA(n_components=n_components, whiten='boolean', tol=0.01)\n",
    "icau = FastICA(n_components=n_components, whiten='boolean', tol=0.01)\n",
    "S_v = icav.fit_transform(vv_4ica)  # Reconstruct signals\n",
    "S_u = icau.fit_transform(uu_4ica)  # Reconstruct signals\n",
    "S_v_t = np.transpose(S_v)\n",
    "S_u_t = np.transpose(S_u)\n",
    "A_v = icav.mixing_\n",
    "A_u = icau.mixing_\n",
    "\n",
    "du = []\n",
    "dv = []\n",
    "for i in range(0, n_components):\n",
    "    du.append(AA.dot(A_u[:, i]))\n",
    "    dv.append(AA.dot(A_v[:, i]))\n",
    "    \n",
    "Iu_f = None\n",
    "Iv_f = None\n",
    "Ew = []\n",
    "Ns = []\n",
    "Iv_f = np.dot(np.transpose(dv), S_v.T).T\n",
    "Iu_f = np.dot(np.transpose(du), S_u.T).T\n",
    "    \n",
    "for i in range(Iu_f.shape[0]):\n",
    "        Ew.append(np.cumsum(Iu_f[i, :]))\n",
    "        Ns.append(np.cumsum(Iv_f[i, :]))"
   ]
  },
  {
   "cell_type": "code",
   "execution_count": null,
   "id": "ef6916f1",
   "metadata": {},
   "outputs": [],
   "source": [
    "# trier les sources dans l'ordre croissant de leur kurtosis\n",
    "kurtosis_u = {}\n",
    "kurtosis_v = {}\n",
    "for n in range(n_components):\n",
    "    kurtosis_u[n] = kurtosis(S_u_t[n,:])\n",
    "    kurtosis_v[n] = kurtosis(S_v_t[n,:])\n",
    "kurtosis_u_sorted = {k: v for k, v in sorted(kurtosis_u.items(), key=lambda item: item[1])}\n",
    "kurtosis_v_sorted = {k: v for k, v in sorted(kurtosis_v.items(), key=lambda item: item[1])}"
   ]
  },
  {
   "cell_type": "markdown",
   "id": "a51ef5da",
   "metadata": {},
   "source": [
    "# Génération des données synthétiques"
   ]
  },
  {
   "cell_type": "markdown",
   "id": "123cb947",
   "metadata": {},
   "source": [
    "# Labellisation des données"
   ]
  },
  {
   "cell_type": "markdown",
   "id": "11a22707",
   "metadata": {},
   "source": [
    "# Construction d'un réseau de neurones convolutif"
   ]
  },
  {
   "cell_type": "markdown",
   "id": "7e292e86",
   "metadata": {},
   "source": [
    "# Entrainement et évaluation des performances"
   ]
  },
  {
   "cell_type": "code",
   "execution_count": null,
   "id": "01144767",
   "metadata": {},
   "outputs": [],
   "source": []
  }
 ],
 "metadata": {
  "kernelspec": {
   "display_name": "Python 3 (ipykernel)",
   "language": "python",
   "name": "python3"
  },
  "language_info": {
   "codemirror_mode": {
    "name": "ipython",
    "version": 3
   },
   "file_extension": ".py",
   "mimetype": "text/x-python",
   "name": "python",
   "nbconvert_exporter": "python",
   "pygments_lexer": "ipython3",
   "version": "3.9.6"
  }
 },
 "nbformat": 4,
 "nbformat_minor": 5
}

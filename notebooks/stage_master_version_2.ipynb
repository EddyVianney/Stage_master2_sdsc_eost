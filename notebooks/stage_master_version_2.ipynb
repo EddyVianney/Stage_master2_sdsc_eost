{
 "cells": [
  {
   "cell_type": "code",
   "execution_count": 3,
   "id": "4e092e61",
   "metadata": {},
   "outputs": [],
   "source": [
    "import pandas as pd\n",
    "import numpy as np\n",
    "import os\n",
    "import matplotlib.pyplot as plt\n",
    "import csv\n",
    "from datetime import date, datetime\n",
    "import datetime\n",
    "from sklearn.cluster import KMeans\n",
    "from sklearn.decomposition import PCA, FastICA\n",
    "from sklearn.preprocessing import StandardScaler, MinMaxScaler\n",
    "from sklearn.preprocessing import RobustScaler\n",
    "from scipy.spatial.distance import euclidean\n",
    "from sklearn.feature_selection import f_regression\n",
    "from statsmodels.tsa.stattools import adfuller\n",
    "from sklearn.manifold import TSNE\n",
    "import hdbscan\n",
    "import csv\n",
    "import multiprocessing\n",
    "import itertools\n",
    "import operator\n",
    "import math\n",
    "from dtaidistance import dtw\n",
    "import seaborn as sns\n",
    "import json\n",
    "from osgeo import gdal \n",
    "from subprocess import Popen\n",
    "import simplekml\n",
    "import copy\n",
    "from sklearn.cluster import DBSCAN\n",
    "import numpy.ma as ma\n",
    "import rasterio\n",
    "from pyproj import Proj"
   ]
  },
  {
   "cell_type": "code",
   "execution_count": 4,
   "id": "116d91fc",
   "metadata": {},
   "outputs": [],
   "source": [
    "class TimeSerie():\n",
    "    \n",
    "    def __init__(self):\n",
    "        pass\n",
    "    \n",
    "    def has_null_values(self, serie):\n",
    "        return self.count_null_values(serie) > 0\n",
    "    \n",
    "    def count_null_values(self, serie):\n",
    "        return serie.isnull().sum().sum()\n",
    "    \n",
    "    def compute_null_val_percentage(self, serie):\n",
    "        return 100 *(1.0 * self.count_null_values(serie) / len(serie))\n",
    "    \n",
    "    def interpolate(self, serie):\n",
    "        return serie.interpolate(limit_direction='both', inplace=False)\n",
    "    \n",
    "    def compute_pearson_coef(self, serie):\n",
    "        return stats.pearsonr(np.squeeze(serie.values), get_days(serie.index))\n",
    "    \n",
    "    def compute_linear_reg_pval(self, serie):\n",
    "        # extraire X et y\n",
    "        X, y = self.prepare(serie)\n",
    "        # calculer la p-value de la regression lineaire\n",
    "        _, pval = f_regression(X,y.ravel())\n",
    "        return  pval[0]\n",
    "        \n",
    "    def select(self, serie, filename, ref, min_slope, alpha, sigma, ampl, pc):\n",
    "        slope   = self.get_slope_value(ref, serie, filename)\n",
    "        p_value = self.get_linear_reg_pval(serie, alpha)\n",
    "        vlm = self.vlm\n",
    "        # filtrage des series avec peu de valeurs\n",
    "        if self.compute_nul_val_percentage > pc:\n",
    "            return False\n",
    "        # filtrage des regressions non significatives\n",
    "        if p_value > alpha:\n",
    "            return False\n",
    "        # filtrage des vitesses faibles\n",
    "        if abs(vlm) < ampl* sigma:\n",
    "            return False\n",
    "         # filtrage des pentes faibles\n",
    "        if slope < min_slope:\n",
    "            return False\n",
    "        # sauvegarder l'état du pixel\n",
    "        self.set_selected()\n",
    "        return True\n",
    "    \n",
    "    def normalize(self):\n",
    "        return StandardScaler().fit_transform(self.serie)\n",
    "    \n",
    "    # la copie renvoie bien un nouvel objet, il n'y a pas d'effets de bord\n",
    "    def smooth(self, s, ampl):\n",
    "        serie = s.copy()\n",
    "        std = math.sqrt(serie.var())\n",
    "        for i in range(len(serie)):\n",
    "            if abs(serie.iloc[i].displacement) > ampl*std:\n",
    "                serie.iloc[i, serie.columns.get_loc('displacement')]= np.nan\n",
    "        return serie.interpolate(limit_direction='both', inplace=False)\n",
    "    \n",
    "    def detect_trend(self, alpha):\n",
    "        X, y = self.prepare()\n",
    "        # calculer la p-value de la regression lineaire\n",
    "        _, pval = f_regression(X,y.ravel())\n",
    "        self.set_linear_reg_pvalue(pval)\n",
    "        # eliminer le bruit si la regression n'est pas significative (bourrage de zeros)\n",
    "        if pval > alpha:\n",
    "            #return self.clone(pd.DataFrame(0.0, index=self.serie.index, columns=self.serie.columns))\n",
    "            return self.deepcopy(pd.DataFrame(0.0, index=self.serie.index, columns=self.serie.columns))  \n",
    "        else:\n",
    "            #return self.clone(self.serie.copy())\n",
    "            return self.deepcopy(self.serie)\n",
    "    \n",
    "    def transform(self, alpha):\n",
    "        return smooth().detect_non_moving_serie(alpha)\n",
    "        \n",
    "    def deepcopy(self, serie):\n",
    "        clone = copy.deepcopy(self)\n",
    "        clone.set_serie(serie)\n",
    "        return clone\n",
    "        \n",
    "    def compute_adfuller(self, serie):\n",
    "        adf_result = adfuller(serie)\n",
    "        adf_output = pd.Series(adf_result[0:4],index=['Test Statistic','p-value','#Lags Used','Number of Observations Used'])\n",
    "        for key, value in adf_result[4].items():\n",
    "            adf_output['Critical Value (%s)'%(key)] = value\n",
    "        return adf_output[1]\n",
    "    \n",
    "    # ce test nécessite d'avoir des données regulièrement échantillonnées\n",
    "    # Hyopthèse nulle : il existe une racine unitaire (série croissante ou cyclique)\n",
    "    # Hypthèse alternative : il n'existe pas de racine unitaire (série stationnaire)\n",
    "    # Si la p-valeur du test est inférireure à O.05, on rejette l'hypothèse nulle et la sériee est stationnaire\n",
    "    # NB: on recherche des signaux non stationnaires \n",
    "    def is_stationary(self, serie, freq='D', alpha=0.05):\n",
    "        resampled = serie.resample(freq)\n",
    "        interpolated = upsampled.interpolate(method='linear')\n",
    "        return self.compute_adfuller(interpolated) < alpha\n",
    "    \n",
    "    def get_days(self, serie):\n",
    "        days = []\n",
    "        dates = serie.index\n",
    "        for i in range(len(dates)):\n",
    "            days.append(abs((dates[0] - dates[i]).days ))\n",
    "        return days\n",
    "\n",
    "    def get_Xy(self, serie):\n",
    "        X = get_days(serie.index)\n",
    "        y = StandardScaler().fit_transform(serie)\n",
    "        return np.array(X).reshape(-1,1), y\n",
    "    \n",
    "    def prepare(self, serie):\n",
    "        # transformer les index en durée pour pouvoire effectuer une regression linéaire\n",
    "        X = np.array([abs((serie.index[0] - serie.index[n]).days) for n in range(len(serie.index))]).reshape(-1,1)\n",
    "        # extraire la cible\n",
    "        y = StandardScaler().fit_transform(serie)\n",
    "        return X, y\n",
    "    \n",
    "    # that functions gives approximately the same result when use sklearn linear regression\n",
    "    # x and y and numpy array\n",
    "    def compute_slope(self, serie):\n",
    "        x, y = self.prepare(serie)\n",
    "        return np.cov(x.T, y.T)[0][1] / np.var(x)\n",
    "    \n",
    "    def compute_inst_vel(self, serie):\n",
    "        vels =  []\n",
    "        for i in range(1, len(serie)-1):\n",
    "            duration = (serie.index[i+1] - serie.index[i-1]).days\n",
    "            displacement = serie.iloc[i+1].values[0] - serie.iloc[i-1].values[0]\n",
    "            vels.append(displacement / duration)\n",
    "        return pd.DataFrame(vels, index=serie.index[1:-1], columns=['vel'])\n",
    "    \n",
    "    def impute(self, serie,):\n",
    "        if self.has_null_values(serie):\n",
    "            return serie.interpolate(limit_direction='both', inplace=False)\n",
    "        else:\n",
    "            return serie\n",
    "        \n",
    "    def compute_diff_vect(self, serie):\n",
    "        disp     = np.diff(np.squeeze(serie.values))\n",
    "        duration = np.diff(np.squeeze(serie.index)) /  np.timedelta64(1,'D')\n",
    "        return disp, np.cumsum(duration)\n",
    "    "
   ]
  },
  {
   "cell_type": "code",
   "execution_count": 5,
   "id": "1b11bdc0",
   "metadata": {},
   "outputs": [],
   "source": [
    "class Pixel(TimeSerie):\n",
    "    \n",
    "    def __init__(self, id_, lat, lon, topo, ns, ew, ns_vel, ew_vel, mnt_slope, mnt_azimuth):\n",
    "        super(TimeSerie, self).__init__()\n",
    "        self.id = id_\n",
    "        self.lat = lat\n",
    "        self.lon = lon\n",
    "        self.topo = topo\n",
    "        self.ns = self.impute(ns)\n",
    "        self.ew = self.impute(ew)\n",
    "        self.azimuths = self.compute_azimuth_serie()\n",
    "        self.mnt_slope = mnt_slope\n",
    "        self.mnt_azimuth = mnt_azimuth\n",
    "        self.ns_vel = ns_vel\n",
    "        self.ew_vel = ew_vel\n",
    "        self.is_selected = False\n",
    "    \n",
    "    def compute_azimuth_serie(self):\n",
    "        column = self.ns.columns[0]\n",
    "        ns = self.ns[column].values\n",
    "        ew = self.ew[column].values\n",
    "        azimuths = np.arctan2(ew, ns)\n",
    "        azimuths = np.where(azimuths >= 0, azimuths, azimuths + 2 * np.pi)\n",
    "        azimuths = np.degrees(azimuths)\n",
    "        return pd.DataFrame({'azimuth': pd.Series(azimuths, index=self.ns.index)})\n",
    "        \n",
    "    def compute_magnitude_displacement(self):\n",
    "        x = self.ns.iloc[-1]\n",
    "        y = self.ew.iloc[-1]\n",
    "        return math.sqrt(x*x + y*y)\n",
    "\n",
    "    def compute_vector_coherence(self):\n",
    "        diff_ns = np.diff(np.squeeze(self.ns.values))\n",
    "        diff_ew = np.diff(np.squeeze(self.ew.values))\n",
    "        num = self.compute_norm(np.sum(diff_ns), np.sum(diff_ew))\n",
    "        den = np.sum(self.compute_norm(diff_ns, diff_ew))\n",
    "        return num / den \n",
    "    \n",
    "    def compute_norm(self, x, y):\n",
    "        return np.sqrt(x*x + y*y)\n",
    "    \n",
    "    def has_enough_values(self, pc):\n",
    "        return self.compute_null_val_percentage(self.ns) < pc\n",
    "    \n",
    "    def is_linear_regression_significant(self, alpha, ampl):\n",
    "        ns_sm = self.smooth(self.ns, ampl)\n",
    "        ew_sm = self.smooth(self.ew, ampl)\n",
    "        return self.compute_linear_reg_pval(ns_sm) < alpha or self.compute_linear_reg_pval(ew_sm) < alpha\n",
    "    \n",
    "    def is_ns_linear_regression_significant(self, alpha):\n",
    "        return self.compute_linear_reg_pval(self.ns) < alpha\n",
    "        \n",
    "    def is_ew_linear_regression_significant(self, alpha):\n",
    "        return self.compute_linear_reg_pval(self.ew) < alpha\n",
    "    \n",
    "    def is_linear_regression_significant_(self, alpha):\n",
    "        return self.is_ns_linear_regression_significant(alpha) or self.is_ew_linear_regression_significant(alpha)\n",
    "    \n",
    "    def compute_vel(self, ns_component, ew_component):\n",
    "        return math.sqrt(ns_component * ns_component + ew_component * ew_component)\n",
    "    \n",
    "    def is_moving(self, std, factor):\n",
    "        return self.get_mean_velocity() > factor*std\n",
    "    \n",
    "    def is_to_select1(self, filename, ref, alpha, min_slope, std, factor, pc, ampl_disp):\n",
    "        return self.is_linear_regression_significant(alpha, ampl_disp) and self.is_moving(std, factor) and self.is_steep(filename, ref, min_slope)\n",
    "    \n",
    "    def is_to_select2(self, filename, ref, min_slope, vel_std, amplitude):\n",
    "        return self.is_moving(vel_std, amplitude) and self.is_steep(filename, ref, min_slope)\n",
    "    \n",
    "    def compute_slope(self, ref, file):\n",
    "        val = os.popen('gdallocationinfo -valonly -%s %s %f %f' % (ref, file, self.lat, self.lon)).read()\n",
    "        if len(val) == 0:\n",
    "            raise ValueError('La pente est non valide !')\n",
    "        return  float(val)\n",
    "    \n",
    "    def get_mean_velocity(self):\n",
    "        return math.sqrt(self.ns_vel*self.ns_vel + self.ew_vel*self.ew_vel)\n",
    "    \n",
    "    def compute_interquartile_range(self, serie):\n",
    "        s = serie.copy().sort_values(by=serie.columns[0], ascending=True)\n",
    "        q3, q1 = np.percentile(s, [75 ,25])\n",
    "        iqr = q3 - q1\n",
    "        return q1 - 1.5 * iqr, q3 + 1.5 * iqr\n",
    "    \n",
    "    def smooth_by_iqr(self, serie):\n",
    "        colum = serie.columns[0]\n",
    "        low, up = self.compute_interquartile_range(serie)\n",
    "        for n in range(len(serie)):\n",
    "            if serie.values[n][0] < low or serie.values[n][0] > up:\n",
    "                serie.iloc[i, serie.columns.get_loc('displacement')]= np.nan\n",
    "        return serie.interpolate(limit_direction='both', inplace=False)\n",
    "    \n",
    "    def is_sign_random(self):\n",
    "        ns_prop = self.compute_sign_change_proportion_ns()\n",
    "        ew_prop = self.compute_sign_change_proportion_ew()\n",
    "        return abs(ns_prop[0] - ns_prop[1]) > 0.5 or abs(ew_prop[0] - ew_prop[1]) > 0.5\n",
    "    \n",
    "    \n",
    "    def is_azimuth_stationary(self, periode='M', alpha=0.05):\n",
    "        azimuts = self.azimuths\n",
    "        upsampled = s.resample(periode)\n",
    "        inter = upsampled.interpolate(method='linear')\n",
    "        result = adfuller(inter)\n",
    "        return result[1] < alpha\n",
    "    \n",
    "    # calculer la proportion des pixels tels que |mnt_azimuth - azimuth| < tol\n",
    "    # si on détecte une forte valeur aberrante on supprime le pixel : mnt_azimuth + 180\n",
    "    def is_azimuth_constant(self, tol, pr):\n",
    "        attribute = self.azimuths.columns[0]\n",
    "        mnt_azimuth = self.mnt_azimuth\n",
    "        azimuths = self.azimuths[attribute].values\n",
    "        proportion = np.where((azimuths < mnt_azimuth + tol) & (azimuths > mnt_azimuth - tol))[0].shape[0] / azimuths.shape[0]\n",
    "        return proportion > pr\n",
    "    \n",
    "    def is_steep(self, min_slope):\n",
    "        return  self.mnt_slope > min_slope\n",
    "        "
   ]
  },
  {
   "cell_type": "code",
   "execution_count": 6,
   "id": "9157bca5",
   "metadata": {},
   "outputs": [],
   "source": [
    "class Data():\n",
    "    \n",
    "    # numéro de la ligne ou commence les données\n",
    "    num_start = 44\n",
    "    \n",
    "    # numéro de la ligne ou se trouve la liste des dates\n",
    "    num_list_dates = 40\n",
    "    \n",
    "    # attributs présent dans les données\n",
    "    columns = ['id', 'Lat','Lon', 'Topo', 'Vel', 'Coer',' CosN', 'CosE', 'CosU']\n",
    "    \n",
    "    # raise en error when the two file have different sizes\n",
    "    \n",
    "    def __init__(self, ew_file_path, ns_file_path, slope_map_path, azimuth_map_path, pc=0.4):\n",
    "        self.slope_map_raster = rasterio.open(slope_map_path)\n",
    "        self.azimuth_map_raster = rasterio.open(azimuth_map_path)\n",
    "        self.slope_map_values = rasterio.open(slope_map_path).read(1)\n",
    "        self.azimuth_map_values = rasterio.open(azimuth_map_path).read(1)\n",
    "        self.epsg_code = self.azimuth_map_raster.crs.to_string().lower()\n",
    "        self.proj = Proj(self.epsg_code, preserve_units=False)\n",
    "        slopes, azimuths, pixels = self.load(ew_file_path, ns_file_path, pc)\n",
    "        self.slopes = slopes\n",
    "        self.azimuths = azimuths\n",
    "        self.pixels = pixels \n",
    "        self.mask = None\n",
    "        \n",
    "    def to_date(self, str):\n",
    "        str_strp = str.strip()\n",
    "        year, month, day = int(str_strp[0:4]), int(str_strp[4:6]), int(str_strp[6:8])\n",
    "        return date(year, month, day)\n",
    "\n",
    "    def load_data_from_csv(self, data_path):\n",
    "        \n",
    "        columns = Data.columns\n",
    "        \n",
    "        # dictionnaire stockant les données\n",
    "        data = {column: [] for column in columns}\n",
    "        # liste des dates \n",
    "        indexes = []\n",
    "        # series temporelles\n",
    "        series = []\n",
    "        # liste de dataframes\n",
    "        df_series = []\n",
    "\n",
    "        with open(data_path) as csv_file:\n",
    "            csv_reader = csv.reader(csv_file, delimiter=\",\")\n",
    "            line_count = 1 \n",
    "            for row in csv_reader:\n",
    "                if line_count == Data.num_list_dates:\n",
    "                    indexes = [row[0].split(' ')[1]] + row[1:]\n",
    "                if line_count >= Data.num_start:\n",
    "                    # extraction des premiers attributs\n",
    "                    for i in range(len(Data.columns)):\n",
    "                        data[columns[i]].append(row[i])\n",
    "                    # extraction de l'attribut TS(série temporelle)\n",
    "                    series.append([float(v) for v in row[len(columns):]])\n",
    "                line_count  += 1\n",
    "            if len(indexes) != len(series[0]):\n",
    "                print('Erreur : Les indexes et les valeurs ne correspondent pas')\n",
    "            # convertir les index en date\n",
    "            indexes = [d.strip()[0:8] for d in indexes]\n",
    "            # créer une liste de dataframes, chacun contenant une série temporelle\n",
    "            for serie in series:\n",
    "                tmp_serie = pd.DataFrame({'displacement': pd.Series(serie, index=pd.DatetimeIndex(indexes))})\n",
    "                tmp_serie.sort_index(inplace=True)\n",
    "                df_series.append(tmp_serie)\n",
    "            # creer un dataframe pour les autres attributs\n",
    "            df = pd.DataFrame(data)\n",
    "            for column in df.columns:\n",
    "                df[column] = pd.to_numeric(df[column], errors='coerce')\n",
    "            df.set_index('id')\n",
    "\n",
    "        return df, df_series\n",
    "    \n",
    "    def compute_mask(self, ns, pc):\n",
    "        self.mask = [ns[i].insull().sum().sum() / len(ns[0]) < pc]\n",
    "        \n",
    "    def set_pixels(self, pixels):\n",
    "        self.pixels = pixels\n",
    "        \n",
    "    def set_slopes(self, slopes):\n",
    "        self.slopes = slopes\n",
    "    \n",
    "    def set_azimuths(self, azimuths):\n",
    "        self.azimuths = azimuths\n",
    "        \n",
    "        \n",
    "\n",
    "    def load(self, ew_file_path, ns_file_path, pc=0.4):\n",
    "        \n",
    "        slopes, azimuths = None, None\n",
    "        \n",
    "        df_ew, ew = self.load_data_from_csv(ew_file_path)\n",
    "        df_ns, ns = self.load_data_from_csv(ns_file_path)\n",
    "\n",
    "        df_ew.rename(columns={'Vel': 'Vel_ew'}, inplace=True)\n",
    "        df_ns.rename(columns={'Vel': 'Vel_ns'}, inplace=True)\n",
    "        geo = pd.concat([df_ew[['id', 'Lat','Lon','Topo','Vel_ew']], df_ns[['Vel_ns']]], axis=1)\n",
    "        \n",
    "        pixels = []\n",
    "        n = len(ns[0])\n",
    "\n",
    "        for i in range(len(ns)):\n",
    "            if ns[i].isnull().sum().sum() / n < pc:\n",
    "                row, col = self.get_position_in_raster(geo.iloc[i].Lat, geo.iloc[i].Lon)\n",
    "                mnt_slope = self.get_value_from_slope_map2(row, col)\n",
    "                mnt_azimuth = self.get_value_from_azimuth_map2(row, col)\n",
    "                pixels.append(Pixel(geo.iloc[i].id, geo.iloc[i].Lat, geo.iloc[i].Lon, geo.iloc[i].Topo, ns[i], ew[i], geo.iloc[i].Vel_ns, geo.iloc[i].Vel_ew, mnt_slope, mnt_azimuth))\n",
    "        \n",
    "        return slopes, azimuths, pixels\n",
    "    \n",
    "    def convert_lat_lon_to_utm(self, lat, lon):\n",
    "        return self.proj(lat, lon)\n",
    "    \n",
    "    def get_position_in_raster(self, lat, lon):\n",
    "        x, y = self.convert_lat_lon_to_utm(lat, lon)\n",
    "        row, col = self.azimuth_map_raster.index(x, y)\n",
    "        return row, col\n",
    "    \n",
    "    def get_value_from_slope_map2(self, row, col):\n",
    "        return self.slope_map_values[row, col]\n",
    "    \n",
    "    def get_value_from_azimuth_map2(self, row, col):\n",
    "        return self.azimuth_map_values[row, col]\n",
    "        \n",
    "    def get_value_from_slope_map(self, lat, lon):\n",
    "        x, y = self.convert_lat_lon_to_utm(lat, lon)\n",
    "        row, col = self.slope_map_raster.index(x, y)\n",
    "        return self.slope_map_values[row, col]\n",
    "    \n",
    "    def get_value_from_azimuth_map(self, lat, lon):\n",
    "        x, y = self.convert_lat_lon_to_utm(lat, lon)\n",
    "        row, col = self.azimuth_map_raster.index(x, y)\n",
    "        return self.azimuth_map_values[row, col]\n",
    "    \n",
    "    def extract_value_from_raster(self, lat, lon, file, ref='wgs84'):\n",
    "            val = os.popen('gdallocationinfo -valonly -%s %s %f %f' % (ref, file, lat, lon)).read()\n",
    "            if len(val.strip()) == 0:\n",
    "                return -9999\n",
    "            else:\n",
    "                return float(val)"
   ]
  },
  {
   "cell_type": "code",
   "execution_count": 7,
   "id": "7dadf09f",
   "metadata": {},
   "outputs": [],
   "source": [
    "class DataFromImageCorrelation():\n",
    "    \n",
    "    def __init__(self, pixels):\n",
    "        self.pixels  = pixels\n",
    "        self.n_cores = multiprocessing.cpu_count()\n",
    "        self.sigma = self.compute_vlm_std()\n",
    "        self.non_filtered_ids = []\n",
    "        self.velocities = []\n",
    "    \n",
    "    def compute_vel(self, ns_component, ew_component):\n",
    "        return math.sqrt(ns_component * ns_component + ew_component * ew_component)\n",
    "    \n",
    "    def filter_by(self, factor=1.5, azimuth_tol=30, azimuth_pr=0.6, min_slope=15, alpha=0.05):\n",
    "        self.non_filtered_ids.clear()\n",
    "        vfunc = np.vectorize(self.is_to_select)\n",
    "        x = vfunc(np.arange(len(self.pixels)), factor, azimuth_tol, azimuth_pr, min_slope, alpha)\n",
    "        self.non_filtered_ids = x.nonzero()[0].tolist()\n",
    "        \n",
    "    def filter_by2(self, factor=1.5, azimuth_tol=30, azimuth_pr=0.6, min_slope=15, alpha=0.05):\n",
    "        self.non_filtered_ids.clear()\n",
    "        arguments =[(n, factor, azimuth_tol, azimuth_pr, min_slope, alpha) for n in range(len(self.pixels))]\n",
    "\n",
    "        results = None\n",
    "        with multiprocessing.Pool(self.n_cores) as p:\n",
    "            results = p.starmap(self.is_to_select, arguments)\n",
    "        \n",
    "        self.non_filtered_ids = results.tolist()\n",
    "    \n",
    "    def is_to_select(self, n, factor, azimuth_tol, azimuth_pr, min_slope, alpha):\n",
    "        is_random = (self.pixels[n].ns.kurtosis().values[0] < 0) and (self.pixels[n].ew.kurtosis().values[0] < 0)\n",
    "        is_moving = self.pixels[n].get_mean_velocity() > factor * self.sigma\n",
    "        is_steep = self.pixels[n].is_steep(min_slope)\n",
    "        is_azimuth_constant = self.pixels[n].is_azimuth_constant(azimuth_tol, azimuth_pr)\n",
    "        is_linear_regression_significant = (self.pixels[n].is_ns_linear_regression_significant(alpha) and\n",
    "               self.pixels[n].is_ew_linear_regression_significant(alpha))\n",
    "        \n",
    "        return (is_moving and \n",
    "               is_steep and\n",
    "               not is_random and\n",
    "               is_azimuth_constant and\n",
    "               is_linear_regression_significant)\n",
    "    \n",
    "    def debug_filter_by(self, factor=1):\n",
    "        vfunc = np.vectorize(self.debug_is_to_select)\n",
    "        return vfunc(np.arange(len(self.pixels)), factor)\n",
    "                \n",
    "    def compute_vlm_std(self):\n",
    "        return np.std(np.array([math.sqrt(pixel.ns_vel*pixel.ns_vel + pixel.ew_vel*pixel.ew_vel) for pixel in self.pixels]))\n",
    "    \n",
    "    def compute_inst_vels(self, series):\n",
    "        with multiprocessing.Pool(self.n_cores) as p:\n",
    "            results = p.map(TimeSerie().compute_inst_vel, series)\n",
    "            return results\n",
    "        \n",
    "    def compute_velocities(self):\n",
    "        self.velocities.clear()\n",
    "        if len(self.non_filtered_ids) == 0:\n",
    "            self.non_filtered_ids = np.arange(len(self.pixels))\n",
    "        ns_vels = self.compute_inst_vels([self.pixels[n].ns for n in self.non_filtered_ids])\n",
    "        ew_vels = self.compute_inst_vels([self.pixels[n].ew for n in self.non_filtered_ids])\n",
    "        for i in range(len(ns_vels)):\n",
    "            vels = []\n",
    "            column = ns_vels[0].columns[0]\n",
    "            for ns_vel, ew_vel in zip(ns_vels[i][column], ew_vels[i][column]):\n",
    "                vels.append(self.compute_vel(ns_vel, ew_vel))\n",
    "            df = pd.DataFrame(vels, index=ns_vels[0].index, columns=['magnitude'])\n",
    "            self.velocities.append(df)\n",
    "                \n",
    "    def set_slope_map_path(self, slope_map_path):\n",
    "        self.slope_map_path = slope_map_path\n",
    "    \n",
    "    # TODO : rajouter une erreur en cas de fichier non existant\n",
    "    def load_raster(self, raster_path):\n",
    "        return gdal.Open(raster_path)\n",
    "        \n",
    "    def compute_dem_attribute(self, dem_path, dem_attribute_path, attribute):\n",
    "        if os.path.isfile(dem_path):\n",
    "            dem = gdal.Open(dem_path)\n",
    "            dem_attribute = gdal.DEMProcessing(dem_attribute_path, dem, attribute, computeEdges = True)\n",
    "            dem = None\n",
    "            dem_attribute = None\n",
    "        else:\n",
    "            raise ValueError('Fichier non existant !')\n",
    "            "
   ]
  },
  {
   "cell_type": "code",
   "execution_count": 8,
   "id": "98058946",
   "metadata": {},
   "outputs": [],
   "source": [
    "class Clustering():\n",
    "    \n",
    "    def __init__(self, data, option=0):\n",
    "        self.data = data\n",
    "        self.result = None\n",
    "        self.n_clusters = None\n",
    "        self.option = option\n",
    "        \n",
    "    def select_scaler(serie):\n",
    "        if self.option == 0:\n",
    "            return StandardScaler().fit_transform(serie)\n",
    "        else:\n",
    "            return RobustScaler.fit_transform(serie)\n",
    "        \n",
    "    def get_scaler(self):\n",
    "        if self.option == 0:\n",
    "            scaler = RobustScaler()\n",
    "        else:\n",
    "            scaler = StandardScaler()\n",
    "        return scaler\n",
    "    \n",
    "    def normalize(self, series):\n",
    "        scaler = self.get_scaler()\n",
    "        return np.array([scaler.fit_transform(serie).reshape(len(serie)) for serie in series])\n",
    "    \n",
    "    def compute_similarity_matrix(self, series):\n",
    "        velocities =  self.data.velocities\n",
    "        size = len(series)\n",
    "        distances_matrix = np.zeros(shape=(size, size))\n",
    "        scaler = self.get_scaler()\n",
    "        for n in range(size):\n",
    "            for m in range(n , size):\n",
    "                s1 = scaler.fit_transform(velocities[n])\n",
    "                s2 = scaler.fit_transform(velocities[m])\n",
    "                dist = dtw.distance(s1, s2)\n",
    "                distances_matrix[n, m] = dist\n",
    "                distances_matrix[m, m] = dist\n",
    "        return distances_matrix\n",
    "    \n",
    "    def cluster(self, min_cluster_size, min_samples=None, cluster_selection_epsilon=None, precomputed=False):\n",
    "        data = self.data.velocities\n",
    "        if not precomputed:\n",
    "            self.result = hdbscan.HDBSCAN(min_cluster_size=min_cluster_size, min_samples=min_samples,  gen_min_span_tree=True).fit(self.normalize(data))\n",
    "        else:\n",
    "            self.result = hdbscan.HDBSCAN(min_cluster_size=min_cluster_size, min_samples=min_samples, gen_min_span_tree=True, metric='precomputed').fit(self.compute_similarity_matrix(data))\n",
    "\n",
    "    def get_n_clusters(self):\n",
    "        return 0 if self.result.labels_.max() < 0 else self.result.labels_.max() + 1\n",
    "    \n",
    "    def visualize(self):\n",
    "        projection = TSNE().fit_transform(self.normalize(self.data.velocities))\n",
    "        color_palette = sns.color_palette('Paired', self.result.labels_.max() + 1 )\n",
    "        cluster_colors = [color_palette[x] if x >= 0\n",
    "                  else (0.5, 0.5, 0.5)\n",
    "                  for x in self.result.labels_]\n",
    "        cluster_member_colors = [sns.desaturate(x, p) for x, p in\n",
    "                         zip(cluster_colors, self.result.probabilities_)]\n",
    "        plt.scatter(*projection.T, s=20, c=cluster_member_colors , linewidth=0, alpha=0.25)\n",
    "        plt.savefig('tsne.png')\n",
    "        plt.show()\n",
    "    \n",
    "    def plot_cluster_distribution(self, colormap='Dark2'):\n",
    "        v_count = dict()\n",
    "        cmap = plt.get_cmap(colormap)\n",
    "        colors = [cmap(i) for i in np.linspace(0, 1, self.result.labels_.max() + 1)]\n",
    "        for label in self.result.labels_:\n",
    "            if label != -1:\n",
    "                if label in v_count.keys():\n",
    "                    v_count[label] += 1\n",
    "                else:\n",
    "                    v_count[label] = 1\n",
    "        pd.Series({k: v for k, v in sorted(v_count.items(), key=lambda item: item[0])}).plot(kind='bar', color=colors)\n",
    "        return v_count\n",
    "    \n",
    "    def get_data_from_class(self, num_label):\n",
    "        data = []\n",
    "        for i in range(len(self.result.labels_)):\n",
    "            if self.result.labels_[i] == num_label:\n",
    "                data.append(self.data[i])\n",
    "        return data\n",
    "    \n",
    "    def plot_cluster_result(self, n_cols=3):\n",
    "        labels = self.result.labels_\n",
    "        n_clusters = labels.max() + 1\n",
    "        n_rows = int(n_clusters / n_cols) if n_clusters % n_cols == 0 else int(math.ceil(n_clusters / n_cols))\n",
    "        fig, axs = plt.subplots(n_rows, n_cols, figsize=(25,15))\n",
    "        for num_cluster in range(n_clusters):\n",
    "            for serie_index in range(len(self.data.magnitudes)):\n",
    "                if labels[serie_index] == num_cluster:\n",
    "                    axs[int(num_cluster / n_cols), num_cluster % n_cols].plot(self.data.magnitudes[serie_index], c='blue', alpha=0.2)\n",
    "            axs[int(num_cluster / n_cols), num_cluster % n_cols].set_title('Cluster %d'%(num_cluster + 1))\n",
    "        fig.tight_layout()\n",
    "        plt.show()\n",
    "        \n",
    "    # créer un fichier csv contenant les champs : id, lat, lon, numero de la classe\n",
    "    def generate_csv_file(self):\n",
    "        rows = []\n",
    "        fieldnames = ['id', 'Lat', 'Lon', 'cluster']\n",
    "        data =  self.data.pixels\n",
    "        non_filtered_ids = self.data.non_filtered_ids\n",
    "        for n in range(len(non_filtered_ids)):\n",
    "            rows.append({'id': int(data[n].id), 'Lat': data[n].lat, 'Lon': data[n].lon, 'cluster': self.result.labels_[n]})\n",
    "        with open('clustering_result.csv', 'w', encoding='UTF8', newline='') as f:\n",
    "            writer = csv.DictWriter(f, fieldnames=fieldnames)\n",
    "            writer.writeheader()\n",
    "            writer.writerows(rows)\n",
    "            \n",
    "    # le nombre de markers est limité, on ne prend que les 8 premières classes\n",
    "    def get_important_labels(self, labels, n_classes=15):\n",
    "        classes = []\n",
    "        unique, counts = np.unique(labels, return_counts=True)\n",
    "        sort_labels = sorted(dict(zip(unique, counts)).items(), key=lambda x: x[1], reverse=True)\n",
    "        for label, count in sort_labels:\n",
    "            if label > -1 and len(classes) < n_classes:\n",
    "                classes.append(label)\n",
    "        return classes\n",
    "    \n",
    "    def generate_kml_file_all(self):\n",
    "        labels = self.result.labels_\n",
    "        latitudes = [self.data.pixels[n].lat for n in self.data.non_filtered_ids]\n",
    "        longitudes = [self.data.pixels[n].lon for n in self.data.non_filtered_ids]\n",
    "        if labels.max() > -1:\n",
    "            icones = self.generate_icones2()\n",
    "            dense_cluster_labels = self.get_important_labels(labels)\n",
    "            kml=simplekml.Kml()\n",
    "            fol = kml.newfolder(name=\"HDBSCAN Clustering\")\n",
    "            for n, v in enumerate(self.data.non_filtered_ids):\n",
    "                pnt = None\n",
    "                if labels[n] > -1:\n",
    "                    pnt = fol.newpoint(description=str(v), coords=[(latitudes[n], longitudes[n])])\n",
    "                    if labels[n] in dense_cluster_labels:\n",
    "                        ind = dense_cluster_labels.index(labels[n])\n",
    "                        pnt.iconstyle.icon.href = icones[ind]\n",
    "                    else:\n",
    "                        pnt.iconstyle.icon.href = icones[-1]\n",
    "            kml.save('Resultats/clustering_results.kml')\n",
    "            print('kml file created !')\n",
    "        else:\n",
    "            print('Hdbscan only found outliers. kml file cannot be generated !')\n",
    "\n",
    "            \n",
    "    def generate_kml_file2(self):\n",
    "        if self.result.labels_.max() > -1:\n",
    "            icones = self.generate_icones2()\n",
    "            labels = self.get_important_labels(self.result.labels_)\n",
    "            kml=simplekml.Kml()\n",
    "            fol = kml.newfolder(name=\"HDBSCAN Clustering\")\n",
    "            for i, n in enumerate(self.data.non_filtered_ids, 0):\n",
    "                if self.result.labels_[i] in labels:\n",
    "                    ind = labels.index(self.result.labels_[i])\n",
    "                    pnt = fol.newpoint(description=str(n), coords=[(self.data.pixels[n].lat, self.data.pixels[n].lon)])\n",
    "                    pnt.iconstyle.icon.href = icones[ind]\n",
    "            kml.save('clustering_result0.kml')\n",
    "        else:\n",
    "            print('Hdbscan only found outliers. kml file cannot be generated !')\n",
    "            \n",
    "    def generate_icones2(self):\n",
    "        base = 'http://maps.google.com/mapfiles/ms/micons/'\n",
    "        colors = ['blue', 'red', 'yellow', 'green', 'orange', 'purple', 'pink']\n",
    "        return [base + color + '-dot.png' for color in (colors + ['ltblue'])[:]] + [base + color + '.png' for color in (colors + ['lightblue'])[:]]\n",
    "\n",
    "    def generate_kml_file(self, scale=2):\n",
    "        labels = self.result.labels_\n",
    "        if labels.max() > -1:\n",
    "            icon_links, scales = self.generate_icones(labels)\n",
    "            kml=simplekml.Kml()\n",
    "            fol = kml.newfolder(name=\"HDBSCAN Clustering\")\n",
    "            labels = self.result.labels_\n",
    "            for i, n in enumerate(self.data.non_filtered_ids, 0):\n",
    "                if labels[i] > - 1:\n",
    "                    pnt = fol.newpoint(description=str(n), coords=[(self.data.pixels[n].lat, self.data.pixels[n].lon)])\n",
    "                    pnt.iconstyle.icon.href =icon_links[labels[i]]\n",
    "                    pnt.style.labelstyle.scale = scales[labels[i]]\n",
    "            kml.save('clustering_result.kml')\n",
    "        else:\n",
    "            print('Hdbscan only found outliers. kml file cannot be generated !')\n",
    "            \n",
    "    def get_pixel_icon(self, m):\n",
    "        labels = self.result.labels_\n",
    "        icon_links, _ = self.generate_icones(labels)\n",
    "        for i, n in enumerate(self.data.non_filtered_ids, 0):\n",
    "            if n == m:\n",
    "                return icon_links[labels[i]]\n",
    "            \n",
    "    def generate_icones2(self):\n",
    "        base = 'http://maps.google.com/mapfiles/ms/micons/'\n",
    "        colors = ['blue', 'red', 'yellow', 'green', 'orange', 'purple', 'pink']\n",
    "        return [base + color + '-dot.png' for color in (colors + ['ltblue'])[:]] + [base + color + '.png' for color in (colors + ['lightblue'])[:]]\n",
    "            \n",
    "    #http://tancro.e-central.tv/grandmaster/markers/google-icons/mapfiles-ms-micons.html\n",
    "    def generate_icones(self, labels, scale=2):\n",
    "        BASE = 'http://maps.google.com/mapfiles/ms/micons/'\n",
    "        scales = None\n",
    "        colors = ['blue', 'red', 'yellow', 'green', 'orange', 'purple', 'pink']\n",
    "        icon_links = [BASE + color + '-dot.png' for color in (colors + ['ltblue'])[:]] + [BASE + color + '.png' for color in (colors + ['lightblue'])[:]]\n",
    "        n_clusters = labels.max() + 1\n",
    "        if n_clusters > len(icon_links):\n",
    "            q = int(n_clusters / len(icon_links))\n",
    "            r = n_clusters - q*len(icon_links)\n",
    "            icon_links = (icon_links*q)[:] + icon_links[:r]\n",
    "            scales = [scale*t for t in range(len(icon_links))]\n",
    "        else:\n",
    "            scales = [scale]*n_clusters\n",
    "        return icon_links, scales\n",
    "    \n",
    "    # coefficient de silhouette ?\n",
    "    def validate(self):\n",
    "        return DBCV(self.data.magnitudes, self.result.labels_, dist_function=euclidean)"
   ]
  },
  {
   "cell_type": "code",
   "execution_count": 9,
   "id": "901aa011",
   "metadata": {},
   "outputs": [],
   "source": [
    "class Utility():\n",
    "    \n",
    "    url = 'http://maps.google.com/mapfiles/ms/micons/'\n",
    "    \n",
    "    def __init__(self):\n",
    "        pass\n",
    "    \n",
    "    def generate_kml_file(self, latitudes, longitudes, color, kml=None, filename='visualization', generate=True):\n",
    "        \n",
    "        kml_obj = None\n",
    "        fol = None\n",
    "        if kml is None:\n",
    "            kml_obj = simplekml.Kml()\n",
    "        else:\n",
    "            kml_obj = kml\n",
    "            \n",
    "        for n, coords in enumerate(zip(latitudes, longitudes)):\n",
    "            pnt = kml_obj.newpoint(description=str(n), coords=[(coords[0], coords[1])])\n",
    "            pnt.iconstyle.icon.href = self.url + color + '-dot.png'\n",
    "        \n",
    "        if generate:\n",
    "            kml.save(filename + '.kml')\n",
    "            return  None\n",
    "        else:\n",
    "            return kml\n",
    "\n",
    "    def generate_kml_file_classes(self, latitudes1, longitudes1, latitudes2, longitudes2, output_filename='visualization', color1='red', color2='green'):\n",
    "        \n",
    "        kml = self.generate_kml_file(latitudes1, longitudes1, color1, generate=False)\n",
    "        _ = self.generate_kml_file(latitudes2, longitudes2, color2, generate=True)\n",
    "            \n",
    "        kml.save(output_filename + '.kml')"
   ]
  },
  {
   "cell_type": "code",
   "execution_count": 11,
   "id": "51cab66d",
   "metadata": {},
   "outputs": [],
   "source": [
    "class Visualization():\n",
    "\n",
    "    def __init__(self):\n",
    "        pass\n",
    "    \n",
    "    def plot_displacement(self, ts):\n",
    "        \n",
    "        days = get_days(ns_ts.index)\n",
    "        fig, ax = plt.subplots(figsize=(15,5))\n",
    "    \n",
    "        ax[0].plot(ns_ts['displacement'], color='blue', label='NS displacement (m)', marker='o', linewidth=2)\n",
    "        ax[1].plot(ew_ts['displacement'], color='orange', label='EW displacement (m)', marker='o', linewidth=2)\n",
    "        \n",
    "        plt.legend()\n",
    "        plt.legend(loc='best')\n",
    "        plt.show()\n",
    "    \n",
    "    def plot_displacement_vel(self, ns_ts, ew_ts):\n",
    "        \n",
    "        days = get_days(ns_ts[0].index)\n",
    "\n",
    "        fig, ax_left = plt.subplots(figsize=(15,5))\n",
    "        ax_right = ax_left.twinx()\n",
    "\n",
    "        p1, = ax_left.plot(days, df_series[4]['displacement'], color='blue', label='NS displacement (m)')\n",
    "        p2, = ax_right.plot(days, df_series[4]['displacement'], color='orange', label='EW displacement(m)')\n",
    "\n",
    "        ax_left.set_xlabel(\"number of days since the first measure\")\n",
    "        ax_left.set_ylabel(\"displacement\")\n",
    "        ax_right.set_ylabel(\"velocity\")\n",
    "\n",
    "        lns = [p1, p2]\n",
    "\n",
    "        ax_left.legend(handles=lns, loc='best')\n",
    "        fig.tight_layout()\n",
    "        plt.show()\n",
    "        \n",
    "    def plot_disp_ns_ew(self, pixel, title):\n",
    "\n",
    "        fig, ax = plt.subplots(3, 1, figsize=(15,10))\n",
    "        fig.subplots_adjust(hspace=0.2)\n",
    "\n",
    "        ax[0].plot(pixel.ns, color='blue', marker='o', linewidth=2)\n",
    "        ax[0].set_title('déplacements cumulés nord-sud', fontsize=18)\n",
    "        #ax[0].set_xlabel('dates d\\'acquisitions')\n",
    "        ax[0].set_ylabel('déplacement (m)', fontsize=13)\n",
    "\n",
    "        ax[1].plot(pixel.ew, color='orange', marker='o', linewidth=2)\n",
    "        ax[1].set_title('déplacements cumulés est-ouest', fontsize=18)\n",
    "        #ax[1].set_xlabel('dates d\\'acquisitions')\n",
    "        ax[1].set_ylabel('déplacement (m)', fontsize=13)\n",
    "        \n",
    "        ax[2].plot(pixel.azimuths, color='green', marker='o', linewidth=2)\n",
    "        ax[2].set_title('variations de l\\' azimuth', fontsize=18)\n",
    "        ax[2].set_xlabel('dates d\\'acquisition', fontsize=13)\n",
    "        ax[2].set_ylabel('azimuth (°)', fontsize=13)\n",
    "        \n",
    "        plt.savefig(title + '.png')\n",
    "        fig.tight_layout()\n",
    "        plt.show()\n",
    "        \n",
    "    def plot_disp_vel(self, ns_ts, ew_ts, vels):\n",
    "        \n",
    "        fig, ax = plt.subplots(3, 1, figsize=(15,10))\n",
    "\n",
    "        ax[0].plot(ns_ts, color='blue', label='displacement (m)', marker='o', linewidth=2)\n",
    "        ax[0].set_title('NS cumulative displacement')\n",
    "        ax[0].set_xlabel('time')\n",
    "        ax[0].set_ylabel('displacement')\n",
    "        ax[0].legend()\n",
    "\n",
    "        ax[1].plot(ew_ts, color='orange', label='displacement (m)', marker='o', linewidth=2)\n",
    "        ax[1].set_title('EW cumulative displacement')\n",
    "        ax[1].set_xlabel('time')\n",
    "        ax[1].set_ylabel('displacement')\n",
    "        ax[1].legend()\n",
    "\n",
    "        ax[2].plot(vels, color='green', label='vxelocity (m/day)', marker='o', linewidth=2)\n",
    "        ax[2].set_title('Velocity magnitude')\n",
    "        ax[2].set_xlabel('time')\n",
    "        ax[2].set_ylabel('velocity')\n",
    "        ax[2].legend()\n",
    "        \n",
    "        fig.tight_layout()\n",
    "        plt.show()\n",
    "        \n",
    "    def plot_series(series, num_rows=48677, num_cols=5, colormap='tab20'):\n",
    "        \n",
    "        plot_kwds = {'alpha' : 0.25, 's' : 10, 'linewidths':0}\n",
    "        fig, axs = plt.subplots(num_rows, num_cols, figsize=(25,25))\n",
    "        cmap = plt.get_cmap(colormap)\n",
    "        colors = [cmap(i) for i in np.linspace(0,1,num_rows*num_cols)]\n",
    "\n",
    "        for num_row in range(num_rows):\n",
    "            for num_col in range(num_cols):\n",
    "                if num_row*num_cols + num_col < len(series):\n",
    "                    axs[num_row, num_col].plot(series[num_row*num_cols + num_col], color=colors[num_row*num_cols + num_col], marker='o', markerfacecolor='white')\n",
    "                    #axs[num_row, num_col].set_title('serie: %s'%(self.names[num_row*num_cols + num_col].split('.')[0]))\n",
    "        plt.show()\n",
    "    \n",
    "    def generate_km_file_testing(self, pixels, listes, colors):\n",
    "        url = 'http://maps.google.com/mapfiles/ms/micons/'\n",
    "        kml = simplekml.Kml()\n",
    "        for m in range(len(listes)):\n",
    "            for n in listes[m]:\n",
    "                lat, lon = pixels[n].lat, pixels[n].lon\n",
    "                pnt = kml.newpoint(description=str(n), coords=[(lat, lon)])\n",
    "                pnt.iconstyle.icon.href = url + colors[m] + '-dot.png'\n",
    "        kml.save('testing_points' + '.kml')\n",
    "\n",
    "        \n",
    "    def generate_kml_file(self, mask, latitudes, longitudes, color, filename='visualization'):\n",
    "        \n",
    "        url = 'http://maps.google.com/mapfiles/ms/micons/'\n",
    "        kml = simplekml.Kml()\n",
    "        for n, coords in enumerate(zip(latitudes, longitudes)):\n",
    "            if not mask[n]:\n",
    "                pnt = kml.newpoint(description=str(n), coords=[(coords[0], coords[1])])\n",
    "                pnt.iconstyle.icon.href = url + color + '-dot.png'\n",
    "        kml.save(filename + '.kml')\n",
    "        \n",
    "    def generate_kml_file3(self, mask, latitudes, longitudes, color, filename='visualization'):\n",
    "        \n",
    "        url = 'http://maps.google.com/mapfiles/ms/micons/'\n",
    "        kml = simplekml.Kml()\n",
    "        for n in mask:\n",
    "                latitude = latitudes[n]\n",
    "                longitude = longitudes[n]\n",
    "                pnt = kml.newpoint(description=str(n), coords=[(latitude, longitude)])\n",
    "                pnt.iconstyle.icon.href = url + color + '-dot.png'\n",
    "        kml.save(filename + '.kml')"
   ]
  },
  {
   "cell_type": "markdown",
   "id": "77d3e0e2",
   "metadata": {},
   "source": [
    "# Chargement des données"
   ]
  },
  {
   "cell_type": "code",
   "execution_count": 13,
   "id": "c7b44d27",
   "metadata": {},
   "outputs": [],
   "source": [
    "non_signals = [47521, 40813, 47557, 47841, 49882, 43172, 48141, 41143, 45777, 44317,5842, 42256, 44879, 39398 ,46649]\n",
    "signals = [34900,28490, 37520, 36659, 42193, 30546, 34313, 38980, 30237, 33451, 22367, 24713, 22961, 25887, 28509]"
   ]
  },
  {
   "cell_type": "code",
   "execution_count": 12,
   "id": "cb94447f",
   "metadata": {},
   "outputs": [],
   "source": [
    "ew_csv_path = '../donnees/Lavalette/MM_TIO_EW_31TGK_20151227_to_20200906.csv'\n",
    "ns_csv_path = '../donnees/Lavalette/MM_TIO_NS_31TGK_20151227_to_20200906.csv'\n",
    "slope_map_path = '../donnees/Lavalette/slope_lavalette.tif'\n",
    "azimuth_map_path = '../donnees/Lavalette/azimuth_lavalette.tif'\n",
    "ica_path = '../donnees/ica/'\n",
    "\n",
    "#data loading\n",
    "#print('loading data ...')\n",
    "data = Data(ew_csv_path,  ns_csv_path, slope_map_path, azimuth_map_path)\n",
    "image_correlation =  DataFromImageCorrelation(data.pixels[:100])"
   ]
  },
  {
   "cell_type": "code",
   "execution_count": 26,
   "id": "e71dc53c",
   "metadata": {},
   "outputs": [
    {
     "data": {
      "text/plain": [
       "4"
      ]
     },
     "execution_count": 26,
     "metadata": {},
     "output_type": "execute_result"
    }
   ],
   "source": [
    "round(4)"
   ]
  },
  {
   "cell_type": "code",
   "execution_count": 15,
   "id": "b0551806",
   "metadata": {},
   "outputs": [],
   "source": [
    " def generate_kml_file(pixels, indexes, color, filename='soutenance'):\n",
    "        \n",
    "        url = 'http://maps.google.com/mapfiles/ms/micons/'\n",
    "        kml = simplekml.Kml()\n",
    "        for n in indexes:\n",
    "            pnt = kml.newpoint(description=str(n), coords=[(pixels[n].lat, pixels[n].lon)])\n",
    "            pnt.iconstyle.icon.href = url + color + '-dot.png'\n",
    "        kml.save(filename + '.kml')"
   ]
  },
  {
   "cell_type": "code",
   "execution_count": 12,
   "id": "607bed53",
   "metadata": {},
   "outputs": [],
   "source": [
    "Image_Correlation_processing = DataFromImageCorrelation(data.pixels)"
   ]
  },
  {
   "cell_type": "code",
   "execution_count": 13,
   "id": "afd03b44",
   "metadata": {},
   "outputs": [],
   "source": [
    "Image_Correlation_processing.filter_by(factor=1.5, azimuth_tol=60, azimuth_pr=0.2, min_slope=15, alpha=0.05)"
   ]
  },
  {
   "cell_type": "code",
   "execution_count": 187,
   "id": "5aad3ffb",
   "metadata": {},
   "outputs": [
    {
     "data": {
      "text/plain": [
       "710"
      ]
     },
     "execution_count": 187,
     "metadata": {},
     "output_type": "execute_result"
    }
   ],
   "source": [
    "len(Image_Correlation_processing.non_filtered_ids)"
   ]
  },
  {
   "cell_type": "code",
   "execution_count": null,
   "id": "a29ac8b6",
   "metadata": {},
   "outputs": [],
   "source": [
    "Image_Correlation_processing.compute_velocities()"
   ]
  },
  {
   "cell_type": "code",
   "execution_count": 17,
   "id": "c8afa636",
   "metadata": {},
   "outputs": [],
   "source": [
    "generate_kml_file(data.pixels, [23534, 31112, 43061, 55869, 284, 16947, 35000], 'yellow')"
   ]
  },
  {
   "cell_type": "code",
   "execution_count": null,
   "id": "c1eff9a8",
   "metadata": {},
   "outputs": [],
   "source": [
    "'''\n",
    "factor = 2 \n",
    "azimuth_tol = 100\n",
    "azimuth = 0.2\n",
    "min_slope = 15\n",
    "alpha = 0.05\n",
    "min_cluster_size = 50\n",
    "min_samples = 1\n",
    "'''\n",
    "clustering = Clustering(Image_Correlation_processing, option=0)\n",
    "clustering.cluster(min_cluster_size=50, min_samples=10, cluster_selection_epsilon=None, precomputed=False)\n",
    "clustering.generate_kml_file_all() "
   ]
  },
  {
   "cell_type": "code",
   "execution_count": 19,
   "id": "1caee633",
   "metadata": {},
   "outputs": [],
   "source": [
    "def get_days_intv(dates):\n",
    "    days = []\n",
    "    for i in range(len(dates) - 1):\n",
    "        days.append(abs((dates[i] - dates[i + 1]).days ))\n",
    "    return days"
   ]
  },
  {
   "cell_type": "code",
   "execution_count": 20,
   "id": "5e6e494f",
   "metadata": {},
   "outputs": [],
   "source": [
    "days = get_days_intv(data.pixels[0].ns.index)"
   ]
  },
  {
   "cell_type": "code",
   "execution_count": 22,
   "id": "2ade432b",
   "metadata": {},
   "outputs": [
    {
     "data": {
      "image/png": "[encoded data removed]",
      "text/plain": [
       "<Figure size 432x288 with 1 Axes>"
      ]
     },
     "metadata": {},
     "output_type": "display_data"
    }
   ],
   "source": [
    "plt.style.use('seaborn-whitegrid')\n",
    "plt.hist(days)\n",
    "plt.xlabel('durée (jours)')\n",
    "plt.ylabel('nombre d\\'échantillons')\n",
    "plt.tight_layout()\n",
    "plt.savefig('echantillonage.png')\n",
    "plt.show()"
   ]
  },
  {
   "cell_type": "code",
   "execution_count": 13,
   "id": "0f8dc610",
   "metadata": {
    "scrolled": true
   },
   "outputs": [
    {
     "data": {
      "image/png": "[encoded data removed]",
      "text/plain": [
       "<Figure size 1080x720 with 3 Axes>"
      ]
     },
     "metadata": {},
     "output_type": "display_data"
    }
   ],
   "source": [
    "#viz.plot_disp_ns_ew(Data.pixels[n].ns , Data.pixels[n].ew)\n",
    "plt.style.use('seaborn-whitegrid')\n",
    "Visualization().plot_disp_ns_ew(data.pixels[35000], 'lavalette_E')"
   ]
  },
  {
   "cell_type": "markdown",
   "id": "10b6e3f9",
   "metadata": {},
   "source": [
    "# Analyse des filtres"
   ]
  },
  {
   "cell_type": "markdown",
   "id": "fa9f72d1",
   "metadata": {},
   "source": [
    "## Filtre vitesse & regression linéaire"
   ]
  },
  {
   "cell_type": "code",
   "execution_count": null,
   "id": "7b9ffa58",
   "metadata": {},
   "outputs": [],
   "source": [
    "factors = [1.5, 2, 2.5, 3]\n",
    "for factor in factors:\n",
    "    print('start')\n",
    "    Data.test_filter(factor)\n",
    "    print('end')\n",
    "    Visualization().generate_kml_file3(Data.non_filtered_ids, latitudes, longitudes, 'yellow', filename='filtre_vel_reg_factor=' + str(factor))\n",
    "    print('k')"
   ]
  },
  {
   "cell_type": "markdown",
   "id": "3b43a7d3",
   "metadata": {},
   "source": [
    "## Filtre Vitesse"
   ]
  },
  {
   "cell_type": "code",
   "execution_count": 18,
   "id": "19dd2857",
   "metadata": {},
   "outputs": [],
   "source": [
    "def plot_raster(raster, cmap='gray'):\n",
    "    values = raster.GetRasterBand(1).ReadAsArray()\n",
    "    plt.figure()\n",
    "    plt.imshow(values, cmap = cmap)\n",
    "    plt.colorbar()\n",
    "    plt.show()\n",
    "    \n",
    "def compute_slope_azimuth_map(dem_path, output_name):\n",
    "    dem = gdal.Open(dem_path)\n",
    "    slope_map = gdal.DEMProcessing('rasters/' + output_name + '.tif', dem, 'aspect', computeEdges = True, trigonometric=False)"
   ]
  },
  {
   "cell_type": "code",
   "execution_count": 19,
   "id": "0f7a94e9",
   "metadata": {},
   "outputs": [],
   "source": [
    "dem_path = 'rasters/31TGK_copernicus_dem.tif'\n",
    "compute_slope_azimuth_map(dem_path, 'slope_azimuth_map')"
   ]
  },
  {
   "cell_type": "code",
   "execution_count": 477,
   "id": "17e895d4",
   "metadata": {},
   "outputs": [
    {
     "data": {
      "image/png": "[encoded data removed]",
      "text/plain": [
       "<Figure size 432x288 with 2 Axes>"
      ]
     },
     "metadata": {},
     "output_type": "display_data"
    }
   ],
   "source": [
    "plt.rcParams[\"axes.grid\"] = True\n",
    "path = 'rasters/MM_TIO_Magnitude_31TGK_20151227_to_20200906.tif'\n",
    "slope_azimuth_path = 'rasters/slope_azimuth_map.tif'\n",
    "slope_azimuth_raster = gdal.Open(slope_azimuth_path)\n",
    "#magnitudes_map = gdal.Open(path)\n",
    "#slope_map = gdal.DEMProcessing('rasters/slope_map.tif', dem, 'slope', computeEdges = True)\n",
    "plot_raster(slope_azimuth_raster, cmap='magma')"
   ]
  },
  {
   "cell_type": "code",
   "execution_count": 64,
   "id": "8b262ddc",
   "metadata": {},
   "outputs": [],
   "source": [
    "def extract_value_from_raster(lat, lon, file='rasters/slope_azimuth_map.tif', ref='wgs84'):\n",
    "        val = os.popen('gdallocationinfo -valonly -%s %s %f %f' % (ref, file, lat, lon)).read()\n",
    "        if len(val) == 0:\n",
    "            raise ValueError('La valeur est non valide !')\n",
    "        return  float(val)\n",
    "\n",
    "ref = 'wgs84'\n",
    "file = 'rasters/slope_azimuth_map.tif'"
   ]
  },
  {
   "cell_type": "code",
   "execution_count": null,
   "id": "b46cec96",
   "metadata": {},
   "outputs": [],
   "source": [
    "file = 'rasters/Lavalette/azimuth_lavalette.tif'\n",
    "azimuths = []\n",
    "arguments = \n",
    "for lat, lon in zip(latitudes, longitudes):\n",
    "    val = extract_value_from_raster(file, ref, lat, lon)\n",
    "    azimuths.append(val)"
   ]
  },
  {
   "cell_type": "markdown",
   "id": "7ceae05e",
   "metadata": {},
   "source": [
    "## Filtre azimuth"
   ]
  },
  {
   "cell_type": "code",
   "execution_count": 81,
   "id": "9b09dfff",
   "metadata": {},
   "outputs": [
    {
     "data": {
      "text/plain": [
       "\"\\natan2 renvoie une valeur dans [-pi, pi]\\nl'azimut calculé par gdal est  compris en entre 0 et 360 degrés.\\nil faut donc rajouter 2pi à atan2 lorsque sa valeur est négative sachant que atan2\\nrenvoie une valeur comprise entre -pi et pi\\n\""
      ]
     },
     "execution_count": 81,
     "metadata": {},
     "output_type": "execute_result"
    }
   ],
   "source": [
    "'''\n",
    "atan2 renvoie une valeur dans [-pi, pi]\n",
    "l'azimut calculé par gdal est  compris en entre 0 et 360 degrés.\n",
    "il faut donc rajouter 2pi à atan2 lorsque sa valeur est négative sachant que atan2\n",
    "renvoie une valeur comprise entre -pi et pi\n",
    "'''"
   ]
  },
  {
   "cell_type": "code",
   "execution_count": 82,
   "id": "e1e9f0a3",
   "metadata": {},
   "outputs": [],
   "source": [
    " def plot_(liste, azimuths, pixels_azimuths,  name):\n",
    "         \n",
    "        fig, ax = plt.subplots(2, 1, figsize=(15,10))\n",
    "        \n",
    "        for n in range(len(liste)):\n",
    "            ax[n].plot(azimuths[n], color='blue', label='displacement (m)', marker='o', linewidth=2)\n",
    "            ax[n].set_title('NS cumulative displacement')\n",
    "            ax[n].set_xlabel('time')\n",
    "            ax[n].set_ylabel('azimuth (°)')\n",
    "            ax[n].axhline(y=pixels_azimuths[n], color='r', label='pixel azimuth', linestyle='-', linewidth=1)\n",
    "        \n",
    "        plt.savefig(name + '.png')\n",
    "        fig.tight_layout()\n",
    "        plt.show()"
   ]
  },
  {
   "cell_type": "code",
   "execution_count": 90,
   "id": "f4fed6be",
   "metadata": {},
   "outputs": [
    {
     "data": {
      "text/plain": [
       "CompletedProcess(args=['gdaltindex', 'rasters/shapefiles/dem_lavalette.shp', 'rasters/Lavalette/MM_TIO_Magnitude_31TGK_20151227_to_20200906.tif'], returncode=0)"
      ]
     },
     "execution_count": 90,
     "metadata": {},
     "output_type": "execute_result"
    }
   ],
   "source": [
    "import subprocess\n",
    "\n",
    "cmd1 = [\n",
    "        \"gdaltindex\",\n",
    "        \"rasters/shapefiles/dem_lavalette.shp\",\n",
    "        \"rasters/Lavalette/MM_TIO_Magnitude_31TGK_20151227_to_20200906.tif\"\n",
    "        ]\n",
    "subprocess.run(cmd1)"
   ]
  },
  {
   "cell_type": "code",
   "execution_count": 82,
   "id": "510d5000",
   "metadata": {},
   "outputs": [],
   "source": [
    "# create DEM for Lavalette area\n",
    "def cut_raster(ds, raster_output, shapefile_output, xres, yres):\n",
    "    small_dem = gdal.Warp(raster_output, ds, cutlineDSName=shapefile_output, cropToCutline=True, dstNodata=np.nan, xRes=xres, yRes=yres, resampleAlg='cubic')\n",
    "    small_dem = None\n",
    "\n",
    "def compute_slope_azimuth_map(dem_path, output_name):\n",
    "    dem = gdal.Open(dem_path)\n",
    "    slope_map = gdal.DEMProcessing(output_name + '.tif', dem, 'aspect', computeEdges = True, trigonometric=False)\n",
    "    slope_map = None\n",
    "    dem = None"
   ]
  },
  {
   "cell_type": "code",
   "execution_count": 96,
   "id": "25c2d19a",
   "metadata": {},
   "outputs": [
    {
     "name": "stdout",
     "output_type": "stream",
     "text": [
      "6.628042184810065 44.4219127157047\n",
      "206.565048217773\n"
     ]
    }
   ],
   "source": [
    "epsg_code = '32631'\n",
    "proj = Proj(\"epsg:\" + epsg_code, preserve_units=False)\n",
    "x, y = gdal_azimuths_lavalette_raster.transform * (1, 1)\n",
    "lat, lon = proj(x, y, inverse=True)\n",
    "print(lat, lon)\n",
    "\n",
    "A = extract_value_from_raster(lat, lon, 'rasters/azimuths/slope_azimuths_lavalette.tif')\n",
    "print(A)"
   ]
  },
  {
   "cell_type": "code",
   "execution_count": 93,
   "id": "c6048788",
   "metadata": {},
   "outputs": [],
   "source": [
    "def extract_value_from_raster(lat, lon, file, ref='wgs84'):\n",
    "        val = os.popen('gdallocationinfo -valonly -%s %s %f %f' % (ref, file, lat, lon)).read()\n",
    "        if len(val) == 0:\n",
    "            raise ValueError('La valeur est non valide !')\n",
    "        return  float(val)"
   ]
  },
  {
   "cell_type": "code",
   "execution_count": 158,
   "id": "f12620cc",
   "metadata": {},
   "outputs": [],
   "source": [
    "pixel_azimuths = None\n",
    "with Pool(4) as p:\n",
    "    pixel_azimuths = p.starmap(extract_value_from_raster, [(pixel.lat, pixel.lon) for pixel in pixels[20000:30000]])"
   ]
  },
  {
   "cell_type": "code",
   "execution_count": 36,
   "id": "93a38e7e",
   "metadata": {},
   "outputs": [],
   "source": [
    "liste = [21791, 35193, 36936, 38989, 44605, 43999, 44011, 43442, 48357, 50395, 46907, 48651]\n",
    "signals = [34900, 28490, 37520, 36659, 42193, 30546, 34313, 38980, 30237, 33451, 22367, 24713, 22961, 25887, 28509]\n",
    "non_signals = [47521, 40813, 47557, 47841, 49882, 43172, 48141, 41143, 45777, 44317,5842, 42256, 44879, 39398 ,46649]\n",
    "\n",
    "pixels_azimuths, azimuths = [], []\n",
    "for n in non_signals:\n",
    "    pixel_azimuth = extract_value_from_raster(pixels[n].lat, pixels[n].lon, file)\n",
    "    pixels_azimuths.append(pixel_azimuth)\n",
    "    azimuths.append(compute_azimuth_serie4(pixels[n]))\n",
    "    \n",
    "#Visualization().generate_km_file_testing(pixels, [signals, non_signals], ['green', 'yellow'])"
   ]
  },
  {
   "cell_type": "code",
   "execution_count": 52,
   "id": "d8db487b",
   "metadata": {},
   "outputs": [
    {
     "data": {
      "image/png": "[encoded data removed]",
      "text/plain": [
       "<Figure size 640x480 with 1 Axes>"
      ]
     },
     "metadata": {},
     "output_type": "display_data"
    }
   ],
   "source": [
    "plt.scatter(azimuths, pixels_azimuths,  color='g')\n",
    "plt.axline((1, 1), slope=1, label='y = x', linestyle='--', linewidth=2)\n",
    "plt.xlabel('azimut moyen')\n",
    "plt.ylabel('azimut calculé par gdal')\n",
    "plt.legend(loc='best')\n",
    "#plt.savefig('non_landslide_azimuth.jpg')\n",
    "plt.show()"
   ]
  },
  {
   "cell_type": "code",
   "execution_count": 95,
   "id": "18d186c9",
   "metadata": {},
   "outputs": [
    {
     "data": {
      "image/png": "[encoded data removed]",
      "text/plain": [
       "<Figure size 2500x800 with 2 Axes>"
      ]
     },
     "metadata": {},
     "output_type": "display_data"
    }
   ],
   "source": [
    "fig, axs = plt.subplots(1, 2, figsize=(25,8))\n",
    "axs[0].plot(pixels[signals[0]].ns, marker='o', linestyle='-', linewidth=2)\n",
    "axs[0].set_ylabel('NS displacement (m)')\n",
    "axs[1].plot(pixels[signals[0]].ew, marker='o', linestyle='-', linewidth=2)\n",
    "axs[1].set_ylabel('EW displacement (m)')\n",
    "plt.xlabel('dates')\n",
    "plt.tight_layout()\n",
    "plt.savefig('disp_landslide.png')\n",
    "plt.show()"
   ]
  },
  {
   "cell_type": "code",
   "execution_count": 652,
   "id": "57518662",
   "metadata": {},
   "outputs": [],
   "source": [
    "def plot2(azimuths, pix_azimuths, output, ncols=2, colormap='tab20', figsize=(25,15)):\n",
    "    n = len(azimuths)\n",
    "    nrows = int(n / ncols) if n % ncols == 0 else int(math.ceil(n / ncols))\n",
    "    fig, axes = plt.subplots(nrows=nrows, ncols=ncols, figsize=figsize)\n",
    "    cmap = plt.get_cmap(colormap)\n",
    "    colors = [cmap(i) for i in np.linspace(0, 1, n)]\n",
    "    for i in range(n):\n",
    "        axes[int(i / ncols), i % ncols].plot(azimuths[i], color=colors[i])\n",
    "        axes[int(i / ncols), i % ncols].axhline(y=pix_azimuths[i], color='black', label='pixel azimuth', linestyle='-', linewidth=1)\n",
    "        axes[int(i / ncols), i % ncols].set_title('gdal azimuth = ' + str(pix_azimuths[i]) + '°')\n",
    "    plt.savefig(output + '.png')\n",
    "    fig.tight_layout()\n",
    "    plt.show()\n",
    "    \n",
    "def plot_test(pixels, output, ncols=2, colormap='tab20', figsize=(25,15)):\n",
    "    n = len(azimuths)\n",
    "    nrows = int(n / ncols) if n % ncols == 0 else int(math.ceil(n / ncols))\n",
    "    fig, axes = plt.subplots(nrows=nrows, ncols=ncols, figsize=figsize)\n",
    "    cmap = plt.get_cmap(colormap)\n",
    "    colors = [cmap(i) for i in np.linspace(0, 1, n)]\n",
    "    for i in range(n):\n",
    "        axes[int(i / ncols), i % ncols].plot(pixels[i].ns, color=colors[i])\n",
    "    plt.savefig(output + '.png')\n",
    "    fig.tight_layout()\n",
    "    plt.show()"
   ]
  },
  {
   "cell_type": "code",
   "execution_count": 85,
   "id": "88e9c422",
   "metadata": {},
   "outputs": [
    {
     "ename": "IndexError",
     "evalue": "list index out of range",
     "output_type": "error",
     "traceback": [
      "\u001b[0;31m---------------------------------------------------------------------------\u001b[0m",
      "\u001b[0;31mIndexError\u001b[0m                                Traceback (most recent call last)",
      "\u001b[0;32m<ipython-input-85-f97079a23513>\u001b[0m in \u001b[0;36m<module>\u001b[0;34m\u001b[0m\n\u001b[1;32m      1\u001b[0m \u001b[0mn\u001b[0m \u001b[0;34m=\u001b[0m \u001b[0;36m100000\u001b[0m\u001b[0;34m\u001b[0m\u001b[0;34m\u001b[0m\u001b[0m\n\u001b[1;32m      2\u001b[0m \u001b[0;31m# 29000, 29317(bien aligné), 77297(bien aligné), 25459\u001b[0m\u001b[0;34m\u001b[0m\u001b[0;34m\u001b[0m\u001b[0;34m\u001b[0m\u001b[0m\n\u001b[0;32m----> 3\u001b[0;31m \u001b[0mazimuths\u001b[0m \u001b[0;34m=\u001b[0m \u001b[0mnp\u001b[0m\u001b[0;34m.\u001b[0m\u001b[0marray\u001b[0m\u001b[0;34m(\u001b[0m\u001b[0mcompute_azimuth_serie\u001b[0m\u001b[0;34m(\u001b[0m\u001b[0mpixels\u001b[0m\u001b[0;34m[\u001b[0m\u001b[0mn\u001b[0m\u001b[0;34m]\u001b[0m\u001b[0;34m)\u001b[0m\u001b[0;34m)\u001b[0m\u001b[0;34m\u001b[0m\u001b[0;34m\u001b[0m\u001b[0m\n\u001b[0m\u001b[1;32m      4\u001b[0m \u001b[0mazimuth\u001b[0m \u001b[0;34m=\u001b[0m \u001b[0mextract_value_from_raster\u001b[0m\u001b[0;34m(\u001b[0m\u001b[0mfile\u001b[0m\u001b[0;34m,\u001b[0m \u001b[0mref\u001b[0m\u001b[0;34m,\u001b[0m \u001b[0mpixels\u001b[0m\u001b[0;34m[\u001b[0m\u001b[0mn\u001b[0m\u001b[0;34m]\u001b[0m\u001b[0;34m.\u001b[0m\u001b[0mlat\u001b[0m\u001b[0;34m,\u001b[0m \u001b[0mpixels\u001b[0m\u001b[0;34m[\u001b[0m\u001b[0mn\u001b[0m\u001b[0;34m]\u001b[0m\u001b[0;34m.\u001b[0m\u001b[0mlon\u001b[0m\u001b[0;34m)\u001b[0m\u001b[0;34m\u001b[0m\u001b[0;34m\u001b[0m\u001b[0m\n\u001b[1;32m      5\u001b[0m \u001b[0mplt\u001b[0m\u001b[0;34m.\u001b[0m\u001b[0mplot\u001b[0m\u001b[0;34m(\u001b[0m\u001b[0mnp\u001b[0m\u001b[0;34m.\u001b[0m\u001b[0marray\u001b[0m\u001b[0;34m(\u001b[0m\u001b[0mazimuths\u001b[0m\u001b[0;34m)\u001b[0m\u001b[0;34m,\u001b[0m \u001b[0mlabel\u001b[0m\u001b[0;34m=\u001b[0m\u001b[0;34m'displacement azimuth'\u001b[0m\u001b[0;34m,\u001b[0m \u001b[0mmarker\u001b[0m\u001b[0;34m=\u001b[0m\u001b[0;34m'o'\u001b[0m\u001b[0;34m,\u001b[0m \u001b[0mlinewidth\u001b[0m\u001b[0;34m=\u001b[0m\u001b[0;36m1\u001b[0m\u001b[0;34m)\u001b[0m\u001b[0;34m\u001b[0m\u001b[0;34m\u001b[0m\u001b[0m\n",
      "\u001b[0;31mIndexError\u001b[0m: list index out of range"
     ]
    }
   ],
   "source": [
    "n = 100000\n",
    "# 29000, 29317(bien aligné), 77297(bien aligné), 25459\n",
    "azimuths = np.array(compute_azimuth_serie(pixels[n]))\n",
    "azimuth = extract_value_from_raster(file, ref, pixels[n].lat, pixels[n].lon)\n",
    "plt.plot(np.array(azimuths), label='displacement azimuth', marker='o', linewidth=1)\n",
    "plt.axhline(y=azimuth, color='r', label='pixel azimuth', linestyle='-', linewidth=1)\n",
    "plt.ylabel('azimuth (°)')\n",
    "plt.show()"
   ]
  },
  {
   "cell_type": "markdown",
   "id": "cf1d8908",
   "metadata": {},
   "source": [
    "## Filtre Coherence"
   ]
  },
  {
   "cell_type": "code",
   "execution_count": 29,
   "id": "3fe4c084",
   "metadata": {},
   "outputs": [],
   "source": [
    "latitudes = [pixel.lat for pixel in pixels]\n",
    "longitudes = [pixel.lon for pixel in pixels]"
   ]
  },
  {
   "cell_type": "code",
   "execution_count": 68,
   "id": "5a7a8fca",
   "metadata": {},
   "outputs": [],
   "source": [
    "ns_coherence = df_ns['Coer'].values\n",
    "ew_coherence = df_ew['Coer'].values\n",
    "ns_coherence_std = np.std(ns_coherence)\n",
    "ew_coherence_std = np.std(ew_coherence)"
   ]
  },
  {
   "cell_type": "code",
   "execution_count": 51,
   "id": "2db198f6",
   "metadata": {},
   "outputs": [],
   "source": [
    "quantiles = [0.25, 0.5, 0.75]\n",
    "for quantile in quantiles:\n",
    "    ns_qt = np.quantile(ns_coherence, quantile)\n",
    "    ew_qt = np.quantile(ew_coherence, quantile)\n",
    "    ns_mask = np.where(ns_coherence > ns_qt, True, False)\n",
    "    ew_mask = np.where(ew_coherence > ew_qt, True, False)\n",
    "    mask = np.logical_and(ns_mask, ew_mask)\n",
    "    viz = Visualization()\n",
    "    viz.generate_kml_file(mask, latitudes, longitudes, 'yellow', filename='filtre_coherence_quantile=' + str(quantile))"
   ]
  },
  {
   "cell_type": "markdown",
   "id": "d1cac261",
   "metadata": {},
   "source": [
    "## Filtre cohérence vectorielle"
   ]
  },
  {
   "cell_type": "code",
   "execution_count": 475,
   "id": "be8b75d3",
   "metadata": {},
   "outputs": [],
   "source": [
    "from numpy import linalg as LA\n",
    "def compute_vector_coherence(pixel):\n",
    "        diff_ns = np.diff(np.squeeze(pixel.ns.values))\n",
    "        diff_ew = np.diff(np.squeeze(pixel.ew.values))\n",
    "        num = self.compute_norm(np.sum(diff_ns), np.sum(diff_ew))\n",
    "        den = np.sum(LAiff_ns, diff_ew)\n",
    "        return num / den "
   ]
  },
  {
   "cell_type": "code",
   "execution_count": 488,
   "id": "f5777b5a",
   "metadata": {},
   "outputs": [],
   "source": [
    "from numpy import linalg as LA\n",
    "\n",
    "def test(x,y):\n",
    "    return np.sqrt(x * x + y * y)\n",
    "\n",
    "def compute_vector_coherence(pixel):\n",
    "        ns = np.diff(pixel.ns.values.flatten())\n",
    "        ew = np.diff(pixel.ew.values.flatten())\n",
    "        num = LA.norm([np.sum(ns), np.sum(ew)])\n",
    "        den = np.sum([test(x,y) for x, y in zip(ns, ew)])\n",
    "        return num / den"
   ]
  },
  {
   "cell_type": "code",
   "execution_count": null,
   "id": "d3ec9c56",
   "metadata": {},
   "outputs": [],
   "source": [
    "cutoffs = [0.4, 0.6, 0.7, 0.8]\n",
    "vfunc = np.vectorize(compute_vector_coherence)\n",
    "vector_coherence = vfunc(pixels)\n",
    "for cutoff in cutoffs:\n",
    "    mask = np.where(vector_coherence > cutoff, True, False)\n",
    "    Visualization().generate_kml_file(mask, latitudes, longitudes, 'yellow', filename='filtre_vect_coher_cutoff=' + str(cutoff))"
   ]
  },
  {
   "cell_type": "markdown",
   "id": "e1341f79",
   "metadata": {},
   "source": [
    "#  Calcul des profils de vitesse"
   ]
  },
  {
   "cell_type": "code",
   "execution_count": 116,
   "id": "305adc61",
   "metadata": {},
   "outputs": [],
   "source": [
    "factors = [1.5, 2, 2.5, 3]\n",
    "latitudes = [pixel.lat for pixel in pixels]\n",
    "longitudes = [pixel.lon for pixel in pixels]\n",
    "for factor in factors:\n",
    "    mask = Data.debug_filter_by(factor=factor)\n",
    "    viz = Visualization()\n",
    "    viz.generate_kml_file(mask, latitudes, longitudes, 'yellow', filename='filtre_vitesse_sigma=' + str(factor))"
   ]
  },
  {
   "cell_type": "code",
   "execution_count": 34,
   "id": "a645e2bd",
   "metadata": {},
   "outputs": [],
   "source": [
    "Data.test_filter(factor=2.5)\n",
    "X = Data.non_filtered_ids"
   ]
  },
  {
   "cell_type": "code",
   "execution_count": 35,
   "id": "065ce9f9",
   "metadata": {},
   "outputs": [
    {
     "data": {
      "text/plain": [
       "3846"
      ]
     },
     "execution_count": 35,
     "metadata": {},
     "output_type": "execute_result"
    }
   ],
   "source": [
    "len(Data.non_filtered_ids)"
   ]
  },
  {
   "cell_type": "code",
   "execution_count": 37,
   "id": "d54deb0f",
   "metadata": {},
   "outputs": [],
   "source": [
    "#Data.compute_velocities(min_slope=5, ampl=2, ampl_disp=2)\n",
    "Data.compute_velocities2()"
   ]
  },
  {
   "cell_type": "markdown",
   "id": "a8e0be3e",
   "metadata": {},
   "source": [
    "# Clustering des profils de vitesse "
   ]
  },
  {
   "cell_type": "code",
   "execution_count": 44,
   "id": "6a9c220f",
   "metadata": {},
   "outputs": [
    {
     "name": "stderr",
     "output_type": "stream",
     "text": [
      "/home/eost-user/miniconda3/envs/sdsc_stage/lib/python3.9/site-packages/hdbscan/hdbscan_.py:217: UserWarning: Cannot generate Minimum Spanning Tree; the implemented Prim's does not produce the full minimum spanning tree \n",
      "  warn('Cannot generate Minimum Spanning Tree; '\n"
     ]
    }
   ],
   "source": [
    "import simplekml\n",
    "clustering = Clustering(Data, option=0)\n",
    "clustering.cluster(min_cluster_size=60, min_samples=100, precomputed=False)\n",
    "#clustering.visualize()\n",
    "#clustering.generate_kml_file() "
   ]
  },
  {
   "cell_type": "code",
   "execution_count": 43,
   "id": "ff456699",
   "metadata": {},
   "outputs": [],
   "source": [
    "clustering.generate_kml_file2()"
   ]
  },
  {
   "cell_type": "code",
   "execution_count": 953,
   "id": "5c958d55",
   "metadata": {},
   "outputs": [],
   "source": [
    "from math import sin, cos, sqrt, atan2, radians\n",
    "\n",
    "# le resultat est en mètre\n",
    "def compute_distance(lat1, lon1, lat2, lon2, R=6371000):\n",
    "    \n",
    "    lat1_rad = radians(lat1)\n",
    "    lon1_rad = radians(lon1)\n",
    "    lat2_rad = radians(lat2)\n",
    "    lon2_rad = radians(lon2)\n",
    "    \n",
    "    dlon = lon2_rad - lon1_rad\n",
    "    dlat = lat2_rad - lat1_rad\n",
    "    \n",
    "    a = sin(dlat / 2)**2 + cos(lat1_rad) * cos(lat2_rad) * sin(dlon / 2)**2\n",
    "    c = 2 * atan2(sqrt(a), sqrt(1 - a))\n",
    "\n",
    "    return  R * c\n",
    "\n",
    "def compute_distance_matrix(latitudes, longitudes):\n",
    "    size = len(latitudes)\n",
    "    distances_matrix = np.zeros(shape=(size, size))\n",
    "    scaler = StandardScaler()\n",
    "    for n in range(size):\n",
    "        for m in range(n , size):\n",
    "            distances_matrix[n, m] = compute_distance(latitudes[n], longitudes[n], latitudes[m], longitudes[m])\n",
    "            distances_matrix[m, m] = distances_matrix[n, m]\n",
    "    return distances_matrix"
   ]
  },
  {
   "cell_type": "code",
   "execution_count": 1001,
   "id": "0a51458d",
   "metadata": {},
   "outputs": [],
   "source": [
    "from math import radians\n",
    "clustering = pd.read_csv('clustering_result.csv')\n",
    "# conversion des degrées en radian \n",
    "X = clustering[['Lat', 'Lon']].applymap(radians)"
   ]
  },
  {
   "cell_type": "code",
   "execution_count": 891,
   "id": "5ea92441",
   "metadata": {},
   "outputs": [],
   "source": [
    "from sklearn.cluster import DBSCAN"
   ]
  },
  {
   "cell_type": "code",
   "execution_count": 1004,
   "id": "93b863fb",
   "metadata": {},
   "outputs": [],
   "source": [
    "clustering_ = DBSCAN(eps=10, min_samples=5,  metric='haversine').fit(X)\n",
    "labels = clustering_.labels_"
   ]
  },
  {
   "cell_type": "code",
   "execution_count": null,
   "id": "aa4629f0",
   "metadata": {},
   "outputs": [],
   "source": [
    "colors = [plt.cm.Spectral(n)\n",
    "          for n in np.linspace(0, 1, len(labels))]\n",
    "\n",
    "for label, color in zip(labels, colors):\n",
    "    class_mask = (labels == label)\n",
    "    xx = latitudes[class_mask]\n",
    "    yy = longitudes[class_mask]\n",
    "    plt.plot(xx , yy, 'o', markerfacecolor=tuple(color), markeredgecolor='k', markersize=6)\n",
    "plt.show()"
   ]
  },
  {
   "cell_type": "markdown",
   "id": "79c61a31",
   "metadata": {},
   "source": [
    "# Analyse visuelle des clusters"
   ]
  },
  {
   "cell_type": "code",
   "execution_count": 510,
   "id": "86bb8b66",
   "metadata": {},
   "outputs": [],
   "source": [
    "def compute_adfuller(serie):\n",
    "    adf_result = adfuller(serie)\n",
    "    adf_output = pd.Series(adf_result[0:4],index=['Test Statistic','p-value','#Lags Used','Number of Observations Used'])\n",
    "    for key, value in adf_result[4].items():\n",
    "        adf_output['Critical Value (%s)'%(key)] = value\n",
    "    return adf_output[1]"
   ]
  },
  {
   "cell_type": "code",
   "execution_count": null,
   "id": "9af9da6c",
   "metadata": {
    "scrolled": true
   },
   "outputs": [],
   "source": [
    "#n= 390\n",
    "viz = Visualization()\n",
    "index = Data.non_filtered_ids\n",
    "#viz.plot_disp_ns_ew(Data.pixels[n].ns , Data.pixels[n].ew)\n",
    "viz.plot_disp_vel(Data.pixels[n].ns, Data.pixels[n].ew, Data.velocities[Data.non_filtered_ids.index(n)])"
   ]
  },
  {
   "cell_type": "markdown",
   "id": "7e809a64",
   "metadata": {},
   "source": [
    "# Analyse en composantes principales"
   ]
  },
  {
   "cell_type": "markdown",
   "id": "ba03ecc4",
   "metadata": {},
   "source": [
    "# Clustering des champs de vitesses"
   ]
  },
  {
   "cell_type": "code",
   "execution_count": 13,
   "id": "1882c874",
   "metadata": {},
   "outputs": [],
   "source": [
    "import rasterio\n",
    "from pyproj import Proj"
   ]
  },
  {
   "cell_type": "code",
   "execution_count": 14,
   "id": "05307399",
   "metadata": {},
   "outputs": [],
   "source": [
    "velocities_path = 'rasters/mpic/'\n",
    "mean_velocity_ns_filename = 'MM_Mean_velocity_NS_31TGK_20151227_to_20200906.tif'\n",
    "mean_velocity_ew_filename = 'MM_Mean_velocity_EW_31TGK_20151227_to_20200906.tif'\n",
    "analysis_quality_map_filename = 'MM_Analysis_quality_map_1126_lay_31TGK_20151227_to_20200906.tif'\n",
    "vector_coherence_filename = 'MM_Vector_coherence_31TGK_20151227_to_20200906.tif'\n",
    "mean_velocity_magnitude_filename = 'MM_Mean_veloc_magnitude_31TGK_20151227_to_20200906.tif'"
   ]
  },
  {
   "cell_type": "code",
   "execution_count": 15,
   "id": "1e1ceaea",
   "metadata": {},
   "outputs": [],
   "source": [
    "ns_velocities_rasterio = rasterio.open(velocities_path + mean_velocity_ns_filename)\n",
    "ns_velocities_raster = gdal.Open(velocities_path + mean_velocity_ns_filename)\n",
    "ew_velocities_raster = gdal.Open(velocities_path + mean_velocity_ew_filename)\n",
    "analysis_quality_raster = gdal.Open(velocities_path + analysis_quality_map_filename)\n",
    "vector_coherence_raster = gdal.Open(velocities_path + vector_coherence_filename)\n",
    "velocity_magnitude_raster = gdal.Open(velocities_path + mean_velocity_magnitude_filename)"
   ]
  },
  {
   "cell_type": "code",
   "execution_count": 16,
   "id": "6c1d6b42",
   "metadata": {},
   "outputs": [],
   "source": [
    "ns_velocities = ns_velocities_raster.GetRasterBand(1).ReadAsArray()\n",
    "ew_velocities = ew_velocities_raster.GetRasterBand(1).ReadAsArray()\n",
    "analysis_quality = analysis_quality_raster.GetRasterBand(1).ReadAsArray()\n",
    "vector_coherence = vector_coherence_raster.GetRasterBand(1).ReadAsArray()\n",
    "velocity_magnitude_g = velocity_magnitude_raster.GetRasterBand(1).ReadAsArray()"
   ]
  },
  {
   "cell_type": "code",
   "execution_count": null,
   "id": "c2e4ad37",
   "metadata": {},
   "outputs": [],
   "source": [
    "fig, axs = plt.subplots(1, 2, figsize =(10, 5), tight_layout = True)\n",
    "axs[0].hist(velocity_magnitude.flatten(), color='g', label='velocity magnitude')\n",
    "axs[0].legend(loc='best')\n",
    "axs[1].hist(vector_coherence.flatten(), color='r', label='vector coherence')\n",
    "axs[1].legend(loc='best')\n",
    "plt.show()"
   ]
  },
  {
   "cell_type": "code",
   "execution_count": 17,
   "id": "a3225dc6",
   "metadata": {},
   "outputs": [],
   "source": [
    "def convert_to_lat_lon(x, y, epsg_code='32631'):\n",
    "    proj = Proj(\"epsg:\" + epsg_code, preserve_units=False)\n",
    "    return p(x, y, inverse=True)\n",
    "\n",
    "\n",
    "def compute_lat_lon_matrix(raster):\n",
    "    latitudes, longitudes = [], []\n",
    "    for i in range(raster.height):\n",
    "        for j in range(raster.width):\n",
    "            utms = raster.transform * (i, j)\n",
    "            lat, lon = convert_to_lat_lon(utms[0], utms[1])\n",
    "            latitudes.append(lat)\n",
    "            longitudes.append(lon)\n",
    "    return np.array(latitudes).reshape(raster.height, raster.width), np.array(longitudes).reshape(raster.height, raster.width)\n",
    "\n",
    "def generate_kml_file(latitudes, longitudes, color, zone, filename):\n",
    "    \n",
    "    url = 'http://maps.google.com/mapfiles/ms/micons/'\n",
    "    kml = simplekml.Kml()\n",
    "    for latitude, longitude in zip(latitudes, longitudes):\n",
    "        pnt = kml.newpoint(description='', coords=[(latitude, longitude)])\n",
    "        pnt.iconstyle.icon.href = url + color + '-dot.png'\n",
    "    kml.save('Resultats/zone' + str(zone) + '/' + filename + '.kml')\n",
    "    \n",
    "    \n",
    "def generate_kml_file2(latitudes, longitudes, color, filename):\n",
    "    \n",
    "    url = 'http://maps.google.com/mapfiles/ms/micons/'\n",
    "    kml = simplekml.Kml()\n",
    "    for latitude, longitude in zip(latitudes, longitudes):\n",
    "        pnt = kml.newpoint(description='', coords=[(latitude, longitude)])\n",
    "        pnt.iconstyle.icon.href = url + color + '-dot.png'\n",
    "    kml.save('Resultats/' + filename + '.kml')\n",
    "   "
   ]
  },
  {
   "cell_type": "code",
   "execution_count": null,
   "id": "5963de45",
   "metadata": {},
   "outputs": [],
   "source": [
    "chunk_size = 50000\n",
    "chunk_num = 0\n",
    "\n",
    "chunks = pd.read_csv('new_zone_lat_lon.csv', chunksize=chunk_size)\n",
    "for chunk in chunks:\n",
    "    chunk.to_csv('geo_chunk_' + str(chunk_num) + '.csv', index=False)\n",
    "    print(chunk_num)\n",
    "    chunk_num += 1"
   ]
  },
  {
   "cell_type": "code",
   "execution_count": 18,
   "id": "8c2ef85a",
   "metadata": {},
   "outputs": [],
   "source": [
    "inpath = 'rasters/mpic/'\n",
    "input_filenames = [mean_velocity_ns_filename, mean_velocity_ew_filename, mean_velocity_magnitude_filename, vector_coherence_filename]\n",
    "output_filenames  = ['velocity_NS', 'velocity_EW', 'veloc_magnitude', 'Vector_coherence']"
   ]
  },
  {
   "cell_type": "code",
   "execution_count": 19,
   "id": "697e64f9",
   "metadata": {},
   "outputs": [],
   "source": [
    "class Raster():\n",
    "    \n",
    "    def __init__(self):\n",
    "        pass\n",
    "    \n",
    "    def split_raster2(self, in_path, input_filename, output_filename, x_pixel_step, y_pixel_step):\n",
    "\n",
    "        ds = gdal.Open(in_path + input_filename)\n",
    "        xsize = ds.RasterXSize\n",
    "        ysize = ds.RasterYSize\n",
    "        \n",
    "        n_count = 0\n",
    "        for i in range(0, xsize, x_pixel_step):\n",
    "            for j in range(0, ysize, y_pixel_step):\n",
    "                print(i,j, n_count)\n",
    "                com_string = \"gdal_translate -of GTIFF -srcwin \" + str(i)+ \", \" + str(j) + \", \" + str(x_pixel_step) + \", \" + str(y_pixel_step) + \" \" + str(in_path) + str(input_filename) + \" \" + str(in_path) + 'split_' + str(output_filename) + '_' + str(n_count) + \".tif\"\n",
    "                os.system(com_string)\n",
    "                n_count += 1\n",
    "    \n",
    "    def split_raster(self, in_path, input_filename, output_filename, n_split=5):\n",
    "\n",
    "        ds = gdal.Open(in_path + input_filename)\n",
    "        band = ds.GetRasterBand(1)\n",
    "        xsize = band.XSize\n",
    "        ysize = band.YSize\n",
    "\n",
    "        tile_size_x = math.ceil(xsize / n_split)\n",
    "        tile_size_y = ysize # on découpe le raster verticalement !\n",
    "        n_count = 0\n",
    "        for i in range(0, xsize, tile_size_x):\n",
    "            for j in range(0, ysize, tile_size_y):\n",
    "                com_string = \"gdal_translate -of GTIFF -srcwin \" + str(i)+ \", \" + str(j) + \", \" + str(tile_size_x) + \", \" + str(tile_size_y) + \" \" + str(in_path) + str(input_filename) + \" \" + str(in_path) + 'split_' + str(output_filename) + '_' + str(n_count) + \".tif\"\n",
    "                os.system(com_string)\n",
    "                n_count += 1\n",
    "        ds = None\n",
    "        \n",
    "    def split_rasters2(self, in_path, input_filenames, output_filenames,  x_pixel_step=3323, y_pixel_step=371):\n",
    "        for input_filename, output_filename in zip(input_filenames, output_filenames):\n",
    "            self.split_raster2(in_path, input_filename, output_filename, x_pixel_step=x_pixel_step, y_pixel_step=y_pixel_step)\n",
    "\n",
    "    def split_rasters(self, in_path, input_filenames, output_filenames, n_split=5):\n",
    "        for input_filename, output_filename in zip(input_filenames, output_filenames):\n",
    "            self.split_raster(in_path, input_filename, output_filename, n_split=n_split)\n",
    "        \n",
    "    def load_split_rasters(self, in_path, output_filenames, n_splits=5):\n",
    "        rasters, filenames_to_load = [], []\n",
    "        for output_filename in output_filenames:\n",
    "            filenames_to_load.append(['split_' + output_filename + '_' + str(n) + '.tif' for n in range(n_splits)])\n",
    "        for n in range(n_splits):\n",
    "            files = [rasterio.open(in_path + files[n]) for files in filenames_to_load]\n",
    "            rasters.append(tuple(files))\n",
    "        return rasters\n",
    "    \n",
    "    def getBoxBounds(self, raster):\n",
    "        min_y = raster.bounds.bottom\n",
    "        max_y = raster.bounds.top\n",
    "        min_x = raster.bounds.left\n",
    "        max_x = raster.bounds.right\n",
    "        min_lat, min_lon = proj(min_x, min_y, inverse=True)\n",
    "        max_lat, max_lon = proj(max_x, max_y, inverse=True)\n",
    "        return (min_x, min_y, max_x, max_y), (min_lon, min_lat, max_lon, max_lat)\n",
    "    \n",
    "    def compute_slope_azimuth_map(self, dem_path, output_name):\n",
    "        dem = gdal.Open(dem_path)\n",
    "        slope_map = gdal.DEMProcessing('rasters/azimuths/' + output_name + '.tif', dem, 'aspect', computeEdges = True, trigonometric=False)\n",
    "    \n",
    "    def compute_slope_azimuth_map_from_scratch():\n",
    "        pass\n",
    "    \n",
    "    def extract_value_from_raster(self, lat, lon, file, ref='wgs84'):\n",
    "        val = os.popen('gdallocationinfo -valonly -%s %s %f %f' % (ref, file, lat, lon)).read()\n",
    "        if len(val) == 0:\n",
    "            raise ValueError('La valeur est non valide !')\n",
    "        return float(val)\n",
    "    \n",
    "    def generate_shapefile(self, raster_in_path, shapefile_out_path):\n",
    "        cmd = [\"gdaltindex\", shapefile_out_path, raster_in_path]\n",
    "        subprocess.run(cmd1)\n",
    "        \n",
    "    def get_raster_resolution(self, raster):\n",
    "        xres, yres = rasterio.open(raster).res\n",
    "        return xres, yres\n",
    "    \n",
    "    def cut_raster(raster_output, shapefile_output, xres, yres):\n",
    "        small_raster = gdal.Warp(raster_output, ds, cutlineDSName=shapefile_output, cropToCutline=True, dstNodata=np.nan, xRes=pxsz, yRes=pysz, resampleAlg='cubic')\n",
    "        small_raster = None\n",
    "    \n",
    "    def split_raster3(self, in_path, input_filename, output_filename, x_pixel_step, y_pixel_step):\n",
    "        raster = gdal.Open(in_path + input_filename)\n",
    "        gt = raster.GetGeoTransform()\n",
    "        \n",
    "        xmin = gt[0]\n",
    "        ymax = gt[3]\n",
    "        res = gt[1]\n",
    "        xlen = res * raster.RasterXSize\n",
    "        ylen = res * raster.RasterYSize\n",
    "\n",
    "        xsize = x_pixel_step * res\n",
    "        ysize = y_pixel_step * res\n",
    "\n",
    "        xnsplits = int(raster.RasterXSize / x_pixel_step)\n",
    "        ynsplits = int(raster.RasterYSize / y_pixel_step)\n",
    "\n",
    "        xsteps = [xmin + xsize * i for i in range(xnsplits + 1)]\n",
    "        ysteps = [ymax - ysize * i for i in range(ynsplits + 1)]\n",
    "    \n",
    "        n_count = 0\n",
    "        for i in range(xnsplits):\n",
    "            for j in range(ynsplits):\n",
    "                xmin_ = xsteps[i]\n",
    "                xmax_ = xsteps[i + 1]\n",
    "                ymax_ = ysteps[j]\n",
    "                ymin_ = ysteps[j + 1]\n",
    "                print(xmin_, xmax_, ymin_, ymax_)\n",
    "                #gdal.Warp(raster_filename + str(i) + str(j) + '.tif', raster, outputBounds=(xmin_, xmax_, ymin_, ymax_), dstNodata=-9999)\n",
    "                gdal.Translate(inpath + 'split_' + output_filename + '_' + str(n_count) + '.tif', raster, projWin=(xmin_, ymax_, xmax_, ymin_))\n",
    "                n_count += 1\n",
    "        raster = None\n",
    "        \n",
    "                \n",
    "    def split_rasters3(self, in_path, input_filenames, output_filenames,  x_pixel_step=3323, y_pixel_step=371):\n",
    "        for input_filename, output_filename in zip(input_filenames, output_filenames):\n",
    "            self.split_raster3(in_path, input_filename, output_filename, x_pixel_step, y_pixel_step)\n",
    "            \n",
    "            \n",
    "    def from_utm_to_lat_lon(self, filename):\n",
    "        # Read raster\n",
    "        with rasterio.open(filename) as r:\n",
    "            T0 = r.transform  # upper-left pixel corner affine transform\n",
    "            p1 = Proj(r.crs)\n",
    "            A = r.read()  # pixel values\n",
    "\n",
    "        # All rows and columns\n",
    "        cols, rows = np.meshgrid(np.arange(A.shape[2]), np.arange(A.shape[1]))\n",
    "\n",
    "        # Get affine transform for pixel centres\n",
    "        T1 = T0 * Affine.translation(0.5, 0.5)\n",
    "        # Function to convert pixel row/column index (from 0) to easting/northing at centre\n",
    "        rc2en = lambda r, c: (c, r) * T1\n",
    "\n",
    "        # All eastings and northings (there is probably a faster way to do this)\n",
    "        eastings, northings = np.vectorize(rc2en, otypes=[float, float])(rows, cols)\n",
    "\n",
    "        # Project all longitudes, latitudes\n",
    "        p2 = Proj(proj='latlong',datum='WGS84')\n",
    "        lats, lons = transform(p1, p2, eastings, northings)\n",
    "\n",
    "        return lats, lons"
   ]
  },
  {
   "cell_type": "code",
   "execution_count": 20,
   "id": "4759d1d6",
   "metadata": {},
   "outputs": [],
   "source": [
    "def split_raster(in_path, input_filename, output_filename, xpixels=3323, ypixels=371):\n",
    "\n",
    "        ds = gdal.Open(in_path + input_filename)\n",
    "        xsize = ds.RasterXSize\n",
    "        ysize = ds.RasterYSize\n",
    "        \n",
    "        n_count = 0\n",
    "        for i in range(0, xsize, xpixels):\n",
    "            for j in range(0, ysize, ypixels):\n",
    "                com_string = \"gdal_translate -of GTIFF -srcwin \" + str(i)+ \", \" + str(j) + \", \" + str(xpixels) + \", \" + str(ypixels) + \" \" + str(in_path) + str(input_filename) + \" \" + str(in_path) + 'split_' + str(output_filename) + '_' + str(n_count) + \".tif\"\n",
    "                os.system(com_string)\n",
    "                n_count += 1"
   ]
  },
  {
   "cell_type": "code",
   "execution_count": 24,
   "id": "fdac61d3",
   "metadata": {},
   "outputs": [],
   "source": [
    "split_raster('rasters/mpic/','MM_Mean_veloc_magnitude_31TGK_20151227_to_20200906.tif', 'rasters/test')"
   ]
  },
  {
   "cell_type": "code",
   "execution_count": null,
   "id": "f54259b1",
   "metadata": {
    "scrolled": true
   },
   "outputs": [],
   "source": [
    "Raster().split_rasters3(inpath, input_filenames, output_filenames)"
   ]
  },
  {
   "cell_type": "code",
   "execution_count": 25,
   "id": "d7254e6d",
   "metadata": {},
   "outputs": [],
   "source": [
    "rasters = Raster().load_split_rasters(inpath, output_filenames)"
   ]
  },
  {
   "cell_type": "code",
   "execution_count": 26,
   "id": "b4b04c62",
   "metadata": {},
   "outputs": [],
   "source": [
    "sigma_mean_vel = np.nanstd(velocity_magnitude_g)"
   ]
  },
  {
   "cell_type": "code",
   "execution_count": 36,
   "id": "9d93996f",
   "metadata": {},
   "outputs": [
    {
     "data": {
      "text/plain": [
       "(1855, 3323)"
      ]
     },
     "execution_count": 36,
     "metadata": {},
     "output_type": "execute_result"
    }
   ],
   "source": [
    "rasterio.open('rasters/mpic/MM_Mean_veloc_magnitude_31TGK_20151227_to_20200906.tif').read(1).shape"
   ]
  },
  {
   "cell_type": "code",
   "execution_count": 13,
   "id": "9a7a0911",
   "metadata": {},
   "outputs": [
    {
     "ename": "NameError",
     "evalue": "name 'Affine' is not defined",
     "output_type": "error",
     "traceback": [
      "\u001b[0;31m---------------------------------------------------------------------------\u001b[0m",
      "\u001b[0;31mNameError\u001b[0m                                 Traceback (most recent call last)",
      "\u001b[0;32m<ipython-input-13-a76fc572835d>\u001b[0m in \u001b[0;36m<module>\u001b[0;34m\u001b[0m\n\u001b[1;32m      1\u001b[0m \u001b[0mraster\u001b[0m \u001b[0;34m=\u001b[0m \u001b[0mrasterio\u001b[0m\u001b[0;34m.\u001b[0m\u001b[0mopen\u001b[0m\u001b[0;34m(\u001b[0m\u001b[0;34m'rasters/mpic/splt_veloc_half.tif'\u001b[0m\u001b[0;34m)\u001b[0m\u001b[0;34m\u001b[0m\u001b[0;34m\u001b[0m\u001b[0m\n\u001b[0;32m----> 2\u001b[0;31m \u001b[0mlats\u001b[0m\u001b[0;34m,\u001b[0m \u001b[0mlons\u001b[0m \u001b[0;34m=\u001b[0m \u001b[0mRaster\u001b[0m\u001b[0;34m(\u001b[0m\u001b[0;34m)\u001b[0m\u001b[0;34m.\u001b[0m\u001b[0mfrom_utm_to_lat_lon\u001b[0m\u001b[0;34m(\u001b[0m\u001b[0mraster\u001b[0m\u001b[0;34m.\u001b[0m\u001b[0mname\u001b[0m\u001b[0;34m)\u001b[0m\u001b[0;34m\u001b[0m\u001b[0;34m\u001b[0m\u001b[0m\n\u001b[0m\u001b[1;32m      3\u001b[0m \u001b[0mlats\u001b[0m \u001b[0;34m=\u001b[0m \u001b[0mlats\u001b[0m\u001b[0;34m.\u001b[0m\u001b[0mflatten\u001b[0m\u001b[0;34m(\u001b[0m\u001b[0;34m)\u001b[0m\u001b[0;34m\u001b[0m\u001b[0;34m\u001b[0m\u001b[0m\n\u001b[1;32m      4\u001b[0m \u001b[0mlons\u001b[0m \u001b[0;34m=\u001b[0m \u001b[0mlons\u001b[0m\u001b[0;34m.\u001b[0m\u001b[0mflatten\u001b[0m\u001b[0;34m(\u001b[0m\u001b[0;34m)\u001b[0m\u001b[0;34m\u001b[0m\u001b[0;34m\u001b[0m\u001b[0m\n\u001b[1;32m      5\u001b[0m \u001b[0mn\u001b[0m \u001b[0;34m=\u001b[0m \u001b[0;36m4\u001b[0m\u001b[0;34m\u001b[0m\u001b[0;34m\u001b[0m\u001b[0m\n",
      "\u001b[0;32m<ipython-input-8-1599358040c4>\u001b[0m in \u001b[0;36mfrom_utm_to_lat_lon\u001b[0;34m(self, filename)\u001b[0m\n\u001b[1;32m    132\u001b[0m \u001b[0;34m\u001b[0m\u001b[0m\n\u001b[1;32m    133\u001b[0m         \u001b[0;31m# Get affine transform for pixel centres\u001b[0m\u001b[0;34m\u001b[0m\u001b[0;34m\u001b[0m\u001b[0;34m\u001b[0m\u001b[0m\n\u001b[0;32m--> 134\u001b[0;31m         \u001b[0mT1\u001b[0m \u001b[0;34m=\u001b[0m \u001b[0mT0\u001b[0m \u001b[0;34m*\u001b[0m \u001b[0mAffine\u001b[0m\u001b[0;34m.\u001b[0m\u001b[0mtranslation\u001b[0m\u001b[0;34m(\u001b[0m\u001b[0;36m0.5\u001b[0m\u001b[0;34m,\u001b[0m \u001b[0;36m0.5\u001b[0m\u001b[0;34m)\u001b[0m\u001b[0;34m\u001b[0m\u001b[0;34m\u001b[0m\u001b[0m\n\u001b[0m\u001b[1;32m    135\u001b[0m         \u001b[0;31m# Function to convert pixel row/column index (from 0) to easting/northing at centre\u001b[0m\u001b[0;34m\u001b[0m\u001b[0;34m\u001b[0m\u001b[0;34m\u001b[0m\u001b[0m\n\u001b[1;32m    136\u001b[0m         \u001b[0mrc2en\u001b[0m \u001b[0;34m=\u001b[0m \u001b[0;32mlambda\u001b[0m \u001b[0mr\u001b[0m\u001b[0;34m,\u001b[0m \u001b[0mc\u001b[0m\u001b[0;34m:\u001b[0m \u001b[0;34m(\u001b[0m\u001b[0mc\u001b[0m\u001b[0;34m,\u001b[0m \u001b[0mr\u001b[0m\u001b[0;34m)\u001b[0m \u001b[0;34m*\u001b[0m \u001b[0mT1\u001b[0m\u001b[0;34m\u001b[0m\u001b[0;34m\u001b[0m\u001b[0m\n",
      "\u001b[0;31mNameError\u001b[0m: name 'Affine' is not defined"
     ]
    }
   ],
   "source": [
    "raster = rasterio.open('rasters/mpic/splt_veloc_half.tif')\n",
    "lats, lons = Raster().from_utm_to_lat_lon(raster.name)\n",
    "lats = lats.flatten()\n",
    "lons = lons.flatten()\n",
    "n = 4\n",
    "sigma = np.nanstd(raster.read(1))\n",
    "mask =  raster.read(1).flatten() > 2 * sigma\n",
    "mask_index = np.where(mask)\n",
    "generate_kml_file(lats[mask], lons[mask], 'yellow', n + 1,  filename='first_val_zone_test')"
   ]
  },
  {
   "cell_type": "code",
   "execution_count": 84,
   "id": "1f3bd6ff",
   "metadata": {},
   "outputs": [
    {
     "name": "stdout",
     "output_type": "stream",
     "text": [
      "rasters/mpic/split_veloc_magnitude_1.tif\n"
     ]
    },
    {
     "name": "stderr",
     "output_type": "stream",
     "text": [
      "<ipython-input-61-1599358040c4>:136: DeprecationWarning: Right multiplication will be prohibited in version 3.0\n",
      "  rc2en = lambda r, c: (c, r) * T1\n",
      "<ipython-input-61-1599358040c4>:143: DeprecationWarning: This function is deprecated. See: https://pyproj4.github.io/pyproj/stable/gotchas.html#upgrading-to-pyproj-2-from-pyproj-1\n",
      "  lats, lons = transform(p1, p2, eastings, northings)\n"
     ]
    },
    {
     "name": "stdout",
     "output_type": "stream",
     "text": [
      "i\n"
     ]
    },
    {
     "ename": "KeyboardInterrupt",
     "evalue": "",
     "output_type": "error",
     "traceback": [
      "\u001b[0;31m---------------------------------------------------------------------------\u001b[0m",
      "\u001b[0;31mKeyboardInterrupt\u001b[0m                         Traceback (most recent call last)",
      "\u001b[0;32m<ipython-input-84-5644c45d99bb>\u001b[0m in \u001b[0;36m<module>\u001b[0;34m\u001b[0m\n\u001b[1;32m     28\u001b[0m     \u001b[0;31m# longitudes.append(lons[i, j])\u001b[0m\u001b[0;34m\u001b[0m\u001b[0;34m\u001b[0m\u001b[0;34m\u001b[0m\u001b[0m\n\u001b[1;32m     29\u001b[0m     \u001b[0mprint\u001b[0m\u001b[0;34m(\u001b[0m\u001b[0;34m'i'\u001b[0m\u001b[0;34m)\u001b[0m\u001b[0;34m\u001b[0m\u001b[0;34m\u001b[0m\u001b[0m\n\u001b[0;32m---> 30\u001b[0;31m     \u001b[0mgenerate_kml_file\u001b[0m\u001b[0;34m(\u001b[0m\u001b[0mlats\u001b[0m\u001b[0;34m[\u001b[0m\u001b[0mmask\u001b[0m\u001b[0;34m]\u001b[0m\u001b[0;34m,\u001b[0m \u001b[0mlons\u001b[0m\u001b[0;34m[\u001b[0m\u001b[0mmask\u001b[0m\u001b[0;34m]\u001b[0m\u001b[0;34m,\u001b[0m \u001b[0;34m'yellow'\u001b[0m\u001b[0;34m,\u001b[0m \u001b[0mn\u001b[0m \u001b[0;34m+\u001b[0m \u001b[0;36m1\u001b[0m\u001b[0;34m,\u001b[0m  \u001b[0mfilename\u001b[0m\u001b[0;34m=\u001b[0m\u001b[0;34m'zone='\u001b[0m\u001b[0;34m+\u001b[0m \u001b[0mstr\u001b[0m\u001b[0;34m(\u001b[0m\u001b[0mn\u001b[0m\u001b[0;34m+\u001b[0m\u001b[0;36m1\u001b[0m\u001b[0;34m)\u001b[0m \u001b[0;34m+\u001b[0m \u001b[0;34m'_'\u001b[0m \u001b[0;34m+\u001b[0m \u001b[0;34m'factor='\u001b[0m \u001b[0;34m+\u001b[0m \u001b[0mstr\u001b[0m\u001b[0;34m(\u001b[0m\u001b[0mfactor\u001b[0m\u001b[0;34m)\u001b[0m \u001b[0;34m+\u001b[0m \u001b[0;34m'_coherence='\u001b[0m \u001b[0;34m+\u001b[0m \u001b[0mstr\u001b[0m\u001b[0;34m(\u001b[0m\u001b[0mcor\u001b[0m\u001b[0;34m)\u001b[0m\u001b[0;34m)\u001b[0m\u001b[0;34m\u001b[0m\u001b[0;34m\u001b[0m\u001b[0m\n\u001b[0m\u001b[1;32m     31\u001b[0m     \u001b[0mprint\u001b[0m\u001b[0;34m(\u001b[0m\u001b[0;34m'l'\u001b[0m\u001b[0;34m)\u001b[0m\u001b[0;34m\u001b[0m\u001b[0;34m\u001b[0m\u001b[0m\n",
      "\u001b[0;32m<ipython-input-10-b7446ab19ea7>\u001b[0m in \u001b[0;36mgenerate_kml_file\u001b[0;34m(latitudes, longitudes, color, zone, filename)\u001b[0m\n\u001b[1;32m     19\u001b[0m     \u001b[0;32mfor\u001b[0m \u001b[0mlatitude\u001b[0m\u001b[0;34m,\u001b[0m \u001b[0mlongitude\u001b[0m \u001b[0;32min\u001b[0m \u001b[0mzip\u001b[0m\u001b[0;34m(\u001b[0m\u001b[0mlatitudes\u001b[0m\u001b[0;34m,\u001b[0m \u001b[0mlongitudes\u001b[0m\u001b[0;34m)\u001b[0m\u001b[0;34m:\u001b[0m\u001b[0;34m\u001b[0m\u001b[0;34m\u001b[0m\u001b[0m\n\u001b[1;32m     20\u001b[0m         \u001b[0mpnt\u001b[0m \u001b[0;34m=\u001b[0m \u001b[0mkml\u001b[0m\u001b[0;34m.\u001b[0m\u001b[0mnewpoint\u001b[0m\u001b[0;34m(\u001b[0m\u001b[0mdescription\u001b[0m\u001b[0;34m=\u001b[0m\u001b[0;34m''\u001b[0m\u001b[0;34m,\u001b[0m \u001b[0mcoords\u001b[0m\u001b[0;34m=\u001b[0m\u001b[0;34m[\u001b[0m\u001b[0;34m(\u001b[0m\u001b[0mlatitude\u001b[0m\u001b[0;34m,\u001b[0m \u001b[0mlongitude\u001b[0m\u001b[0;34m)\u001b[0m\u001b[0;34m]\u001b[0m\u001b[0;34m)\u001b[0m\u001b[0;34m\u001b[0m\u001b[0;34m\u001b[0m\u001b[0m\n\u001b[0;32m---> 21\u001b[0;31m         \u001b[0mpnt\u001b[0m\u001b[0;34m.\u001b[0m\u001b[0miconstyle\u001b[0m\u001b[0;34m.\u001b[0m\u001b[0micon\u001b[0m\u001b[0;34m.\u001b[0m\u001b[0mhref\u001b[0m \u001b[0;34m=\u001b[0m \u001b[0murl\u001b[0m \u001b[0;34m+\u001b[0m \u001b[0mcolor\u001b[0m \u001b[0;34m+\u001b[0m \u001b[0;34m'-dot.png'\u001b[0m\u001b[0;34m\u001b[0m\u001b[0;34m\u001b[0m\u001b[0m\n\u001b[0m\u001b[1;32m     22\u001b[0m     \u001b[0mkml\u001b[0m\u001b[0;34m.\u001b[0m\u001b[0msave\u001b[0m\u001b[0;34m(\u001b[0m\u001b[0;34m'Resultats/zone'\u001b[0m \u001b[0;34m+\u001b[0m \u001b[0mstr\u001b[0m\u001b[0;34m(\u001b[0m\u001b[0mzone\u001b[0m\u001b[0;34m)\u001b[0m \u001b[0;34m+\u001b[0m \u001b[0;34m'/'\u001b[0m \u001b[0;34m+\u001b[0m \u001b[0mfilename\u001b[0m \u001b[0;34m+\u001b[0m \u001b[0;34m'.kml'\u001b[0m\u001b[0;34m)\u001b[0m\u001b[0;34m\u001b[0m\u001b[0;34m\u001b[0m\u001b[0m\n\u001b[1;32m     23\u001b[0m \u001b[0;34m\u001b[0m\u001b[0m\n",
      "\u001b[0;32m~/miniconda3/envs/sdsc_stage/lib/python3.9/site-packages/simplekml/featgeom.py\u001b[0m in \u001b[0;36miconstyle\u001b[0;34m(self)\u001b[0m\n\u001b[1;32m    961\u001b[0m     \u001b[0;32mdef\u001b[0m \u001b[0miconstyle\u001b[0m\u001b[0;34m(\u001b[0m\u001b[0mself\u001b[0m\u001b[0;34m)\u001b[0m\u001b[0;34m:\u001b[0m\u001b[0;34m\u001b[0m\u001b[0;34m\u001b[0m\u001b[0m\n\u001b[1;32m    962\u001b[0m         \u001b[0;34m\"\"\"IconStyle of the feature, accepts :class:`simplekml.IconStyle`\"\"\"\u001b[0m\u001b[0;34m\u001b[0m\u001b[0;34m\u001b[0m\u001b[0m\n\u001b[0;32m--> 963\u001b[0;31m         \u001b[0;32mreturn\u001b[0m \u001b[0mself\u001b[0m\u001b[0;34m.\u001b[0m\u001b[0mstyle\u001b[0m\u001b[0;34m.\u001b[0m\u001b[0miconstyle\u001b[0m\u001b[0;34m\u001b[0m\u001b[0;34m\u001b[0m\u001b[0m\n\u001b[0m\u001b[1;32m    964\u001b[0m \u001b[0;34m\u001b[0m\u001b[0m\n\u001b[1;32m    965\u001b[0m     \u001b[0;34m@\u001b[0m\u001b[0miconstyle\u001b[0m\u001b[0;34m.\u001b[0m\u001b[0msetter\u001b[0m\u001b[0;34m\u001b[0m\u001b[0;34m\u001b[0m\u001b[0m\n",
      "\u001b[0;32m~/miniconda3/envs/sdsc_stage/lib/python3.9/site-packages/simplekml/featgeom.py\u001b[0m in \u001b[0;36mstyle\u001b[0;34m(self)\u001b[0m\n\u001b[1;32m    929\u001b[0m             \u001b[0mself\u001b[0m\u001b[0;34m.\u001b[0m\u001b[0m_placemark\u001b[0m\u001b[0;34m.\u001b[0m\u001b[0m_setstyle\u001b[0m\u001b[0;34m(\u001b[0m\u001b[0mself\u001b[0m\u001b[0;34m.\u001b[0m\u001b[0m_style\u001b[0m\u001b[0;34m)\u001b[0m\u001b[0;34m\u001b[0m\u001b[0;34m\u001b[0m\u001b[0m\n\u001b[1;32m    930\u001b[0m             \u001b[0;32mif\u001b[0m \u001b[0mself\u001b[0m\u001b[0;34m.\u001b[0m\u001b[0m_parent\u001b[0m \u001b[0;32mis\u001b[0m \u001b[0;32mnot\u001b[0m \u001b[0;32mNone\u001b[0m\u001b[0;34m:\u001b[0m\u001b[0;34m\u001b[0m\u001b[0;34m\u001b[0m\u001b[0m\n\u001b[0;32m--> 931\u001b[0;31m                 \u001b[0mself\u001b[0m\u001b[0;34m.\u001b[0m\u001b[0m_parent\u001b[0m\u001b[0;34m.\u001b[0m\u001b[0m_addstyle\u001b[0m\u001b[0;34m(\u001b[0m\u001b[0mself\u001b[0m\u001b[0;34m.\u001b[0m\u001b[0m_style\u001b[0m\u001b[0;34m)\u001b[0m\u001b[0;34m\u001b[0m\u001b[0;34m\u001b[0m\u001b[0m\n\u001b[0m\u001b[1;32m    932\u001b[0m         \u001b[0;32mreturn\u001b[0m \u001b[0mself\u001b[0m\u001b[0;34m.\u001b[0m\u001b[0m_style\u001b[0m\u001b[0;34m\u001b[0m\u001b[0;34m\u001b[0m\u001b[0m\n\u001b[1;32m    933\u001b[0m \u001b[0;34m\u001b[0m\u001b[0m\n",
      "\u001b[0;32m~/miniconda3/envs/sdsc_stage/lib/python3.9/site-packages/simplekml/featgeom.py\u001b[0m in \u001b[0;36m_addstyle\u001b[0;34m(self, style)\u001b[0m\n\u001b[1;32m    387\u001b[0m         \u001b[0;34m\"\"\"Attaches the given style (style) to this feature.\"\"\"\u001b[0m\u001b[0;34m\u001b[0m\u001b[0;34m\u001b[0m\u001b[0m\n\u001b[1;32m    388\u001b[0m         \u001b[0;32mif\u001b[0m \u001b[0mstyle\u001b[0m \u001b[0;32mnot\u001b[0m \u001b[0;32min\u001b[0m \u001b[0mself\u001b[0m\u001b[0;34m.\u001b[0m\u001b[0m_styles\u001b[0m\u001b[0;34m:\u001b[0m\u001b[0;34m\u001b[0m\u001b[0;34m\u001b[0m\u001b[0m\n\u001b[0;32m--> 389\u001b[0;31m             \u001b[0mself\u001b[0m\u001b[0;34m.\u001b[0m\u001b[0m_styles\u001b[0m\u001b[0;34m.\u001b[0m\u001b[0mappend\u001b[0m\u001b[0;34m(\u001b[0m\u001b[0mstyle\u001b[0m\u001b[0;34m)\u001b[0m\u001b[0;34m\u001b[0m\u001b[0;34m\u001b[0m\u001b[0m\n\u001b[0m\u001b[1;32m    390\u001b[0m \u001b[0;34m\u001b[0m\u001b[0m\n\u001b[1;32m    391\u001b[0m     \u001b[0;32mdef\u001b[0m \u001b[0m_addstylemap\u001b[0m\u001b[0;34m(\u001b[0m\u001b[0mself\u001b[0m\u001b[0;34m,\u001b[0m \u001b[0mstyle\u001b[0m\u001b[0;34m)\u001b[0m\u001b[0;34m:\u001b[0m\u001b[0;34m\u001b[0m\u001b[0;34m\u001b[0m\u001b[0m\n",
      "\u001b[0;31mKeyboardInterrupt\u001b[0m: "
     ]
    }
   ],
   "source": [
    "epsg_code = '32631'\n",
    "proj = Proj(\"epsg:\" + epsg_code, preserve_units=False)\n",
    "# 1, 1.5, 2, 2.5, 3\n",
    "factors = np.array([0.0])\n",
    "# 0.2, 0.4, 0.5, 0.6, 0.7\n",
    "coherences = np.array([0.0])\n",
    "# extract rasters 40, 30, 35\n",
    "\n",
    "for n in [1, 2, 3]:\n",
    "    mean_ns_velocity_r, mean_ew_velocity_r, velocity_magnitude_r, coherence_r = rasters[n]\n",
    "    # extract rasters as array and reshape them\n",
    "    mean_ns_velocity = mean_ns_velocity_r.read(1)\n",
    "    # East-West velocities\n",
    "    mean_ew_velocity = mean_ew_velocity_r.read(1)\n",
    "    # velocity magnitude\n",
    "    velocity_magnitude = velocity_magnitude_r.read(1)\n",
    "    # coherence\n",
    "    coherence = coherence_r.read(1)\n",
    "    # latitudes, longitudes\n",
    "    print(velocity_magnitude_r.name)\n",
    "    lats, lons = Raster().from_utm_to_lat_lon(velocity_magnitude_r.name)\n",
    "    lats = lats.flatten()\n",
    "    lons = lons.flatten()\n",
    "\n",
    "    mask = (velocity_magnitude.flatten() > 1.5 * sigma_mean_vel) \n",
    "    \n",
    "    #latitudes.append(lats[i, j])\n",
    "    # longitudes.append(lons[i, j])\n",
    "    print('i')\n",
    "    generate_kml_file(lats[mask], lons[mask], 'yellow', n + 1,  filename='zone='+ str(n+1) + '_' + 'factor=' + str(factor) + '_coherence=' + str(cor))\n",
    "    print('l')"
   ]
  },
  {
   "cell_type": "code",
   "execution_count": 21,
   "id": "3a37b369",
   "metadata": {},
   "outputs": [],
   "source": [
    "import subprocess\n",
    "\n",
    "def cut_raster(root_input, root_output, input_filenames, output_filenames, zone,  x_offset, y_offset, x_npixels, y_npixels):\n",
    "    n_count = 0\n",
    "    for input_filename, output_filename in zip(input_filenames, output_filenames):\n",
    "        cmd = [\n",
    "            \"gdal_translate\",\n",
    "            \"-srcwin\", str(x_offset), str(y_offset), str(x_npixels), str(y_npixels),\n",
    "            root_input + input_filename, root_output + 'zone' + str(zone) + '/' +  output_filename + '.tif']\n",
    "        n_count += 1\n",
    "        subprocess.run(cmd)\n",
    "        \n",
    "def load_cut_raster(root_output, zone, output_filenames):\n",
    "    data = []\n",
    "    filenames = [root_output + 'zone' + str(zone) + '/' +  output_filename + '.tif' for output_filename in output_filenames]\n",
    "    print(filenames)\n",
    "    return [rasterio.open(filename) for filename in filenames]\n",
    "        "
   ]
  },
  {
   "cell_type": "code",
   "execution_count": 22,
   "id": "13247d40",
   "metadata": {},
   "outputs": [],
   "source": [
    "root_input = 'rasters/mpic/'\n",
    "root_output = 'rasters/mpic/zones/'\n",
    "input_filenames = [mean_velocity_ns_filename, mean_velocity_ew_filename, mean_velocity_magnitude_filename, vector_coherence_filename]\n",
    "output_filenames  = ['velocity_NS', 'velocity_EW', 'veloc_magnitude', 'Vector_coherence']"
   ]
  },
  {
   "cell_type": "code",
   "execution_count": 160,
   "id": "b6e058d7",
   "metadata": {},
   "outputs": [],
   "source": [
    "cut_raster(root_input, root_output,  input_filenames, output_filenames, 1, 1200, 350, 500, 600)"
   ]
  },
  {
   "cell_type": "code",
   "execution_count": 25,
   "id": "955d0209",
   "metadata": {},
   "outputs": [],
   "source": [
    "cut_raster(root_input, root_output,  input_filenames, output_filenames, 2, 2200, 700, 200, 200)"
   ]
  },
  {
   "cell_type": "code",
   "execution_count": 26,
   "id": "07c2e69b",
   "metadata": {},
   "outputs": [],
   "source": [
    "cut_raster(root_input, root_output,  input_filenames, output_filenames, 3, 2450, 800, 200, 200)"
   ]
  },
  {
   "cell_type": "code",
   "execution_count": 27,
   "id": "dff131d9",
   "metadata": {},
   "outputs": [],
   "source": [
    "cut_raster(root_input, root_output,  input_filenames, output_filenames, 4, 2050, 500, 150, 100)"
   ]
  },
  {
   "cell_type": "code",
   "execution_count": 29,
   "id": "5db2d79c",
   "metadata": {},
   "outputs": [],
   "source": [
    "def compute_filtering(rasters, zone, color, n_splits=4, factors = [0, 2, 2.5, 3, 3.5, 4], coherences = [0, 0.1, 0.2, 0.3, 0.5, 0.6]):\n",
    "    \n",
    "    ns_velocity_r, ew_velocity, veloc_magnitude_r, vector_coherence_r = tuple(rasters)\n",
    "    lats, lons = Raster().from_utm_to_lat_lon(veloc_magnitude_r.name)\n",
    "    lats = lats.flatten()\n",
    "    lons = lons.flatten()\n",
    "    lats_split = np.split(lats, n_splits)\n",
    "    lons_split = np.split(lons, n_splits)\n",
    "    sigma = np.nanstd(veloc_magnitude_r.read(1))\n",
    "    #mask_coherences = [coherence.read(1) > cor for cor in coherences]\n",
    "    #mask_velocities = [veloc_magnitude_r.read(1) > factor * sigma for factor in factors]\n",
    "    for factor in factors:\n",
    "        for cor in coherences:\n",
    "            arguments = []\n",
    "            mask = (veloc_magnitude_r.read(1) > factor * sigma)\n",
    "            mask = mask.flatten()\n",
    "            mask_split = np.split(mask, n_splits)\n",
    "            for n in range(n_splits):\n",
    "                filename = 'factor=' + str(factor) + '_' + 'coherence=' + str(cor) + '_' + 'zone_split_' + str(n)\n",
    "                arguments.append((lats_split[n][mask_split[n]], lons_split[n][mask_split[n]], color, filename))\n",
    "            with Pool(4) as pool:\n",
    "                results = pool.starmap(generate_kml_file2, arguments)"
   ]
  },
  {
   "cell_type": "code",
   "execution_count": 101,
   "id": "6a766795",
   "metadata": {
    "scrolled": true
   },
   "outputs": [],
   "source": [
    "def compute_azimuths(rvl_azimuths, rvl_ns_vel, rvl_ew_vel, tol=50):\n",
    "    Raster().compute_slope_azimuth_map('rasters/mnt/validation_zone_1.tif','validation_zone_1')\n",
    "    gdal_azimuths = rasterio.open(rvl_azimuths).read(1)\n",
    "    ns_velocities = rasterio.open(rvl_ns_vel).read(1)\n",
    "    ew_velocities = rasterio.open(rvl_ew_vel).read(1)\n",
    "    azimuths = np.arctan2(ew_velocities, ns_velocities)\n",
    "    azimuths = np.where(azimuths >= 0, azimuths, azimuths + 2 * np.pi)\n",
    "    azimuths = np.degrees(azimuths)\n",
    "    #azimuths_mask = np.logical_and(azimuths > gdal_azimuths - tol, azimuths < gdal_azimuths + tol)\n",
    "    return gdal_azimuths, azimuths"
   ]
  },
  {
   "cell_type": "code",
   "execution_count": 95,
   "id": "1ca9c87d",
   "metadata": {},
   "outputs": [],
   "source": [
    "rvl_azimuths = 'rasters/azimuths/validation_zone_1.tif'\n",
    "rvl_ns_vel = 'rasters/mpic/zones/zone1/velocity_NS.tif'\n",
    "rvl_ew_vel = 'rasters/mpic/zones/zone1/velocity_EW.tif'\n",
    "gdal_azimuths, azimuths= compute_azimuths(rvl_azimuths, rvl_ns_vel, rvl_ew_vel)\n"
   ]
  },
  {
   "cell_type": "code",
   "execution_count": 31,
   "id": "3dce86a2",
   "metadata": {},
   "outputs": [
    {
     "name": "stderr",
     "output_type": "stream",
     "text": [
      "<ipython-input-21-c7ee34eb6657>:139: DeprecationWarning: Right multiplication will be prohibited in version 3.0\n",
      "  rc2en = lambda r, c: (c, r) * T1\n",
      "<ipython-input-21-c7ee34eb6657>:146: DeprecationWarning: This function is deprecated. See: https://pyproj4.github.io/pyproj/stable/gotchas.html#upgrading-to-pyproj-2-from-pyproj-1\n",
      "  lats, lons = transform(p1, p2, eastings, northings)\n"
     ]
    }
   ],
   "source": [
    "from multiprocessing import Pool\n",
    "n_splits = 4\n",
    "color = 'yellow'\n",
    "factors = [0, 2.5, 3, 3.5, 4]\n",
    "coherences = [0, 0.1, 0.2, 0.3, 0.5, 0.6]\n",
    "fname = 'rasters/mpic/validation_zone1.tif'\n",
    "#fname = 'rasters/mpic/zones/zone1/Vector_coherence.tif'\n",
    "raster = rasterio.open(fname)\n",
    "lats, lons = Raster().from_utm_to_lat_lon(fname)\n",
    "lats = lats.flatten()\n",
    "lons = lons.flatten()\n",
    "std_vel = np.nanstd(raster.read(1))\n",
    "mask = raster.read(1) > 1.5 * std_vel\n",
    "mask = mask.flatten()\n",
    "arguments = []\n",
    "lats_split = np.split(lats, n_splits)\n",
    "lons_split = np.split(lons, n_splits)\n",
    "mask_split = np.split(mask, n_splits)\n",
    "for n in range(n_splits):\n",
    "    arguments.append((lats_split[n][mask_split[n]], lons_split[n][mask_split[n]], color, 'zone_split_' + str(n)))\n",
    "with Pool(4) as pool:\n",
    "    results = pool.starmap(generate_kml_file2, arguments)"
   ]
  },
  {
   "cell_type": "code",
   "execution_count": 34,
   "id": "c1927173",
   "metadata": {},
   "outputs": [],
   "source": [
    "def generate_kml_file_ll(latitudes, longitudes, labels):\n",
    "    if labels.max() > -1:\n",
    "        icones = generate_icones2()\n",
    "        dense_cluster_labels = get_important_labels(labels)\n",
    "        kml=simplekml.Kml()\n",
    "        fol = kml.newfolder(name=\"HDBSCAN Clustering\")\n",
    "        for n in range(latitudes.shape[0]):\n",
    "            print(n, latitudes.shape, labels.shape)\n",
    "            if labels[n] > -1 and labels[n] in dense_cluster_labels:\n",
    "                ind = dense_cluster_labels.index(labels[n])\n",
    "                pnt = fol.newpoint(description='', coords=[(latitudes[n], longitudes[n])])\n",
    "                pnt.iconstyle.icon.href = icones[ind]\n",
    "        kml.save('Resultats/clustering_results.kml')\n",
    "        print('ok finished')\n",
    "    else:\n",
    "        print('Hdbscan only found outliers. kml file cannot be generated !')\n",
    "            \n",
    "def generate_icones2():\n",
    "    base = 'http://maps.google.com/mapfiles/ms/micons/'\n",
    "    colors = ['blue', 'red', 'yellow', 'green', 'orange', 'purple', 'pink']\n",
    "    return [base + color + '-dot.png' for color in (colors + ['ltblue'])[:]] + [base + color + '.png' for color in (colors + ['lightblue'])[:]]\n",
    "\n",
    "def get_important_labels(labels, n_classes=15):\n",
    "    classes = []\n",
    "    unique, counts = np.unique(labels, return_counts=True)\n",
    "    sort_labels = sorted(dict(zip(unique, counts)).items(), key=lambda x: x[1], reverse=True)\n",
    "    for label, count in sort_labels:\n",
    "        if label > -1 and len(classes) < n_classes:\n",
    "            classes.append(label)\n",
    "    return classes"
   ]
  },
  {
   "cell_type": "code",
   "execution_count": 83,
   "id": "7804fff6",
   "metadata": {},
   "outputs": [],
   "source": [
    "fname = 'rasters/mpic/zones/zone1/Vector_coherence.tif'\n",
    "raster = rasterio.open(fname)\n",
    "mean  = np.nanmean(raster.read(1).flatten())\n",
    "mask =  raster.read(1).flatten() >  mean"
   ]
  },
  {
   "cell_type": "code",
   "execution_count": 126,
   "id": "2496b1f4",
   "metadata": {},
   "outputs": [
    {
     "data": {
      "text/plain": [
       "array([ True, False, False, ...,  True,  True,  True])"
      ]
     },
     "execution_count": 126,
     "metadata": {},
     "output_type": "execute_result"
    }
   ],
   "source": [
    "tol = 50\n",
    "azimuths_mask = np.logical_and(azimuths > gdal_azimuths - tol, azimuths < gdal_azimuths + tol)\n",
    "azimuths_mask.flatten()"
   ]
  },
  {
   "cell_type": "code",
   "execution_count": 121,
   "id": "eb836376",
   "metadata": {},
   "outputs": [
    {
     "name": "stderr",
     "output_type": "stream",
     "text": [
      "<ipython-input-65-c7ee34eb6657>:139: DeprecationWarning: Right multiplication will be prohibited in version 3.0\n",
      "  rc2en = lambda r, c: (c, r) * T1\n",
      "<ipython-input-65-c7ee34eb6657>:146: DeprecationWarning: This function is deprecated. See: https://pyproj4.github.io/pyproj/stable/gotchas.html#upgrading-to-pyproj-2-from-pyproj-1\n",
      "  lats, lons = transform(p1, p2, eastings, northings)\n"
     ]
    },
    {
     "name": "stdout",
     "output_type": "stream",
     "text": [
      "0.0\n"
     ]
    },
    {
     "ename": "ValueError",
     "evalue": "Found array with 0 sample(s) (shape=(0, 2)) while a minimum of 1 is required.",
     "output_type": "error",
     "traceback": [
      "\u001b[0;31m---------------------------------------------------------------------------\u001b[0m",
      "\u001b[0;31mValueError\u001b[0m                                Traceback (most recent call last)",
      "\u001b[0;32m<ipython-input-121-a45e8d1ddee3>\u001b[0m in \u001b[0;36m<module>\u001b[0;34m\u001b[0m\n\u001b[1;32m     22\u001b[0m \u001b[0mX\u001b[0m \u001b[0;34m=\u001b[0m \u001b[0mnp\u001b[0m\u001b[0;34m.\u001b[0m\u001b[0mstack\u001b[0m\u001b[0;34m(\u001b[0m\u001b[0;34m(\u001b[0m\u001b[0mlats_r\u001b[0m\u001b[0;34m,\u001b[0m \u001b[0mlons_r\u001b[0m\u001b[0;34m)\u001b[0m\u001b[0;34m,\u001b[0m \u001b[0maxis\u001b[0m\u001b[0;34m=\u001b[0m\u001b[0;34m-\u001b[0m\u001b[0;36m1\u001b[0m\u001b[0;34m)\u001b[0m\u001b[0;34m\u001b[0m\u001b[0;34m\u001b[0m\u001b[0m\n\u001b[1;32m     23\u001b[0m \u001b[0;34m\u001b[0m\u001b[0m\n\u001b[0;32m---> 24\u001b[0;31m \u001b[0mclustering_results\u001b[0m \u001b[0;34m=\u001b[0m \u001b[0mhdbscan\u001b[0m\u001b[0;34m.\u001b[0m\u001b[0mHDBSCAN\u001b[0m\u001b[0;34m(\u001b[0m\u001b[0mmin_cluster_size\u001b[0m\u001b[0;34m=\u001b[0m\u001b[0mmin_cluster_size\u001b[0m\u001b[0;34m,\u001b[0m \u001b[0mmin_samples\u001b[0m\u001b[0;34m=\u001b[0m\u001b[0mmin_samples\u001b[0m\u001b[0;34m,\u001b[0m  \u001b[0mgen_min_span_tree\u001b[0m\u001b[0;34m=\u001b[0m\u001b[0;32mTrue\u001b[0m\u001b[0;34m,\u001b[0m \u001b[0mmetric\u001b[0m\u001b[0;34m=\u001b[0m\u001b[0;34m'haversine'\u001b[0m\u001b[0;34m)\u001b[0m\u001b[0;34m.\u001b[0m\u001b[0mfit\u001b[0m\u001b[0;34m(\u001b[0m\u001b[0mX\u001b[0m\u001b[0;34m)\u001b[0m\u001b[0;34m\u001b[0m\u001b[0;34m\u001b[0m\u001b[0m\n\u001b[0m",
      "\u001b[0;32m~/miniconda3/envs/sdsc_stage/lib/python3.9/site-packages/hdbscan/hdbscan_.py\u001b[0m in \u001b[0;36mfit\u001b[0;34m(self, X, y)\u001b[0m\n\u001b[1;32m    896\u001b[0m         \"\"\"\n\u001b[1;32m    897\u001b[0m         \u001b[0;32mif\u001b[0m \u001b[0mself\u001b[0m\u001b[0;34m.\u001b[0m\u001b[0mmetric\u001b[0m \u001b[0;34m!=\u001b[0m \u001b[0;34m'precomputed'\u001b[0m\u001b[0;34m:\u001b[0m\u001b[0;34m\u001b[0m\u001b[0;34m\u001b[0m\u001b[0m\n\u001b[0;32m--> 898\u001b[0;31m             \u001b[0mX\u001b[0m \u001b[0;34m=\u001b[0m \u001b[0mcheck_array\u001b[0m\u001b[0;34m(\u001b[0m\u001b[0mX\u001b[0m\u001b[0;34m,\u001b[0m \u001b[0maccept_sparse\u001b[0m\u001b[0;34m=\u001b[0m\u001b[0;34m'csr'\u001b[0m\u001b[0;34m)\u001b[0m\u001b[0;34m\u001b[0m\u001b[0;34m\u001b[0m\u001b[0m\n\u001b[0m\u001b[1;32m    899\u001b[0m             \u001b[0mself\u001b[0m\u001b[0;34m.\u001b[0m\u001b[0m_raw_data\u001b[0m \u001b[0;34m=\u001b[0m \u001b[0mX\u001b[0m\u001b[0;34m\u001b[0m\u001b[0;34m\u001b[0m\u001b[0m\n\u001b[1;32m    900\u001b[0m         \u001b[0;32melif\u001b[0m \u001b[0missparse\u001b[0m\u001b[0;34m(\u001b[0m\u001b[0mX\u001b[0m\u001b[0;34m)\u001b[0m\u001b[0;34m:\u001b[0m\u001b[0;34m\u001b[0m\u001b[0;34m\u001b[0m\u001b[0m\n",
      "\u001b[0;32m~/miniconda3/envs/sdsc_stage/lib/python3.9/site-packages/sklearn/utils/validation.py\u001b[0m in \u001b[0;36minner_f\u001b[0;34m(*args, **kwargs)\u001b[0m\n\u001b[1;32m     61\u001b[0m             \u001b[0mextra_args\u001b[0m \u001b[0;34m=\u001b[0m \u001b[0mlen\u001b[0m\u001b[0;34m(\u001b[0m\u001b[0margs\u001b[0m\u001b[0;34m)\u001b[0m \u001b[0;34m-\u001b[0m \u001b[0mlen\u001b[0m\u001b[0;34m(\u001b[0m\u001b[0mall_args\u001b[0m\u001b[0;34m)\u001b[0m\u001b[0;34m\u001b[0m\u001b[0;34m\u001b[0m\u001b[0m\n\u001b[1;32m     62\u001b[0m             \u001b[0;32mif\u001b[0m \u001b[0mextra_args\u001b[0m \u001b[0;34m<=\u001b[0m \u001b[0;36m0\u001b[0m\u001b[0;34m:\u001b[0m\u001b[0;34m\u001b[0m\u001b[0;34m\u001b[0m\u001b[0m\n\u001b[0;32m---> 63\u001b[0;31m                 \u001b[0;32mreturn\u001b[0m \u001b[0mf\u001b[0m\u001b[0;34m(\u001b[0m\u001b[0;34m*\u001b[0m\u001b[0margs\u001b[0m\u001b[0;34m,\u001b[0m \u001b[0;34m**\u001b[0m\u001b[0mkwargs\u001b[0m\u001b[0;34m)\u001b[0m\u001b[0;34m\u001b[0m\u001b[0;34m\u001b[0m\u001b[0m\n\u001b[0m\u001b[1;32m     64\u001b[0m \u001b[0;34m\u001b[0m\u001b[0m\n\u001b[1;32m     65\u001b[0m             \u001b[0;31m# extra_args > 0\u001b[0m\u001b[0;34m\u001b[0m\u001b[0;34m\u001b[0m\u001b[0;34m\u001b[0m\u001b[0m\n",
      "\u001b[0;32m~/miniconda3/envs/sdsc_stage/lib/python3.9/site-packages/sklearn/utils/validation.py\u001b[0m in \u001b[0;36mcheck_array\u001b[0;34m(array, accept_sparse, accept_large_sparse, dtype, order, copy, force_all_finite, ensure_2d, allow_nd, ensure_min_samples, ensure_min_features, estimator)\u001b[0m\n\u001b[1;32m    724\u001b[0m         \u001b[0mn_samples\u001b[0m \u001b[0;34m=\u001b[0m \u001b[0m_num_samples\u001b[0m\u001b[0;34m(\u001b[0m\u001b[0marray\u001b[0m\u001b[0;34m)\u001b[0m\u001b[0;34m\u001b[0m\u001b[0;34m\u001b[0m\u001b[0m\n\u001b[1;32m    725\u001b[0m         \u001b[0;32mif\u001b[0m \u001b[0mn_samples\u001b[0m \u001b[0;34m<\u001b[0m \u001b[0mensure_min_samples\u001b[0m\u001b[0;34m:\u001b[0m\u001b[0;34m\u001b[0m\u001b[0;34m\u001b[0m\u001b[0m\n\u001b[0;32m--> 726\u001b[0;31m             raise ValueError(\"Found array with %d sample(s) (shape=%s) while a\"\n\u001b[0m\u001b[1;32m    727\u001b[0m                              \u001b[0;34m\" minimum of %d is required%s.\"\u001b[0m\u001b[0;34m\u001b[0m\u001b[0;34m\u001b[0m\u001b[0m\n\u001b[1;32m    728\u001b[0m                              % (n_samples, array.shape, ensure_min_samples,\n",
      "\u001b[0;31mValueError\u001b[0m: Found array with 0 sample(s) (shape=(0, 2)) while a minimum of 1 is required."
     ]
    }
   ],
   "source": [
    "import hdbscan\n",
    "\n",
    "min_cluster_size = 30\n",
    "min_samples = 50\n",
    "\n",
    "#fname = 'rasters/mpic/validation_zone1.tif'\n",
    "fname = 'rasters/mpic/validation_zone2.tif'\n",
    "#fname = 'rasters/mpic/validation_zone3.tif'\n",
    "#fname = 'rasters/mpic/zones/zone1/Vector_coherence.tif'\n",
    "raster = rasterio.open(fname)\n",
    "lats, lons = Raster().from_utm_to_lat_lon(fname)\n",
    "lats = lats.flatten()\n",
    "lons = lons.flatten()\n",
    "std_vel = np.nanstd(raster.read(1))\n",
    "print(std_vel)\n",
    "mask = (raster.read(1) > 1.5 * std_vel)\n",
    "#mask = raster.read(1) > np.nanmean(raster.read(1))\n",
    "mask = mask.flatten()\n",
    "\n",
    "lats_r = np.radians(lats[mask])\n",
    "lons_r = np.radians(lons[mask])\n",
    "X = np.stack((lats_r, lons_r), axis=-1)\n",
    "\n",
    "clustering_results = hdbscan.HDBSCAN(min_cluster_size=min_cluster_size, min_samples=min_samples,  gen_min_span_tree=True, metric='haversine').fit(X)"
   ]
  },
  {
   "cell_type": "code",
   "execution_count": 128,
   "id": "12050b88",
   "metadata": {},
   "outputs": [],
   "source": [
    "from sklearn.metrics.pairwise import cosine_similarity\n",
    "from sklearn.cluster import DBSCAN\n",
    "\n",
    "ew_velocities_zone1 = rasterio.open('rasters/mpic/zones/zone1/velocity_EW.tif').read(1)\n",
    "ns_velocities_zone1 = rasterio.open('rasters/mpic/zones/zone1/velocity_NS.tif').read(1)\n",
    "velocities_zone1 = rasterio.open('rasters/mpic/zones/zone1/veloc_magnitude.tif').read(1)\n",
    "\n",
    "std_vel = np.nanstd(velocities_zone1)\n",
    "mask_vel = velocities_zone1.flatten() >  2.5 * std_vel \n",
    "mask_nan = np.isnan(velocities_zone1.flatten())"
   ]
  },
  {
   "cell_type": "code",
   "execution_count": null,
   "id": "38cb6622",
   "metadata": {},
   "outputs": [],
   "source": [
    "ew_vel = ew_velocities_zone1.flatten()[mask_vel]\n",
    "ns_evl = ns_velocities_zone1.flatten()[mask_vel]\n",
    "vectors = np.stack((ew_vel, ns_evl), axis=-1)\n",
    "similarity_matrix = cosine_similarity(vectors)\n",
    "#clustering_results = hdbscan.HDBSCAN(min_cluster_size=min_cluster_size, min_samples=None,  gen_min_span_tree=True, metric='cosine').fit(vectors)"
   ]
  },
  {
   "cell_type": "code",
   "execution_count": null,
   "id": "85169150",
   "metadata": {},
   "outputs": [],
   "source": []
  },
  {
   "cell_type": "code",
   "execution_count": 17,
   "id": "7f2c0ed9",
   "metadata": {
    "scrolled": true
   },
   "outputs": [
    {
     "name": "stderr",
     "output_type": "stream",
     "text": [
      "<ipython-input-11-1599358040c4>:136: DeprecationWarning: Right multiplication will be prohibited in version 3.0\n",
      "  rc2en = lambda r, c: (c, r) * T1\n",
      "<ipython-input-11-1599358040c4>:143: DeprecationWarning: This function is deprecated. See: https://pyproj4.github.io/pyproj/stable/gotchas.html#upgrading-to-pyproj-2-from-pyproj-1\n",
      "  lats, lons = transform(p1, p2, eastings, northings)\n"
     ]
    },
    {
     "ename": "NameError",
     "evalue": "name 'factor' is not defined",
     "output_type": "error",
     "traceback": [
      "\u001b[0;31m---------------------------------------------------------------------------\u001b[0m",
      "\u001b[0;31mNameError\u001b[0m                                 Traceback (most recent call last)",
      "\u001b[0;32m<ipython-input-17-1c7012d57b41>\u001b[0m in \u001b[0;36m<module>\u001b[0;34m\u001b[0m\n\u001b[1;32m      6\u001b[0m \u001b[0mmask\u001b[0m \u001b[0;34m=\u001b[0m \u001b[0mraster\u001b[0m\u001b[0;34m.\u001b[0m\u001b[0mread\u001b[0m\u001b[0;34m(\u001b[0m\u001b[0;36m1\u001b[0m\u001b[0;34m)\u001b[0m \u001b[0;34m>\u001b[0m \u001b[0;36m0\u001b[0m \u001b[0;34m*\u001b[0m \u001b[0msig\u001b[0m\u001b[0;34m\u001b[0m\u001b[0;34m\u001b[0m\u001b[0m\n\u001b[1;32m      7\u001b[0m \u001b[0mmask_index\u001b[0m \u001b[0;34m=\u001b[0m \u001b[0mnp\u001b[0m\u001b[0;34m.\u001b[0m\u001b[0mwhere\u001b[0m\u001b[0;34m(\u001b[0m\u001b[0mmask\u001b[0m\u001b[0;34m)\u001b[0m\u001b[0;34m\u001b[0m\u001b[0;34m\u001b[0m\u001b[0m\n\u001b[0;32m----> 8\u001b[0;31m \u001b[0mprint\u001b[0m\u001b[0;34m(\u001b[0m\u001b[0mfactor\u001b[0m\u001b[0;34m,\u001b[0m \u001b[0mcor\u001b[0m\u001b[0;34m)\u001b[0m\u001b[0;34m\u001b[0m\u001b[0;34m\u001b[0m\u001b[0m\n\u001b[0m\u001b[1;32m      9\u001b[0m \u001b[0;32mfor\u001b[0m \u001b[0mi\u001b[0m\u001b[0;34m,\u001b[0m \u001b[0mj\u001b[0m \u001b[0;32min\u001b[0m \u001b[0mzip\u001b[0m\u001b[0;34m(\u001b[0m\u001b[0mmask_index\u001b[0m\u001b[0;34m[\u001b[0m\u001b[0;36m0\u001b[0m\u001b[0;34m]\u001b[0m\u001b[0;34m,\u001b[0m \u001b[0mmask_index\u001b[0m\u001b[0;34m[\u001b[0m\u001b[0;36m1\u001b[0m\u001b[0;34m]\u001b[0m\u001b[0;34m)\u001b[0m\u001b[0;34m:\u001b[0m\u001b[0;34m\u001b[0m\u001b[0;34m\u001b[0m\u001b[0m\n\u001b[1;32m     10\u001b[0m      \u001b[0;31m#x, y = velocity_magnitude_r.xy(i, j)\u001b[0m\u001b[0;34m\u001b[0m\u001b[0;34m\u001b[0m\u001b[0;34m\u001b[0m\u001b[0m\n",
      "\u001b[0;31mNameError\u001b[0m: name 'factor' is not defined"
     ]
    }
   ],
   "source": [
    "raster = rasterio.open('rasters/veloc_mag_2.tif')\n",
    "lats, lons = Raster().from_utm_to_lat_lon('rasters/veloc_mag_2.tif')\n",
    "sig = np.nanstd(raster.read(1))\n",
    "latitudes, longitudes = [], []\n",
    "    \n",
    "mask = raster.read(1) > 0 * sig\n",
    "mask_index = np.where(mask)\n",
    "print(factor, cor)\n",
    "for i, j in zip(mask_index[0], mask_index[1]):\n",
    "     #x, y = velocity_magnitude_r.xy(i, j)\n",
    "    #lat, lon = proj(x, y, inverse=True)\n",
    "    latitudes.append(lats[i, j])\n",
    "    longitudes.append(lons[i, j])\n",
    "\n",
    "generate_kml_file(latitudes, longitudes, 'yellow', n + 1,  filename='zone='+ str(n+1) + 'ppp')"
   ]
  },
  {
   "cell_type": "code",
   "execution_count": 86,
   "id": "7df7d5a4",
   "metadata": {},
   "outputs": [
    {
     "name": "stdout",
     "output_type": "stream",
     "text": [
      "rasters/mpic/split_veloc_magnitude_0.tif\n"
     ]
    },
    {
     "name": "stderr",
     "output_type": "stream",
     "text": [
      "<ipython-input-61-1599358040c4>:136: DeprecationWarning: Right multiplication will be prohibited in version 3.0\n",
      "  rc2en = lambda r, c: (c, r) * T1\n",
      "<ipython-input-61-1599358040c4>:143: DeprecationWarning: This function is deprecated. See: https://pyproj4.github.io/pyproj/stable/gotchas.html#upgrading-to-pyproj-2-from-pyproj-1\n",
      "  lats, lons = transform(p1, p2, eastings, northings)\n"
     ]
    },
    {
     "name": "stdout",
     "output_type": "stream",
     "text": [
      "rasters/mpic/split_veloc_magnitude_1.tif\n"
     ]
    },
    {
     "name": "stderr",
     "output_type": "stream",
     "text": [
      "<ipython-input-61-1599358040c4>:136: DeprecationWarning: Right multiplication will be prohibited in version 3.0\n",
      "  rc2en = lambda r, c: (c, r) * T1\n",
      "<ipython-input-61-1599358040c4>:143: DeprecationWarning: This function is deprecated. See: https://pyproj4.github.io/pyproj/stable/gotchas.html#upgrading-to-pyproj-2-from-pyproj-1\n",
      "  lats, lons = transform(p1, p2, eastings, northings)\n"
     ]
    },
    {
     "name": "stdout",
     "output_type": "stream",
     "text": [
      "rasters/mpic/split_veloc_magnitude_2.tif\n"
     ]
    },
    {
     "name": "stderr",
     "output_type": "stream",
     "text": [
      "<ipython-input-61-1599358040c4>:136: DeprecationWarning: Right multiplication will be prohibited in version 3.0\n",
      "  rc2en = lambda r, c: (c, r) * T1\n",
      "<ipython-input-61-1599358040c4>:143: DeprecationWarning: This function is deprecated. See: https://pyproj4.github.io/pyproj/stable/gotchas.html#upgrading-to-pyproj-2-from-pyproj-1\n",
      "  lats, lons = transform(p1, p2, eastings, northings)\n"
     ]
    },
    {
     "name": "stdout",
     "output_type": "stream",
     "text": [
      "rasters/mpic/split_veloc_magnitude_3.tif\n"
     ]
    },
    {
     "name": "stderr",
     "output_type": "stream",
     "text": [
      "<ipython-input-61-1599358040c4>:136: DeprecationWarning: Right multiplication will be prohibited in version 3.0\n",
      "  rc2en = lambda r, c: (c, r) * T1\n",
      "<ipython-input-61-1599358040c4>:143: DeprecationWarning: This function is deprecated. See: https://pyproj4.github.io/pyproj/stable/gotchas.html#upgrading-to-pyproj-2-from-pyproj-1\n",
      "  lats, lons = transform(p1, p2, eastings, northings)\n"
     ]
    },
    {
     "ename": "KeyboardInterrupt",
     "evalue": "",
     "output_type": "error",
     "traceback": [
      "\u001b[0;31m---------------------------------------------------------------------------\u001b[0m",
      "\u001b[0;31mKeyboardInterrupt\u001b[0m                         Traceback (most recent call last)",
      "\u001b[0;32m<ipython-input-86-4924b8ff3c36>\u001b[0m in \u001b[0;36m<module>\u001b[0;34m\u001b[0m\n\u001b[1;32m     29\u001b[0m         \u001b[0mlatitudes\u001b[0m\u001b[0;34m.\u001b[0m\u001b[0mappend\u001b[0m\u001b[0;34m(\u001b[0m\u001b[0mlats\u001b[0m\u001b[0;34m[\u001b[0m\u001b[0mi\u001b[0m\u001b[0;34m,\u001b[0m \u001b[0mj\u001b[0m\u001b[0;34m]\u001b[0m\u001b[0;34m)\u001b[0m\u001b[0;34m\u001b[0m\u001b[0;34m\u001b[0m\u001b[0m\n\u001b[1;32m     30\u001b[0m         \u001b[0mlongitudes\u001b[0m\u001b[0;34m.\u001b[0m\u001b[0mappend\u001b[0m\u001b[0;34m(\u001b[0m\u001b[0mlons\u001b[0m\u001b[0;34m[\u001b[0m\u001b[0mi\u001b[0m\u001b[0;34m,\u001b[0m \u001b[0mj\u001b[0m\u001b[0;34m]\u001b[0m\u001b[0;34m)\u001b[0m\u001b[0;34m\u001b[0m\u001b[0;34m\u001b[0m\u001b[0m\n\u001b[0;32m---> 31\u001b[0;31m     \u001b[0mgenerate_kml_file\u001b[0m\u001b[0;34m(\u001b[0m\u001b[0mlatitudes\u001b[0m\u001b[0;34m,\u001b[0m \u001b[0mlongitudes\u001b[0m\u001b[0;34m,\u001b[0m \u001b[0;34m'yellow'\u001b[0m\u001b[0;34m,\u001b[0m \u001b[0mn\u001b[0m \u001b[0;34m+\u001b[0m \u001b[0;36m1\u001b[0m\u001b[0;34m,\u001b[0m  \u001b[0mfilename\u001b[0m\u001b[0;34m=\u001b[0m\u001b[0;34m'zone='\u001b[0m\u001b[0;34m+\u001b[0m \u001b[0mstr\u001b[0m\u001b[0;34m(\u001b[0m\u001b[0mn\u001b[0m\u001b[0;34m+\u001b[0m\u001b[0;36m1\u001b[0m\u001b[0;34m)\u001b[0m \u001b[0;34m+\u001b[0m \u001b[0;34m'_'\u001b[0m \u001b[0;34m+\u001b[0m \u001b[0;34m'factor='\u001b[0m \u001b[0;34m+\u001b[0m \u001b[0mstr\u001b[0m\u001b[0;34m(\u001b[0m\u001b[0mfactor\u001b[0m\u001b[0;34m)\u001b[0m \u001b[0;34m+\u001b[0m \u001b[0;34m'_coherence='\u001b[0m \u001b[0;34m+\u001b[0m \u001b[0mstr\u001b[0m\u001b[0;34m(\u001b[0m\u001b[0mcor\u001b[0m\u001b[0;34m)\u001b[0m\u001b[0;34m)\u001b[0m\u001b[0;34m\u001b[0m\u001b[0;34m\u001b[0m\u001b[0m\n\u001b[0m",
      "\u001b[0;32m<ipython-input-10-b7446ab19ea7>\u001b[0m in \u001b[0;36mgenerate_kml_file\u001b[0;34m(latitudes, longitudes, color, zone, filename)\u001b[0m\n\u001b[1;32m     20\u001b[0m         \u001b[0mpnt\u001b[0m \u001b[0;34m=\u001b[0m \u001b[0mkml\u001b[0m\u001b[0;34m.\u001b[0m\u001b[0mnewpoint\u001b[0m\u001b[0;34m(\u001b[0m\u001b[0mdescription\u001b[0m\u001b[0;34m=\u001b[0m\u001b[0;34m''\u001b[0m\u001b[0;34m,\u001b[0m \u001b[0mcoords\u001b[0m\u001b[0;34m=\u001b[0m\u001b[0;34m[\u001b[0m\u001b[0;34m(\u001b[0m\u001b[0mlatitude\u001b[0m\u001b[0;34m,\u001b[0m \u001b[0mlongitude\u001b[0m\u001b[0;34m)\u001b[0m\u001b[0;34m]\u001b[0m\u001b[0;34m)\u001b[0m\u001b[0;34m\u001b[0m\u001b[0;34m\u001b[0m\u001b[0m\n\u001b[1;32m     21\u001b[0m         \u001b[0mpnt\u001b[0m\u001b[0;34m.\u001b[0m\u001b[0miconstyle\u001b[0m\u001b[0;34m.\u001b[0m\u001b[0micon\u001b[0m\u001b[0;34m.\u001b[0m\u001b[0mhref\u001b[0m \u001b[0;34m=\u001b[0m \u001b[0murl\u001b[0m \u001b[0;34m+\u001b[0m \u001b[0mcolor\u001b[0m \u001b[0;34m+\u001b[0m \u001b[0;34m'-dot.png'\u001b[0m\u001b[0;34m\u001b[0m\u001b[0;34m\u001b[0m\u001b[0m\n\u001b[0;32m---> 22\u001b[0;31m     \u001b[0mkml\u001b[0m\u001b[0;34m.\u001b[0m\u001b[0msave\u001b[0m\u001b[0;34m(\u001b[0m\u001b[0;34m'Resultats/zone'\u001b[0m \u001b[0;34m+\u001b[0m \u001b[0mstr\u001b[0m\u001b[0;34m(\u001b[0m\u001b[0mzone\u001b[0m\u001b[0;34m)\u001b[0m \u001b[0;34m+\u001b[0m \u001b[0;34m'/'\u001b[0m \u001b[0;34m+\u001b[0m \u001b[0mfilename\u001b[0m \u001b[0;34m+\u001b[0m \u001b[0;34m'.kml'\u001b[0m\u001b[0;34m)\u001b[0m\u001b[0;34m\u001b[0m\u001b[0;34m\u001b[0m\u001b[0m\n\u001b[0m\u001b[1;32m     23\u001b[0m \u001b[0;34m\u001b[0m\u001b[0m\n",
      "\u001b[0;32m~/miniconda3/envs/sdsc_stage/lib/python3.9/site-packages/simplekml/kml.py\u001b[0m in \u001b[0;36msave\u001b[0;34m(self, path, format)\u001b[0m\n\u001b[1;32m    329\u001b[0m         \u001b[0mKmlable\u001b[0m\u001b[0;34m.\u001b[0m\u001b[0m_currentroot\u001b[0m \u001b[0;34m=\u001b[0m \u001b[0mself\u001b[0m\u001b[0;34m\u001b[0m\u001b[0;34m\u001b[0m\u001b[0m\n\u001b[1;32m    330\u001b[0m         \u001b[0mself\u001b[0m\u001b[0;34m.\u001b[0m\u001b[0m_outputkmz\u001b[0m \u001b[0;34m=\u001b[0m \u001b[0;32mFalse\u001b[0m\u001b[0;34m\u001b[0m\u001b[0;34m\u001b[0m\u001b[0m\n\u001b[0;32m--> 331\u001b[0;31m         \u001b[0mout\u001b[0m \u001b[0;34m=\u001b[0m \u001b[0mself\u001b[0m\u001b[0;34m.\u001b[0m\u001b[0m_genkml\u001b[0m\u001b[0;34m(\u001b[0m\u001b[0mformat\u001b[0m\u001b[0;34m)\u001b[0m\u001b[0;34m\u001b[0m\u001b[0;34m\u001b[0m\u001b[0m\n\u001b[0m\u001b[1;32m    332\u001b[0m         \u001b[0mf\u001b[0m \u001b[0;34m=\u001b[0m \u001b[0mcodecs\u001b[0m\u001b[0;34m.\u001b[0m\u001b[0mopen\u001b[0m\u001b[0;34m(\u001b[0m\u001b[0mpath\u001b[0m\u001b[0;34m,\u001b[0m \u001b[0;34m'wb'\u001b[0m\u001b[0;34m,\u001b[0m \u001b[0;34m'utf-8'\u001b[0m\u001b[0;34m)\u001b[0m\u001b[0;34m\u001b[0m\u001b[0;34m\u001b[0m\u001b[0m\n\u001b[1;32m    333\u001b[0m         \u001b[0;32mtry\u001b[0m\u001b[0;34m:\u001b[0m\u001b[0;34m\u001b[0m\u001b[0;34m\u001b[0m\u001b[0m\n",
      "\u001b[0;32m~/miniconda3/envs/sdsc_stage/lib/python3.9/site-packages/simplekml/kml.py\u001b[0m in \u001b[0;36m_genkml\u001b[0;34m(self, format)\u001b[0m\n\u001b[1;32m    230\u001b[0m         \u001b[0mkml_str\u001b[0m \u001b[0;34m=\u001b[0m \u001b[0;34m\"\"\u001b[0m\u001b[0;34m\u001b[0m\u001b[0;34m\u001b[0m\u001b[0m\n\u001b[1;32m    231\u001b[0m         \u001b[0;32mif\u001b[0m \u001b[0mself\u001b[0m\u001b[0;34m.\u001b[0m\u001b[0m_feature\u001b[0m \u001b[0;32mis\u001b[0m \u001b[0;32mnot\u001b[0m \u001b[0;32mNone\u001b[0m\u001b[0;34m:\u001b[0m\u001b[0;34m\u001b[0m\u001b[0;34m\u001b[0m\u001b[0m\n\u001b[0;32m--> 232\u001b[0;31m             \u001b[0mkml_str\u001b[0m \u001b[0;34m=\u001b[0m \u001b[0mself\u001b[0m\u001b[0;34m.\u001b[0m\u001b[0m_feature\u001b[0m\u001b[0;34m.\u001b[0m\u001b[0m__str__\u001b[0m\u001b[0;34m(\u001b[0m\u001b[0;34m)\u001b[0m\u001b[0;34m\u001b[0m\u001b[0;34m\u001b[0m\u001b[0m\n\u001b[0m\u001b[1;32m    233\u001b[0m         \u001b[0mnetworklinkcontrol_str\u001b[0m \u001b[0;34m=\u001b[0m \u001b[0;34m\"\"\u001b[0m\u001b[0;34m\u001b[0m\u001b[0;34m\u001b[0m\u001b[0m\n\u001b[1;32m    234\u001b[0m         \u001b[0;32mif\u001b[0m \u001b[0mself\u001b[0m\u001b[0;34m.\u001b[0m\u001b[0m_networklinkcontrol\u001b[0m \u001b[0;32mis\u001b[0m \u001b[0;32mnot\u001b[0m \u001b[0;32mNone\u001b[0m\u001b[0;34m:\u001b[0m\u001b[0;34m\u001b[0m\u001b[0;34m\u001b[0m\u001b[0m\n",
      "\u001b[0;32m~/miniconda3/envs/sdsc_stage/lib/python3.9/site-packages/simplekml/featgeom.py\u001b[0m in \u001b[0;36m__str__\u001b[0;34m(self)\u001b[0m\n\u001b[1;32m    410\u001b[0m             \u001b[0;32mif\u001b[0m \u001b[0mKmlable\u001b[0m\u001b[0;34m.\u001b[0m\u001b[0m_compiling\u001b[0m\u001b[0;34m:\u001b[0m\u001b[0;34m\u001b[0m\u001b[0;34m\u001b[0m\u001b[0m\n\u001b[1;32m    411\u001b[0m                 \u001b[0;32mif\u001b[0m \u001b[0mstyle\u001b[0m\u001b[0;34m.\u001b[0m\u001b[0mid\u001b[0m \u001b[0;32mnot\u001b[0m \u001b[0;32min\u001b[0m \u001b[0mKmlable\u001b[0m\u001b[0;34m.\u001b[0m\u001b[0m_currentroot\u001b[0m\u001b[0;34m.\u001b[0m\u001b[0m_processedstyles\u001b[0m\u001b[0;34m:\u001b[0m\u001b[0;34m\u001b[0m\u001b[0;34m\u001b[0m\u001b[0m\n\u001b[0;32m--> 412\u001b[0;31m                     \u001b[0mbuf\u001b[0m\u001b[0;34m.\u001b[0m\u001b[0mappend\u001b[0m\u001b[0;34m(\u001b[0m\u001b[0mstyle\u001b[0m\u001b[0;34m.\u001b[0m\u001b[0m__str__\u001b[0m\u001b[0;34m(\u001b[0m\u001b[0;34m)\u001b[0m\u001b[0;34m)\u001b[0m\u001b[0;34m\u001b[0m\u001b[0;34m\u001b[0m\u001b[0m\n\u001b[0m\u001b[1;32m    413\u001b[0m                     \u001b[0mKmlable\u001b[0m\u001b[0;34m.\u001b[0m\u001b[0m_currentroot\u001b[0m\u001b[0;34m.\u001b[0m\u001b[0m_processedstyles\u001b[0m\u001b[0;34m.\u001b[0m\u001b[0mappend\u001b[0m\u001b[0;34m(\u001b[0m\u001b[0mstyle\u001b[0m\u001b[0;34m.\u001b[0m\u001b[0mid\u001b[0m\u001b[0;34m)\u001b[0m\u001b[0;34m\u001b[0m\u001b[0;34m\u001b[0m\u001b[0m\n\u001b[1;32m    414\u001b[0m             \u001b[0;32melse\u001b[0m\u001b[0;34m:\u001b[0m\u001b[0;34m\u001b[0m\u001b[0;34m\u001b[0m\u001b[0m\n",
      "\u001b[0;31mKeyboardInterrupt\u001b[0m: "
     ]
    }
   ],
   "source": [
    "epsg_code = '32631'\n",
    "proj = Proj(\"epsg:\" + epsg_code, preserve_units=False)\n",
    "# 1, 1.5, 2, 2.5, 3\n",
    "factors = np.array([0.0])\n",
    "# 0.2, 0.4, 0.5, 0.6, 0.7\n",
    "coherences = np.array([0.0])\n",
    "# extract rasters 40, 30, 35\n",
    "\n",
    "for n in range(5):\n",
    "    mean_ns_velocity_r, mean_ew_velocity_r, velocity_magnitude_r, coherence_r = rasters[n]\n",
    "    # extract rasters as array and reshape them\n",
    "    mean_ns_velocity = mean_ns_velocit.concatenatey_r.read(1)\n",
    "    # East-West velocities\n",
    "    mean_ew_velocity = mean_ew_velocity_r.read(1)\n",
    "    # velocity magnitude\n",
    "    velocity_magnitude = velocity_magnitude_r.read(1)\n",
    "    # coherence\n",
    "    coherence = coherence_r.read(1)\n",
    "    # latitudes, longitudes\n",
    "    print(velocity_magnitude_r.name)\n",
    "    lats, lons = Raster().from_utm_to_lat_lon(velocity_magnitude_r.name)\n",
    "    \n",
    "    latitudes, longitudes = [], []\n",
    "    mask = (velocity_magnitude > 0 * sigma_mean_vel) & (coherence > cor)\n",
    "    mask_index = np.where(mask)\n",
    "    for i, j in zip(mask_index[0], mask_index[1]):\n",
    "                #x, y = velocity_magni.concatenatetude_r.xy(i, j)\n",
    "                #lat, lon = proj(x, y, inverse=True)\n",
    "        latitudes.append(lats[i, j])\n",
    "        longitudes.append(lons[i, j])\n",
    "    generate_kml_file(latitudes, longitudes, 'yellow', n + 1,  filename='zone='+ str(n+1) + '_' + 'factor=' + str(factor) + '_coherence=' + str(cor))"
   ]
  },
  {
   "cell_type": "markdown",
   "id": "80e1cbf4",
   "metadata": {},
   "source": [
    "#  Clustering avec la similarité cosinus"
   ]
  }
 ],
 "metadata": {
  "kernelspec": {
   "display_name": "Python 3 (ipykernel)",
   "language": "python",
   "name": "python3"
  },
  "language_info": {
   "codemirror_mode": {
    "name": "ipython",
    "version": 3
   },
   "file_extension": ".py",
   "mimetype": "text/x-python",
   "name": "python",
   "nbconvert_exporter": "python",
   "pygments_lexer": "ipython3",
   "version": "3.9.6"
  }
 },
 "nbformat": 4,
 "nbformat_minor": 5
}

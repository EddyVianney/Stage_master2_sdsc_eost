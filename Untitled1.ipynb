{
 "cells": [
  {
   "cell_type": "code",
   "execution_count": 1,
   "id": "8d1edd26",
   "metadata": {},
   "outputs": [],
   "source": [
    "import numpy as np"
   ]
  },
  {
   "cell_type": "code",
   "execution_count": 32,
   "id": "d91505b7",
   "metadata": {},
   "outputs": [],
   "source": [
    "def compute_diff(u):\n",
    "    v = np.diff(np.array(u))\n",
    "    a = np.zeros(v.shape[0])\n",
    "    a[0:-1] = v[1:]\n",
    "    return (a+v)[:-1]"
   ]
  },
  {
   "cell_type": "code",
   "execution_count": 33,
   "id": "17c6ac70",
   "metadata": {},
   "outputs": [
    {
     "data": {
      "text/plain": [
       "array([ 2.,  4., -6.,  2.])"
      ]
     },
     "execution_count": 33,
     "metadata": {},
     "output_type": "execute_result"
    }
   ],
   "source": [
    "compute_diff(u)"
   ]
  },
  {
   "cell_type": "code",
   "execution_count": 25,
   "id": "53a17d8e",
   "metadata": {},
   "outputs": [
    {
     "data": {
      "text/plain": [
       "array([-1,  3,  1, -7,  9])"
      ]
     },
     "execution_count": 25,
     "metadata": {},
     "output_type": "execute_result"
    }
   ],
   "source": [
    "u = np.array([4, 3, 6, 7, 0,9])\n",
    "v = np.diff(u)\n",
    "v"
   ]
  },
  {
   "cell_type": "code",
   "execution_count": 26,
   "id": "6e009ac9",
   "metadata": {},
   "outputs": [],
   "source": [
    "B = np.zeros(v.shape[0])\n",
    "B[0:-1] = v[1:]"
   ]
  },
  {
   "cell_type": "code",
   "execution_count": 29,
   "id": "b315602e",
   "metadata": {},
   "outputs": [
    {
     "data": {
      "text/plain": [
       "array([ 3.,  1., -7.,  9.])"
      ]
     },
     "execution_count": 29,
     "metadata": {},
     "output_type": "execute_result"
    }
   ],
   "source": [
    "B[:-1]"
   ]
  },
  {
   "cell_type": "code",
   "execution_count": 31,
   "id": "b65df8a1",
   "metadata": {},
   "outputs": [
    {
     "name": "stdout",
     "output_type": "stream",
     "text": [
      "2.0\n",
      "4.0\n",
      "-6.0\n",
      "2.0\n"
     ]
    }
   ],
   "source": [
    "for x in (B + v)[:-1]:\n",
    "    print(x)"
   ]
  },
  {
   "cell_type": "code",
   "execution_count": null,
   "id": "c40c10be",
   "metadata": {},
   "outputs": [],
   "source": []
  }
 ],
 "metadata": {
  "kernelspec": {
   "display_name": "Python 3",
   "language": "python",
   "name": "python3"
  },
  "language_info": {
   "codemirror_mode": {
    "name": "ipython",
    "version": 3
   },
   "file_extension": ".py",
   "mimetype": "text/x-python",
   "name": "python",
   "nbconvert_exporter": "python",
   "pygments_lexer": "ipython3",
   "version": "3.9.0"
  }
 },
 "nbformat": 4,
 "nbformat_minor": 5
}

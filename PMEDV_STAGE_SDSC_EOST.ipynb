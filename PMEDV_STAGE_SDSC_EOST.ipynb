{
 "cells": [
  {
   "cell_type": "markdown",
   "id": "aa0c478f",
   "metadata": {},
   "source": [
    "# Auteur : PAMBOU MOUBOGHA Eddy Vianney\n",
    "# Etudes : Master Sciences des Donnees et Systèmes Complexes\n",
    "# Ecole : Université de Strasbourg\n",
    "# Sujet :  Detection de glissements de terrain"
   ]
  },
  {
   "cell_type": "code",
   "execution_count": 1,
   "id": "1b2219c2",
   "metadata": {},
   "outputs": [],
   "source": [
    "import pandas as pd\n",
    "import numpy as np\n",
    "import os\n",
    "import matplotlib.pyplot as plt\n",
    "import csv\n",
    "from datetime import date, datetime\n",
    "import datetime\n",
    "from tslearn.barycenters import dtw_barycenter_averaging\n",
    "from tslearn.clustering import TimeSeriesKMeans\n",
    "from sklearn.cluster import KMeans\n",
    "from sklearn.decomposition import PCA, FastICA\n",
    "from sklearn.preprocessing import StandardScaler, MinMaxScaler\n",
    "from sklearn.feature_selection import f_regression\n",
    "from statsmodels.tsa.stattools import adfuller\n",
    "import multiprocessing\n",
    "import itertools\n",
    "import operator\n",
    "import math\n",
    "from dtaidistance import dtw\n",
    "import seaborn as sns\n",
    "import elevation\n",
    "plt.style.use('fivethirtyeight')"
   ]
  },
  {
   "cell_type": "markdown",
   "id": "378b759e",
   "metadata": {},
   "source": [
    "# Attributs des fichiers MM_TIO"
   ]
  },
  {
   "cell_type": "markdown",
   "id": "19355f89",
   "metadata": {},
   "source": [
    "* Lat : latitude (degré)\n",
    "* Lon : longitude (degré)\n",
    "* Vel : vitesse (mètre/jour)\n",
    "* Topo : altitude d'un point (mètre)\n",
    "* TS : serie temporelles de déplacement (mètre)"
   ]
  },
  {
   "cell_type": "code",
   "execution_count": 2,
   "id": "212656fe",
   "metadata": {},
   "outputs": [],
   "source": [
    "DATA_PATH = './donnees'"
   ]
  },
  {
   "cell_type": "markdown",
   "id": "9f392345",
   "metadata": {},
   "source": [
    "# Paramètres des géométries ascendante et descendante"
   ]
  },
  {
   "cell_type": "code",
   "execution_count": 3,
   "id": "d07c2e6e",
   "metadata": {},
   "outputs": [],
   "source": [
    "# angle d'incidence du satellite en géométrie ascendante (angle entre la vertical et la direction du  satellite)\n",
    "theta_asc = 0\n",
    "# angle d'incidence du satelitte en géométrie descendante (angle entre la vertical et la direction du satellite)\n",
    "theta_desc = 0\n",
    "# difference angulaire des orbites des géométries ascendante et descendante\n",
    "delta_alpha =  0\n",
    "# déplacement le long de la ligne de visée en géométrie ascendante\n",
    "d_los_asc = 0\n",
    "# déplacement le long de la ligne de visée en géométrie descendante\n",
    "d_los_dsc = 0\n",
    "# # déplacement vertical\n",
    "d_up = 0"
   ]
  },
  {
   "cell_type": "markdown",
   "id": "54df763e",
   "metadata": {},
   "source": [
    "# Chargement des données"
   ]
  },
  {
   "cell_type": "code",
   "execution_count": 4,
   "id": "708aa22c",
   "metadata": {},
   "outputs": [],
   "source": [
    "def to_date(str):\n",
    "    str_strp = str.strip()\n",
    "    year, month, day = int(str_strp[0:4]), int(str_strp[4:6]), int(str_strp[6:8])\n",
    "    return date(year, month, day)\n",
    "\n",
    "def load_data(filename):\n",
    "\n",
    "    # numéro de la ligne ou commence les données\n",
    "    num_start = 44\n",
    "    # numéro de la ligne ou se trouve la liste des dates\n",
    "    num_list_dates = 40\n",
    "    # attributs présent dans les données\n",
    "    columns = ['id', 'Lat','Lon', 'Topo', 'Vel', 'Coer',' CosN', 'CosE', 'CosU']\n",
    "    # dictionnaire stockant les données\n",
    "    data = {column: [] for column in columns}\n",
    "    # liste des dates \n",
    "    indexes = []\n",
    "    # series temporelles\n",
    "    series = []\n",
    "    # liste de dataframes\n",
    "    df_series = []\n",
    "\n",
    "    with open(DATA_PATH + '/' + filename) as csv_file:\n",
    "        csv_reader = csv.reader(csv_file, delimiter=\",\")\n",
    "        line_count = 1 \n",
    "        for row in csv_reader:\n",
    "            if line_count == num_list_dates:\n",
    "                indexes = [row[0].split(' ')[1]] + row[1:]\n",
    "            if line_count >= num_start:\n",
    "                # extraction des premiers attributs\n",
    "                for i in range(len(columns)):\n",
    "                    data[columns[i]].append(row[i])\n",
    "                # extraction de l'attribut TS(série temporelle)\n",
    "                series.append([float(v) for v in row[len(columns):]])\n",
    "            line_count  += 1\n",
    "        if len(indexes) != len(series[0]):\n",
    "            print('Erreur : Les indexes et les valeurs ne correspondent pas')\n",
    "        # convertir les index en date\n",
    "        indexes = [d.strip()[0:8] for d in indexes]\n",
    "        # créer une liste de dataframes, chacun contenant une série temporelle\n",
    "        for serie in series:\n",
    "            tmp_serie = pd.DataFrame({'displacement': pd.Series(serie, index=pd.DatetimeIndex(indexes))})\n",
    "            tmp_serie.sort_index(inplace=True)\n",
    "            df_series.append(tmp_serie)\n",
    "        # creer un dataframe pour les autres attributs\n",
    "        df = pd.DataFrame(data)\n",
    "        for column in df.columns:\n",
    "            df[column] = pd.to_numeric(df[column], errors='coerce')\n",
    "        df.set_index('id')\n",
    "        \n",
    "    return df, df_series\n",
    "\n",
    "\n",
    "def get_ids(df, column='id'):\n",
    "    \n",
    "    return df[column].tolist()\n",
    "        \n",
    "def impute(series, ids, pc=0.4):\n",
    "    \n",
    "    result = []\n",
    "    ids_to_not_keep = []\n",
    "    n_samples = len(series[0])\n",
    "    \n",
    "    for i in range(len(series)):\n",
    "        if 100*(series[i].isnull().sum().sum()/n_samples) < pc:\n",
    "            result.append(series[i].interpolate(limit_direction='both', inplace=False))\n",
    "        else:\n",
    "            ids_to_not_keep.append(ids[i])\n",
    "            \n",
    "    return result, ids_to_not_keep\n",
    "\n",
    "def imputed(serie, index=None):\n",
    "    \n",
    "    # dataframe resultat\n",
    "    result = None\n",
    "    \n",
    "    # liste des identifiants des valeurs manquantes\n",
    "    rows_with_nan = [index for index, row in serie.iterrows() if row.isnull().any()]\n",
    "    \n",
    "    if index is None:\n",
    "        result = serie.dropna(inplace=False)\n",
    "        \n",
    "    if isinstance(index, list):\n",
    "        pass\n",
    "        \n",
    "    return result, rows_with_nan\n",
    "        \n",
    "\n",
    "# imputer les données\n",
    "def impute_(ns_series, ew_series, pc=0.4):\n",
    "\n",
    "    # nombre de mésures\n",
    "    n = len(ns_series[0])\n",
    "    \n",
    "    # recupérer les series de la composante Nord-Sud qui ont un pourcentage de valeurs manquuantes inferieur à 50%\n",
    "    ns_booleans  = [True if (ns_series[i].isnull().sum().sum()/n) < pc else False for i in range(len(ns_series))]\n",
    "    # recupérer les series de la composante Est-Ouest qui ont un pourcentage de valeurs manquuantes inferieur à 50%\n",
    "    ew_booleans  = [True if (ew_series[i].isnull().sum().sum()/n) < pc else False for i in range(len(ew_series))]\n",
    "    # Conserver uniquement les points où la norme du vecteur vitesse est calculable\n",
    "    booleans     = [True if i and j else False for i, j in zip(ns_booleans, ew_booleans)]\n",
    "    \n",
    "    # suppression des séries temporelles qui ont un pourcentage de valeurs manquantes supérieure ou égale à 0.5\n",
    "    ns_series_c = [d for d in itertools.compress(ns_series, booleans)]\n",
    "    ew_series_c = [d for d in itertools.compress(ew_series, booleans)]\n",
    "    \n",
    "    # interpoler les valeurs manquantes des les séries restantes\n",
    "    for i in range(len(ns_series_c)):\n",
    "        if ns_series_c[i].isnull().sum().sum() > 0:\n",
    "            ns_series_c[i].interpolate(limit_direction='both', inplace=True)\n",
    "        if ew_series_c[i].isnull().sum().sum() > 0:\n",
    "            ew_series_c[i].interpolate(limit_direction='both', inplace=True)\n",
    "            \n",
    "    return ns_series_c[0].index, ew_series_c, ns_series_c"
   ]
  },
  {
   "cell_type": "code",
   "execution_count": 14,
   "id": "78691261",
   "metadata": {},
   "outputs": [],
   "source": [
    "class TimeSerie():\n",
    "    \n",
    "    def __init__(self, id_, lat, lon, topo, serie):\n",
    "        self.id   = id_\n",
    "        self.lat  = lat\n",
    "        self.lon  = lon\n",
    "        self.topo = topo\n",
    "        self.serie = serie.interpolate(limit_direction='both', inplace=False)\n",
    "        \n",
    "    def load(self, displacement):\n",
    "        return serie.dropna(inplace=False)\n",
    "    \n",
    "    def hasEnoughValues(self, pc):\n",
    "        return True if 100*(self.serie.displacement.isnull().sum().sum()/len(self.serie)) < pc else False\n",
    "        \n",
    "    def normalize(self):\n",
    "        return self.clone(StandardScaler().fit_transform(self.serie))\n",
    "        \n",
    "    def compute_inst_vel(self):\n",
    "        vels =  []\n",
    "        for i in range(1, len(self.serie)-1):\n",
    "            duration = (self.serie.index[i+1] - self.serie.index[i-1]).days\n",
    "            displacement = self.serie.iloc[i+1].values[0] - self.serie.iloc[i-1].values[0]\n",
    "            vels.append(displacement / duration)\n",
    "        # supprimer le premier et le dernier index (formule non applicable)\n",
    "        return pd.DataFrame(vels, index=self.serie.index[1:-1], columns=['vel'])\n",
    "    \n",
    "    def smooth(self, ampl=2):\n",
    "        \n",
    "        sigma = math.sqrt(self.serie.var())\n",
    "        \n",
    "        for i in range(len(self.serie)):\n",
    "            if abs(self.serie.iloc[i].displacement) > ampl*sigma:\n",
    "                # remplacer les anomalies par des valeurs manquantes\n",
    "                self.serie.iloc[i, self.serie.columns.get_loc('displacement')]= np.nan\n",
    "                \n",
    "        return self.clone(self.serie.interpolate(limit_direction='both', inplace=False).copy())\n",
    "    \n",
    "    def detect_non_moving_serie(self, alpha):\n",
    "        \n",
    "        # transformer les index en durée pour pouvoire effectuer une regression linéaire\n",
    "        X = np.array([abs((self.serie.index[0] - self.serie.index[n]).days) for n in range(len(self.serie.index))]).reshape(-1,1)\n",
    "        \n",
    "        # extraire la cible\n",
    "        y = StandardScaler().fit_transform(self.serie)\n",
    "        \n",
    "        # calculer la p-value de la regression lineaire\n",
    "        _, pval = f_regression(X,y.ravel())\n",
    "            \n",
    "        # eliminer le bruit si la regression n'est pas significative (bourrage de zeros)\n",
    "        if pval > alpha:\n",
    "            return self.clone(pd.DataFrame(0.0, index=self.serie.index, columns=self.serie.columns))\n",
    "                \n",
    "        else:\n",
    "            return self.clone(self.serie.copy())\n",
    "    \n",
    "    def compute_adfuller(self, ts):\n",
    "    \n",
    "        adf_result = adfuller(ts)\n",
    "        adf_output = pd.Series(adf_result[0:4],index=['Test Statistic','p-value','#Lags Used','Number of Observations Used'])\n",
    "        for key, value in adf_result[4].items():\n",
    "            adf_output['Critical Value (%s)'%(key)] = value\n",
    "\n",
    "        return adf_output[1]\n",
    "\n",
    "    def clone(self, serie):\n",
    "        return TimeSerie(self.id, self.lat, self.lon, self.topo, serie)\n",
    "    \n",
    "    def get_days(dates):\n",
    "        days = []\n",
    "        for i in range(len(dates)):\n",
    "            days.append(abs((dates[0] - dates[i]).days ))\n",
    "        return days\n",
    "\n",
    "    def get_Xy(self, serie):\n",
    "        X = get_days(serie.index)\n",
    "        y = StandardScaler().fit_transform(serie)\n",
    "        return np.array(X).reshape(-1,1), y\n",
    "\n",
    "    # lorsque la regression est non significative (p-value > 0.05), on conclut que le déplacement\n",
    "    # cumulé n'est pas une fonction linéaire du temps\n",
    "    # On renvoie donc un dataFrame ne contenant que des valeurs nulles\n",
    "    # Il est possible q'un résultat négatif soit l'effet du bruit\n",
    "    # Un débruitage est donc nécessaire avant d'utiliser cette approche !"
   ]
  },
  {
   "cell_type": "code",
   "execution_count": 12,
   "id": "69341252",
   "metadata": {},
   "outputs": [],
   "source": [
    "class DataFromImageCorrelation(Visualization):\n",
    "    \n",
    "    def __init__(self, geo, ns, ew, pc=0.4, alpha=0.05):\n",
    "        self.ns, self.ew  = self.load(geo, ns, ew, pc)\n",
    "        self.raw_ns, self.raw_ew = self.ns[:], self.ew[:]\n",
    "        self.n_cores = multiprocessing.cpu_count()\n",
    "        self.magnitudes = []\n",
    "        self.pc = pc\n",
    "        self.alpha = alpha\n",
    "    \n",
    "    def load(self, geo, ns, ew, pc):\n",
    "        ns_r, ew_r = [], []\n",
    "        for i in range(len(ns)):\n",
    "            # vérifier que les séries temporelles comporte un pourcentage de valeurs null inférieure à pc et on des id identiques\n",
    "            if ns[i].isnull().sum().sum()/len(ns[i]) < pc:\n",
    "                ns_r.append(TimeSerie(geo.iloc[i].id, geo.iloc[i].Lat, geo.iloc[i].Lon, geo.iloc[i].Topo, ns[i]))\n",
    "                ew_r.append(TimeSerie(geo.iloc[i].id, geo.iloc[i].Lat, geo.iloc[i].Lon, geo.iloc[i].Topo, ew[i]))\n",
    "        return ns_r, ew_r\n",
    "    \n",
    "    def compute_vel(self, ns_component, ew_component):\n",
    "        return math.sqrt(ns_component * ns_component + ew_component * ew_component)\n",
    "    \n",
    "    def compute_magnitude(self, boolean):\n",
    "        \n",
    "        magnitudes = []\n",
    "        ns_vel_ts = None\n",
    "        ew_vel_ts = None\n",
    "        \n",
    "        if boolean:\n",
    "            ns_vel_ts = self.compute_inst_vels(self.raw_ns)\n",
    "            ew_vel_ts = self.compute_inst_vels(self.raw_ew)\n",
    "        else:\n",
    "            ns, ew    = self.transform()\n",
    "            ns_vel_ts = self.compute_inst_vels(ns)\n",
    "            ew_vel_ts = self.compute_inst_vels(ew)\n",
    "            \n",
    "        for i in range(len(ns_vel_ts)):\n",
    "            vels = []\n",
    "            column = ns_vel_ts[0].columns[0]\n",
    "            for ns_component, ew_component in zip(ns_vel_ts[i][column], ew_vel_ts[i][column]):\n",
    "                vels.append(self.compute_vel(ns_component, ew_component))\n",
    "            df = pd.DataFrame(vels, index=ns_vel_ts[0].index, columns=['magnitude'])\n",
    "            magnitudes.append(df)\n",
    "            \n",
    "        return magnitudes\n",
    "            \n",
    "    def compute_inst_vel(self, ts):\n",
    "        \n",
    "        vels =  []\n",
    "        for i in range(1, len(ts.serie)-1):\n",
    "            duration = (ts.serie.index[i+1] - ts.serie.index[i-1]).days\n",
    "            displacement = ts.serie.iloc[i+1].values[0] - ts.serie.iloc[i-1].values[0]\n",
    "            vels.append(displacement / duration)\n",
    "        # supprimer le premier et le dernier index (formule non applicable)\n",
    "        return pd.DataFrame(vels, index=ts.serie.index[1:-1], columns=['vel'])\n",
    "    \n",
    "    def compute_inst_vels(self, ts):\n",
    "        \n",
    "        with multiprocessing.Pool(self.n_cores) as p:\n",
    "            results = p.map(self.compute_inst_vel, ts)\n",
    "            return results\n",
    "    \n",
    "    # attention pas de normalisation dans cette méthode (car elle est utilise pour le calul de vitesse)\n",
    "    def transform(self):\n",
    "        ns, ew = [], []\n",
    "        for n in range(len(self.ns)):\n",
    "            ns.append( self.ns[n].smooth().detect_non_moving_serie(self.alpha) )\n",
    "            ew.append( self.ew[n].smooth().detect_non_moving_serie(self.alpha) )\n",
    "        return ns, ew\n",
    "    \n",
    "    # renvoyer les données pour effectuer le clustering\n",
    "    # si on n'interesse qu'à la forme, il faut normaliser les données\n",
    "    def prepare(self):\n",
    "        magnitudes = self.compute_magnitude(False)\n",
    "        #return magnitudes\n",
    "        return np.array([StandardScaler().fit_transform(df).reshape(len(df)) for df in magnitudes])"
   ]
  },
  {
   "cell_type": "code",
   "execution_count": 10,
   "id": "3adf5eca",
   "metadata": {},
   "outputs": [],
   "source": [
    "def compute_distances_matrix(series):\n",
    "    \n",
    "    # initialisation de la matrix des distances\n",
    "    distances_matrix = np.zeros(shape=(len(series), len(series)))\n",
    "    \n",
    "    # calcul des distances et remplissage de la matrice de distance\n",
    "    for n in range(len(series)):\n",
    "        for m in range(n, len(series)):\n",
    "            if n!=m:\n",
    "                dist = dtw.distance(np.array(series[n]), np.array(series[m]))\n",
    "                distances_matrix[n, m] = dist\n",
    "                distances_matrix[m, n] = dist\n",
    "            \n",
    "    return distances_matrix"
   ]
  },
  {
   "cell_type": "code",
   "execution_count": 8,
   "id": "23235d79",
   "metadata": {},
   "outputs": [],
   "source": [
    "class Visualization():\n",
    "    \n",
    "    def __init__(self):\n",
    "        pass\n",
    "    \n",
    "    def plot_displacement(self, ts):\n",
    "        \n",
    "        days = get_days(ns_ts.index)\n",
    "        fig, ax = plt.subplots(figsize=(15,5))\n",
    "    \n",
    "        ax[0].plot(ns_ts['displacement'], color='blue', label='NS displacement (m)', marker='o', linewidth=2)\n",
    "        ax[1].plot(ew_ts['displacement'], color='orange', label='EW displacement (m)', marker='o', linewidth=2)\n",
    "        \n",
    "        plt.legend()\n",
    "        plt.legend(loc='best')\n",
    "        plt.show()\n",
    "    \n",
    "    def plot_displacement_vel(self, ns_ts, ew_ts):\n",
    "        \n",
    "        days = get_days(ns_ts[0].index)\n",
    "\n",
    "        fig, ax_left = plt.subplots(figsize=(15,5))\n",
    "        ax_right = ax_left.twinx()\n",
    "\n",
    "        p1, = ax_left.plot(days, df_series[4]['displacement'], color='blue', label='NS displacement (m)')\n",
    "        p2, = ax_right.plot(days, df_series[4]['displacement'], color='orange', label='EW displacement(m)')\n",
    "\n",
    "        ax_left.set_xlabel(\"number of days since the first measure\")\n",
    "        ax_left.set_ylabel(\"displacement\")\n",
    "        ax_right.set_ylabel(\"velocity\")\n",
    "\n",
    "        lns = [p1, p2]\n",
    "\n",
    "        ax_left.legend(handles=lns, loc='best')\n",
    "        fig.tight_layout()\n",
    "        plt.show()\n",
    "    \n",
    "    \n",
    "    def plot_disp_vel(self, ns_ts, ew_ts, vels):\n",
    "\n",
    "        fig, ax = plt.subplots(3, 1, figsize=(15,10))\n",
    "\n",
    "        ax[0].plot(ns_ts, color='blue', label='displacement (m)', marker='o', linewidth=2)\n",
    "        ax[0].set_title('NS cumulative displacement')\n",
    "        ax[0].set_xlabel('time')\n",
    "        ax[0].set_ylabel('displacement')\n",
    "        ax[0].legend()\n",
    "\n",
    "        ax[1].plot(ew_ts, color='orange', label='displacement (m)', marker='o', linewidth=2)\n",
    "        ax[1].set_title('EW cumulative displacement')\n",
    "        ax[1].set_xlabel('time')\n",
    "        ax[1].set_ylabel('displacement')\n",
    "        ax[1].legend()\n",
    "\n",
    "        ax[2].plot(vels, color='green', label='velocity (m/day)', marker='o', linewidth=2)\n",
    "        ax[2].set_title('Velocity magnitude')\n",
    "        ax[2].set_xlabel('time')\n",
    "        ax[2].set_ylabel('velocity')\n",
    "        ax[2].legend()\n",
    "\n",
    "        fig.tight_layout()\n",
    "        plt.show()\n",
    "        \n",
    "    def plot_series(series, num_rows=4, num_cols=5, colormap='tab20'):\n",
    "        \n",
    "        plot_kwds = {'alpha' : 0.25, 's' : 10, 'linewidths':0}\n",
    "        fig, axs = plt.subplots(num_rows, num_cols, figsize=(25,25))\n",
    "        cmap = plt.get_cmap(colormap)\n",
    "        colors = [cmap(i) for i in np.linspace(0,1,num_rows*num_cols)]\n",
    "\n",
    "        for num_row in range(num_rows):\n",
    "            for num_col in range(num_cols):\n",
    "                if num_row*num_cols + num_col < len(series):\n",
    "                    axs[num_row, num_col].plot(series[num_row*num_cols + num_col], color=colors[num_row*num_cols + num_col], marker='o', markerfacecolor='white')\n",
    "                    #axs[num_row, num_col].set_title('serie: %s'%(self.names[num_row*num_cols + num_col].split('.')[0]))\n",
    "\n",
    "        plt.show()"
   ]
  },
  {
   "cell_type": "code",
   "execution_count": 7,
   "id": "c8545214",
   "metadata": {},
   "outputs": [
    {
     "ename": "SyntaxError",
     "evalue": "invalid syntax (<ipython-input-7-0508635d9d2a>, line 12)",
     "output_type": "error",
     "traceback": [
      "\u001b[0;36m  File \u001b[0;32m\"<ipython-input-7-0508635d9d2a>\"\u001b[0;36m, line \u001b[0;32m12\u001b[0m\n\u001b[0;31m    if start <= date <= end\u001b[0m\n\u001b[0m                           ^\u001b[0m\n\u001b[0;31mSyntaxError\u001b[0m\u001b[0;31m:\u001b[0m invalid syntax\n"
     ]
    }
   ],
   "source": [
    "class Utility():\n",
    "    \n",
    "    def __init__(self):\n",
    "        pass\n",
    "\n",
    "    def get_season(self, date):\n",
    "        \n",
    "        for season in seasons:\n",
    "            name  = season[0]\n",
    "            start = season[1].replace(year=date.year)\n",
    "            end   = season[2].replace(year=date.year)\n",
    "            if start <= date <= end\n",
    "                return name\n",
    "            \n",
    "    def count_samples_per_season(self, dates):\n",
    "    \n",
    "        samples_per_season = {'winter': 0, 'spring': 0, 'summer': 0, 'autumn': 0}\n",
    "        for date in dates:\n",
    "            samples_per_season[get_season(date)] += 1\n",
    "\n",
    "        return samples_per_season\n",
    "    \n",
    "    def get_days(self, dates):\n",
    "        \n",
    "        days = []\n",
    "        for i in range(len(dates)):\n",
    "            days.append(abs((dates[0] - dates[i]).days ))\n",
    "        return days"
   ]
  },
  {
   "cell_type": "code",
   "execution_count": 9,
   "id": "6a986683",
   "metadata": {},
   "outputs": [],
   "source": [
    "# chargement de la composante  Est-Ouest du mouvement du sol\n",
    "df_ew, df_ew_ts = load_data('MM_TIO_EW_31TGK_20151227_to_20200906.csv')\n",
    "# chargement de la composante Nord-Sud du mouvement du sol\n",
    "df_ns, df_ns_ts = load_data('MM_TIO_NS_31TGK_20151227_to_20200906.csv')"
   ]
  },
  {
   "cell_type": "markdown",
   "id": "cff15e6c",
   "metadata": {},
   "source": [
    "# Visualisation"
   ]
  },
  {
   "cell_type": "code",
   "execution_count": 121,
   "id": "b63f5fd4",
   "metadata": {},
   "outputs": [],
   "source": [
    "df_ns[['Lat','Lon']].to_csv('geo.csv', index=False)"
   ]
  },
  {
   "cell_type": "code",
   "execution_count": 15,
   "id": "ebec2122",
   "metadata": {},
   "outputs": [],
   "source": [
    "n = 3000\n",
    "Data = DataFromImageCorrelation(df_ew.head(n), df_ns_ts[:n], df_ew_ts[:n])"
   ]
  },
  {
   "cell_type": "code",
   "execution_count": null,
   "id": "775eb843",
   "metadata": {},
   "outputs": [],
   "source": [
    "# visualisation des vitesses brutes (calculées à partir des déplacement brutes)\n",
    "n = 0\n",
    "raw_magnitudes = Data.compute_magnitude(True)\n",
    "viz = Visualization()\n",
    "viz.plot_disp_vel(Data.ns[n].serie, Data.ew[n].serie, raw_magnitudes[n])"
   ]
  },
  {
   "cell_type": "code",
   "execution_count": null,
   "id": "6a9af37c",
   "metadata": {},
   "outputs": [],
   "source": [
    "import os \n",
    "dem_path = os.path.join(os.getcwd(), '/Dem/31TGK_copernicus_dem.tif')\n",
    "elevation.clip(bounds=(-122.4, 41.2, -122.1, 41.5), output=dem_path)"
   ]
  },
  {
   "cell_type": "code",
   "execution_count": 110,
   "id": "ecfc97d4",
   "metadata": {},
   "outputs": [],
   "source": [
    "# data preparation for clustering (anomaly detection and interpolation, non moving pixels detection)\n",
    "#ns, ew  = Data.prepare()"
   ]
  },
  {
   "cell_type": "markdown",
   "id": "05645d88",
   "metadata": {},
   "source": [
    "# Calcul des profils de vitesse"
   ]
  },
  {
   "cell_type": "code",
   "execution_count": null,
   "id": "00051079",
   "metadata": {},
   "outputs": [],
   "source": [
    "# calcul des profils de vitesse\n",
    "magnitudes = Data.compute_magnitude(False)"
   ]
  },
  {
   "cell_type": "code",
   "execution_count": 16,
   "id": "d0752608",
   "metadata": {},
   "outputs": [],
   "source": [
    "X = Data.prepare()"
   ]
  },
  {
   "cell_type": "code",
   "execution_count": 313,
   "id": "7a8ef1d9",
   "metadata": {},
   "outputs": [],
   "source": [
    "#from datetime import datetime\n",
    "Y = 2000\n",
    "seasons  = [('winter', date(Y,  1,  1), date(Y,  3, 20)),\n",
    "           ('spring', date(Y,  3, 21),  date(Y,  6, 20)),\n",
    "           ('summer', date(Y,  6, 21),  date(Y,  9, 22)),\n",
    "           ('autumn', date(Y,  9, 23),  date(Y, 12, 20)),\n",
    "           ('winter', date(Y, 12, 21),  date(Y, 12, 31))]\n",
    "\n",
    "        \n",
    "def plot_pie(labels, values):\n",
    "\n",
    "    fig1, ax1 = plt.subplots(figsize=(5,5))\n",
    "    ax1.pie(values, labels=labels, autopct='%1.1f%%',\n",
    "            shadow=True, startangle=90)\n",
    "    ax1.axis('equal') \n",
    "\n",
    "    plt.show()\n",
    "    \n",
    "def plot_displacement(ns_ts, ew_ts):\n",
    "    \n",
    "    days = get_days(ns_ts.index)\n",
    "    fig, ax = plt.subplots(figsize=(15,5))\n",
    "    \n",
    "    ax.plot(ns_ts['displacement'], color='blue', label='NS displacement (m)', marker='o', linewidth=2)\n",
    "    ax.plot(ew_ts['displacement'], color='orange', label='EW displacement (m)', marker='o', linewidth=2)\n",
    "    \n",
    "    plt.legend(loc='best')\n",
    "    \n",
    "def plot_displacement_velocity(ns_ts, ew_ts):\n",
    "\n",
    "    days = get_days(ns_ts[0].index)\n",
    "\n",
    "    fig, ax_left = plt.subplots(figsize=(15,5))\n",
    "    ax_right = ax_left.twinx()\n",
    "\n",
    "    p1, = ax_left.plot(days, df_series[4]['displacement'], color='blue', label='NS displacement (m)')\n",
    "    p2, = ax_right.plot(days, df_series[4]['displacement'], color='orange', label='EW displacement(m)')\n",
    "\n",
    "    ax_left.set_xlabel(\"number of days since the first measure\")\n",
    "    ax_left.set_ylabel(\"displacement\")\n",
    "    ax_right.set_ylabel(\"velocity\")\n",
    "\n",
    "    lns = [p1, p2]\n",
    "\n",
    "    ax_left.legend(handles=lns, loc='best')\n",
    "    fig.tight_layout()\n",
    "    plt.show()"
   ]
  },
  {
   "cell_type": "markdown",
   "id": "5dbc1d4c",
   "metadata": {},
   "source": [
    "# Clustering par Densité"
   ]
  },
  {
   "cell_type": "markdown",
   "id": "332401af",
   "metadata": {},
   "source": [
    "## HDBSCAN"
   ]
  },
  {
   "cell_type": "code",
   "execution_count": 30,
   "id": "92a07e75",
   "metadata": {},
   "outputs": [],
   "source": [
    "def plot_distribution(labels):\n",
    "    \n",
    "    v_count = dict()\n",
    "    \n",
    "    for label in labels:\n",
    "        if label != -1:\n",
    "            if label in v_count.keys():\n",
    "                v_count[label] += 1\n",
    "            else:\n",
    "                v_count[label] = 1\n",
    "            \n",
    "    pd.Series({k: v for k, v in sorted(v_count.items(), key=lambda item: item[1])}).plot(kind='bar')\n",
    "    \n",
    "    return v_count\n",
    "    \n",
    "def get_data_from_class(series, labels, num_label):\n",
    "    \n",
    "    data = []\n",
    "    \n",
    "    for i in range(len(labels)):\n",
    "        if labels[i] == num_label:\n",
    "            data.append(series[i])\n",
    "            \n",
    "    return data\n",
    "\n",
    "def visualize_cluster():\n",
    "    pass"
   ]
  },
  {
   "cell_type": "code",
   "execution_count": 19,
   "id": "1bc90adc",
   "metadata": {},
   "outputs": [],
   "source": [
    "from sklearn.manifold import TSNE\n",
    "import hdbscan"
   ]
  },
  {
   "cell_type": "code",
   "execution_count": 20,
   "id": "c4092a0f",
   "metadata": {},
   "outputs": [
    {
     "name": "stderr",
     "output_type": "stream",
     "text": [
      "/home/eost-user/miniconda3/lib/python3.9/site-packages/hdbscan/hdbscan_.py:217: UserWarning: Cannot generate Minimum Spanning Tree; the implemented Prim's does not produce the full minimum spanning tree \n",
      "  warn('Cannot generate Minimum Spanning Tree; '\n"
     ]
    },
    {
     "data": {
      "image/png": "[encoded data removed]",
      "text/plain": [
       "<Figure size 432x288 with 1 Axes>"
      ]
     },
     "metadata": {},
     "output_type": "display_data"
    }
   ],
   "source": [
    "# Normalisation\n",
    "#X =  np.array([StandardScaler().fit_transform(df).reshape(len(df)) for df in X])\n",
    "\n",
    "projection = TSNE().fit_transform(X)\n",
    "\n",
    "# il y a problème d'indice pour les couleurs de la palette\n",
    "clusterer = hdbscan.HDBSCAN(min_cluster_size=30, gen_min_span_tree=True).fit(X)\n",
    "\n",
    "color_palette = sns.color_palette('Paired', clusterer.labels_.max()+1)\n",
    "cluster_colors = [color_palette[x] if x >= 0\n",
    "                  else (0.5, 0.5, 0.5)\n",
    "                  for x in clusterer.labels_]\n",
    "cluster_member_colors = [sns.desaturate(x, p) for x, p in\n",
    "                         zip(cluster_colors, clusterer.probabilities_)]\n",
    "plt.scatter(*projection.T, s=20, c=cluster_member_colors , linewidth=0, alpha=0.25)\n",
    "plt.show()"
   ]
  },
  {
   "cell_type": "code",
   "execution_count": 173,
   "id": "453921c6",
   "metadata": {},
   "outputs": [
    {
     "data": {
      "text/plain": [
       "{0: 2059, 1: 167, 3: 265, 2: 372}"
      ]
     },
     "execution_count": 173,
     "metadata": {},
     "output_type": "execute_result"
    },
    {
     "data": {
      "image/png": "[encoded data removed]",
      "text/plain": [
       "<Figure size 432x288 with 1 Axes>"
      ]
     },
     "metadata": {},
     "output_type": "display_data"
    }
   ],
   "source": [
    "plot_distribution(clusterer.labels_)"
   ]
  },
  {
   "cell_type": "code",
   "execution_count": 37,
   "id": "4b4eb02f",
   "metadata": {},
   "outputs": [],
   "source": [
    "def plot_cluster_result(data, labels, n_cols=3):\n",
    "    \n",
    "    n_clusters = labels.max() + 1\n",
    "    n_rows = int(n_clusters / n_cols) if n_clusters % n_cols == 0 else int(math.ceil(n_clusters / n_cols))\n",
    "    fig, axs = plt.subplots(n_rows, n_cols, figsize=(25,15))\n",
    "    for num_cluster in range(n_clusters):\n",
    "        means = []\n",
    "        for serie_index in range(len(data)):\n",
    "            if labels[serie_index] == num_cluster:\n",
    "                means.append(np.array(data[serie_index].serie))\n",
    "                axs[int(num_cluster / n_cols), num_cluster % n_cols].plot(data[serie_index].serie, c='blue', alpha=0.2)\n",
    "        axs[int(num_cluster / n_cols), num_cluster % n_cols].set_title('Cluster %d'%(num_cluster + 1))\n",
    "        #axs[int(num_cluster / n_cols), num_cluster % n_cols].plot(np.average(np.vstack(means), axis=0), c='red', alpha=0.2\n",
    "    fig.tight_layout()\n",
    "\n",
    "import csv\n",
    "# créer un fichier csv contenant les champs : id, lat, lon, numero de la classe\n",
    "def save_clustering_result(data, labels):\n",
    "    \n",
    "    fieldnames = ['id', 'Lat', 'Lon', 'cluster']\n",
    "    rows = []\n",
    "    \n",
    "    for n in range(len(data)):\n",
    "        rows.append({'id': int(data[n].id), 'Lat': data[n].lat, 'Lon': data[n].lon, 'cluster': labels[n]})\n",
    "    \n",
    "    with open('clustering_result.csv', 'w', encoding='UTF8', newline='') as f:\n",
    "        writer = csv.DictWriter(f, fieldnames=fieldnames)\n",
    "        writer.writeheader()\n",
    "        writer.writerows(rows)"
   ]
  },
  {
   "cell_type": "code",
   "execution_count": 38,
   "id": "a7a5d862",
   "metadata": {},
   "outputs": [],
   "source": [
    "save_clustering_result(Data.ns, clusterer.labels_)"
   ]
  },
  {
   "cell_type": "code",
   "execution_count": 39,
   "id": "7a16deb6",
   "metadata": {},
   "outputs": [],
   "source": [
    "df = pd.read_csv('clustering_result.csv')"
   ]
  },
  {
   "cell_type": "code",
   "execution_count": null,
   "id": "6fcd8a46",
   "metadata": {},
   "outputs": [],
   "source": [
    "#labels = [n for n in clusterer.labels_]\n",
    "plot_cluster_result(Data.ns, clusterer.labels_)"
   ]
  },
  {
   "cell_type": "markdown",
   "id": "42dd2ee4",
   "metadata": {},
   "source": [
    "## HDBSCAN"
   ]
  },
  {
   "cell_type": "code",
   "execution_count": 73,
   "id": "b11b27aa",
   "metadata": {},
   "outputs": [],
   "source": [
    "def plot_kmeans_clusters_shape(data, km, n_cols=3):\n",
    "    \n",
    "    n_rows = int(km.n_clusters / n_cols) if km.n_clusters % n_cols == 0 else int(math.ceil(km.n_clusters / n_cols))\n",
    "    fig, axs = plt.subplots(n_rows, n_cols, figsize=(25,15))\n",
    "\n",
    "    for num_cluster in range(km.n_clusters):\n",
    "        for serie_index in range(len(data)):\n",
    "            if km.labels_[serie_index] == num_cluster:\n",
    "                axs[int(num_cluster / n_cols), num_cluster % n_cols].plot(data[serie_index], c=\"blue\", alpha=0.2)\n",
    "\n",
    "        axs[int(num_cluster / n_cols), num_cluster % n_cols].plot(km.cluster_centers_[num_cluster].ravel(), \"r-\")\n",
    "        axs[int(num_cluster / n_cols), num_cluster % n_cols].set_title('Cluster %d'%(num_cluster + 1))\n",
    "        "
   ]
  },
  {
   "cell_type": "markdown",
   "id": "7f06afed",
   "metadata": {},
   "source": [
    "## Kmeans"
   ]
  },
  {
   "cell_type": "code",
   "execution_count": 38,
   "id": "77e3250e",
   "metadata": {},
   "outputs": [],
   "source": [
    "def compute_distances_matrix(series):\n",
    "    \n",
    "    # initialisation de la matrix des distances\n",
    "    distances_matrix = np.zeros(shape=(len(series), len(series)))\n",
    "    \n",
    "    # calcul des distances et remplissage de la matrice de distance\n",
    "    for n in range(len(series)):\n",
    "        for m in range(len(series)):\n",
    "            x = series[n]['velocity'].dropna(inplace=False)\n",
    "            y = series[m]['velocity'].dropna(inplace=False)\n",
    "            dist = dtw.distance(x, y)\n",
    "            distances_matrix[n, m] = dist\n",
    "                \n",
    "    return distances_matrix"
   ]
  },
  {
   "cell_type": "markdown",
   "id": "d18d0ec6",
   "metadata": {},
   "source": [
    "# Classification des séries temporelles"
   ]
  },
  {
   "cell_type": "code",
   "execution_count": 37,
   "id": "5bc1c5fb",
   "metadata": {},
   "outputs": [
    {
     "ename": "NameError",
     "evalue": "name 'transformer' is not defined",
     "output_type": "error",
     "traceback": [
      "\u001b[0;31m---------------------------------------------------------------------------\u001b[0m",
      "\u001b[0;31mNameError\u001b[0m                                 Traceback (most recent call last)",
      "\u001b[0;32m<ipython-input-37-fdb3fbb714d4>\u001b[0m in \u001b[0;36m<module>\u001b[0;34m\u001b[0m\n\u001b[1;32m      1\u001b[0m \u001b[0;31m# recherchons une source\u001b[0m\u001b[0;34m\u001b[0m\u001b[0;34m\u001b[0m\u001b[0;34m\u001b[0m\u001b[0m\n\u001b[1;32m      2\u001b[0m \u001b[0;31m# S = WX\u001b[0m\u001b[0;34m\u001b[0m\u001b[0;34m\u001b[0m\u001b[0;34m\u001b[0m\u001b[0m\n\u001b[0;32m----> 3\u001b[0;31m \u001b[0mtransformer\u001b[0m\u001b[0;34m.\u001b[0m\u001b[0mcomponents_\u001b[0m\u001b[0;34m.\u001b[0m\u001b[0mshape\u001b[0m \u001b[0;31m#(20, 87)\u001b[0m\u001b[0;34m\u001b[0m\u001b[0;34m\u001b[0m\u001b[0m\n\u001b[0m\u001b[1;32m      4\u001b[0m \u001b[0;31m# calculons l'activité d'une source\u001b[0m\u001b[0;34m\u001b[0m\u001b[0;34m\u001b[0m\u001b[0;34m\u001b[0m\u001b[0m\n\u001b[1;32m      5\u001b[0m \u001b[0msource\u001b[0m \u001b[0;34m=\u001b[0m \u001b[0mnp\u001b[0m\u001b[0;34m.\u001b[0m\u001b[0mdot\u001b[0m\u001b[0;34m(\u001b[0m\u001b[0mX\u001b[0m\u001b[0;34m,\u001b[0m \u001b[0mtransformer\u001b[0m\u001b[0;34m.\u001b[0m\u001b[0mcomponents_\u001b[0m\u001b[0;34m[\u001b[0m\u001b[0;36m0\u001b[0m\u001b[0;34m]\u001b[0m\u001b[0;34m)\u001b[0m\u001b[0;34m\u001b[0m\u001b[0;34m\u001b[0m\u001b[0m\n",
      "\u001b[0;31mNameError\u001b[0m: name 'transformer' is not defined"
     ]
    }
   ],
   "source": [
    "# recherchons une source\n",
    "# S = WX\n",
    "transformer.components_.shape #(20, 87)\n",
    "# calculons l'activité d'une source\n",
    "source = np.dot(X, transformer.components_[0])\n",
    "# passage de S à X\n",
    "np.dot(transformer.mixing_[:,0], source)"
   ]
  },
  {
   "cell_type": "code",
   "execution_count": 30,
   "id": "591ad0a8",
   "metadata": {},
   "outputs": [
    {
     "name": "stderr",
     "output_type": "stream",
     "text": [
      "/home/eost-user/miniconda3/lib/python3.9/site-packages/sklearn/decomposition/_fastica.py:118: ConvergenceWarning: FastICA did not converge. Consider increasing tolerance or the maximum number of iterations.\n",
      "  warnings.warn('FastICA did not converge. Consider increasing '\n"
     ]
    },
    {
     "data": {
      "text/plain": [
       "(1797, 7)"
      ]
     },
     "execution_count": 30,
     "metadata": {},
     "output_type": "execute_result"
    }
   ],
   "source": [
    "from sklearn.datasets import load_digits\n",
    "from sklearn.decomposition import FastICA\n",
    "\n",
    "X, _ = load_digits(return_X_y=True)\n",
    "transformer = FastICA(n_components=7, random_state=0)\n",
    "X_transformed = transformer.fit_transform(X)\n",
    "X_transformed.shape"
   ]
  },
  {
   "cell_type": "markdown",
   "id": "fa81fd14",
   "metadata": {},
   "source": [
    "## Décomposition en composantes indépendantes"
   ]
  },
  {
   "cell_type": "markdown",
   "id": "73d72a4d",
   "metadata": {},
   "source": [
    "# Significativité des régressions linéaires\n",
    "* p-value : probabilité que la pente soit nulle\n",
    "* Hypothèse nulle HO : la pente de la droite de regression est nulle  (vitesse moyenne non significative)\n",
    "* si la p-value est inférieure à 0.05 alors l'hypothèse nulle est rejetée (vitesse moyenne est significative)."
   ]
  },
  {
   "cell_type": "code",
   "execution_count": 75,
   "id": "8cc7e66b",
   "metadata": {},
   "outputs": [],
   "source": [
    "from sklearn.linear_model import LinearRegression\n",
    "from sklearn.metrics import r2_score\n",
    "from statsmodels.api import add_constant\n",
    "import statsmodels.api as sm"
   ]
  },
  {
   "cell_type": "code",
   "execution_count": 90,
   "id": "5be0170f",
   "metadata": {},
   "outputs": [],
   "source": [
    "def get_days(dates):\n",
    "    days = []\n",
    "    for i in range(len(dates)):\n",
    "        days.append(abs((dates[0] - dates[i]).days ))\n",
    "    return days\n",
    "\n",
    "def get_xy(serie):\n",
    "    X = get_days(serie.index)\n",
    "    y = StandardScaler().fit_transform(serie)\n",
    "    return np.array(X).reshape(-1,1), y\n",
    "\n",
    "def compute_linear_regression(X,y):\n",
    "    \n",
    "    X_ = add_constant(X)\n",
    "    mod = sm.OLS(y,X_)\n",
    "    fii = mod.fit()\n",
    "    \n",
    "    return fii.params, fii.pvalues\n",
    "\n",
    "def compute_slope(displacement, days):\n",
    "    \n",
    "    return  np.cov(displacement, days)[0][1] / np.var(np.array(days))"
   ]
  },
  {
   "cell_type": "markdown",
   "id": "87ab394c",
   "metadata": {},
   "source": [
    "## Test de Dickey-Fuller augmenté (ADF)\n",
    "La série temporelle est considérée comme stationnaire si la valeur p est faible (selon l’hypothèse nulle) et si les valeurs critiques à des intervalles de confiance de 1%, 5%, 10% sont aussi proches que possible des statistiques de l’ADF (Augmented Dickey-Fuller)"
   ]
  },
  {
   "cell_type": "markdown",
   "id": "bf6f1541",
   "metadata": {},
   "source": [
    "# Réechantillonage des données"
   ]
  },
  {
   "cell_type": "markdown",
   "id": "85e50929",
   "metadata": {},
   "source": [
    "# Etude de la saisonnalité"
   ]
  },
  {
   "cell_type": "code",
   "execution_count": null,
   "id": "94ca0b10",
   "metadata": {},
   "outputs": [],
   "source": [
    "import simplekml\n",
    "kml=simplekml.Kml()\n",
    "style = simplekml.Style()\n",
    "style.labelstyle.color = simplekml.Color.red  \n",
    "style.labelstyle.scale = 2\n",
    "style.iconstyle.icon.href = 'http://maps.google.com/mapfiles/kml/shapes/placemark_circle.png'\n",
    "for index, row in df.iterrows():\n",
    "    kml.newpoint(name=row['Vel'], coords=[(row['Lat'], row['Lon'], row['Topo'])])\n",
    "kml.save('ps.kml')  "
   ]
  }
 ],
 "metadata": {
  "kernelspec": {
   "display_name": "Python 3",
   "language": "python",
   "name": "python3"
  },
  "language_info": {
   "codemirror_mode": {
    "name": "ipython",
    "version": 3
   },
   "file_extension": ".py",
   "mimetype": "text/x-python",
   "name": "python",
   "nbconvert_exporter": "python",
   "pygments_lexer": "ipython3",
   "version": "3.9.1"
  }
 },
 "nbformat": 4,
 "nbformat_minor": 5
}

{
 "cells": [
  {
   "cell_type": "markdown",
   "id": "aa0c478f",
   "metadata": {},
   "source": [
    "# Auteur : PAMBOU MOUBOGHA Eddy Vianney\n",
    "# Etudes : Master Sciences des Donnees et Systèmes Complexes\n",
    "# Ecole : Université de Strasbourg\n",
    "# Sujet :  Detection de glissements de terrain"
   ]
  },
  {
   "cell_type": "code",
   "execution_count": 152,
   "id": "1b2219c2",
   "metadata": {},
   "outputs": [],
   "source": [
    "import pandas as pd\n",
    "import numpy as np\n",
    "import os\n",
    "import matplotlib.pyplot as plt\n",
    "import csv\n",
    "from datetime import date, datetime\n",
    "import datetime\n",
    "from tslearn.barycenters import dtw_barycenter_averaging\n",
    "from tslearn.clustering import TimeSeriesKMeans\n",
    "from sklearn.cluster import KMeans\n",
    "from sklearn.decomposition import PCA, FastICA\n",
    "from sklearn.preprocessing import StandardScaler, MinMaxScaler\n",
    "from sklearn.feature_selection import f_regression\n",
    "from statsmodels.tsa.stattools import adfuller\n",
    "from sklearn.manifold import TSNE\n",
    "import hdbscan\n",
    "import csv\n",
    "import multiprocessing\n",
    "import itertools\n",
    "import operator\n",
    "import math\n",
    "from dtaidistance import dtw\n",
    "import seaborn as sns\n",
    "import elevation\n",
    "import json\n",
    "plt.style.use('fivethirtyeight')\n",
    "from osgeo import gdal \n",
    "from subprocess import Popen"
   ]
  },
  {
   "cell_type": "markdown",
   "id": "378b759e",
   "metadata": {},
   "source": [
    "# Attributs des fichiers MM_TIO"
   ]
  },
  {
   "cell_type": "markdown",
   "id": "19355f89",
   "metadata": {},
   "source": [
    "* Lat : latitude (degré)\n",
    "* Lon : longitude (degré)\n",
    "* Vel : vitesse (mètre/jour)\n",
    "* Topo : altitude d'un point (mètre)\n",
    "* TS : serie temporelles de déplacement (mètre)"
   ]
  },
  {
   "cell_type": "code",
   "execution_count": 2,
   "id": "212656fe",
   "metadata": {},
   "outputs": [],
   "source": [
    "DATA_PATH = './donnees'"
   ]
  },
  {
   "cell_type": "markdown",
   "id": "9f392345",
   "metadata": {},
   "source": [
    "# Paramètres des géométries ascendante et descendante"
   ]
  },
  {
   "cell_type": "code",
   "execution_count": 3,
   "id": "d07c2e6e",
   "metadata": {},
   "outputs": [],
   "source": [
    "# angle d'incidence du satellite en géométrie ascendante (angle entre la vertical et la direction du  satellite)\n",
    "theta_asc = 0\n",
    "# angle d'incidence du satelitte en géométrie descendante (angle entre la vertical et la direction du satellite)\n",
    "theta_desc = 0\n",
    "# difference angulaire des orbites des géométries ascendante et descendante\n",
    "delta_alpha =  0\n",
    "# déplacement le long de la ligne de visée en géométrie ascendante\n",
    "d_los_asc = 0\n",
    "# déplacement le long de la ligne de visée en géométrie descendante\n",
    "d_los_dsc = 0\n",
    "# # déplacement vertical\n",
    "d_up = 0"
   ]
  },
  {
   "cell_type": "markdown",
   "id": "54df763e",
   "metadata": {},
   "source": [
    "# Chargement des données"
   ]
  },
  {
   "cell_type": "code",
   "execution_count": 148,
   "id": "40eb4e86",
   "metadata": {},
   "outputs": [],
   "source": [
    "def get_slope_value(file, lat, lon, ref='wgs84'):\n",
    "    return float(os.popen('gdallocationinfo -valonly -%s %s %f %f' % (ref, file, lat, lon)).read())\n",
    "    \n",
    "def plot_raster(raster, cmap='gray'):\n",
    "    values = raster.GetRasterBand(1).ReadAsArray()\n",
    "    plt.figure()\n",
    "    plt.imshow(values, cmap = cmap)\n",
    "    plt.colorbar()\n",
    "    plt.show()"
   ]
  },
  {
   "cell_type": "code",
   "execution_count": 347,
   "id": "f56ccc43",
   "metadata": {},
   "outputs": [
    {
     "data": {
      "text/html": [
       "<div>\n",
       "<style scoped>\n",
       "    .dataframe tbody tr th:only-of-type {\n",
       "        vertical-align: middle;\n",
       "    }\n",
       "\n",
       "    .dataframe tbody tr th {\n",
       "        vertical-align: top;\n",
       "    }\n",
       "\n",
       "    .dataframe thead th {\n",
       "        text-align: right;\n",
       "    }\n",
       "</style>\n",
       "<table border=\"1\" class=\"dataframe\">\n",
       "  <thead>\n",
       "    <tr style=\"text-align: right;\">\n",
       "      <th></th>\n",
       "      <th>id</th>\n",
       "      <th>Lat</th>\n",
       "      <th>Lon</th>\n",
       "      <th>Topo</th>\n",
       "      <th>Vel</th>\n",
       "      <th>Coer</th>\n",
       "      <th>CosN</th>\n",
       "      <th>CosE</th>\n",
       "      <th>CosU</th>\n",
       "    </tr>\n",
       "  </thead>\n",
       "  <tbody>\n",
       "    <tr>\n",
       "      <th>87309</th>\n",
       "      <td>87310</td>\n",
       "      <td>6.662360</td>\n",
       "      <td>44.394169</td>\n",
       "      <td>1283.00</td>\n",
       "      <td>-0.0025</td>\n",
       "      <td>0.0559</td>\n",
       "      <td>0.0</td>\n",
       "      <td>1.0</td>\n",
       "      <td>0.0</td>\n",
       "    </tr>\n",
       "    <tr>\n",
       "      <th>87310</th>\n",
       "      <td>87311</td>\n",
       "      <td>6.662486</td>\n",
       "      <td>44.394165</td>\n",
       "      <td>1280.52</td>\n",
       "      <td>-0.0025</td>\n",
       "      <td>0.0560</td>\n",
       "      <td>0.0</td>\n",
       "      <td>1.0</td>\n",
       "      <td>0.0</td>\n",
       "    </tr>\n",
       "    <tr>\n",
       "      <th>87311</th>\n",
       "      <td>87312</td>\n",
       "      <td>6.662611</td>\n",
       "      <td>44.394161</td>\n",
       "      <td>1277.93</td>\n",
       "      <td>-0.0025</td>\n",
       "      <td>0.0561</td>\n",
       "      <td>0.0</td>\n",
       "      <td>1.0</td>\n",
       "      <td>0.0</td>\n",
       "    </tr>\n",
       "    <tr>\n",
       "      <th>87312</th>\n",
       "      <td>87313</td>\n",
       "      <td>6.662736</td>\n",
       "      <td>44.394157</td>\n",
       "      <td>1275.00</td>\n",
       "      <td>-0.0025</td>\n",
       "      <td>0.0562</td>\n",
       "      <td>0.0</td>\n",
       "      <td>1.0</td>\n",
       "      <td>0.0</td>\n",
       "    </tr>\n",
       "    <tr>\n",
       "      <th>87313</th>\n",
       "      <td>87314</td>\n",
       "      <td>6.662861</td>\n",
       "      <td>44.394153</td>\n",
       "      <td>1271.63</td>\n",
       "      <td>NaN</td>\n",
       "      <td>0.0000</td>\n",
       "      <td>0.0</td>\n",
       "      <td>1.0</td>\n",
       "      <td>0.0</td>\n",
       "    </tr>\n",
       "  </tbody>\n",
       "</table>\n",
       "</div>"
      ],
      "text/plain": [
       "          id       Lat        Lon     Topo     Vel    Coer   CosN  CosE  CosU\n",
       "87309  87310  6.662360  44.394169  1283.00 -0.0025  0.0559    0.0   1.0   0.0\n",
       "87310  87311  6.662486  44.394165  1280.52 -0.0025  0.0560    0.0   1.0   0.0\n",
       "87311  87312  6.662611  44.394161  1277.93 -0.0025  0.0561    0.0   1.0   0.0\n",
       "87312  87313  6.662736  44.394157  1275.00 -0.0025  0.0562    0.0   1.0   0.0\n",
       "87313  87314  6.662861  44.394153  1271.63     NaN  0.0000    0.0   1.0   0.0"
      ]
     },
     "execution_count": 347,
     "metadata": {},
     "output_type": "execute_result"
    }
   ],
   "source": [
    "df_ew.tail()"
   ]
  },
  {
   "cell_type": "code",
   "execution_count": 349,
   "id": "6518b830",
   "metadata": {},
   "outputs": [
    {
     "name": "stdout",
     "output_type": "stream",
     "text": [
      "20.899076461792\n",
      "\n"
     ]
    }
   ],
   "source": [
    "def get_slope_value(ref, file, lat, lon):\n",
    "        val = os.popen('gdallocationinfo -valonly -%s %s %f %f' % (ref, file, lat, lon)).read()\n",
    "        if len(val) == 0:\n",
    "            raise ValueError('La pente est non valide !')\n",
    "        print(val)\n",
    "        return  float(val)\n",
    "    \n",
    "ref = 'wgs84'\n",
    "file = 'rasters/slope_map.tif'\n",
    "lat = 6.662360\n",
    "lon = 44.394169\n",
    "\n",
    "val = os.popen('gdallocationinfo -valonly -%s %s %f %f' % (ref, file, lat, lon)).read()\n",
    "print(val)"
   ]
  },
  {
   "cell_type": "code",
   "execution_count": 331,
   "id": "ef431d3f",
   "metadata": {},
   "outputs": [],
   "source": [
    "dem = gdal.Open('rasters/31TGK_copernicus_dem.tif')\n",
    "slope_map = gdal.DEMProcessing('rasters/slope_map.tif', dem, 'slope', computeEdges = True)"
   ]
  },
  {
   "cell_type": "code",
   "execution_count": 329,
   "id": "c67d3515",
   "metadata": {},
   "outputs": [
    {
     "data": {
      "text/plain": [
       "array([ 6.377817, 30.392817, 31.132748, ..., 31.502447, 29.257454,\n",
       "       21.393751], dtype=float32)"
      ]
     },
     "execution_count": 329,
     "metadata": {},
     "output_type": "execute_result"
    }
   ],
   "source": [
    "values = slope_map.GetRasterBand(1).ReadAsArray()\n",
    "values[0]"
   ]
  },
  {
   "cell_type": "code",
   "execution_count": 330,
   "id": "cabf9624",
   "metadata": {},
   "outputs": [
    {
     "data": {
      "image/png": "[encoded data removed]",
      "text/plain": [
       "<Figure size 432x288 with 2 Axes>"
      ]
     },
     "metadata": {},
     "output_type": "display_data"
    }
   ],
   "source": [
    "plot_raster(dem)"
   ]
  },
  {
   "cell_type": "code",
   "execution_count": 172,
   "id": "0623a569",
   "metadata": {},
   "outputs": [],
   "source": [
    "def load_data_from_json():\n",
    "    for i, (dirpath, dirnames, filenames) in enumerate(os.walk('./secteurs')):\n",
    "        file_path = os.path.join(dirpath, filename)\n",
    "        file = json.load(open(file_path))\n",
    "        nb_lines   = p['local']['nb_lines']\n",
    "        nb_columns = p['local']['nb_columns']\n",
    "        for nl in range(nb_lines):\n",
    "            for nc in range(nb_columns):\n",
    "                latitude  = file['data'][nl][nc][0]\n",
    "                longitude = file['data'][nl][nc][1]\n",
    "                elevation = file['data'][nl][nc][2]\n",
    "                velocity  = file['data'][nl][nc][3]\n",
    "                quality   = file['data'][nl][nc][4]\n",
    "                serie     = file['data'][nl][nc][5:]"
   ]
  },
  {
   "cell_type": "code",
   "execution_count": 75,
   "id": "708aa22c",
   "metadata": {},
   "outputs": [],
   "source": [
    "def to_date(str):\n",
    "    str_strp = str.strip()\n",
    "    year, month, day = int(str_strp[0:4]), int(str_strp[4:6]), int(str_strp[6:8])\n",
    "    return date(year, month, day)\n",
    "\n",
    "def load_data(filename):\n",
    "\n",
    "    # numéro de la ligne ou commence les données\n",
    "    num_start = 44\n",
    "    # numéro de la ligne ou se trouve la liste des dates\n",
    "    num_list_dates = 40\n",
    "    # attributs présent dans les données\n",
    "    columns = ['id', 'Lat','Lon', 'Topo', 'Vel', 'Coer',' CosN', 'CosE', 'CosU']\n",
    "    # dictionnaire stockant les données\n",
    "    data = {column: [] for column in columns}\n",
    "    # liste des dates \n",
    "    indexes = []\n",
    "    # series temporelles\n",
    "    series = []\n",
    "    # liste de dataframes\n",
    "    df_series = []\n",
    "\n",
    "    with open(DATA_PATH + '/' + filename) as csv_file:\n",
    "        csv_reader = csv.reader(csv_file, delimiter=\",\")\n",
    "        line_count = 1 \n",
    "        for row in csv_reader:\n",
    "            if line_count == num_list_dates:\n",
    "                indexes = [row[0].split(' ')[1]] + row[1:]\n",
    "            if line_count >= num_start:\n",
    "                # extraction des premiers attributs\n",
    "                for i in range(len(columns)):\n",
    "                    data[columns[i]].append(row[i])\n",
    "                # extraction de l'attribut TS(série temporelle)\n",
    "                series.append([float(v) for v in row[len(columns):]])\n",
    "            line_count  += 1\n",
    "        if len(indexes) != len(series[0]):\n",
    "            print('Erreur : Les indexes et les valeurs ne correspondent pas')\n",
    "        # convertir les index en date\n",
    "        indexes = [d.strip()[0:8] for d in indexes]\n",
    "        # créer une liste de dataframes, chacun contenant une série temporelle\n",
    "        for serie in series:\n",
    "            tmp_serie = pd.DataFrame({'displacement': pd.Series(serie, index=pd.DatetimeIndex(indexes))})\n",
    "            tmp_serie.sort_index(inplace=True)\n",
    "            df_series.append(tmp_serie)\n",
    "        # creer un dataframe pour les autres attributs\n",
    "        df = pd.DataFrame(data)\n",
    "        for column in df.columns:\n",
    "            df[column] = pd.to_numeric(df[column], errors='coerce')\n",
    "        df.set_index('id')\n",
    "        \n",
    "    return df, df_series\n",
    "\n",
    "\n",
    "def get_ids(df, column='id'):\n",
    "    \n",
    "    return df[column].tolist()\n",
    "        \n",
    "def impute(series, ids, pc=0.4):\n",
    "    \n",
    "    result = []\n",
    "    ids_to_not_keep = []\n",
    "    n_samples = len(series[0])\n",
    "    \n",
    "    for i in range(len(series)):\n",
    "        if 100*(series[i].isnull().sum().sum()/n_samples) < pc:\n",
    "            result.append(series[i].interpolate(limit_direction='both', inplace=False))\n",
    "        else:\n",
    "            ids_to_not_keep.append(ids[i])\n",
    "            \n",
    "    return result, ids_to_not_keep\n",
    "\n",
    "def imputed(serie, index=None):\n",
    "    \n",
    "    # dataframe resultat\n",
    "    result = None\n",
    "    \n",
    "    # liste des identifiants des valeurs manquantes\n",
    "    rows_with_nan = [index for index, row in serie.iterrows() if row.isnull().any()]\n",
    "    \n",
    "    if index is None:\n",
    "        result = serie.dropna(inplace=False)\n",
    "        \n",
    "    if isinstance(index, list):\n",
    "        pass\n",
    "        \n",
    "    return result, rows_with_nan\n",
    "        \n",
    "\n",
    "# imputer les données\n",
    "def impute_(ns_series, ew_series, pc=0.4):\n",
    "\n",
    "    # nombre de mésures\n",
    "    n = len(ns_series[0])\n",
    "    \n",
    "    # recupérer les series de la composante Nord-Sud qui ont un pourcentage de valeurs manquuantes inferieur à 50%\n",
    "    ns_booleans  = [True if (ns_series[i].isnull().sum().sum()/n) < pc else False for i in range(len(ns_series))]\n",
    "    # recupérer les series de la composante Est-Ouest qui ont un pourcentage de valeurs manquuantes inferieur à 50%\n",
    "    ew_booleans  = [True if (ew_series[i].isnull().sum().sum()/n) < pc else False for i in range(len(ew_series))]\n",
    "    # Conserver uniquement les points où la norme du vecteur vitesse est calculable\n",
    "    booleans     = [True if i and j else False for i, j in zip(ns_booleans, ew_booleans)]\n",
    "    \n",
    "    # suppression des séries temporelles qui ont un pourcentage de valeurs manquantes supérieure ou égale à 0.5\n",
    "    ns_series_c = [d for d in itertools.compress(ns_series, booleans)]\n",
    "    ew_series_c = [d for d in itertools.compress(ew_series, booleans)]\n",
    "    \n",
    "    # interpoler les valeurs manquantes des les séries restantes\n",
    "    for i in range(len(ns_series_c)):\n",
    "        if ns_series_c[i].isnull().sum().sum() > 0:\n",
    "            ns_series_c[i].interpolate(limit_direction='both', inplace=True)\n",
    "        if ew_series_c[i].isnull().sum().sum() > 0:\n",
    "            ew_series_c[i].interpolate(limit_direction='both', inplace=True)\n",
    "            \n",
    "    return ns_series_c[0].index, ew_series_c, ns_series_c"
   ]
  },
  {
   "cell_type": "code",
   "execution_count": 387,
   "id": "78691261",
   "metadata": {},
   "outputs": [],
   "source": [
    "class TimeSerie():\n",
    "    \n",
    "    def __init__(self, id_, lat, lon, topo, serie):\n",
    "        self.id   = id_\n",
    "        self.lat  = lat\n",
    "        self.lon  = lon\n",
    "        self.topo = topo\n",
    "        self.serie = serie\n",
    "        self.selected = False\n",
    "    \n",
    "    def set_selected(self):\n",
    "        self.selected = !self.selected\n",
    "        \n",
    "    def get_linear_reg_pval(self, alpha):\n",
    "        \n",
    "        # transformer les index en durée pour pouvoire effectuer une regression linéaire\n",
    "        X = np.array([abs((self.serie.index[0] - self.serie.index[n]).days) for n in range(len(self.serie.index))]).reshape(-1,1)\n",
    "        \n",
    "        # extraire la cible\n",
    "        y = StandardScaler().fit_transform(self.serie)\n",
    "        \n",
    "        # calculer la p-value de la regression lineaire\n",
    "        _, pval = f_regression(X,y.ravel())\n",
    "        \n",
    "        return  pval\n",
    "    \n",
    "    def set_linear_reg_pvalue(pvalue):\n",
    "        self.linear_reg_pvalue = pvalue\n",
    "        \n",
    "    def set_slope(slope):\n",
    "        self.slope = slope\n",
    "        \n",
    "    def get_slope_value(self, ref, file):\n",
    "        val = os.popen('gdallocationinfo -valonly -%s %s %f %f' % (ref, file, self.lat, self.lon)).read()\n",
    "        if len(val) == 0:\n",
    "            raise ValueError('La pente est non valide !')\n",
    "        return  float(val)\n",
    "            \n",
    "    def is_to_select(self, file, ref, min_slope, alpha):\n",
    "        slope   = self.get_slope_value(ref, file)\n",
    "        p_value = self.get_linear_reg_pval(alpha)\n",
    "        # on filtre les pentes faibles \n",
    "        if slope < min_slope:\n",
    "            return False\n",
    "        # regression linéaire non significative\n",
    "        if p_value > alpha:\n",
    "            return False\n",
    "        self.set_selected()\n",
    "        return True\n",
    "\n",
    "    def set_linear_reg_pvalue(self, pvalue):\n",
    "        self.linear_reg_pvalue = pvalue\n",
    "        \n",
    "    def load(self, displacement):\n",
    "        return serie.dropna(inplace=False)\n",
    "    \n",
    "    def has_enough_values(self, pc):\n",
    "        return True if 100*(self.serie.displacement.isnull().sum().sum()/len(self.serie)) < pc else False\n",
    "        \n",
    "    def normalize(self):\n",
    "        return StandardScaler().fit_transform(self.serie)\n",
    "        \n",
    "    def compute_inst_vel(self):\n",
    "        vels =  []\n",
    "        for i in range(1, len(self.serie)-1):\n",
    "            duration = (self.serie.index[i+1] - self.serie.index[i-1]).days\n",
    "            displacement = self.serie.iloc[i+1].values[0] - self.serie.iloc[i-1].values[0]\n",
    "            vels.append(displacement / duration)\n",
    "        # supprimer le premier et le dernier index (formule non applicable)\n",
    "        return pd.DataFrame(vels, index=self.serie.index[1:-1], columns=['vel'])\n",
    "    \n",
    "    def smooth(self, ampl=2):\n",
    "        sigma = math.sqrt(self.serie.var())\n",
    "        for i in range(len(self.serie)):\n",
    "            if abs(self.serie.iloc[i].displacement) > ampl*sigma:\n",
    "                # remplacer les anomalies par des valeurs manquantes\n",
    "                self.serie.iloc[i, self.serie.columns.get_loc('displacement')]= np.nan\n",
    "        return self.clone(self.serie.interpolate(limit_direction='both', inplace=False).copy())\n",
    "    \n",
    "    def detect_non_moving_serie(self, alpha):\n",
    "        \n",
    "        # transformer les index en durée pour pouvoire effectuer une regression linéaire\n",
    "        X = np.array([abs((self.serie.index[0] - self.serie.index[n]).days) for n in range(len(self.serie.index))]).reshape(-1,1)\n",
    "        \n",
    "        # extraire la cible\n",
    "        y = StandardScaler().fit_transform(self.serie)\n",
    "        \n",
    "        # calculer la p-value de la regression lineaire\n",
    "        _, pval = f_regression(X,y.ravel())\n",
    "        self.set_linear_reg_pvalue(pval)\n",
    "            \n",
    "        # eliminer le bruit si la regression n'est pas significative (bourrage de zeros)\n",
    "        if pval > alpha:\n",
    "            #return self.clone(pd.DataFrame(0.0, index=self.serie.index, columns=self.serie.columns))\n",
    "            return self.deepcopy(pd.DataFrame(0.0, index=self.serie.index, columns=self.serie.columns))\n",
    "                \n",
    "        else:\n",
    "            #return self.clone(self.serie.copy())\n",
    "            return self.deepcopy(self.serie.copy())\n",
    "        \n",
    "    def deepcopy(self, serie):\n",
    "        clone = copy.deepcopy(self)\n",
    "        clone.set_serie(serie)\n",
    "        return clone\n",
    "    \n",
    "    def set_serie(self,serie):\n",
    "        self.serie = serie\n",
    "        \n",
    "    def compute_adfuller(self, ts):\n",
    "        adf_result = adfuller(ts)\n",
    "        adf_output = pd.Series(adf_result[0:4],index=['Test Statistic','p-value','#Lags Used','Number of Observations Used'])\n",
    "        for key, value in adf_result[4].items():\n",
    "            adf_output['Critical Value (%s)'%(key)] = value\n",
    "        return adf_output[1]\n",
    "        \n",
    "    # Il y a un souci avec cette fonction\n",
    "    def clone(self, serie):\n",
    "        \n",
    "        return TimeSerie(self.id, self.lat, self.lon, self.topo, serie)\n",
    "    \n",
    "    def get_days(dates):\n",
    "        days = []\n",
    "        for i in range(len(dates)):\n",
    "            days.append(abs((dates[0] - dates[i]).days ))\n",
    "        return days\n",
    "\n",
    "    def get_Xy(self, serie):\n",
    "        X = get_days(serie.index)\n",
    "        y = StandardScaler().fit_transform(serie)\n",
    "        return np.array(X).reshape(-1,1), y"
   ]
  },
  {
   "cell_type": "code",
   "execution_count": 368,
   "id": "a8cf08ec",
   "metadata": {},
   "outputs": [],
   "source": [
    "class Test():\n",
    "    def __init__(self):\n",
    "        self.v = 0\n",
    "        \n",
    "    def set_v(self):\n",
    "        self.v = 10\n",
    "        \n",
    "    def clone(self):\n",
    "        return self"
   ]
  },
  {
   "cell_type": "code",
   "execution_count": 392,
   "id": "6855797b",
   "metadata": {},
   "outputs": [],
   "source": [
    "tt = Test()\n",
    "tt.set_v()\n",
    "tt.v"
   ]
  },
  {
   "cell_type": "code",
   "execution_count": 384,
   "id": "e8f59dde",
   "metadata": {},
   "outputs": [],
   "source": [
    "import copy\n",
    "u = copy.deepcopy(tt)"
   ]
  },
  {
   "cell_type": "code",
   "execution_count": 383,
   "id": "c5fff2b3",
   "metadata": {},
   "outputs": [
    {
     "data": {
      "text/plain": [
       "0"
      ]
     },
     "execution_count": 383,
     "metadata": {},
     "output_type": "execute_result"
    }
   ],
   "source": [
    "u.v"
   ]
  },
  {
   "cell_type": "code",
   "execution_count": 377,
   "id": "d259b070",
   "metadata": {},
   "outputs": [
    {
     "data": {
      "text/plain": [
       "10"
      ]
     },
     "execution_count": 377,
     "metadata": {},
     "output_type": "execute_result"
    }
   ],
   "source": [
    "p.v\n",
    "p.set_v()\n",
    "p.v"
   ]
  },
  {
   "cell_type": "code",
   "execution_count": 362,
   "id": "69341252",
   "metadata": {},
   "outputs": [],
   "source": [
    "class DataFromImageCorrelation(Visualization):\n",
    "    \n",
    "    def __init__(self, raster_folder_name, dem_filename, geo, ns, ew, pc=0.4, alpha=0.05, ref='wgs84'):\n",
    "        self.ns, self.ew  = self.load(geo, ns, ew, pc)\n",
    "        self.compute_slope_map(raster_folder_name, dem_filename)\n",
    "        self.n_cores = multiprocessing.cpu_count()\n",
    "        self.non_filtered_ids = []\n",
    "        self.magnitudes = None\n",
    "        self.pc = pc \n",
    "        self.alpha = alpha\n",
    "        self.ref = ref\n",
    "    \n",
    "    def set_slope_map_path(self, slope_map_path):\n",
    "        self.slope_map_path = slope_map_path\n",
    "        \n",
    "    def select_pixel(self, n, min_slope):\n",
    "        return (self.ns[n].is_to_select(self.slope_map_path, self.ref, min_slope, self.alpha) or \n",
    "                self.ew[n].is_to_select(self.slope_map_path, self.ref, min_slope, self.alpha))\n",
    "    \n",
    "    def load_raster(self, raster_folder_name, raster_filename):\n",
    "        return gdal.Open(raster_folder_name + '/' +  raster_filename)\n",
    "        \n",
    "    def compute_slope_map(self, raster_folder_name, dem_name):\n",
    "        dem = None\n",
    "        slope_map = None\n",
    "        slope_map_name = dem_name.split('.')[0] + '_' + 'slope_map.tif'\n",
    "        slope_map_path = raster_folder_name + '/' + slope_map_name\n",
    "        if not os.path.isfile(slope_map_path):\n",
    "            dem = gdal.Open(raster_folder_name + '/'+ dem_name)\n",
    "            slope_map = gdal.DEMProcessing(slope_map_path, dem, 'slope', computeEdges = True)\n",
    "        self.set_slope_map_path(slope_map_path)\n",
    "    \n",
    "    def empty_non_filtered_ids(self):\n",
    "        self.non_filtered_ids.clear()\n",
    "        \n",
    "    def add_non_filtered_ids(self, n):\n",
    "        self.non_filtered_ids.append(self.ns[n].id)\n",
    "    \n",
    "    def load(self, geo, ns, ew, pc):\n",
    "        ns_r, ew_r = [], []\n",
    "        for i in range(len(ns)):\n",
    "            # vérifier que les séries temporelles comporte un pourcentage de valeurs null inférieure à pc et on des id identiques\n",
    "            if ns[i].isnull().sum().sum()/len(ns[i]) < pc:\n",
    "                ns_ts = ns[i].interpolate(limit_direction='both', inplace=False)\n",
    "                ew_ts = ew[i].interpolate(limit_direction='both', inplace=False)   \n",
    "                ns_r.append(TimeSerie(geo.iloc[i].id, geo.iloc[i].Lat, geo.iloc[i].Lon, geo.iloc[i].Topo, ns_ts))\n",
    "                ew_r.append(TimeSerie(geo.iloc[i].id, geo.iloc[i].Lat, geo.iloc[i].Lon, geo.iloc[i].Topo, ew_ts))\n",
    "        return ns_r, ew_r\n",
    "    \n",
    "    def compute_vel(self, ns_component, ew_component):\n",
    "        return math.sqrt(ns_component * ns_component + ew_component * ew_component)\n",
    "    \n",
    "    def compute_magnitude(self, boolean, min_slope=None):\n",
    "        \n",
    "        magnitudes = []\n",
    "        ns_vel_ts = None\n",
    "        ew_vel_ts = None\n",
    "        \n",
    "        if boolean:\n",
    "            ns_vel_ts = self.compute_inst_vels(self.ns)\n",
    "            ew_vel_ts = self.compute_inst_vels(self.ew)\n",
    "        else:\n",
    "            ns, ew    = self.transform(min_slope)\n",
    "            ns_vel_ts = self.compute_inst_vels(ns)\n",
    "            ew_vel_ts = self.compute_inst_vels(ew)\n",
    "            \n",
    "        for i in range(len(ns_vel_ts)):\n",
    "            vels = []\n",
    "            column = ns_vel_ts[0].columns[0]\n",
    "            for ns_component, ew_component in zip(ns_vel_ts[i][column], ew_vel_ts[i][column]):\n",
    "                vels.append(self.compute_vel(ns_component, ew_component))\n",
    "            df = pd.DataFrame(vels, index=ns_vel_ts[0].index, columns=['magnitude'])\n",
    "            magnitudes.append(df)\n",
    "            \n",
    "        return magnitudes\n",
    "            \n",
    "    def compute_inst_vel(self, ts):\n",
    "        \n",
    "        vels =  []\n",
    "        for i in range(1, len(ts.serie)-1):\n",
    "            duration = (ts.serie.index[i+1] - ts.serie.index[i-1]).days\n",
    "            displacement = ts.serie.iloc[i+1].values[0] - ts.serie.iloc[i-1].values[0]\n",
    "            vels.append(displacement / duration)\n",
    "        # supprimer le premier et le dernier index (formule non applicable)\n",
    "        return pd.DataFrame(vels, index=ts.serie.index[1:-1], columns=['vel'])\n",
    "    \n",
    "    def compute_inst_vels(self, ts):\n",
    "        \n",
    "        with multiprocessing.Pool(self.n_cores) as p:\n",
    "            results = p.map(self.compute_inst_vel, ts)\n",
    "            return results\n",
    "        \n",
    "    # attention pas de normalisation dans cette méthode (car elle est utilise pour le calul de vitesse)\n",
    "    def transform(self, min_slope):\n",
    "        ns, ew = [], []\n",
    "        self.empty_non_filtered_ids()\n",
    "        for n in range(len(self.ns)):\n",
    "            if self.select_pixel(n, min_slope):\n",
    "                ns.append(self.ns[n].smooth().detect_non_moving_serie(self.alpha))\n",
    "                ew.append(self.ew[n].smooth().detect_non_moving_serie(self.alpha))\n",
    "                self.add_non_filtered_ids(n)\n",
    "        return ns, ew\n",
    "    \n",
    "    # renvoyer les données pour effectuer le clustering\n",
    "    # si on n'interesse qu'à la forme, il faut normaliser les données\n",
    "    def prepare(self, min_slope):\n",
    "        self.set_magnitudes(self.compute_magnitude(False, min_slope))\n",
    "    \n",
    "    # for the moment, we only normalize velocity time series\n",
    "    def normalize(self):\n",
    "        return np.array([StandardScaler().fit_transform(df).reshape(len(df)) for df in self.magnitudes])\n",
    "    \n",
    "    def set_magnitudes(self, magnitudes):\n",
    "        self.magnitudes = magnitudes"
   ]
  },
  {
   "cell_type": "code",
   "execution_count": 212,
   "id": "3adf5eca",
   "metadata": {},
   "outputs": [],
   "source": [
    "def compute_distances_matrix(series):\n",
    "    \n",
    "    # initialisation de la matrix des distances\n",
    "    distances_matrix = np.zeros(shape=(len(series), len(series)))\n",
    "    \n",
    "    # calcul des distances et remplissage de la matrice de distance\n",
    "    for n in range(len(series)):\n",
    "        for m in range(n, len(series)):\n",
    "            if n!=m:\n",
    "                dist = dtw.distance(np.array(series[n]), np.array(series[m]))\n",
    "                distances_matrix[n, m] = dist\n",
    "                distances_matrix[m, n] = dist\n",
    "            \n",
    "    return distances_matrix"
   ]
  },
  {
   "cell_type": "code",
   "execution_count": 213,
   "id": "23235d79",
   "metadata": {},
   "outputs": [
    {
     "ename": "SyntaxError",
     "evalue": "invalid syntax (<ipython-input-213-6d15a0df6d26>, line 20)",
     "output_type": "error",
     "traceback": [
      "\u001b[0;36m  File \u001b[0;32m\"<ipython-input-213-6d15a0df6d26>\"\u001b[0;36m, line \u001b[0;32m20\u001b[0m\n\u001b[0;31m    elf, ns_ts, ew_ts):\u001b[0m\n\u001b[0m    ^\u001b[0m\n\u001b[0;31mSyntaxError\u001b[0m\u001b[0;31m:\u001b[0m invalid syntax\n"
     ]
    }
   ],
   "source": [
    "class Visualization():\n",
    "\n",
    "    \n",
    "    def __init__(self):\n",
    "        pass\n",
    "    \n",
    "    def plot_displacement(self, ts):\n",
    "        \n",
    "        days = get_days(ns_ts.index)\n",
    "        fig, ax = plt.subplots(figsize=(15,5))\n",
    "    \n",
    "        ax[0].plot(ns_ts['displacement'], color='blue', label='NS displacement (m)', marker='o', linewidth=2)\n",
    "        ax[1].plot(ew_ts['displacement'], color='orange', label='EW displacement (m)', marker='o', linewidth=2)\n",
    "        \n",
    "        plt.legend()\n",
    "        plt.legend(loc='best')\n",
    "        plt.show()\n",
    "    \n",
    "    def plot_displacement_vel(s\n",
    "elf, ns_ts, ew_ts):\n",
    "        \n",
    "        days = get_days(ns_ts[0].index)\n",
    "\n",
    "        fig, ax_left = plt.subplots(figsize=(15,5))\n",
    "        ax_right = ax_left.twinx()\n",
    "\n",
    "        p1, = ax_left.plot(days, df_series[4]['displacement'], color='blue', label='NS displacement (m)')\n",
    "        p2, = ax_right.plot(days, df_series[4]['displacement'], color='orange', label='EW displacement(m)')\n",
    "\n",
    "        ax_left.set_xlabel(\"number of days since the first measure\")\n",
    "        ax_left.set_ylabel(\"displacement\")\n",
    "        ax_right.set_ylabel(\"velocity\")\n",
    "\n",
    "        lns = [p1, p2]\n",
    "\n",
    "        ax_left.legend(handles=lns, loc='best')\n",
    "        fig.tight_layout()\n",
    "        plt.show()\n",
    "    \n",
    "    uk match\n",
    "    def plot_disp_vel(self, ns_ts, ew_ts, vels):\n",
    "\n",
    "        fig, ax = plt.subplots(3, 1, figsize=(15,10))\n",
    "\n",
    "        ax[0].plot(ns_ts, color='blue', label='displacement (m)', marker='o', linewidth=2)\n",
    "        ax[0].set_title('NS cumulative displacement')\n",
    "        ax[0].set_xlabel('time')\n",
    "        ax[0].set_ylabel('displacement')\n",
    "        ax[0].legend()\n",
    "\n",
    "        ax[1].plot(ew_ts, color='orange', label='displacement (m)', marker='o', linewidth=2)\n",
    "        ax[1].set_title('EW cumulative displacement')\n",
    "        ax[1].set_xlabel('time')\n",
    "        ax[1].set_ylabel('displacement')\n",
    "        ax[1].legend()\n",
    "\n",
    "        ax[2].plot(vels, color='green', label='velocity (m/day)', marker='o', linewidth=2)\n",
    "        ax[2].set_title('Velocity magnitude')\n",
    "        ax[2].set_xlabel('time')\n",
    "        ax[2].set_ylabel('velocity')\n",
    "        ax[2].legend()\n",
    "\n",
    "        fig.tight_layout()\n",
    "        plt.show()\n",
    "        \n",
    "    def plot_series(series, num_rows=4, num_cols=5, colormap='tab20'):\n",
    "        \n",
    "        plot_kwds = {'alpha' : 0.25, 's' : 10, 'linewidths':0}\n",
    "        fig, axs = plt.subplots(num_rows, num_cols, figsize=(25,25))\n",
    "        cmap = plt.get_cmap(colormap)\n",
    "        colors = [cmap(i) for i in np.linspace(0,1,num_rows*num_cols)]\n",
    "\n",
    "        for num_row in range(num_rows):\n",
    "            for num_col in range(num_cols):\n",
    "                if num_row*num_cols + num_col < len(series):\n",
    "                    axs[num_row, num_col].plot(series[num_row*num_cols + num_col], color=colors[num_row*num_cols + num_col], marker='o', markerfacecolor='white')\n",
    "                    #axs[num_row, num_col].set_title('serie: %s'%(self.names[num_row*num_cols + num_col].split('.')[0]))\n",
    "\n",
    "        plt.show()"
   ]
  },
  {
   "cell_type": "code",
   "execution_count": 73,
   "id": "c8545214",
   "metadata": {},
   "outputs": [
    {
     "ename": "SyntaxError",
     "evalue": "invalid syntax (<ipython-input-73-0508635d9d2a>, line 12)",
     "output_type": "error",
     "traceback": [
      "\u001b[0;36m  File \u001b[0;32m\"<ipython-input-73-0508635d9d2a>\"\u001b[0;36m, line \u001b[0;32m12\u001b[0m\n\u001b[0;31m    if start <= date <= end\u001b[0m\n\u001b[0m                           ^\u001b[0m\n\u001b[0;31mSyntaxError\u001b[0m\u001b[0;31m:\u001b[0m invalid syntax\n"
     ]
    }
   ],
   "source": [
    "class Utility():\n",
    "    \n",
    "    def __init__(self):\n",
    "        pass\n",
    "\n",
    "    def get_season(self, date):\n",
    "        \n",
    "        for season in seasons:\n",
    "            name  = season[0]\n",
    "            start = season[1].replace(year=date.year)\n",
    "            end   = season[2].replace(year=date.year)\n",
    "            if start <= date <= end\n",
    "                return name\n",
    "            \n",
    "    def count_samples_per_season(self, dates):\n",
    "    \n",
    "        samples_per_season = {'winter': 0, 'spring': 0, 'summer': 0, 'autumn': 0}\n",
    "        for date in dates:\n",
    "            samples_per_season[get_season(date)] += 1\n",
    "\n",
    "        return samples_per_season\n",
    "    \n",
    "    def get_days(self, dates):\n",
    "        \n",
    "        days = []\n",
    "        for i in range(len(dates)):\n",
    "            days.append(abs((dates[0] - dates[i]).days ))\n",
    "        return days"
   ]
  },
  {
   "cell_type": "code",
   "execution_count": 78,
   "id": "6a986683",
   "metadata": {},
   "outputs": [],
   "source": [
    "# chargement de la composante  Est-Ouest du mouvement du sol\n",
    "df_ew, df_ew_ts = load_data('MM_TIO_EW_31TGK_20151227_to_20200906.csv')\n",
    "# chargement de la composante Nord-Sud du mouvement du sol\n",
    "df_ns, df_ns_ts = load_data('MM_TIO_NS_31TGK_20151227_to_20200906.csv')"
   ]
  },
  {
   "cell_type": "code",
   "execution_count": 388,
   "id": "20d482e4",
   "metadata": {},
   "outputs": [],
   "source": [
    "n = 100\n",
    "RASTER_FOLDER_PATH = 'rasters'\n",
    "DEM_FILENAME =  '31TGK_copernicus_dem.tif'\n",
    "Data = DataFromImageCorrelation(RASTER_FOLDER_PATH, DEM_FILENAME, df_ew.head(n), df_ns_ts[:n], df_ew_ts[:n])"
   ]
  },
  {
   "cell_type": "markdown",
   "id": "cff15e6c",
   "metadata": {},
   "source": [
    "# Visualisation"
   ]
  },
  {
   "cell_type": "code",
   "execution_count": 218,
   "id": "775eb843",
   "metadata": {},
   "outputs": [
    {
     "data": {
      "image/png": "[encoded data removed]",
      "text/plain": [
       "<Figure size 1080x720 with 3 Axes>"
      ]
     },
     "metadata": {},
     "output_type": "display_data"
    }
   ],
   "source": [
    "# visualisation des vitesses brutes (calculées à partir des déplacement brutes)\n",
    "n = 0\n",
    "raw_magnitudes = Data.compute_magnitude(True)\n",
    "viz = Visualization()\n",
    "viz.plot_disp_vel(Data.ns[n].serie, Data.ew[n].serie, raw_magnitudes[n])"
   ]
  },
  {
   "cell_type": "markdown",
   "id": "05645d88",
   "metadata": {},
   "source": [
    "# Calcul des profils de vitesse"
   ]
  },
  {
   "cell_type": "code",
   "execution_count": 389,
   "id": "d0752608",
   "metadata": {},
   "outputs": [],
   "source": [
    "Data.prepare(min_slope=10)"
   ]
  },
  {
   "cell_type": "code",
   "execution_count": 181,
   "id": "7a8ef1d9",
   "metadata": {},
   "outputs": [],
   "source": [
    "#from datetime import datetime\n",
    "Y = 2000\n",
    "seasons  = [('winter', date(Y,  1,  1), date(Y,  3, 20)),\n",
    "           ('spring', date(Y,  3, 21),  date(Y,  6, 20)),\n",
    "           ('summer', date(Y,  6, 21),  date(Y,  9, 22)),\n",
    "           ('autumn', date(Y,  9, 23),  date(Y, 12, 20)),\n",
    "           ('winter', date(Y, 12, 21),  date(Y, 12, 31))]\n",
    "\n",
    "        \n",
    "def plot_pie(labels, values):\n",
    "\n",
    "    fig1, ax1 = plt.subplots(figsize=(5,5))\n",
    "    ax1.pie(values, labels=labels, autopct='%1.1f%%',\n",
    "            shadow=True, startangle=90)\n",
    "    ax1.axis('equal') \n",
    "\n",
    "    plt.show()\n",
    "    \n",
    "def plot_displacement(ns_ts, ew_ts):\n",
    "    \n",
    "    days = get_days(ns_ts.index)\n",
    "    fig, ax = plt.subplots(figsize=(15,5))\n",
    "    \n",
    "    ax.plot(ns_ts['displacement'], color='blue', label='NS displacement (m)', marker='o', linewidth=2)\n",
    "    ax.plot(ew_ts['displacement'], color='orange', label='EW displacement (m)', marker='o', linewidth=2)\n",
    "    \n",
    "    plt.legend(loc='best')\n",
    "    \n",
    "def plot_displacement_velocity(ns_ts, ew_ts):\n",
    "\n",
    "    days = get_days(ns_ts[0].index)\n",
    "\n",
    "    fig, ax_left = plt.subplots(figsize=(15,5))\n",
    "    ax_right = ax_left.twinx()\n",
    "\n",
    "    p1, = ax_left.plot(days, df_series[4]['displacement'], color='blue', label='NS displacement (m)')\n",
    "    p2, = ax_right.plot(days, df_series[4]['displacement'], color='orange', label='EW displacement(m)')\n",
    "\n",
    "    ax_left.set_xlabel(\"number of days since the first measure\")\n",
    "    ax_left.set_ylabel(\"displacement\")\n",
    "    ax_right.set_ylabel(\"velocity\")\n",
    "\n",
    "    lns = [p1, p2]\n",
    "\n",
    "    ax_left.legend(handles=lns, loc='best')\n",
    "    fig.tight_layout()\n",
    "    plt.show()nb_lines': 50, 'nb_columns': 100,"
   ]
  },
  {
   "cell_type": "markdown",
   "id": "5dbc1d4c",
   "metadata": {},
   "source": [
    "# Clustering par Densité"
   ]
  },
  {
   "cell_type": "markdown",
   "id": "332401af",
   "metadata": {},
   "source": [
    "## HDBSCAN"
   ]
  },
  {
   "cell_type": "code",
   "execution_count": 366,
   "id": "92a07e75",
   "metadata": {},
   "outputs": [],
   "source": [
    "class Clustering():\n",
    "    \n",
    "    def __init__(self, data):\n",
    "        self.data = data\n",
    "        self.result = None\n",
    "    \n",
    "    def cluster(self):\n",
    "        self.result = hdbscan.HDBSCAN(min_cluster_size=30, gen_min_span_tree=True).fit(self.data.normalize())\n",
    "    \n",
    "    def visualize(self):\n",
    "        \n",
    "        projection = TSNE().fit_transform(self.data.normalize())\n",
    "        \n",
    "        color_palette = sns.color_palette('Paired', self.result.labels_.max() + 1 )\n",
    "        \n",
    "        cluster_colors = [color_palette[x] if x >= 0\n",
    "                  else (0.5, 0.5, 0.5)\n",
    "                  for x in self.result.labels_]\n",
    "        \n",
    "        cluster_member_colors = [sns.desaturate(x, p) for x, p in\n",
    "                         zip(cluster_colors, self.result.probabilities_)]\n",
    "        plt.scatter(*projection.T, s=20, c=cluster_member_colors , linewidth=0, alpha=0.25)\n",
    "        \n",
    "    plt.show()\n",
    "        \n",
    "    \n",
    "    def plot_cluster_distribution(self, colormap='Dark2'):\n",
    "\n",
    "        v_count = dict()\n",
    "        cmap = plt.get_cmap(colormap)\n",
    "        colors = [cmap(i) for i in np.linspace(0, 1, self.result.labels_.max() + 1)]\n",
    "\n",
    "        for label in self.result.labels_:\n",
    "            if label != -1:\n",
    "                if label in v_count.keys():\n",
    "                    v_count[label] += 1\n",
    "                else:\n",
    "                    v_count[label] = 1\n",
    "\n",
    "        pd.Series({k: v for k, v in sorted(v_count.items(), key=lambda item: item[0])}).plot(kind='bar', color=colors)\n",
    "\n",
    "        return v_count\n",
    "    \n",
    "    def get_data_from_class(self, num_label):\n",
    "\n",
    "        data = []\n",
    "\n",
    "        for i in range(len(self.result.labels_)):\n",
    "            if self.result.labels_[i] == num_label:\n",
    "                data.append(self.data[i])\n",
    "\n",
    "        return data\n",
    "    \n",
    "    def plot_cluster_result(self, n_cols=3):\n",
    "    \n",
    "        labels = self.result.labels_\n",
    "        n_clusters = labels.max() + 1\n",
    "        n_rows = int(n_clusters / n_cols) if n_clusters % n_cols == 0 else int(math.ceil(n_clusters / n_cols))\n",
    "        fig, axs = plt.subplots(n_rows, n_cols, figsize=(25,15))\n",
    "        \n",
    "        for num_cluster in range(n_clusters):\n",
    "            for serie_index in range(len(self.data.magnitudes)):\n",
    "                if labels[serie_index] == num_cluster:\n",
    "                    axs[int(num_cluster / n_cols), num_cluster % n_cols].plot(self.data.magnitudes[serie_index].serie, c='blue', alpha=0.2)\n",
    "            axs[int(num_cluster / n_cols), num_cluster % n_cols].set_title('Cluster %d'%(num_cluster + 1))\n",
    "            \n",
    "        fig.tight_layout()\n",
    "        \n",
    "    # créer un fichier csv contenant les champs : id, lat, lon, numero de la classe\n",
    "    def save_result(self):\n",
    "\n",
    "        fieldnames = ['id', 'Lat', 'Lon', 'cluster']\n",
    "        rows = []\n",
    "        \n",
    "        for n in range(len(self.data.ns)):\n",
    "            rows.append({'id': int(self.data.ns[n].id), 'Lat': self.data.ns[n].lat, 'Lon': self.data.ns[n].lon, 'cluster': self.result.labels_[n]})\n",
    "\n",
    "        with open('clustering_result.csv', 'w', encoding='UTF8', newline='') as f:\n",
    "            writer = csv.DictWriter(f, fieldnames=fieldnames)\n",
    "            writer.writeheader()\n",
    "            writer.writerows(rows)\n",
    "\n",
    "    #http://tancro.e-central.tv/grandmaster/markers/google-icons/mapfiles-ms-micons.html\n",
    "    def generate_kml_file(self, scale=2):\n",
    "        \n",
    "        BASE = 'http://maps.google.com/mapfiles/ms/micons/'\n",
    "        scales = None\n",
    "        \n",
    "        colors = ['blue', 'red', 'yellow', 'green', 'orange', 'purple', 'pink']\n",
    "        icon_links = [BASE + color + '-dot.png' for color in (colors + ['Itblue'])[:]] + [BASE + color + '.png' for color in (colors + ['lightblue'])[:]]\n",
    "        \n",
    "        n_clusters = self.result.labels_.max() + 1\n",
    "        \n",
    "        if n_clusters > len(icon_links):\n",
    "            q = n_clusters / len(icon_links)\n",
    "            r = n_clusters - q*len(icon_links)\n",
    "            icon_links = icon_links*q[:] + icon_links[:r]\n",
    "            scales = [scale*2 for t in range(len(icon_links))]\n",
    "        else:\n",
    "            scales = [scale]*n_clusters\n",
    "            \n",
    "        kml=simplekml.Kml()\n",
    "        fol = kml.newfolder(name=\"HDBSCAN Clustering\")\n",
    "        \n",
    "        for n in range(len(self.data.ns)):\n",
    "            pnt = fol.newpoint(coords=[(self.data.ns[n].lat, self.data.ns[n].lon)])\n",
    "            pnt.iconstyle.icon.href = icon_links[self.result.labels_[n]]\n",
    "            pnt.style.labelstyle.scale = scales[self.result.labels_[n]]\n",
    "            \n",
    "        kml.save('clustering_result.kml')\n",
    "        \n",
    "        return icon_links"
   ]
  },
  {
   "cell_type": "code",
   "execution_count": 283,
   "id": "35987d98",
   "metadata": {},
   "outputs": [],
   "source": [
    "p = clustering.generate_kml_file()"
   ]
  },
  {
   "cell_type": "code",
   "execution_count": null,
   "id": "5b70167d",
   "metadata": {},
   "outputs": [],
   "source": [
    "import simplekml\n",
    "clustering = Clustering(Data)\n",
    "clustering.cluster()\n",
    "clustering.visualize()"
   ]
  },
  {
   "cell_type": "code",
   "execution_count": 282,
   "id": "c05f5630",
   "metadata": {},
   "outputs": [
    {
     "data": {
      "text/plain": [
       "{2: 3314, 6: 40, 8: 78, 7: 53, 5: 300, 4: 392, 1: 32, 3: 68, 0: 34}"
      ]
     },
     "execution_count": 282,
     "metadata": {},
     "output_type": "execute_result"
    },
    {
     "data": {
      "image/png": "[encoded data removed]",
      "text/plain": [
       "<Figure size 432x288 with 1 Axes>"
      ]
     },
     "metadata": {},
     "output_type": "display_data"
    }
   ],
   "source": [
    "clustering.plot_cluster_distribution()"
   ]
  },
  {
   "cell_type": "markdown",
   "id": "42dd2ee4",
   "metadata": {},
   "source": [
    "## HDBSCAN"
   ]
  },
  {
   "cell_type": "markdown",
   "id": "7f06afed",
   "metadata": {},
   "source": [
    "## Kmeans"
   ]
  },
  {
   "cell_type": "code",
   "execution_count": 38,
   "id": "77e3250e",
   "metadata": {},
   "outputs": [],
   "source": [
    "def compute_distances_matrix(series):\n",
    "    \n",
    "    # initialisation de la matrix des distances\n",
    "    distances_matrix = np.zeros(shape=(len(series), len(series)))\n",
    "    \n",
    "    # calcul des distances et remplissage de la matrice de distance\n",
    "    for n in range(len(series)):\n",
    "        for m in range(len(series)):\n",
    "            x = series[n]['velocity'].dropna(inplace=False)\n",
    "            y = series[m]['velocity'].dropna(inplace=False)\n",
    "            dist = dtw.distance(x, y)\n",
    "            distances_matrix[n, m] = dist\n",
    "                \n",
    "    return distances_matrix"
   ]
  },
  {
   "cell_type": "markdown",
   "id": "d18d0ec6",
   "metadata": {},
   "source": [
    "# Classification des séries temporelles"
   ]
  },
  {
   "cell_type": "code",
   "execution_count": 48,
   "id": "3c60719f",
   "metadata": {},
   "outputs": [],
   "source": [
    "from st_dbscan import ST_DBSCAN"
   ]
  },
  {
   "cell_type": "code",
   "execution_count": 37,
   "id": "5bc1c5fb",
   "metadata": {},
   "outputs": [
    {
     "ename": "NameError",
     "evalue": "name 'transformer' is not defined",
     "output_type": "error",
     "traceback": [
      "\u001b[0;31m---------------------------------------------------------------------------\u001b[0m",
      "\u001b[0;31mNameError\u001b[0m                                 Traceback (most recent call last)",
      "\u001b[0;32m<ipython-input-37-fdb3fbb714d4>\u001b[0m in \u001b[0;36m<module>\u001b[0;34m\u001b[0m\n\u001b[1;32m      1\u001b[0m \u001b[0;31m# recherchons une source\u001b[0m\u001b[0;34m\u001b[0m\u001b[0;34m\u001b[0m\u001b[0;34m\u001b[0m\u001b[0m\n\u001b[1;32m      2\u001b[0m \u001b[0;31m# S = WX\u001b[0m\u001b[0;34m\u001b[0m\u001b[0;34m\u001b[0m\u001b[0;34m\u001b[0m\u001b[0m\n\u001b[0;32m----> 3\u001b[0;31m \u001b[0mtransformer\u001b[0m\u001b[0;34m.\u001b[0m\u001b[0mcomponents_\u001b[0m\u001b[0;34m.\u001b[0m\u001b[0mshape\u001b[0m \u001b[0;31m#(20, 87)\u001b[0m\u001b[0;34m\u001b[0m\u001b[0;34m\u001b[0m\u001b[0m\n\u001b[0m\u001b[1;32m      4\u001b[0m \u001b[0;31m# calculons l'activité d'une source\u001b[0m\u001b[0;34m\u001b[0m\u001b[0;34m\u001b[0m\u001b[0;34m\u001b[0m\u001b[0m\n\u001b[1;32m      5\u001b[0m \u001b[0msource\u001b[0m \u001b[0;34m=\u001b[0m \u001b[0mnp\u001b[0m\u001b[0;34m.\u001b[0m\u001b[0mdot\u001b[0m\u001b[0;34m(\u001b[0m\u001b[0mX\u001b[0m\u001b[0;34m,\u001b[0m \u001b[0mtransformer\u001b[0m\u001b[0;34m.\u001b[0m\u001b[0mcomponents_\u001b[0m\u001b[0;34m[\u001b[0m\u001b[0;36m0\u001b[0m\u001b[0;34m]\u001b[0m\u001b[0;34m)\u001b[0m\u001b[0;34m\u001b[0m\u001b[0;34m\u001b[0m\u001b[0m\n",
      "\u001b[0;31mNameError\u001b[0m: name 'transformer' is not defined"
     ]
    }
   ],
   "source": [
    "# recherchons une source\n",
    "# S = WX\n",
    "transformer.components_.shape #(20, 87)\n",
    "# calculons l'activité d'une source\n",
    "source = np.dot(X, transformer.components_[0])\n",
    "# passage de S à X\n",
    "np.dot(transformer.mixing_[:,0], source)"
   ]
  },
  {
   "cell_type": "code",
   "execution_count": 30,
   "id": "591ad0a8",
   "metadata": {},
   "outputs": [
    {
     "name": "stderr",
     "output_type": "stream",
     "text": [
      "/home/eost-user/miniconda3/lib/python3.9/site-packages/sklearn/decomposition/_fastica.py:118: ConvergenceWarning: FastICA did not converge. Consider increasing tolerance or the maximum number of iterations.\n",
      "  warnings.warn('FastICA did not converge. Consider increasing '\n"
     ]
    },
    {
     "data": {
      "text/plain": [
       "(1797, 7)"
      ]
     },
     "execution_count": 30,
     "metadata": {},
     "output_type": "execute_result"
    }
   ],
   "source": [
    "from sklearn.datasets import load_digits\n",
    "from sklearn.decomposition import FastICA\n",
    "\n",
    "X, _ = load_digits(return_X_y=True)\n",
    "transformer = FastICA(n_components=7, random_state=0)\n",
    "X_transformed = transformer.fit_transform(X)\n",
    "X_transformed.shape"
   ]
  },
  {
   "cell_type": "markdown",
   "id": "fa81fd14",
   "metadata": {},
   "source": [
    "## Décomposition en composantes indépendantes"
   ]
  },
  {
   "cell_type": "markdown",
   "id": "73d72a4d",
   "metadata": {},
   "source": [
    "# Significativité des régressions linéaires\n",
    "* p-value : probabilité que la pente soit nulle\n",
    "* Hypothèse nulle HO : la pente de la droite de regression est nulle  (vitesse moyenne non significative)\n",
    "* si la p-value est inférieure à 0.05 alors l'hypothèse nulle est rejetée (vitesse moyenne est significative)."
   ]
  },
  {
   "cell_type": "code",
   "execution_count": 75,
   "id": "8cc7e66b",
   "metadata": {},
   "outputs": [],
   "source": [
    "from sklearn.linear_model import LinearRegression\n",
    "from sklearn.metrics import r2_score\n",
    "from statsmodels.api import add_constant\n",
    "import statsmodels.api as sm"
   ]
  },
  {
   "cell_type": "code",
   "execution_count": 90,
   "id": "5be0170f",
   "metadata": {},
   "outputs": [],
   "source": [
    "def get_days(dates):\n",
    "    days = []\n",
    "    for i in range(len(dates)):\n",
    "        days.append(abs((dates[0] - dates[i]).days ))\n",
    "    return days\n",
    "\n",
    "def get_xy(serie):\n",
    "    X = get_days(serie.index)\n",
    "    y = StandardScaler().fit_transform(serie)\n",
    "    return np.array(X).reshape(-1,1), y\n",
    "\n",
    "def compute_linear_regression(X,y):\n",
    "    \n",
    "    X_ = add_constant(X)\n",
    "    mod = sm.OLS(y,X_)\n",
    "    fii = mod.fit()\n",
    "    \n",
    "    return fii.params, fii.pvalues\n",
    "\n",
    "def compute_slope(displacement, days):\n",
    "    \n",
    "    return  np.cov(displacement, days)[0][1] / np.var(np.array(days))"
   ]
  },
  {
   "cell_type": "markdown",
   "id": "87ab394c",
   "metadata": {},
   "source": [
    "## Test de Dickey-Fuller augmenté (ADF)\n",
    "La série temporelle est considérée comme stationnaire si la valeur p est faible (selon l’hypothèse nulle) et si les valeurs critiques à des intervalles de confiance de 1%, 5%, 10% sont aussi proches que possible des statistiques de l’ADF (Augmented Dickey-Fuller)"
   ]
  },
  {
   "cell_type": "markdown",
   "id": "bf6f1541",
   "metadata": {},
   "source": [
    "# Réechantillonage des données"
   ]
  },
  {
   "cell_type": "markdown",
   "id": "85e50929",
   "metadata": {},
   "source": [
    "# Etude de la saisonnalité"
   ]
  },
  {
   "cell_type": "code",
   "execution_count": null,
   "id": "963b8694",
   "metadata": {},
   "outputs": [],
   "source": [
    "import simplekml\n",
    "\n",
    "def generate_kml_file():\n",
    "    \n",
    "    kml=simplekml.Kml()\n",
    "    style = simplekml.Style()\n",
    "    style.labelstyle.scale = 2\n",
    "    style.iconstyle.icon.href = 'http://maps.google.com/mapfiles/kml/shapes/placemark_circle.png'\n",
    "    fol = kml.newfolder(name=\"HDBSCAN Clustering\")\n",
    "    for index, row in df.iterrows():\n",
    "        pnt = fol.newpoint(name=row['Vel'], coords=[(row['Lat'], row['Lon'])])\n",
    "        pnt.style.labelstyle.color = 'ff0000ff' \n",
    "    kml.save('ps.kml')\n",
    "    \n",
    "    \n",
    "    \n",
    "def generate_kml_file():\n",
    "    \n",
    "    kml=simplekml.Kml()\n",
    "    style = simplekml.Style()\n",
    "    style.labelstyle.scale = 2\n",
    "    style.iconstyle.icon.href = 'http://maps.google.com/mapfiles/kml/shapes/placemark_circle.png'\n",
    "    fol = kml.newfolder(name=\"HDBSCAN Clustering\")\n",
    "    for index, row in df.iterrows():\n",
    "        pnt = fol.newpoint(name=row['Vel'], coords=[(row['Lat'], row['Lon'])])\n",
    "        pnt.style.labelstyle.color = 'ff0000ff' \n",
    "    kml.save('ps.kml')"
   ]
  },
  {
   "cell_type": "code",
   "execution_count": 196,
   "id": "8a000c9d",
   "metadata": {},
   "outputs": [],
   "source": [
    "clustering.save_result()"
   ]
  },
  {
   "cell_type": "code",
   "execution_count": 197,
   "id": "92d408b3",
   "metadata": {},
   "outputs": [],
   "source": [
    "df = pd.read_csv('clustering_result.csv')"
   ]
  },
  {
   "cell_type": "code",
   "execution_count": 198,
   "id": "94ca0b10",
   "metadata": {},
   "outputs": [
    {
     "data": {
      "text/html": [
       "<div>\n",
       "<style scoped>\n",
       "    .dataframe tbody tr th:only-of-type {\n",
       "        vertical-align: middle;\n",
       "    }\n",
       "\n",
       "    .dataframe tbody tr th {\n",
       "        vertical-align: top;\n",
       "    }\n",
       "\n",
       "    .dataframe thead th {\n",
       "        text-align: right;\n",
       "    }\n",
       "</style>\n",
       "<table border=\"1\" class=\"dataframe\">\n",
       "  <thead>\n",
       "    <tr style=\"text-align: right;\">\n",
       "      <th></th>\n",
       "      <th>id</th>\n",
       "      <th>Lat</th>\n",
       "      <th>Lon</th>\n",
       "      <th>cluster</th>\n",
       "    </tr>\n",
       "  </thead>\n",
       "  <tbody>\n",
       "    <tr>\n",
       "      <th>0</th>\n",
       "      <td>1</td>\n",
       "      <td>6.627922</td>\n",
       "      <td>44.422007</td>\n",
       "      <td>1</td>\n",
       "    </tr>\n",
       "    <tr>\n",
       "      <th>1</th>\n",
       "      <td>2</td>\n",
       "      <td>6.628048</td>\n",
       "      <td>44.422003</td>\n",
       "      <td>1</td>\n",
       "    </tr>\n",
       "    <tr>\n",
       "      <th>2</th>\n",
       "      <td>3</td>\n",
       "      <td>6.628173</td>\n",
       "      <td>44.421999</td>\n",
       "      <td>1</td>\n",
       "    </tr>\n",
       "    <tr>\n",
       "      <th>3</th>\n",
       "      <td>4</td>\n",
       "      <td>6.628298</td>\n",
       "      <td>44.421995</td>\n",
       "      <td>1</td>\n",
       "    </tr>\n",
       "    <tr>\n",
       "      <th>4</th>\n",
       "      <td>5</td>\n",
       "      <td>6.628424</td>\n",
       "      <td>44.421991</td>\n",
       "      <td>1</td>\n",
       "    </tr>\n",
       "    <tr>\n",
       "      <th>...</th>\n",
       "      <td>...</td>\n",
       "      <td>...</td>\n",
       "      <td>...</td>\n",
       "      <td>...</td>\n",
       "    </tr>\n",
       "    <tr>\n",
       "      <th>294</th>\n",
       "      <td>296</td>\n",
       "      <td>6.628168</td>\n",
       "      <td>44.421909</td>\n",
       "      <td>1</td>\n",
       "    </tr>\n",
       "    <tr>\n",
       "      <th>295</th>\n",
       "      <td>297</td>\n",
       "      <td>6.628293</td>\n",
       "      <td>44.421905</td>\n",
       "      <td>1</td>\n",
       "    </tr>\n",
       "    <tr>\n",
       "      <th>296</th>\n",
       "      <td>298</td>\n",
       "      <td>6.628418</td>\n",
       "      <td>44.421901</td>\n",
       "      <td>1</td>\n",
       "    </tr>\n",
       "    <tr>\n",
       "      <th>297</th>\n",
       "      <td>299</td>\n",
       "      <td>6.628544</td>\n",
       "      <td>44.421897</td>\n",
       "      <td>1</td>\n",
       "    </tr>\n",
       "    <tr>\n",
       "      <th>298</th>\n",
       "      <td>300</td>\n",
       "      <td>6.628669</td>\n",
       "      <td>44.421893</td>\n",
       "      <td>1</td>\n",
       "    </tr>\n",
       "  </tbody>\n",
       "</table>\n",
       "<p>299 rows × 4 columns</p>\n",
       "</div>"
      ],
      "text/plain": [
       "      id       Lat        Lon  cluster\n",
       "0      1  6.627922  44.422007        1\n",
       "1      2  6.628048  44.422003        1\n",
       "2      3  6.628173  44.421999        1\n",
       "3      4  6.628298  44.421995        1\n",
       "4      5  6.628424  44.421991        1\n",
       "..   ...       ...        ...      ...\n",
       "294  296  6.628168  44.421909        1\n",
       "295  297  6.628293  44.421905        1\n",
       "296  298  6.628418  44.421901        1\n",
       "297  299  6.628544  44.421897        1\n",
       "298  300  6.628669  44.421893        1\n",
       "\n",
       "[299 rows x 4 columns]"
      ]
     },
     "execution_count": 198,
     "metadata": {},
     "output_type": "execute_result"
    }
   ],
   "source": [
    "df"
   ]
  },
  {
   "cell_type": "code",
   "execution_count": null,
   "id": "5c2b168c",
   "metadata": {},
   "outputs": [],
   "source": [
    "# Memo\n",
    "# En filtrant avec les vitesses on ignore si les séries se ressemblent\n",
    "# Idee : On peut effectuer un premier clustering avec les vitesses moyennes \n",
    "# En effectuant un filtre avec 2*sigma (sigma = écart type)\n",
    "\n",
    "\n",
    "# Idée 2:\n",
    "# faire un clustering avec les vitesses moyennes et utilliser DBSCAN en spatial avec les cordonnées spatiales\n",
    "# faire un clustering en temps \n",
    "# les clustering en temps et en espace ont-ils des ressemblances ?\n",
    "# Associer chaque cluster à un cluster ? (nombre de clusters identique en temps et en espace)\n",
    "\n",
    "# Idee 3:\n",
    "# on perd de l'informatique en faisant du clustering sur les vitesses?"
   ]
  }
 ],
 "metadata": {
  "kernelspec": {
   "display_name": "Python 3",
   "language": "python",
   "name": "python3"
  },
  "language_info": {
   "codemirror_mode": {
    "name": "ipython",
    "version": 3
   },
   "file_extension": ".py",
   "mimetype": "text/x-python",
   "name": "python",
   "nbconvert_exporter": "python",
   "pygments_lexer": "ipython3",
   "version": "3.9.0"
  }
 },
 "nbformat": 4,
 "nbformat_minor": 5
}

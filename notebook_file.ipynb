 3/1:
import pandas as pd
import numpy as np
 3/2:
import pandas as pd
import numpy as np
import os
 3/3:
import pandas as pd
import numpy as np
import os
 3/4:
for filename in os.listdir('donnees'):
    if filename.endswith('.csv'):
        print(filename)
 3/5:
for filename in os.listdir('/donnees'):
    if filename.endswith('.csv'):
        print(filename)
 3/6:
for filename in os.listdir('/home/eost-user/PAMBOU_MOUBOGHA_STAGE_MASTER_SDSC/donnees
'):
    if filename.endswith('.csv'):
        print(filename)
 3/7:
for filename in os.listdir('/home/eost-user/PAMBOU_MOUBOGHA_STAGE_MASTER_SDSC/donnees'):
    if filename.endswith('.csv'):
        print(filename)
 3/8:
for filename in os.listdir('./donnees'):
    if filename.endswith('.csv'):
        print(filename)
 3/9:
for filename in os.listdir('./donnees'):
    print(filename)
    if filename.endswith('.csv'):
        print(filename)
3/10:
for filename in os.listdir('./donnees'):
    print(filename)
    if filename.endswith('.csv'):
        print(filename)
3/11:
for filename in os.listdir(DATA_PATH):
    if filename.endswith('.csv'):
        print(filename)
3/12: DATA_PATH = './donnees'
3/13:
for filename in os.listdir(DATA_PATH):
    if filename.endswith('.csv'):
        print(filename)
3/14:
for filename in os.listdir(DATA_PATH):
    if filename.endswith('.csv'):
        print(filename)
3/15: df = pd.read_csv(DATA_PATH + '/' + 'MM_TIO_EW_31TGK_20151227_to_20200906.csv')
3/16: DATA_PATH = './donnees'
3/17:
for filename in os.listdir(DATA_PATH):
    if filename.endswith('.csv'):
        print(filename)
3/18: df = pd.read_csv(DATA_PATH + '/' + 'MM_TIO_EW_31TGK_20151227_to_20200906.csv', skiprows=42)
3/19: df
3/20: df = pd.read_csv(DATA_PATH + '/' + 'MM_TIO_EW_31TGK_20151227_to_20200906.csv', skiprows=42, index='ID')
3/21: df = pd.read_csv(DATA_PATH + '/' + 'MM_TIO_EW_31TGK_20151227_to_20200906.csv', skiprows=42, index_col='ID')
3/22: df = pd.read_csv(DATA_PATH + '/' + 'MM_TIO_EW_31TGK_20151227_to_20200906.csv', skiprows=42, index='ID')
3/23: df = pd.read_csv(DATA_PATH + '/' + 'MM_TIO_EW_31TGK_20151227_to_20200906.csv', skiprows=42, index='ID')
3/24: df = pd.read_csv(DATA_PATH + '/' + 'MM_TIO_EW_31TGK_20151227_to_20200906.csv', skiprows=42)
3/25: df
3/26: df.columns
3/27: df
3/28: df = pd.read_csv(DATA_PATH + '/' + 'MM_TIO_EW_31TGK_20151227_to_20200906.csv', skiprows=42, index_col='ID')
3/29: df = pd.read_csv(DATA_PATH + '/' + 'MM_TIO_EW_31TGK_20151227_to_20200906.csv', skiprows=42)
3/30: df['ID']
3/31:
df = pd.read_csv(DATA_PATH + '/' + 'MM_TIO_EW_31TGK_20151227_to_20200906.csv', skiprows=42)*
df.columns = [col.strip() for col in df.columns]
3/32:
df = pd.read_csv(DATA_PATH + '/' + 'MM_TIO_EW_31TGK_20151227_to_20200906.csv', skiprows=42)
df.columns = [col.strip() for col in df.columns]
3/33: df['ID']
3/34: df
3/35: df.columns
3/36: df
3/37: df.set_index('ID')
3/38:
df = pd.read_csv(DATA_PATH + '/' + 'MM_TIO_EW_31TGK_20151227_to_20200906.csv', skiprows=42)
df.columns = [col.strip() for col in df.columns]
df.set_index('ID')
3/39: df.columns
3/40: df.columns
3/41:
df = pd.read_csv(DATA_PATH + '/' + 'MM_TIO_EW_31TGK_20151227_to_20200906.csv', skiprows=42)
df.columns = [col.strip() for col in df.columns]
3/42: df.columns
3/43:
df = pd.read_csv(DATA_PATH + '/' + 'MM_TIO_EW_31TGK_20151227_to_20200906.csv', skiprows=42)
df.columns = [col.strip() for col in df.columns]
df.reset_index()
3/44: df.columns
3/45: df
3/46:
df = pd.read_csv(DATA_PATH + '/' + 'MM_TIO_EW_31TGK_20151227_to_20200906.csv', skiprows=42)
df.columns = [col.strip() for col in df.columns]
columns = df.columns
df.reset_index()
df = df[['level_' + i for i in range(len(columns))]]
3/47:
df = pd.read_csv(DATA_PATH + '/' + 'MM_TIO_EW_31TGK_20151227_to_20200906.csv', skiprows=42)
df.columns = [col.strip() for col in df.columns]
columns = df.columns
df.reset_index()
df = df[['level_' + str(i) for i in range(len(columns))]]
3/48:
df = pd.read_csv(DATA_PATH + '/' + 'MM_TIO_EW_31TGK_20151227_to_20200906.csv', skiprows=42)
df.columns = [col.strip() for col in df.columns]
columns = df.columns
df.reset_index()
#df = df[['level_' + str(i) for i in range(len(columns))]]
3/49:
df = pd.read_csv(DATA_PATH + '/' + 'MM_TIO_EW_31TGK_20151227_to_20200906.csv', skiprows=42)
df.columns = [col.strip() for col in df.columns]
columns = df.columns
df.reset_index()
df = df[['level_' + str(i) for i in range(len(columns))]]
3/50:
df = pd.read_csv(DATA_PATH + '/' + 'MM_TIO_EW_31TGK_20151227_to_20200906.csv', skiprows=42)
df.columns = [col.strip() for col in df.columns]
columns = df.columns
df.reset_index()
#df = df[['level_' + str(i) for i in range(len(columns))]]
3/51: df.columns[:len(columns)]
3/52: df.columns[:3]
3/53:
df = pd.read_csv(DATA_PATH + '/' + 'MM_TIO_EW_31TGK_20151227_to_20200906.csv', skiprows=42)
df.columns = [col.strip() for col in df.columns]
columns = df.columns
df.reset_index()
#df = df[['level_' + str(i) for i in range(len(columns))]]
3/54: df.columns
3/55:
df = pd.read_csv(DATA_PATH + '/' + 'MM_TIO_EW_31TGK_20151227_to_20200906.csv', skiprows=42)
df.columns = [col.strip() for col in df.columns]
columns = df.columns
df.reset_index(inplace=True)
#df = df[['level_' + str(i) for i in range(len(columns))]]
3/56: df
3/57:
df['Trial'] = df.index.get_level_values(0)
df['measurement'] = df.index.get_level_values(1)
for level, col in enumerate(df.columns)
    df[col] = df.index.get_level_values(level)
3/58:
df['Trial'] = df.index.get_level_values(0)
df['measurement'] = df.index.get_level_values(1)
for level, col in enumerate(df.columns):
    df[col] = df.index.get_level_values(level)
3/59: df.index.get_level_values()
3/60: df.index.get_level_values(0)
3/61: df.index
3/62: df.levels
3/63: df
3/64: df.columns
3/65:
df = pd.read_csv(DATA_PATH + '/' + 'MM_TIO_EW_31TGK_20151227_to_20200906.csv', skiprows=42)
df.columns = [col.strip() for col in df.columns]
columns = df.columns
df.reset_index(inplace=True)
#df = df[['level_' + str(i) for i in range(len(columns))]]
3/66:
df = pd.read_csv(DATA_PATH + '/' + 'MM_TIO_EW_31TGK_20151227_to_20200906.csv', skiprows=42)
df.columns = [col.strip() for col in df.columns]
columns = df.columns
df.reset_index(inplace=True)
#df = df[['level_' + str(i) for i in range(len(columns))]]
3/67: df.columns
3/68: columns
3/69: df[0:3]
3/70: df[[0:3]]
3/71: df[[df.columns[i] for in range(len(columns))]
3/72: df[[df.columns[i] for i in range(len(columns))]
3/73: df[[df.columns[i] for i in range(len(columns))]]
3/74: len(columns)
3/75: columns
3/76:
df = pd.read_csv(DATA_PATH + '/' + 'MM_TIO_EW_31TGK_20151227_to_20200906.csv', skiprows=42)
df.columns = [col.strip() for col in df.columns]
columns = df.columns
df.reset_index(inplace=True)
df[[df.columns[i] for i in range(len(columns))]]
#df = df[['level_' + str(i) for i in range(len(columns))]]
3/77: df
3/78:
df = pd.read_csv(DATA_PATH + '/' + 'MM_TIO_EW_31TGK_20151227_to_20200906.csv', skiprows=42)
df.columns = [col.strip() for col in df.columns]
columns = df.columns
df.reset_index(inplace=True)
df[[df.columns[i] for i in range(len(columns))]]
df.columns = columns
3/79:
df = pd.read_csv(DATA_PATH + '/' + 'MM_TIO_EW_31TGK_20151227_to_20200906.csv', skiprows=42)
df.columns = [col.strip() for col in df.columns]
columns = df.columns
df.reset_index(inplace=True)
df = df[[df.columns[i] for i in range(len(columns))]]
df.columns = columns
3/80: df
3/81: df.head()
3/82: df.describe()
3/83: df.isnull().sum().sum()
3/84:
import pandas as pd
import numpy as np
import os
import pyplot as plt
3/85:
import pandas as pd
import numpy as np
import os
import matplotlib.pyplot as plt
3/86: df.head()
3/87: df.describe()
3/88: df['Vel'].mean()
3/89: df.info()
3/90: df.head()
3/91: df['Vel'] = pd.to_numeric(df['Vel'])
3/92: df['Vel'].insnull()
3/93: df.isnul()
3/94: df.isnull()
3/95: df.isnull().sum().sum()
3/96: df['vel']
3/97: df['vel']
3/98: df['Vel']
3/99: df['Vel'] = pd.to_numeric(df['Vel'], errors='coerce')
3/100: df.isnull().sum().sum()
3/101: df['Vel']
3/102: df.info()
3/103: df['Vel'] = pd.to_numeric(df['Vel'], errors='coerce')
3/104: df.info()
3/105: df.describe()
3/106: df.isnull().sum().sum()
3/107:
nan = df.isnull().sum().sum()
print('pourcentage de valeurs manquantes %3.f' % nan/len(df)*100)
3/108:
nan = df.isnull().sum().sum()
print('pourcentage de valeurs manquantes %.f' % nan/len(df)*100)
3/109:
nan = df.isnull().sum().sum()
print('pourcentage de valeurs manquantes %f' % nan/len(df)*100)
3/110:
nan = df.isnull().sum().sum()
print('pourcentage de valeurs manquantes %f' % (nan/len(df)*100))
3/111:
nan = df.isnull().sum().sum()
print('Nombre de valeurs manquantes : %d' %(nan))
print('pourcentage de valeurs manquantes : %f' % (nan/len(df)*100))
3/112:
# suppression des lignes avec des valeurs manquantes
df.dropna(inplace=True)
3/113: df.isnull().sum().sum()
3/114: df.plt
3/115: plt.plot(df['vel'])
3/116: plt.plot(df['Vel'])
3/117:
plt.plot(df['Vel'])
plt.show()
3/118:
plt.plot(df['Coer'])
plt.show()
3/119:
# distribution des vitesses en fonction de la geographie
plt.contourf(df['Lat'], df['Long'], df['Vel'], 20, cmap='RdGy')
plt.colorbar();
3/120:
# distribution des vitesses en fonction de la geographie
plt.contourf(df['Lat'], df['Lon'], df['Vel'], 20, cmap='RdGy')
plt.colorbar();
3/121:
# distribution des vitesses en fonction de la geographie
X, Y = np.meshgrid(df['Lat'], df['Long'], y)
plt.contourf(X, Y, df['Vel'], 20, cmap='RdGy')
plt.colorbar()
3/122:
# distribution des vitesses en fonction de la geographie
X, Y = np.meshgrid(df['Lat'], df['Lon'], y)
plt.contourf(X, Y, df['Vel'], 20, cmap='RdGy')
plt.colorbar()
3/123:
# distribution des vitesses en fonction de la geographie
X, Y = np.meshgrid(df['Lat'], df['Lon'])
plt.contourf(X, Y, df['Vel'], 20, cmap='RdGy')
plt.colorbar()
3/124:
# distribution des vitesses en fonction de la geographie
df = df[0:1000]
X, Y = np.meshgrid(df['Lat'], df['Lon'])
plt.contourf(X, Y, df['Vel'], 20, cmap='RdGy')
plt.colorbar()
3/125:
# distribution des vitesses en fonction de la geographie
X, Y = np.meshgrid(df['Lat'], df['Lon'])
plt.contourf(X, Y, df['Vel'], 20, cmap='RdGy')
plt.colorbar()
3/126:
# distribution des vitesses en fonction de la geographie
X, Y = np.meshgrid(df['Lat'], df['Lon'])
plt.contourf(X, Y, df['Vel'], 20, cmap='RdGy')
plt.colorbar()
3/127:
# distribution des vitesses en fonction de la geographie
X, Y = np.meshgrid(df['Lat'], df['Lon'])
Z = df['Vel']
Z = Z.reshape((len(x), len(y)))
plt.contourf(X, Y, df['Vel'], 20, cmap='RdGy')
plt.colorbar()
3/128:
# distribution des vitesses en fonction de la geographie
X, Y = np.meshgrid(df['Lat'], df['Lon'])
Z = np.array(df['Vel'])
Z = Z.reshape((len(x), len(y)))
plt.contourf(X, Y, df['Vel'], 20, cmap='RdGy')
plt.colorbar()
3/129:
# distribution des vitesses en fonction de la geographie
X, Y = np.meshgrid(df['Lat'], df['Lon'])
Z = np.array(df['Vel'])
Z = Z.reshape((len(df['Lat']), len('Lon')))
plt.contourf(X, Y, df['Vel'], 20, cmap='RdGy')
plt.colorbar()
3/130:
# suppression des lignes avec des valeurs manquantes
df.dropna(inplace=True)
3/131:
# distribution des vitesses en fonction de la geographie
X, Y = np.meshgrid(df['Lat'], df['Lon'])
Z = np.array(df['Vel'])
Z = Z.reshape((len(df['Lat']), len('Lon')))
plt.contourf(X, Y, df['Vel'], 20, cmap='RdGy')
plt.colorbar()
3/132:
plt.plot(df['Vel'])
plt.show()
3/133:
plt.plot(df['Coer'])
plt.show()
3/134: len(df['Lat'])
3/135: len(df['Lon'])
3/136:
for filename in os.listdir(DATA_PATH):
    if filename.endswith('.csv'):
        print(filename)
3/137:
df = pd.read_csv(DATA_PATH + '/' + 'MM_TIO_EW_31TGK_20151227_to_20200906.csv', skiprows=42)
df.columns = [col.strip() for col in df.columns]
columns = df.columns
df.reset_index(inplace=True)
df = df[[df.columns[i] for i in range(len(columns))]]
df.columns = columns
3/138: df.head()
3/139: df.info()
3/140: df['Vel'] = pd.to_numeric(df['Vel'], errors='coerce')
3/141: df.describe()
3/142:
nan = df.isnull().sum().sum()
print('Nombre de valeurs manquantes : %d' %(nan))
print('pourcentage de valeurs manquantes : %f' % (nan/len(df)*100))
3/143:
# distribution des vitesses en fonction de la geographie
X, Y = np.meshgrid(df['Lat'], df['Lon'])
Z = np.array(df['Vel'])
Z = Z.reshape((len(df['Lat']), len('Lon')))
plt.contourf(X, Y, df['Vel'], 20, cmap='RdGy')
plt.colorbar()
3/144:
# distribution des vitesses en fonction de la geographie
df = df[0:50]
X, Y = np.meshgrid(df['Lat'], df['Lon'])
Z = np.array(df['Vel'])
Z = Z.reshape((len(df['Lat']), len('Lon')))
plt.contourf(X, Y, df['Vel'], 20, cmap='RdGy')
plt.colorbar()
3/145: l = [0,1,7]*10
3/146: l = [0,1,7]*10
3/147:
l = [0,1,7]*10
l
3/148: l = [0,1,7]**10
3/149: l = np.array([0,1,7])**10
3/150:
l = np.array([0,1,7])**10
l
3/151:
l = np.array([0,1,7])**2
l
3/152:
l = np.array([0,1,7])*2
l
3/153:
x = range(5)
y = range(5)
3/154: x
3/155:
x = np.arange(5)
y = np.arange(5)
3/156: x
3/157:
x = np.arange(5)
y = np.arange(5)
z = x*3 + y*3
3/158: z
3/159:
def f(x, y):
    return np.sin(x) ** 10 + np.cos(10 + y * x) * np.cos(x)


x = np.linspace(0, 5, 50)
y = np.linspace(0, 5, 40)

X, Y = np.meshgrid(x, y)
Z = f(X, Y)
3/160: Z
3/161: type(Z)
3/162:
import pandas as pd
import numpy as np
import os
import matplotlib.pyplot as plt
3/163: DATA_PATH = './donnees'
3/164:
for filename in os.listdir(DATA_PATH):
    if filename.endswith('.csv'):
        print(filename)
3/165:
df = pd.read_csv(DATA_PATH + '/' + 'MM_TIO_EW_31TGK_20151227_to_20200906.csv', skiprows=42)
df.columns = [col.strip() for col in df.columns]
columns = df.columns
df.reset_index(inplace=True)
df = df[[df.columns[i] for i in range(len(columns))]]
df.columns = columns
3/166: df.head()
3/167: df['Vel'] = pd.to_numeric(df['Vel'], errors='coerce')
3/168: df.describe()
3/169: df.describe()
3/170:
nan = df.isnull().sum().sum()
print('Nombre de valeurs manquantes : %d' %(nan))
print('pourcentage de valeurs manquantes : %f' % (nan/len(df)*100))
3/171:
nan = df.isnull().sum().sum()
print('Nombre de valeurs manquantes : %d' %(nan))
print('pourcentage de valeurs manquantes : %f' % (nan/len(df)*100))
3/172:
df = pd.read_csv(DATA_PATH + '/' + 'MM_TIO_EW_31TGK_20151227_to_20200906.csv', skiprows=42)
df.columns = [col.strip() for col in df.columns]
columns = df.columns
df.reset_index(inplace=True)
df = df[[df.columns[i] for i in range(len(columns))]]
df.columns = columns
df.set_index('ID')
3/173: df.head()
3/174: len(df.index.unique())
3/175: df['Vel'] = pd.to_numeric(df['Vel'], errors='coerce')
3/176: df.describe()
3/177:
nan = df.isnull().sum().sum()
print('Nombre de valeurs manquantes : %d' %(nan))
print('pourcentage de valeurs manquantes : %f' % (nan/len(df)*100))
3/178:
nan = df.isnull().sum().sum()
print('Nombre de valeurs manquantes : %d' %(nan))
print('pourcentage de valeurs manquantes : %f' % (nan/len(df)*100))
3/179:
# suppression des lignes avec des valeurs manquantes
df.dropna(inplace=True)
3/180:
# distribution des vitesses en fonction de la geographie
df = df[0:100]
X, Y = np.meshgrid(df['Lat'], df['Lon'])
Z = np.array(df['Vel'])
Z = Z.reshape((len(df['Lat']), len('Lon')))
plt.contourf(X, Y, df['Vel'], 20, cmap='RdGy')
plt.colorbar()
3/181:
# distribution des vitesses en fonction de la geographie
df = df[0:100]
X, Y = np.meshgrid(df['Lat'], df['Lon'])
Z = np.array(df['Vel'])
Z = Z.reshape((len(df['Lat']), len('Lon')))
plt.contourf(X, Y, df['Vel'], 20, cmap='RdGy')
plt.colorbar()
3/182:
# distribution des vitesses en fonction de la geographie
df = df[0:100]
X, Y = np.meshgrid(df['Lat'], df['Lon'])
Z = np.array(df['Vel'])
Z = Z.reshape((len(df['Lat']), len('Lon')))
plt.contourf(X, Y, df['Vel'], 20, cmap='RdGy')
plt.colorbar()
 4/1:
import pandas as pd
import numpy as np
import os
import matplotlib.pyplot as plt
 4/2: DATA_PATH = './donnees'
 4/3:
for filename in os.listdir(DATA_PATH):
    if filename.endswith('.csv'):
        print(filename)
 4/4:
df = pd.read_csv(DATA_PATH + '/' + 'MM_TIO_EW_31TGK_20151227_to_20200906.csv', skiprows=42)
df.columns = [col.strip() for col in df.columns]
columns = df.columns
df.reset_index(inplace=True)
df = df[[df.columns[i] for i in range(len(columns))]]
df.columns = columns
df.set_index('ID')
 4/5: df.head()
 4/6: df['Vel'] = pd.to_numeric(df['Vel'], errors='coerce')
 4/7: df.describe()
 4/8:
nan = df.isnull().sum().sum()
print('Nombre de valeurs manquantes : %d' %(nan))
print('pourcentage de valeurs manquantes : %f' % (nan/len(df)*100))
 4/9:
# suppression des lignes avec des valeurs manquantes
df.dropna(inplace=True)
 5/1:
import pandas as pd
import numpy as np
import os
import matplotlib.pyplot as plt
 5/2: DATA_PATH = './donnees'
 5/3:
for filename in os.listdir(DATA_PATH):
    if filename.endswith('.csv'):
        print(filename)
 5/4:
import csv

with open(DATA_PATH + '/' + 'MM_TIO_EW_31TGK_20151227_to_20200906.csv') as csv_file:
    csv_reader = csv.reader(csv_file, delimiter=''):
        line_count = 0 
        for row in csv_reader:
            if line_count < 43:
                print(row[0])
 5/5:
import csv

with open(DATA_PATH + '/' + 'MM_TIO_EW_31TGK_20151227_to_20200906.csv') as csv_file:
    csv_reader = csv.reader(csv_file, delimiter='')
    line_count = 0 
    for row in csv_reader:
        if line_count < 43:
            print(row[0])
 5/6:
import csv

with open(DATA_PATH + '/' + 'MM_TIO_EW_31TGK_20151227_to_20200906.csv') as csv_file:
    csv_reader = csv.reader(csv_file, delimiter="")
    line_count = 0 
    for row in csv_reader:
        if line_count < 43:
            print(row[0])
 5/7:
import csv

with open(DATA_PATH + '/' + 'MM_TIO_EW_31TGK_20151227_to_20200906.csv') as csv_file:
    csv_reader = csv.reader(csv_file, delimiter=",")
    line_count = 0 
    for row in csv_reader:
        if line_count < 43:
            print(row[0])
 5/8:
import csv

with open(DATA_PATH + '/' + 'MM_TIO_EW_31TGK_20151227_to_20200906.csv') as csv_file:
    csv_reader = csv.reader(csv_file, delimiter=",")
    line_count = 0 
    for row in csv_reader:
        if line_count < 43:
            print(row[0])
            line_count += 1
 5/9:
import csv

num_start = 44
# attributs présent dans les données
columns = ['id', 'Lat','Lon', 'Topo', 'Vel', 'Coer',' CosN', 'CosE', 'CosU']
# dictionnaire stockant les données
data = {column: [] for column in columns}

with open(DATA_PATH + '/' + 'MM_TIO_EW_31TGK_20151227_to_20200906.csv') as csv_file:
    csv_reader = csv.reader(csv_file, delimiter=",")
    line_count = 0 
    for row in csv_reader:
        if line_count >= num_start:
            data[columns[0]].append(row[0])
            data[columns[1]].append(row[1])
            data[columns[2]].append(row[2])
            data[columns[3]].append(row[3])
            data[columns[4]].append(row[4])
            data[columns[5]].append(row[5])
            data[columns[6]].append(row[6])
            data[columns[7]].append(row[7])
            data[columns[8]].append(row[8])
            
    df = pd.DataFrame(data)
5/10: df.head()
5/11:
import csv

num_start = 44
# attributs présent dans les données
columns = ['id', 'Lat','Lon', 'Topo', 'Vel', 'Coer',' CosN', 'CosE', 'CosU']
# dictionnaire stockant les données
data = {column: [] for column in columns}

with open(DATA_PATH + '/' + 'MM_TIO_EW_31TGK_20151227_to_20200906.csv') as csv_file:
    csv_reader = csv.reader(csv_file, delimiter=",")
    line_count = 0 
    for row in csv_reader:
        if line_count >= num_start:
            data[columns[0]].append(row[0])
            data[columns[1]].append(row[1])
            data[columns[2]].append(row[2])
            data[columns[3]].append(row[3])
            data[columns[4]].append(row[4])
            data[columns[5]].append(row[5])
            data[columns[6]].append(row[6])
            data[columns[7]].append(row[7])
            data[columns[8]].append(row[8])
            line_count += 1
            
    df = pd.DataFrame(data)
5/12: df.head()
5/13:
import csv

num_start = 44
# attributs présent dans les données
columns = ['id', 'Lat','Lon', 'Topo', 'Vel', 'Coer',' CosN', 'CosE', 'CosU']
# dictionnaire stockant les données
data = {column: [] for column in columns}

with open(DATA_PATH + '/' + 'MM_TIO_EW_31TGK_20151227_to_20200906.csv') as csv_file:
    csv_reader = csv.reader(csv_file, delimiter=",")
    line_count = 0 
    for row in csv_reader:
        print("hi")
        if line_count >= num_start:
            data[columns[0]].append(row[0])
            data[columns[1]].append(row[1])
            data[columns[2]].append(row[2])
            data[columns[3]].append(row[3])
            data[columns[4]].append(row[4])
            data[columns[5]].append(row[5])
            data[columns[6]].append(row[6])
            data[columns[7]].append(row[7])
            data[columns[8]].append(row[8])
            line_count += 1
            
    df = pd.DataFrame(data)
5/14:
import csv

num_start = 44
# attributs présent dans les données
columns = ['id', 'Lat','Lon', 'Topo', 'Vel', 'Coer',' CosN', 'CosE', 'CosU']
# dictionnaire stockant les données
data = {column: [] for column in columns}

with open(DATA_PATH + '/' + 'MM_TIO_EW_31TGK_20151227_to_20200906.csv') as csv_file:
    csv_reader = csv.reader(csv_file, delimiter=",")
    line_count = 0 
    for row in csv_reader:
        print("hi")
        if line_count >= num_start:
            data[columns[0]].append(row[0])
            data[columns[1]].append(row[1])
            data[columns[2]].append(row[2])
            data[columns[3]].append(row[3])
            data[columns[4]].append(row[4])
            data[columns[5]].append(row[5])
            data[columns[6]].append(row[6])
            data[columns[7]].append(row[7])
            data[columns[8]].append(row[8])
            print(line_count)
            line_count += 1
            
    df = pd.DataFrame(data)
5/15:
import csv

num_start = 44
# attributs présent dans les données
columns = ['id', 'Lat','Lon', 'Topo', 'Vel', 'Coer',' CosN', 'CosE', 'CosU']
# dictionnaire stockant les données
data = {column: [] for column in columns}

with open(DATA_PATH + '/' + 'MM_TIO_EW_31TGK_20151227_to_20200906.csv') as csv_file:
    csv_reader = csv.reader(csv_file, delimiter=",")
    line_count = 0 
    for row in csv_reader:
        if line_count >= num_start:
            data[columns[0]].append(row[0])
            data[columns[1]].append(row[1])
            data[columns[2]].append(row[2])
            data[columns[3]].append(row[3])
            data[columns[4]].append(row[4])
            data[columns[5]].append(row[5])
            data[columns[6]].append(row[6])
            data[columns[7]].append(row[7])
            data[columns[8]].append(row[8])
            print(line_count)
            line_count += 1
            
    df = pd.DataFrame(data)
5/16:
import csv

num_start = 44
# attributs présent dans les données
columns = ['id', 'Lat','Lon', 'Topo', 'Vel', 'Coer',' CosN', 'CosE', 'CosU']
# dictionnaire stockant les données
data = {column: [] for column in columns}

with open(DATA_PATH + '/' + 'MM_TIO_EW_31TGK_20151227_to_20200906.csv') as csv_file:
    csv_reader = csv.reader(csv_file, delimiter=",")
    line_count = 0 
    for row in csv_reader:
        if line_count >= num_start:
            data[columns[0]].append(row[0])
            data[columns[1]].append(row[1])
            data[columns[2]].append(row[2])
            data[columns[3]].append(row[3])
            data[columns[4]].append(row[4])
            data[columns[5]].append(row[5])
            data[columns[6]].append(row[6])
            data[columns[7]].append(row[7])
            data[columns[8]].append(row[8])
            print(line_count)
            line_count += 1
            
    df = pd.DataFrame(data)
5/17: df.head()
5/18:
import csv

num_start = 44
# attributs présent dans les données
columns = ['id', 'Lat','Lon', 'Topo', 'Vel', 'Coer',' CosN', 'CosE', 'CosU']
# dictionnaire stockant les données
data = {column: [] for column in columns}

with open(DATA_PATH + '/' + 'MM_TIO_EW_31TGK_20151227_to_20200906.csv') as csv_file:
    csv_reader = csv.reader(csv_file, delimiter=",")
    line_count = 0 
    for row in csv_reader:
        print(row[0])
        if line_count >= num_start:
            data[columns[0]].append(row[0])
            data[columns[1]].append(row[1])
            data[columns[2]].append(row[2])
            data[columns[3]].append(row[3])
            data[columns[4]].append(row[4])
            data[columns[5]].append(row[5])
            data[columns[6]].append(row[6])
            data[columns[7]].append(row[7])
            data[columns[8]].append(row[8])
            print(line_count)
            line_count += 1
            
    df = pd.DataFrame(data)
5/19:
import csv

num_start = 44
# attributs présent dans les données
columns = ['id', 'Lat','Lon', 'Topo', 'Vel', 'Coer',' CosN', 'CosE', 'CosU']
# dictionnaire stockant les données
data = {column: [] for column in columns}

with open(DATA_PATH + '/' + 'MM_TIO_EW_31TGK_20151227_to_20200906.csv') as csv_file:
    csv_reader = csv.reader(csv_file, delimiter=",")
    line_count = 0 
    for row in csv_reader:
        print(ine_count >= num_start)
        if line_count >= num_start:
            data[columns[0]].append(row[0])
            data[columns[1]].append(row[1])
            data[columns[2]].append(row[2])
            data[columns[3]].append(row[3])
            data[columns[4]].append(row[4])
            data[columns[5]].append(row[5])
            data[columns[6]].append(row[6])
            data[columns[7]].append(row[7])
            data[columns[8]].append(row[8])
            print(line_count)
            line_count += 1
            
    df = pd.DataFrame(data)
5/20:
import csv

num_start = 44
# attributs présent dans les données
columns = ['id', 'Lat','Lon', 'Topo', 'Vel', 'Coer',' CosN', 'CosE', 'CosU']
# dictionnaire stockant les données
data = {column: [] for column in columns}

with open(DATA_PATH + '/' + 'MM_TIO_EW_31TGK_20151227_to_20200906.csv') as csv_file:
    csv_reader = csv.reader(csv_file, delimiter=",")
    line_count = 0 
    for row in csv_reader:
        print(line_count >= num_start)
        if line_count >= num_start:
            data[columns[0]].append(row[0])
            data[columns[1]].append(row[1])
            data[columns[2]].append(row[2])
            data[columns[3]].append(row[3])
            data[columns[4]].append(row[4])
            data[columns[5]].append(row[5])
            data[columns[6]].append(row[6])
            data[columns[7]].append(row[7])
            data[columns[8]].append(row[8])
            print(line_count)
            line_count += 1
            
    df = pd.DataFrame(data)
5/21:
import csv

num_start = 44
# attributs présent dans les données
columns = ['id', 'Lat','Lon', 'Topo', 'Vel', 'Coer',' CosN', 'CosE', 'CosU']
# dictionnaire stockant les données
data = {column: [] for column in columns}

with open(DATA_PATH + '/' + 'MM_TIO_EW_31TGK_20151227_to_20200906.csv') as csv_file:
    csv_reader = csv.reader(csv_file, delimiter=",")
    num_start = 44
    line_count = 0 
    for row in csv_reader:
        print(line_count >= num_start)
        if line_count >= num_start:
            data[columns[0]].append(row[0])
            data[columns[1]].append(row[1])
            data[columns[2]].append(row[2])
            data[columns[3]].append(row[3])
            data[columns[4]].append(row[4])
            data[columns[5]].append(row[5])
            data[columns[6]].append(row[6])
            data[columns[7]].append(row[7])
            data[columns[8]].append(row[8])
            print(line_count)
            line_count += 1
            
    df = pd.DataFrame(data)
5/22: df.head()
5/23:
import csv

num_start = 44
# attributs présent dans les données
columns = ['id', 'Lat','Lon', 'Topo', 'Vel', 'Coer',' CosN', 'CosE', 'CosU']
# dictionnaire stockant les données
data = {column: [] for column in columns}

with open(DATA_PATH + '/' + 'MM_TIO_EW_31TGK_20151227_to_20200906.csv') as csv_file:
    csv_reader = csv.reader(csv_file, delimiter=",")
    line_count = 0 
    print(line_count, num_start)
    for row in csv_reader:
        print(line_count >= num_start)
        if line_count >= num_start:
            data[columns[0]].append(row[0])
            data[columns[1]].append(row[1])
            data[columns[2]].append(row[2])
            data[columns[3]].append(row[3])
            data[columns[4]].append(row[4])
            data[columns[5]].append(row[5])
            data[columns[6]].append(row[6])
            data[columns[7]].append(row[7])
            data[columns[8]].append(row[8])
            print(line_count)
            line_count += 1
            
    df = pd.DataFrame(data)
5/24:
import csv

num_start = 44
# attributs présent dans les données
columns = ['id', 'Lat','Lon', 'Topo', 'Vel', 'Coer',' CosN', 'CosE', 'CosU']
# dictionnaire stockant les données
data = {column: [] for column in columns}

with open(DATA_PATH + '/' + 'MM_TIO_EW_31TGK_20151227_to_20200906.csv') as csv_file:
    csv_reader = csv.reader(csv_file, delimiter=",")
    line_count = 0 
    print(line_count, num_start)
    for row in csv_reader:
        print(line_count >= num_start)
        if line_count >= num_start:
            data[columns[0]].append(row[0])
            data[columns[1]].append(row[1])
            data[columns[2]].append(row[2])
            data[columns[3]].append(row[3])
            data[columns[4]].append(row[4])
            data[columns[5]].append(row[5])
            data[columns[6]].append(row[6])
            data[columns[7]].append(row[7])
            data[columns[8]].append(row[8])
            print(line_count)
            line_count += 1
            
    df = pd.DataFrame(data)
5/25:
import csv

num_start = 44
# attributs présent dans les données
columns = ['id', 'Lat','Lon', 'Topo', 'Vel', 'Coer',' CosN', 'CosE', 'CosU']
# dictionnaire stockant les données
data = {column: [] for column in columns}

with open(DATA_PATH + '/' + 'MM_TIO_EW_31TGK_20151227_to_20200906.csv') as csv_file:
    csv_reader = csv.reader(csv_file, delimiter=",")
    line_count = 0 
    print(line_count, num_start)
    for row in csv_reader:
        print(line_count >= num_start)
        if line_count >= num_start:
            data[columns[0]].append(row[0])
            data[columns[1]].append(row[1])
            data[columns[2]].append(row[2])
            data[columns[3]].append(row[3])
            data[columns[4]].append(row[4])
            data[columns[5]].append(row[5])
            data[columns[6]].append(row[6])
            data[columns[7]].append(row[7])
            data[columns[8]].append(row[8])
            print(line_count)
            line_count += 1
            
    df = pd.DataFrame(data)
5/26:
import csv

num_start = 44
# attributs présent dans les données
columns = ['id', 'Lat','Lon', 'Topo', 'Vel', 'Coer',' CosN', 'CosE', 'CosU']
# dictionnaire stockant les données
data = {column: [] for column in columns}

with open(DATA_PATH + '/' + 'MM_TIO_EW_31TGK_20151227_to_20200906.csv') as csv_file:
    csv_reader = csv.reader(csv_file, delimiter=",")
    line_count = 0 
    print(line_count, num_start)
    for row in csv_reader:
        if line_count >= num_start:
            data[columns[0]].append(row[0])
            data[columns[1]].append(row[1])
            data[columns[2]].append(row[2])
            data[columns[3]].append(row[3])
            data[columns[4]].append(row[4])
            data[columns[5]].append(row[5])
            data[columns[6]].append(row[6])
            data[columns[7]].append(row[7])
            data[columns[8]].append(row[8])
            print(line_count)
            line_count += 1
            
    df = pd.DataFrame(data)
5/27:
import csv

num_start = 44
# attributs présent dans les données
columns = ['id', 'Lat','Lon', 'Topo', 'Vel', 'Coer',' CosN', 'CosE', 'CosU']
# dictionnaire stockant les données
data = {column: [] for column in columns}

with open(DATA_PATH + '/' + 'MM_TIO_EW_31TGK_20151227_to_20200906.csv') as csv_file:
    csv_reader = csv.reader(csv_file, delimiter=",")
    line_count = 0 
    print(line_count, num_start)
    for row in csv_reader:
        print(line_count, num_start)
        if line_count >= num_start:
            data[columns[0]].append(row[0])
            data[columns[1]].append(row[1])
            data[columns[2]].append(row[2])
            data[columns[3]].append(row[3])
            data[columns[4]].append(row[4])
            data[columns[5]].append(row[5])
            data[columns[6]].append(row[6])
            data[columns[7]].append(row[7])
            data[columns[8]].append(row[8])
            print(line_count)
            line_count += 1
            
    df = pd.DataFrame(data)
5/28:
import csv

num_start = 44
# attributs présent dans les données
columns = ['id', 'Lat','Lon', 'Topo', 'Vel', 'Coer',' CosN', 'CosE', 'CosU']
# dictionnaire stockant les données
data = {column: [] for column in columns}

with open(DATA_PATH + '/' + 'MM_TIO_EW_31TGK_20151227_to_20200906.csv') as csv_file:
    csv_reader = csv.reader(csv_file, delimiter=",")
    line_count = 0 
    print(line_count, num_start)
    for row in csv_reader:
        print(line_count, num_start)
        if line_count >= num_start:
            data[columns[0]].append(row[0])
            data[columns[1]].append(row[1])
            data[columns[2]].append(row[2])
            data[columns[3]].append(row[3])
            data[columns[4]].append(row[4])
            data[columns[5]].append(row[5])
            data[columns[6]].append(row[6])
            data[columns[7]].append(row[7])
            data[columns[8]].append(row[8])
            print(line_count)
            line_count  += 1
            
    df = pd.DataFrame(data)
5/29:
import csv

num_start = 44
# attributs présent dans les données
columns = ['id', 'Lat','Lon', 'Topo', 'Vel', 'Coer',' CosN', 'CosE', 'CosU']
# dictionnaire stockant les données
data = {column: [] for column in columns}

with open(DATA_PATH + '/' + 'MM_TIO_EW_31TGK_20151227_to_20200906.csv') as csv_file:
    csv_reader = csv.reader(csv_file, delimiter=",")
    line_count = 0 
    print(line_count, num_start)
    for row in csv_reader:
        if line_count >= num_start:
            data[columns[0]].append(row[0])
            data[columns[1]].append(row[1])
            data[columns[2]].append(row[2])
            data[columns[3]].append(row[3])
            data[columns[4]].append(row[4])
            data[columns[5]].append(row[5])
            data[columns[6]].append(row[6])
            data[columns[7]].append(row[7])
            data[columns[8]].append(row[8])
            print(line_count)
        line_count  += 1
            
    df = pd.DataFrame(data)
5/30:
import csv

num_start = 44
# attributs présent dans les données
columns = ['id', 'Lat','Lon', 'Topo', 'Vel', 'Coer',' CosN', 'CosE', 'CosU']
# dictionnaire stockant les données
data = {column: [] for column in columns}

with open(DATA_PATH + '/' + 'MM_TIO_EW_31TGK_20151227_to_20200906.csv') as csv_file:
    csv_reader = csv.reader(csv_file, delimiter=",")
    line_count = 0 
    for row in csv_reader:
        if line_count >= num_start:
            data[columns[0]].append(row[0])
            data[columns[1]].append(row[1])
            data[columns[2]].append(row[2])
            data[columns[3]].append(row[3])
            data[columns[4]].append(row[4])
            data[columns[5]].append(row[5])
            data[columns[6]].append(row[6])
            data[columns[7]].append(row[7])
            data[columns[8]].append(row[8])
        line_count  += 1
            
    df = pd.DataFrame(data)
5/31: df.head()
5/32:
import csv

num_start = 44
# attributs présent dans les données
columns = ['id', 'Lat','Lon', 'Topo', 'Vel', 'Coer',' CosN', 'CosE', 'CosU']
# dictionnaire stockant les données
data = {column: [] for column in columns}

with open(DATA_PATH + '/' + 'MM_TIO_EW_31TGK_20151227_to_20200906.csv') as csv_file:
    csv_reader = csv.reader(csv_file, delimiter=",")
    line_count = 1 
    for row in csv_reader:
        if line_count >= num_start:
            data[columns[0]].append(row[0])
            data[columns[1]].append(row[1])
            data[columns[2]].append(row[2])
            data[columns[3]].append(row[3])
            data[columns[4]].append(row[4])
            data[columns[5]].append(row[5])
            data[columns[6]].append(row[6])
            data[columns[7]].append(row[7])
            data[columns[8]].append(row[8])
        line_count  += 1
            
    df = pd.DataFrame(data)
5/33: df.head()
5/34:
import csv

num_start = 44
# attributs présent dans les données
columns = ['id', 'Lat','Lon', 'Topo', 'Vel', 'Coer',' CosN', 'CosE', 'CosU']
# dictionnaire stockant les données
data = {column: [] for column in columns}

with open(DATA_PATH + '/' + 'MM_TIO_EW_31TGK_20151227_to_20200906.csv') as csv_file:
    csv_reader = csv.reader(csv_file, delimiter=",")
    line_count = 1 
    for row in csv_reader:
        if line_count >= num_start:
            data[columns[0]].append(row[0])
            data[columns[1]].append(row[1])
            data[columns[2]].append(row[2])
            data[columns[3]].append(row[3])
            data[columns[4]].append(row[4])
            data[columns[5]].append(row[5])
            data[columns[6]].append(row[6])
            data[columns[7]].append(row[7])
            data[columns[8]].append(row[8])
            print(row[9])
        line_count  += 1
            
    df = pd.DataFrame(data)
5/35:
import csv

num_start = 44
# attributs présent dans les données
columns = ['id', 'Lat','Lon', 'Topo', 'Vel', 'Coer',' CosN', 'CosE', 'CosU']
# dictionnaire stockant les données
data = {column: [] for column in columns}

with open(DATA_PATH + '/' + 'MM_TIO_EW_31TGK_20151227_to_20200906.csv') as csv_file:
    csv_reader = csv.reader(csv_file, delimiter=",")
    line_count = 1 
    for row in csv_reader:
        print(len(row))
        if line_count >= num_start:
            data[columns[0]].append(row[0])
            data[columns[1]].append(row[1])
            data[columns[2]].append(row[2])
            data[columns[3]].append(row[3])
            data[columns[4]].append(row[4])
            data[columns[5]].append(row[5])
            data[columns[6]].append(row[6])
            data[columns[7]].append(row[7])
            data[columns[8]].append(row[8])
            print(row[9])
        line_count  += 1
            
    df = pd.DataFrame(data)
5/36:
import csv

num_start = 44
# attributs présent dans les données
columns = ['id', 'Lat','Lon', 'Topo', 'Vel', 'Coer',' CosN', 'CosE', 'CosU']
# dictionnaire stockant les données
data = {column: [] for column in columns}

with open(DATA_PATH + '/' + 'MM_TIO_EW_31TGK_20151227_to_20200906.csv') as csv_file:
    csv_reader = csv.reader(csv_file, delimiter=",")
    line_count = 1 
    for row in csv_reader:
        print(line_count, len(row))
        if line_count >= num_start:
            data[columns[0]].append(row[0])
            data[columns[1]].append(row[1])
            data[columns[2]].append(row[2])
            data[columns[3]].append(row[3])
            data[columns[4]].append(row[4])
            data[columns[5]].append(row[5])
            data[columns[6]].append(row[6])
            data[columns[7]].append(row[7])
            data[columns[8]].append(row[8])
            print(row[9])
        line_count  += 1
            
    df = pd.DataFrame(data)
5/37:
import csv

num_start = 44
# attributs présent dans les données
columns = ['id', 'Lat','Lon', 'Topo', 'Vel', 'Coer',' CosN', 'CosE', 'CosU']
# dictionnaire stockant les données
data = {column: [] for column in columns}

with open(DATA_PATH + '/' + 'MM_TIO_EW_31TGK_20151227_to_20200906.csv') as csv_file:
    csv_reader = csv.reader(csv_file, delimiter=",")
    line_count = 1 
    for row in csv_reader:
        print(line_count, len(row))
        if line_count >= num_start:
            data[columns[0]].append(row[0])
            data[columns[1]].append(row[1])
            data[columns[2]].append(row[2])
            data[columns[3]].append(row[3])
            data[columns[4]].append(row[4])
            data[columns[5]].append(row[5])
            data[columns[6]].append(row[6])
            data[columns[7]].append(row[7])
            data[columns[8]].append(row[8])
        line_count  += 1
            
    df = pd.DataFrame(data)
5/38:
u = [0,2,6,4,9]
u[:4]
5/39:
import csv

num_start = 44
# attributs présent dans les données
columns = ['id', 'Lat','Lon', 'Topo', 'Vel', 'Coer',' CosN', 'CosE', 'CosU']
# dictionnaire stockant les données
data = {column: [] for column in columns}
# series temporelles
series = []

with open(DATA_PATH + '/' + 'MM_TIO_EW_31TGK_20151227_to_20200906.csv') as csv_file:
    csv_reader = csv.reader(csv_file, delimiter=",")
    line_count = 1 
    for row in csv_reader:
        print(line_count, len(row))
        if line_count >= num_start:
            # extraction des premiers attributs
            data[columns[0]].append(row[0])
            data[columns[1]].append(row[1])
            data[columns[2]].append(row[2])
            data[columns[3]].append(row[3])
            data[columns[4]].append(row[4])
            data[columns[5]].append(row[5])
            data[columns[6]].append(row[6])
            data[columns[7]].append(row[7])
            data[columns[8]].append(row[8])
            # extraction de l'attribut TS(série temporelle)
            series.append(row[:len(columns)])
        line_count  += 1
            
    df = pd.DataFrame(data)
5/40:
import pandas as pd
import numpy as np
import os
import matplotlib.pyplot as plt
5/41: DATA_PATH = './donnees'
5/42:
for filename in os.listdir(DATA_PATH):
    if filename.endswith('.csv'):
        print(filename)
5/43:
import csv

num_start = 44
# attributs présent dans les données
columns = ['id', 'Lat','Lon', 'Topo', 'Vel', 'Coer',' CosN', 'CosE', 'CosU']
# dictionnaire stockant les données
data = {column: [] for column in columns}
# series temporelles
series = []

with open(DATA_PATH + '/' + 'MM_TIO_EW_31TGK_20151227_to_20200906.csv') as csv_file:
    csv_reader = csv.reader(csv_file, delimiter=",")
    line_count = 1 
    for row in csv_reader:
        if line_count >= num_start:
            # extraction des premiers attributs
            for i in range(len(columns)):
                data[columns[i]].append(row[i])
            # extraction de l'attribut TS(série temporelle)
            series.append(row[:len(columns)])
        line_count  += 1
            
    df = pd.DataFrame(data)
5/44: df.head()
5/45: series
5/46: type(series)
5/47:
import csv

num_start = 44
# attributs présent dans les données
columns = ['id', 'Lat','Lon', 'Topo', 'Vel', 'Coer',' CosN', 'CosE', 'CosU']
# dictionnaire stockant les données
data = {column: [] for column in columns}
# series temporelles
series = []

with open(DATA_PATH + '/' + 'MM_TIO_EW_31TGK_20151227_to_20200906.csv') as csv_file:
    csv_reader = csv.reader(csv_file, delimiter=",")
    line_count = 1 
    for row in csv_reader:
        if line_count >= num_start:
            # extraction des premiers attributs
            for i in range(len(columns)):
                data[columns[i]].append(row[i])
            # extraction de l'attribut TS(série temporelle)
            series.append(float(v) for v in row[:len(columns)])
        line_count  += 1
            
    df = pd.DataFrame(data)
5/48: series
5/49:
import csv

num_start = 44
# attributs présent dans les données
columns = ['id', 'Lat','Lon', 'Topo', 'Vel', 'Coer',' CosN', 'CosE', 'CosU']
# dictionnaire stockant les données
data = {column: [] for column in columns}
# series temporelles
series = []

with open(DATA_PATH + '/' + 'MM_TIO_EW_31TGK_20151227_to_20200906.csv') as csv_file:
    csv_reader = csv.reader(csv_file, delimiter=",")
    line_count = 1 
    for row in csv_reader:
        if line_count >= num_start:
            # extraction des premiers attributs
            for i in range(len(columns)):
                data[columns[i]].append(row[i])
            # extraction de l'attribut TS(série temporelle)
            series.append([float(v) for v in row[:len(columns)]])
        line_count  += 1
            
    df = pd.DataFrame(data)
5/50: series
5/51: type(series)
5/52:
import csv
with open(DATA_PATH + '/' + 'MM_TIO_EW_31TGK_20151227_to_20200906.csv', 'rb') as f:
    reader = csv.reader(f, delimiter=':', quoting=csv.QUOTE_NONE)
    for row in reader:
        print row
5/53:
import csv
with open(DATA_PATH + '/' + 'MM_TIO_EW_31TGK_20151227_to_20200906.csv', 'rb') as f:
    reader = csv.reader(f, delimiter=':', quoting=csv.QUOTE_NONE)
    for row in reader:
        print(row)
5/54:
import csv, sys
filename = 'DATA_PATH + '/' + 'MM_TIO_EW_31TGK_20151227_to_20200906.csv'
with open(filename, newline='') as f:
    reader = csv.reader(f)
    try:
        for row in reader:
            print(row)
    except csv.Error as e:
        sys.exit('file {}, line {}: {}'.format(filename, reader.line_num, e))
5/55:
import csv, sys
filename = DATA_PATH + '/' + 'MM_TIO_EW_31TGK_20151227_to_20200906.csv'
with open(filename, newline='') as f:
    reader = csv.reader(f)
    try:
        for row in reader:
            print(row)
    except csv.Error as e:
        sys.exit('file {}, line {}: {}'.format(filename, reader.line_num, e))
5/56:
import csv

# numéro de la ligne ou commence les données
num_start = 44
# numéro de la ligne ou se trouve la liste des dates
num_list_dates = 40
# attributs présent dans les données
columns = ['id', 'Lat','Lon', 'Topo', 'Vel', 'Coer',' CosN', 'CosE', 'CosU']
# dictionnaire stockant les données
data = {column: [] for column in columns}
# liste des dates 
indexes = []
# series temporelles
series = []

with open(DATA_PATH + '/' + 'MM_TIO_EW_31TGK_20151227_to_20200906.csv') as csv_file:
    csv_reader = csv.reader(csv_file, delimiter=",")
    line_count = 1 
    for row in csv_reader:
        if line_count == num_lis_dates:
            indexes = row[1:]
        if line_count >= num_start:
            # extraction des premiers attributs
            for i in range(len(columns)):
                data[columns[i]].append(row[i])
            # extraction de l'attribut TS(série temporelle)
            series.append([float(v) for v in row[:len(columns)]])
        line_count  += 1
            
    df = pd.DataFrame(data)
5/57:
import csv

# numéro de la ligne ou commence les données
num_start = 44
# numéro de la ligne ou se trouve la liste des dates
num_list_dates = 40
# attributs présent dans les données
columns = ['id', 'Lat','Lon', 'Topo', 'Vel', 'Coer',' CosN', 'CosE', 'CosU']
# dictionnaire stockant les données
data = {column: [] for column in columns}
# liste des dates 
indexes = []
# series temporelles
series = []

with open(DATA_PATH + '/' + 'MM_TIO_EW_31TGK_20151227_to_20200906.csv') as csv_file:
    csv_reader = csv.reader(csv_file, delimiter=",")
    line_count = 1 
    for row in csv_reader:
        if line_count == num_list_dates:
            indexes = row[1:]
        if line_count >= num_start:
            # extraction des premiers attributs
            for i in range(len(columns)):
                data[columns[i]].append(row[i])
            # extraction de l'attribut TS(série temporelle)
            series.append([float(v) for v in row[:len(columns)]])
        line_count  += 1
            
    df = pd.DataFrame(data)
5/58: df.head()
5/59: indexes
5/60:
import csv

# numéro de la ligne ou commence les données
num_start = 44
# numéro de la ligne ou se trouve la liste des dates
num_list_dates = 40
# attributs présent dans les données
columns = ['id', 'Lat','Lon', 'Topo', 'Vel', 'Coer',' CosN', 'CosE', 'CosU']
# dictionnaire stockant les données
data = {column: [] for column in columns}
# liste des dates 
indexes = []
# series temporelles
series = []

with open(DATA_PATH + '/' + 'MM_TIO_EW_31TGK_20151227_to_20200906.csv') as csv_file:
    csv_reader = csv.reader(csv_file, delimiter=",")
    line_count = 1 
    for row in csv_reader:
        if line_count == num_list_dates:
            indexes = row[0:]
        if line_count >= num_start:
            # extraction des premiers attributs
            for i in range(len(columns)):
                data[columns[i]].append(row[i])
            # extraction de l'attribut TS(série temporelle)
            series.append([float(v) for v in row[:len(columns)]])
        line_count  += 1
            
    df = pd.DataFrame(data)
5/61: df.head()
5/62: indexes
5/63:
import csv

# numéro de la ligne ou commence les données
num_start = 44
# numéro de la ligne ou se trouve la liste des dates
num_list_dates = 40
# attributs présent dans les données
columns = ['id', 'Lat','Lon', 'Topo', 'Vel', 'Coer',' CosN', 'CosE', 'CosU']
# dictionnaire stockant les données
data = {column: [] for column in columns}
# liste des dates 
indexes = []
# series temporelles
series = []

with open(DATA_PATH + '/' + 'MM_TIO_EW_31TGK_20151227_to_20200906.csv') as csv_file:
    csv_reader = csv.reader(csv_file, delimiter=",")
    line_count = 1 
    for row in csv_reader:
        if line_count == num_list_dates:
            indexes = [row[0].split(':')[1]] + row[1:]
        if line_count >= num_start:
            # extraction des premiers attributs
            for i in range(len(columns)):
                data[columns[i]].append(row[i])
            # extraction de l'attribut TS(série temporelle)
            series.append([float(v) for v in row[:len(columns)]])
        line_count  += 1
            
    df = pd.DataFrame(data)
5/64: indexes
5/65:
import csv

# numéro de la ligne ou commence les données
num_start = 44
# numéro de la ligne ou se trouve la liste des dates
num_list_dates = 40
# attributs présent dans les données
columns = ['id', 'Lat','Lon', 'Topo', 'Vel', 'Coer',' CosN', 'CosE', 'CosU']
# dictionnaire stockant les données
data = {column: [] for column in columns}
# liste des dates 
indexes = []
# series temporelles
series = []

with open(DATA_PATH + '/' + 'MM_TIO_EW_31TGK_20151227_to_20200906.csv') as csv_file:
    csv_reader = csv.reader(csv_file, delimiter=",")
    line_count = 1 
    for row in csv_reader:
        if line_count == num_list_dates:
            indexes = [row[0].split(' ')[1]] + row[1:]
        if line_count >= num_start:
            # extraction des premiers attributs
            for i in range(len(columns)):
                data[columns[i]].append(row[i])
            # extraction de l'attribut TS(série temporelle)
            series.append([float(v) for v in row[:len(columns)]])
        line_count  += 1
            
    df = pd.DataFrame(data)
5/66: indexes
5/67:
import csv

# numéro de la ligne ou commence les données
num_start = 44
# numéro de la ligne ou se trouve la liste des dates
num_list_dates = 40
# attributs présent dans les données
columns = ['id', 'Lat','Lon', 'Topo', 'Vel', 'Coer',' CosN', 'CosE', 'CosU']
# dictionnaire stockant les données
data = {column: [] for column in columns}
# liste des dates 
indexes = []
# series temporelles
series = []

with open(DATA_PATH + '/' + 'MM_TIO_EW_31TGK_20151227_to_20200906.csv') as csv_file:
    csv_reader = csv.reader(csv_file, delimiter=",")
    line_count = 1 
    for row in csv_reader:
        if line_count == num_list_dates:
            indexes = [row[0].split(' ')[1]] + row[1:]
        if line_count >= num_start:
            # extraction des premiers attributs
            for i in range(len(columns)):
                data[columns[i]].append(row[i])
            # extraction de l'attribut TS(série temporelle)
            series.append([float(v) for v in row[:len(columns)]])
        line_count  += 1
    if len(indexes) != len(series[0]):
        print('Erreur : Les indexes et les valeurs ne correspondent pas')
    df = pd.DataFrame(data)
5/68:
import csv

# numéro de la ligne ou commence les données
num_start = 44
# numéro de la ligne ou se trouve la liste des dates
num_list_dates = 40
# attributs présent dans les données
columns = ['id', 'Lat','Lon', 'Topo', 'Vel', 'Coer',' CosN', 'CosE', 'CosU']
# dictionnaire stockant les données
data = {column: [] for column in columns}
# liste des dates 
indexes = []
# series temporelles
series = []

with open(DATA_PATH + '/' + 'MM_TIO_EW_31TGK_20151227_to_20200906.csv') as csv_file:
    csv_reader = csv.reader(csv_file, delimiter=",")
    line_count = 1 
    for row in csv_reader:
        if line_count == num_list_dates:
            indexes = [row[0].split(' ')[1]] + row[1:]
        if line_count >= num_start:
            # extraction des premiers attributs
            for i in range(len(columns)):
                data[columns[i]].append(row[i])
            # extraction de l'attribut TS(série temporelle)
            series.append([float(v) for v in row[:len(columns)]])
        line_count  += 1
    if len(indexes) != len(series[0]):
        print(len(indexes), len(series[0]))
        print('Erreur : Les indexes et les valeurs ne correspondent pas')
    df = pd.DataFrame(data)
5/69: series
5/70:
u = [9,8,7,5,4,3]
u[1:]
5/71:
import csv

# numéro de la ligne ou commence les données
num_start = 44
# numéro de la ligne ou se trouve la liste des dates
num_list_dates = 40
# attributs présent dans les données
columns = ['id', 'Lat','Lon', 'Topo', 'Vel', 'Coer',' CosN', 'CosE', 'CosU']
# dictionnaire stockant les données
data = {column: [] for column in columns}
# liste des dates 
indexes = []
# series temporelles
series = []

with open(DATA_PATH + '/' + 'MM_TIO_EW_31TGK_20151227_to_20200906.csv') as csv_file:
    csv_reader = csv.reader(csv_file, delimiter=",")
    line_count = 1 
    for row in csv_reader:
        if line_count == num_list_dates:
            indexes = [row[0].split(' ')[1]] + row[1:]
        if line_count >= num_start:
            # extraction des premiers attributs
            for i in range(len(columns)):
                data[columns[i]].append(row[i])
            # extraction de l'attribut TS(série temporelle)
            series.append([float(v) for v in row[len(columns):]])
        line_count  += 1
    if len(indexes) != len(series[0]):
        print(len(indexes), len(series[0]))
        print('Erreur : Les indexes et les valeurs ne correspondent pas')
    df = pd.DataFrame(data)
5/72: series
5/73: len(series[0])
5/74: series[0]
5/75:
import csv

# numéro de la ligne ou commence les données
num_start = 44
# numéro de la ligne ou se trouve la liste des dates
num_list_dates = 40
# attributs présent dans les données
columns = ['id', 'Lat','Lon', 'Topo', 'Vel', 'Coer',' CosN', 'CosE', 'CosU']
# dictionnaire stockant les données
data = {column: [] for column in columns}
# liste des dates 
indexes = []
# series temporelles
series = []

with open(DATA_PATH + '/' + 'MM_TIO_EW_31TGK_20151227_to_20200906.csv') as csv_file:
    csv_reader = csv.reader(csv_file, delimiter=",")
    line_count = 1 
    for row in csv_reader:
        if line_count == num_list_dates:
            indexes = [row[0].split(' ')[1]] + row[1:]
        if line_count >= num_start:
            # extraction des premiers attributs
            for i in range(len(columns)):
                data[columns[i]].append(row[i])
            # extraction de l'attribut TS(série temporelle)
            series.append([float(v) for v in row[len(columns):]])
            print(row[len(columns) + 1])
        line_count  += 1
    if len(indexes) != len(series[0]):
        print(len(indexes), len(series[0]))
        print('Erreur : Les indexes et les valeurs ne correspondent pas')
    df = pd.DataFrame(data)
5/76:
import csv

# numéro de la ligne ou commence les données
num_start = 44
# numéro de la ligne ou se trouve la liste des dates
num_list_dates = 40
# attributs présent dans les données
columns = ['id', 'Lat','Lon', 'Topo', 'Vel', 'Coer',' CosN', 'CosE', 'CosU']
# dictionnaire stockant les données
data = {column: [] for column in columns}
# liste des dates 
indexes = []
# series temporelles
series = []

with open(DATA_PATH + '/' + 'MM_TIO_EW_31TGK_20151227_to_20200906.csv') as csv_file:
    csv_reader = csv.reader(csv_file, delimiter=",")
    line_count = 1 
    for row in csv_reader:
        if line_count == num_list_dates:
            indexes = [row[0].split(' ')[1]] + row[1:]
        if line_count >= num_start:
            # extraction des premiers attributs
            for i in range(len(columns)):
                data[columns[i]].append(row[i])
            # extraction de l'attribut TS(série temporelle)
            series.append([float(v) for v in row[len(columns):]])
            print(row[len(columns)])
        line_count  += 1
    if len(indexes) != len(series[0]):
        print(len(indexes), len(series[0]))
        print('Erreur : Les indexes et les valeurs ne correspondent pas')
    df = pd.DataFrame(data)
5/77:
import csv

# numéro de la ligne ou commence les données
num_start = 44
# numéro de la ligne ou se trouve la liste des dates
num_list_dates = 40
# attributs présent dans les données
columns = ['id', 'Lat','Lon', 'Topo', 'Vel', 'Coer',' CosN', 'CosE', 'CosU']
# dictionnaire stockant les données
data = {column: [] for column in columns}
# liste des dates 
indexes = []
# series temporelles
series = []

with open(DATA_PATH + '/' + 'MM_TIO_EW_31TGK_20151227_to_20200906.csv') as csv_file:
    csv_reader = csv.reader(csv_file, delimiter=",")
    line_count = 1 
    for row in csv_reader:
        if line_count == num_list_dates:
            indexes = [row[0].split(' ')[1]] + row[1:]
        if line_count >= num_start:
            # extraction des premiers attributs
            for i in range(len(columns)):
                data[columns[i]].append(row[i])
            # extraction de l'attribut TS(série temporelle)
            series.append([float(v) for v in row[len(columns):]])
            print(row)
        line_count  += 1
    if len(indexes) != len(series[0]):
        print(len(indexes), len(series[0]))
        print('Erreur : Les indexes et les valeurs ne correspondent pas')
    df = pd.DataFrame(data)
5/78:
import csv

# numéro de la ligne ou commence les données
num_start = 44
# numéro de la ligne ou se trouve la liste des dates
num_list_dates = 40
# attributs présent dans les données
columns = ['id', 'Lat','Lon', 'Topo', 'Vel', 'Coer',' CosN', 'CosE', 'CosU']
# dictionnaire stockant les données
data = {column: [] for column in columns}
# liste des dates 
indexes = []
# series temporelles
series = []

with open(DATA_PATH + '/' + 'MM_TIO_EW_31TGK_20151227_to_20200906.csv') as csv_file:
    csv_reader = csv.reader(csv_file, delimiter=",")
    line_count = 1 
    for row in csv_reader:
        if line_count == num_list_dates:
            indexes = [row[0].split(' ')[1]] + row[1:]
        if line_count >= num_start:
            # extraction des premiers attributs
            for i in range(len(columns)):
                data[columns[i]].append(row[i])
            # extraction de l'attribut TS(série temporelle)
            series.append([float(v) for v in row[len(columns):]])
        line_count  += 1
    if len(indexes) != len(series[0]):
        print('Erreur : Les indexes et les valeurs ne correspondent pas')
    df = pd.DataFrame(data)
5/79:
import csv

# numéro de la ligne ou commence les données
num_start = 44
# numéro de la ligne ou se trouve la liste des dates
num_list_dates = 40
# attributs présent dans les données
columns = ['id', 'Lat','Lon', 'Topo', 'Vel', 'Coer',' CosN', 'CosE', 'CosU']
# dictionnaire stockant les données
data = {column: [] for column in columns}
# liste des dates 
indexes = []
# series temporelles
series = []
# liste de dataframes
df_series = []

with open(DATA_PATH + '/' + 'MM_TIO_EW_31TGK_20151227_to_20200906.csv') as csv_file:
    csv_reader = csv.reader(csv_file, delimiter=",")
    line_count = 1 
    for row in csv_reader:
        if line_count == num_list_dates:
            indexes = [row[0].split(' ')[1]] + row[1:]
        if line_count >= num_start:
            # extraction des premiers attributs
            for i in range(len(columns)):
                data[columns[i]].append(row[i])
            # extraction de l'attribut TS(série temporelle)
            series.append([float(v) for v in row[len(columns):]])
        line_count  += 1
    if len(indexes) != len(series[0]):
        print('Erreur : Les indexes et les valeurs ne correspondent pas')
    # créer une liste de dataframes, chacun contenant une série temporelle
    for serie in series:
        d = {'deplacement': pd.Series(serie), index=indexes}
        df_series.append(pd.DataFrame(d)
    for
    df = pd.DataFrame(data)
5/80:
import csv

# numéro de la ligne ou commence les données
num_start = 44
# numéro de la ligne ou se trouve la liste des dates
num_list_dates = 40
# attributs présent dans les données
columns = ['id', 'Lat','Lon', 'Topo', 'Vel', 'Coer',' CosN', 'CosE', 'CosU']
# dictionnaire stockant les données
data = {column: [] for column in columns}
# liste des dates 
indexes = []
# series temporelles
series = []
# liste de dataframes
df_series = []

with open(DATA_PATH + '/' + 'MM_TIO_EW_31TGK_20151227_to_20200906.csv') as csv_file:
    csv_reader = csv.reader(csv_file, delimiter=",")
    line_count = 1 
    for row in csv_reader:
        if line_count == num_list_dates:
            indexes = [row[0].split(' ')[1]] + row[1:]
        if line_count >= num_start:
            # extraction des premiers attributs
            for i in range(len(columns)):
                data[columns[i]].append(row[i])
            # extraction de l'attribut TS(série temporelle)
            series.append([float(v) for v in row[len(columns):]])
        line_count  += 1
    if len(indexes) != len(series[0]):
        print('Erreur : Les indexes et les valeurs ne correspondent pas')
    # créer une liste de dataframes, chacun contenant une série temporelle
    for serie in series:
        d = {'deplacement': pd.Series(serie, index=indexes)}
        df_series.append(pd.DataFrame(d)
    for
    df = pd.DataFrame(data)
5/81:
import csv

# numéro de la ligne ou commence les données
num_start = 44
# numéro de la ligne ou se trouve la liste des dates
num_list_dates = 40
# attributs présent dans les données
columns = ['id', 'Lat','Lon', 'Topo', 'Vel', 'Coer',' CosN', 'CosE', 'CosU']
# dictionnaire stockant les données
data = {column: [] for column in columns}
# liste des dates 
indexes = []
# series temporelles
series = []
# liste de dataframes
df_series = []

with open(DATA_PATH + '/' + 'MM_TIO_EW_31TGK_20151227_to_20200906.csv') as csv_file:
    csv_reader = csv.reader(csv_file, delimiter=",")
    line_count = 1 
    for row in csv_reader:
        if line_count == num_list_dates:
            indexes = [row[0].split(' ')[1]] + row[1:]
        if line_count >= num_start:
            # extraction des premiers attributs
            for i in range(len(columns)):
                data[columns[i]].append(row[i])
            # extraction de l'attribut TS(série temporelle)
            series.append([float(v) for v in row[len(columns):]])
        line_count  += 1
    if len(indexes) != len(series[0]):
        print('Erreur : Les indexes et les valeurs ne correspondent pas')
    # créer une liste de dataframes, chacun contenant une série temporelle
    for serie in series:
        d = {'deplacement': pd.Series(serie, index=indexes)}
        df_series.append(pd.DataFrame(d)
    df = pd.DataFrame(data)
5/82:
import csv

# numéro de la ligne ou commence les données
num_start = 44
# numéro de la ligne ou se trouve la liste des dates
num_list_dates = 40
# attributs présent dans les données
columns = ['id', 'Lat','Lon', 'Topo', 'Vel', 'Coer',' CosN', 'CosE', 'CosU']
# dictionnaire stockant les données
data = {column: [] for column in columns}
# liste des dates 
indexes = []
# series temporelles
series = []
# liste de dataframes
df_series = []

with open(DATA_PATH + '/' + 'MM_TIO_EW_31TGK_20151227_to_20200906.csv') as csv_file:
    csv_reader = csv.reader(csv_file, delimiter=",")
    line_count = 1 
    for row in csv_reader:
        if line_count == num_list_dates:
            indexes = [row[0].split(' ')[1]] + row[1:]
        if line_count >= num_start:
            # extraction des premiers attributs
            for i in range(len(columns)):
                data[columns[i]].append(row[i])
            # extraction de l'attribut TS(série temporelle)
            series.append([float(v) for v in row[len(columns):]])
        line_count  += 1
    if len(indexes) != len(series[0]):
        print('Erreur : Les indexes et les valeurs ne correspondent pas')
    # créer une liste de dataframes, chacun contenant une série temporelle
    for serie in series:
        d = {'deplacement': pd.Series(serie, index=indexes)}
        df_series.append(pd.DataFrame(d)
    #df = pd.DataFrame(data)
5/83:
import csv

# numéro de la ligne ou commence les données
num_start = 44
# numéro de la ligne ou se trouve la liste des dates
num_list_dates = 40
# attributs présent dans les données
columns = ['id', 'Lat','Lon', 'Topo', 'Vel', 'Coer',' CosN', 'CosE', 'CosU']
# dictionnaire stockant les données
data = {column: [] for column in columns}
# liste des dates 
indexes = []
# series temporelles
series = []
# liste de dataframes
df_series = []

with open(DATA_PATH + '/' + 'MM_TIO_EW_31TGK_20151227_to_20200906.csv') as csv_file:
    csv_reader = csv.reader(csv_file, delimiter=",")
    line_count = 1 
    for row in csv_reader:
        if line_count == num_list_dates:
            indexes = [row[0].split(' ')[1]] + row[1:]
        if line_count >= num_start:
            # extraction des premiers attributs
            for i in range(len(columns)):
                data[columns[i]].append(row[i])
            # extraction de l'attribut TS(série temporelle)
            series.append([float(v) for v in row[len(columns):]])
        line_count  += 1
    if len(indexes) != len(series[0]):
        print('Erreur : Les indexes et les valeurs ne correspondent pas')
    # créer une liste de dataframes, chacun contenant une série temporelle
    for serie in series:
        d = {'deplacement': pd.Series(serie, index=indexes)}
        df_series.append(pd.DataFrame(d)
5/84:
import csv

# numéro de la ligne ou commence les données
num_start = 44
# numéro de la ligne ou se trouve la liste des dates
num_list_dates = 40
# attributs présent dans les données
columns = ['id', 'Lat','Lon', 'Topo', 'Vel', 'Coer',' CosN', 'CosE', 'CosU']
# dictionnaire stockant les données
data = {column: [] for column in columns}
# liste des dates 
indexes = []
# series temporelles
series = []
# liste de dataframes
df_series = []

with open(DATA_PATH + '/' + 'MM_TIO_EW_31TGK_20151227_to_20200906.csv') as csv_file:
    csv_reader = csv.reader(csv_file, delimiter=",")
    line_count = 1 
    for row in csv_reader:
        if line_count == num_list_dates:
            indexes = [row[0].split(' ')[1]] + row[1:]
        if line_count >= num_start:
            # extraction des premiers attributs
            for i in range(len(columns)):
                data[columns[i]].append(row[i])
            # extraction de l'attribut TS(série temporelle)
            series.append([float(v) for v in row[len(columns):]])
        line_count  += 1
    if len(indexes) != len(series[0]):
        print('Erreur : Les indexes et les valeurs ne correspondent pas')
    # créer une liste de dataframes, chacun contenant une série temporelle
    for serie in series:
        df_series.append(pd.DataFrame({'deplacement': pd.Series(serie, index=indexes)})
5/85:
import csv

# numéro de la ligne ou commence les données
num_start = 44
# numéro de la ligne ou se trouve la liste des dates
num_list_dates = 40
# attributs présent dans les données
columns = ['id', 'Lat','Lon', 'Topo', 'Vel', 'Coer',' CosN', 'CosE', 'CosU']
# dictionnaire stockant les données
data = {column: [] for column in columns}
# liste des dates 
indexes = []
# series temporelles
series = []
# liste de dataframes
df_series = []

with open(DATA_PATH + '/' + 'MM_TIO_EW_31TGK_20151227_to_20200906.csv') as csv_file:
    csv_reader = csv.reader(csv_file, delimiter=",")
    line_count = 1 
    for row in csv_reader:
        if line_count == num_list_dates:
            indexes = [row[0].split(' ')[1]] + row[1:]
        if line_count >= num_start:
            # extraction des premiers attributs
            for i in range(len(columns)):
                data[columns[i]].append(row[i])
            # extraction de l'attribut TS(série temporelle)
            series.append([float(v) for v in row[len(columns):]])
        line_count  += 1
    if len(indexes) != len(series[0]):
        print('Erreur : Les indexes et les valeurs ne correspondent pas')
    # créer une liste de dataframes, chacun contenant une série temporelle
    for serie in series:
        df_series.append(pd.DataFrame({'deplacement': pd.Series(serie, index=indexes)}))
5/86: df_series[0].head()
5/87:
import csv

# numéro de la ligne ou commence les données
num_start = 44
# numéro de la ligne ou se trouve la liste des dates
num_list_dates = 40
# attributs présent dans les données
columns = ['id', 'Lat','Lon', 'Topo', 'Vel', 'Coer',' CosN', 'CosE', 'CosU']
# dictionnaire stockant les données
data = {column: [] for column in columns}
# liste des dates 
indexes = []
# series temporelles
series = []
# liste de dataframes
df_series = []

with open(DATA_PATH + '/' + 'MM_TIO_EW_31TGK_20151227_to_20200906.csv') as csv_file:
    csv_reader = csv.reader(csv_file, delimiter=",")
    line_count = 1 
    for row in csv_reader:
        if line_count == num_list_dates:
            indexes = [row[0].split(' ')[1]] + row[1:]
        if line_count >= num_start:
            # extraction des premiers attributs
            for i in range(len(columns)):
                data[columns[i]].append(row[i])
            # extraction de l'attribut TS(série temporelle)
            series.append([float(v) for v in row[len(columns):]])
        line_count  += 1
    if len(indexes) != len(series[0]):
        print('Erreur : Les indexes et les valeurs ne correspondent pas')
    # créer une liste de dataframes, chacun contenant une série temporelle
    for serie in series:
        df_series.append(pd.DataFrame({'deplacement': pd.Series(serie, index=indexes)}))
        # convertir l'index au format datetime
        df_series.index = pd.to_datetime(df_series.index)
5/88: p = t[:6]
5/89: t='998833ppp'
5/90: p = t[:6]
5/91:
p = t[:6]
p
5/92:
p = t[:6]
[p[i:i+n] for i in range(0, len(line), 2)]
5/93:
p = t[:6]
[p[i:i+n] for i in range(0, len(p), 2)]
5/94:
p = t[:6]
[p[i:i+2] for i in range(0, len(p), 2)]
5/95:
p = t[:6]
'-'.join([p[i:i+2] for i in range(0, len(p), 2)])
5/96:
def to_date(str):
    year, month, day = str[0:5], str[5:7], str[7:9]
    return date(year, month, day)
5/97:
from datetime import date
def to_date(str):
    year, month, day = str[0:5], str[5:7], str[7:9]
    return date(year, month, day)
5/98:
from datetime import date

def to_date(str):
    year, month, day = str[0:5], str[5:7], str[7:9]
    return date(year, month, day)
5/99: x,y,z = too_date('20151227T00:00:00Z')
5/100:
from datetime import date

def to_date(str):
    year, month, day = str[0:5], str[5:7], str[7:9]
    return date(year, month, day)
5/101: x,y,z = to_date('20151227T00:00:00Z')
5/102:
t = 'odododdododo'
t[0:3]
5/103: x = to_date('20151227T00:00:00Z')
5/104:
from datetime import date

def to_date(str):
    year, month, day = str[0:5], str[5:7], str[7:9]
    return date(year, month, day)
5/105: x = to_date('20151227T00:00:00Z')
5/106:
from datetime import date

def to_date(str):
    year, month, day = int(str[0:5]), int(str[5:7]), int(str[7:9])
    return date(year, month, day)
5/107: x = to_date('20151227T00:00:00Z')
5/108:
from datetime import date

def to_date(str):
    year, month, day = int(str[0:5]), int(str[5:7]), int(str[7:9])
    print(year, month, day)
    return date(year, month, day)
5/109: x = to_date('20151227T00:00:00Z')
5/110:
from datetime import date

def to_date(str):
    year, month, day = int(str[0:5]), int(str[5:7]), int(str[7:9])
    print(year, month, day)
    #return date(year, month, day)
5/111: x = to_date('20151227T00:00:00Z')
5/112:
from datetime import date

def to_date(str):
    year, month, day = int(str[0:5]), int(str[5:7]), 0
    print(year, month, day)
    #return date(year, month, day)
5/113: x = to_date('20151227T00:00:00Z')
5/114:
from datetime import date

def to_date(str):
    year, month, day = int(str[0:4]), int(str[4:6]), int(str[6:8])
    print(year, month, day)
    #return date(year, month, day)
5/115: x = to_date('20151227T00:00:00Z')
5/116:
from datetime import date

def to_date(str):
    year, month, day = int(str[0:4]), int(str[4:6]), int(str[6:8])
    print(year, month, day)
    return date(year, month, day)
5/117: x = to_date('20151227T00:00:00Z')
5/118:
from datetime import date

def to_date(str):
    year, month, day = int(str[0:4]), int(str[4:6]), int(str[6:8])
    print(year, month, day)
    return date(year, month, day)
5/119: x = to_date('20151227T00:00:00Z')
5/120:
from datetime import date

def to_date(str):
    year, month, day = int(str[0:4]), int(str[4:6]), int(str[6:8])
    print(year, month, day)
    return date(year, month, day)
5/121: x = to_date('20151227T00:00:00Z')
5/122:
x = to_date('20151227T00:00:00Z')
x
5/123:
import csv
from datetime import date

def to_date(str):
    year, month, day = int(str[0:4]), int(str[4:6]), int(str[6:8])
    print(year, month, day)
    return date(year, month, day)

# numéro de la ligne ou commence les données
num_start = 44
# numéro de la ligne ou se trouve la liste des dates
num_list_dates = 40
# attributs présent dans les données
columns = ['id', 'Lat','Lon', 'Topo', 'Vel', 'Coer',' CosN', 'CosE', 'CosU']
# dictionnaire stockant les données
data = {column: [] for column in columns}
# liste des dates 
indexes = []
# series temporelles
series = []
# liste de dataframes
df_series = []

with open(DATA_PATH + '/' + 'MM_TIO_EW_31TGK_20151227_to_20200906.csv') as csv_file:
    csv_reader = csv.reader(csv_file, delimiter=",")
    line_count = 1 
    for row in csv_reader:
        if line_count == num_list_dates:
            indexes = [row[0].split(' ')[1]] + row[1:]
        if line_count >= num_start:
            # extraction des premiers attributs
            for i in range(len(columns)):
                data[columns[i]].append(row[i])
            # extraction de l'attribut TS(série temporelle)
            series.append([float(v) for v in row[len(columns):]])
        line_count  += 1
    if len(indexes) != len(series[0]):
        print('Erreur : Les indexes et les valeurs ne correspondent pas')
    # créer une liste de dataframes, chacun contenant une série temporelle
    # changer le format de l'index
    indexes = [to_date(d) for d in indexes]
    for serie in series:
        indexes = [u[:6] for u in indexes]
        df_series.append(pd.DataFrame({'deplacement': pd.Series(serie, index=indexes)}))
        # convertir l'index au format datetime
        df_series.index = pd.to_datetime(df_series.index)
5/124:
import csv
from datetime import date

def to_date(str):
    year, month, day = int(str[0:4]), int(str[4:6]), int(str[6:8])
    print(str)
    print(year, month, day)
    return date(year, month, day)

# numéro de la ligne ou commence les données
num_start = 44
# numéro de la ligne ou se trouve la liste des dates
num_list_dates = 40
# attributs présent dans les données
columns = ['id', 'Lat','Lon', 'Topo', 'Vel', 'Coer',' CosN', 'CosE', 'CosU']
# dictionnaire stockant les données
data = {column: [] for column in columns}
# liste des dates 
indexes = []
# series temporelles
series = []
# liste de dataframes
df_series = []

with open(DATA_PATH + '/' + 'MM_TIO_EW_31TGK_20151227_to_20200906.csv') as csv_file:
    csv_reader = csv.reader(csv_file, delimiter=",")
    line_count = 1 
    for row in csv_reader:
        if line_count == num_list_dates:
            indexes = [row[0].split(' ')[1]] + row[1:]
        if line_count >= num_start:
            # extraction des premiers attributs
            for i in range(len(columns)):
                data[columns[i]].append(row[i])
            # extraction de l'attribut TS(série temporelle)
            series.append([float(v) for v in row[len(columns):]])
        line_count  += 1
    if len(indexes) != len(series[0]):
        print('Erreur : Les indexes et les valeurs ne correspondent pas')
    # créer une liste de dataframes, chacun contenant une série temporelle
    # changer le format de l'index
    indexes = [to_date(d) for d in indexes]
    for serie in series:
        indexes = [u[:6] for u in indexes]
        df_series.append(pd.DataFrame({'deplacement': pd.Series(serie, index=indexes)}))
        # convertir l'index au format datetime
        df_series.index = pd.to_datetime(df_series.index)
5/125:
import csv
from datetime import date

def to_date(str):
    str_strp = str.strip()
    year, month, day = int(str_strp[0:4]), int(str_strp[4:6]), int(str_strp[6:8])
    print(str)
    print(year, month, day)
    return date(year, month, day)

# numéro de la ligne ou commence les données
num_start = 44
# numéro de la ligne ou se trouve la liste des dates
num_list_dates = 40
# attributs présent dans les données
columns = ['id', 'Lat','Lon', 'Topo', 'Vel', 'Coer',' CosN', 'CosE', 'CosU']
# dictionnaire stockant les données
data = {column: [] for column in columns}
# liste des dates 
indexes = []
# series temporelles
series = []
# liste de dataframes
df_series = []

with open(DATA_PATH + '/' + 'MM_TIO_EW_31TGK_20151227_to_20200906.csv') as csv_file:
    csv_reader = csv.reader(csv_file, delimiter=",")
    line_count = 1 
    for row in csv_reader:
        if line_count == num_list_dates:
            indexes = [row[0].split(' ')[1]] + row[1:]
        if line_count >= num_start:
            # extraction des premiers attributs
            for i in range(len(columns)):
                data[columns[i]].append(row[i])
            # extraction de l'attribut TS(série temporelle)
            series.append([float(v) for v in row[len(columns):]])
        line_count  += 1
    if len(indexes) != len(series[0]):
        print('Erreur : Les indexes et les valeurs ne correspondent pas')
    # créer une liste de dataframes, chacun contenant une série temporelle
    # changer le format de l'index
    indexes = [to_date(d) for d in indexes]
    for serie in series:
        indexes = [u[:6] for u in indexes]
        df_series.append(pd.DataFrame({'deplacement': pd.Series(serie, index=indexes)}))
        # convertir l'index au format datetime
        df_series.index = pd.to_datetime(df_series.index)
5/126:
import csv
from datetime import date

def to_date(str):
    str_strp = str.strip()
    year, month, day = int(str_strp[0:4]), int(str_strp[4:6]), int(str_strp[6:8])
    return date(year, month, day)

# numéro de la ligne ou commence les données
num_start = 44
# numéro de la ligne ou se trouve la liste des dates
num_list_dates = 40
# attributs présent dans les données
columns = ['id', 'Lat','Lon', 'Topo', 'Vel', 'Coer',' CosN', 'CosE', 'CosU']
# dictionnaire stockant les données
data = {column: [] for column in columns}
# liste des dates 
indexes = []
# series temporelles
series = []
# liste de dataframes
df_series = []

with open(DATA_PATH + '/' + 'MM_TIO_EW_31TGK_20151227_to_20200906.csv') as csv_file:
    csv_reader = csv.reader(csv_file, delimiter=",")
    line_count = 1 
    for row in csv_reader:
        if line_count == num_list_dates:
            indexes = [row[0].split(' ')[1]] + row[1:]
        if line_count >= num_start:
            # extraction des premiers attributs
            for i in range(len(columns)):
                data[columns[i]].append(row[i])
            # extraction de l'attribut TS(série temporelle)
            series.append([float(v) for v in row[len(columns):]])
        line_count  += 1
    if len(indexes) != len(series[0]):
        print('Erreur : Les indexes et les valeurs ne correspondent pas')
    # créer une liste de dataframes, chacun contenant une série temporelle
    # changer le format de l'index
    indexes = [to_date(d) for d in indexes]
    for serie in series:
        indexes = [u[:6] for u in indexes]
        df_series.append(pd.DataFrame({'deplacement': pd.Series(serie, index=indexes)}))
        # convertir l'index au format datetime
        df_series.index = pd.to_datetime(df_series.index)
5/127:
import csv
from datetime import date

def to_date(str):
    str_strp = str.strip()
    year, month, day = int(str_strp[0:4]), int(str_strp[4:6]), int(str_strp[6:8])
    return date(year, month, day)

# numéro de la ligne ou commence les données
num_start = 44
# numéro de la ligne ou se trouve la liste des dates
num_list_dates = 40
# attributs présent dans les données
columns = ['id', 'Lat','Lon', 'Topo', 'Vel', 'Coer',' CosN', 'CosE', 'CosU']
# dictionnaire stockant les données
data = {column: [] for column in columns}
# liste des dates 
indexes = []
# series temporelles
series = []
# liste de dataframes
df_series = []

with open(DATA_PATH + '/' + 'MM_TIO_EW_31TGK_20151227_to_20200906.csv') as csv_file:
    csv_reader = csv.reader(csv_file, delimiter=",")
    line_count = 1 
    for row in csv_reader:
        if line_count == num_list_dates:
            indexes = [row[0].split(' ')[1]] + row[1:]
        if line_count >= num_start:
            # extraction des premiers attributs
            for i in range(len(columns)):
                data[columns[i]].append(row[i])
            # extraction de l'attribut TS(série temporelle)
            series.append([float(v) for v in row[len(columns):]])
        line_count  += 1
    if len(indexes) != len(series[0]):
        print('Erreur : Les indexes et les valeurs ne correspondent pas')
    # créer une liste de dataframes, chacun contenant une série temporelle
    # changer le format de l'index
    indexes = [to_date(d) for d in indexes]
    for serie in series:
        df_series.append(pd.DataFrame({'deplacement': pd.Series(serie, index=indexes)}))
        # convertir l'index au format datetime
        df_series.index = pd.to_datetime(df_series.index)
5/128:
import csv
from datetime import date

def to_date(str):
    str_strp = str.strip()
    year, month, day = int(str_strp[0:4]), int(str_strp[4:6]), int(str_strp[6:8])
    return date(year, month, day)

# numéro de la ligne ou commence les données
num_start = 44
# numéro de la ligne ou se trouve la liste des dates
num_list_dates = 40
# attributs présent dans les données
columns = ['id', 'Lat','Lon', 'Topo', 'Vel', 'Coer',' CosN', 'CosE', 'CosU']
# dictionnaire stockant les données
data = {column: [] for column in columns}
# liste des dates 
indexes = []
# series temporelles
series = []
# liste de dataframes
df_series = []

with open(DATA_PATH + '/' + 'MM_TIO_EW_31TGK_20151227_to_20200906.csv') as csv_file:
    csv_reader = csv.reader(csv_file, delimiter=",")
    line_count = 1 
    for row in csv_reader:
        if line_count == num_list_dates:
            indexes = [row[0].split(' ')[1]] + row[1:]
        if line_count >= num_start:
            # extraction des premiers attributs
            for i in range(len(columns)):
                data[columns[i]].append(row[i])
            # extraction de l'attribut TS(série temporelle)
            series.append([float(v) for v in row[len(columns):]])
        line_count  += 1
    if len(indexes) != len(series[0]):
        print('Erreur : Les indexes et les valeurs ne correspondent pas')
    # créer une liste de dataframes, chacun contenant une série temporelle
    # changer le format de l'index
    indexes = [to_date(d) for d in indexes]
    print(indexes)
    for serie in series:
        df_series.append(pd.DataFrame({'deplacement': pd.Series(serie, index=indexes)}))
        # convertir l'index au format datetime
        df_series.index = pd.to_datetime(df_series.index)
5/129:
import csv
from datetime import date

def to_date(str):
    str_strp = str.strip()
    year, month, day = int(str_strp[0:4]), int(str_strp[4:6]), int(str_strp[6:8])
    return date(year, month, day)

# numéro de la ligne ou commence les données
num_start = 44
# numéro de la ligne ou se trouve la liste des dates
num_list_dates = 40
# attributs présent dans les données
columns = ['id', 'Lat','Lon', 'Topo', 'Vel', 'Coer',' CosN', 'CosE', 'CosU']
# dictionnaire stockant les données
data = {column: [] for column in columns}
# liste des dates 
indexes = []
# series temporelles
series = []
# liste de dataframes
df_series = []

with open(DATA_PATH + '/' + 'MM_TIO_EW_31TGK_20151227_to_20200906.csv') as csv_file:
    csv_reader = csv.reader(csv_file, delimiter=",")
    line_count = 1 
    for row in csv_reader:
        if line_count == num_list_dates:
            indexes = [row[0].split(' ')[1]] + row[1:]
        if line_count >= num_start:
            # extraction des premiers attributs
            for i in range(len(columns)):
                data[columns[i]].append(row[i])
            # extraction de l'attribut TS(série temporelle)
            series.append([float(v) for v in row[len(columns):]])
        line_count  += 1
    if len(indexes) != len(series[0]):
        print('Erreur : Les indexes et les valeurs ne correspondent pas')
    # créer une liste de dataframes, chacun contenant une série temporelle
    # changer le format de l'index
    indexes = [to_date(d) for d in indexes]
    print(indexes)
    for serie in series:
        df_series.append(pd.DataFrame({'deplacement': pd.Series(serie, index=indexes)}))
        # convertir l'index au format datetime
        #df_series.index = pd.to_datetime(df_series.index)
5/130: df_series[0].head()
5/131:
import csv
from datetime import date

def to_date(str):
    str_strp = str.strip()
    year, month, day = int(str_strp[0:4]), int(str_strp[4:6]), int(str_strp[6:8])
    return date(year, month, day)

# numéro de la ligne ou commence les données
num_start = 44
# numéro de la ligne ou se trouve la liste des dates
num_list_dates = 40
# attributs présent dans les données
columns = ['id', 'Lat','Lon', 'Topo', 'Vel', 'Coer',' CosN', 'CosE', 'CosU']
# dictionnaire stockant les données
data = {column: [] for column in columns}
# liste des dates 
indexes = []
# series temporelles
series = []
# liste de dataframes
df_series = []

with open(DATA_PATH + '/' + 'MM_TIO_EW_31TGK_20151227_to_20200906.csv') as csv_file:
    csv_reader = csv.reader(csv_file, delimiter=",")
    line_count = 1 
    for row in csv_reader:
        if line_count == num_list_dates:
            indexes = [row[0].split(' ')[1]] + row[1:]
        if line_count >= num_start:
            # extraction des premiers attributs
            for i in range(len(columns)):
                data[columns[i]].append(row[i])
            # extraction de l'attribut TS(série temporelle)
            series.append([float(v) for v in row[len(columns):]])
        line_count  += 1
    if len(indexes) != len(series[0]):
        print('Erreur : Les indexes et les valeurs ne correspondent pas')
    # convertir les index en date
    indexes = [to_date(d) for d in indexes]
    # créer une liste de dataframes, chacun contenant une série temporelle
    for serie in series:
        df_series.append(pd.DataFrame({'deplacement': pd.Series(serie, index=indexes)}))
5/132: df_series[1].head()
5/133: plt(df[0:10])
5/134: plt(df_series[0:10])
5/135: df_series[0:10].plot()
5/136: df_series[0].plot()
5/137: df_series[1].plot()
5/138: df_series[4].plot()
5/139: df_series[100].plot()
5/140: df_series[1000].plot()
5/141: df_series[8000].plot()
5/142: df_series[500].plot()
5/143:
df_series[500].plot()
df_series[504].plot()
5/144:
df_series[500].plot()
df_series[510].plot()
5/145:
df_series[500].plot()
df_series[1000].plot()
5/146:
df_series[500].plot()
df_series[30].plot()
5/147:
df_series[500].plot()
df_series[999].plot()
5/148:
df_series[5007].plot()
df_series[999].plot()
5/149:
df_series[0].plot()
df_series[999].plot()
5/150:
df_series[0].plot()
df_series[100].plot()
5/151:
for i range(10):
    df_series[i].plot()
5/152:
for i in range(10):
    df_series[i].plot()
5/153:
for i in range(15,30):
    df_series[i].plot()
5/154:
for i in range(50,65):
    df_series[i].plot()
5/155:
for i in range(100,150):
    df_series[i].plot()
5/156:
for i in range(300,360):
    df_series[i].plot()
5/157: len(df_series[0])
5/158:
import pandas as pd
import numpy as np
import os
import matplotlib.pyplot as plt
import csv
from datetime import date
5/159:
import pandas as pd
import numpy as np
import os
import matplotlib.pyplot as plt
import csv
from datetime import date
plt.style.use('fivethirtyeight'):
5/160:
import pandas as pd
import numpy as np
import os
import matplotlib.pyplot as plt
import csv
from datetime import date
plt.style.use('fivethirtyeight')
5/161: DATA_PATH = './donnees'
5/162:
def to_date(str):
    str_strp = str.strip()
    year, month, day = int(str_strp[0:4]), int(str_strp[4:6]), int(str_strp[6:8])
    return date(year, month, day)

# numéro de la ligne ou commence les données
num_start = 44
# numéro de la ligne ou se trouve la liste des dates
num_list_dates = 40
# attributs présent dans les données
columns = ['id', 'Lat','Lon', 'Topo', 'Vel', 'Coer',' CosN', 'CosE', 'CosU']
# dictionnaire stockant les données
data = {column: [] for column in columns}
# liste des dates 
indexes = []
# series temporelles
series = []20151227T00:00:00Z
# liste de dataframes
df_series = []

with open(DATA_PATH + '/' + 'MM_TIO_EW_31TGK_20151227_to_20200906.csv') as csv_file:
    csv_reader = csv.reader(csv_file, delimiter=",")
    line_count = 1 
    for row in csv_reader:
        if line_count == num_list_dates:
            indexes = [row[0].split(' ')[1]] + row[1:]
        if line_count >= num_start:
            # extraction des premiers attributs
            for i in range(len(columns)):
                data[columns[i]].append(row[i])
            # extraction de l'attribut TS(série temporelle)
            series.append([float(v) for v in row[len(columns):]])
        line_count  += 1
    if len(indexes) != len(series[0]):
        print('Erreur : Les indexes et les valeurs ne correspondent pas')
    # convertir les index en date
    indexes = [to_date(d) for d in indexes]
    # créer une liste de dataframes, chacun contenant une série temporelle
    for serie in series:
        df_series.append(pd.DataFrame({'deplacement': pd.Series(serie, index=indexes)}))
    # creer un dataframe pour les autres attributs
    df = pd.DataFrame(data)
5/163:
def to_date(str):
    str_strp = str.strip()
    year, month, day = int(str_strp[0:4]), int(str_strp[4:6]), int(str_strp[6:8])
    return date(year, month, day)

# numéro de la ligne ou commence les données
num_start = 44
# numéro de la ligne ou se trouve la liste des dates
num_list_dates = 40
# attributs présent dans les données
columns = ['id', 'Lat','Lon', 'Topo', 'Vel', 'Coer',' CosN', 'CosE', 'CosU']
# dictionnaire stockant les données
data = {column: [] for column in columns}
# liste des dates 
indexes = []
# series temporelles
series = []
# liste de dataframes
df_series = []

with open(DATA_PATH + '/' + 'MM_TIO_EW_31TGK_20151227_to_20200906.csv') as csv_file:
    csv_reader = csv.reader(csv_file, delimiter=",")
    line_count = 1 
    for row in csv_reader:
        if line_count == num_list_dates:
            indexes = [row[0].split(' ')[1]] + row[1:]
        if line_count >= num_start:
            # extraction des premiers attributs
            for i in range(len(columns)):
                data[columns[i]].append(row[i])
            # extraction de l'attribut TS(série temporelle)
            series.append([float(v) for v in row[len(columns):]])
        line_count  += 1
    if len(indexes) != len(series[0]):
        print('Erreur : Les indexes et les valeurs ne correspondent pas')
    # convertir les index en date
    indexes = [to_date(d) for d in indexes]
    # créer une liste de dataframes, chacun contenant une série temporelle
    for serie in series:
        df_series.append(pd.DataFrame({'deplacement': pd.Series(serie, index=indexes)}))
    # creer un dataframe pour les autres attributs
    df = pd.DataFrame(data)
5/164:
for i in range(300,360):
    df_series[i].plot()
5/165: plt.scatter(df['Topo'],df['Vel'])
5/166:
import pandas as pd
import numpy as np
import os
import matplotlib.pyplot as plt
import csv
from datetime import date
plt.style.use('fivethirtyeight')
5/167: DATA_PATH = './donnees'
5/168:
def to_date(str):
    str_strp = str.strip()
    year, month, day = int(str_strp[0:4]), int(str_strp[4:6]), int(str_strp[6:8])
    return date(year, month, day)

# numéro de la ligne ou commence les données
num_start = 44
# numéro de la ligne ou se trouve la liste des dates
num_list_dates = 40
# attributs présent dans les données
columns = ['id', 'Lat','Lon', 'Topo', 'Vel', 'Coer',' CosN', 'CosE', 'CosU']
# dictionnaire stockant les données
data = {column: [] for column in columns}
# liste des dates 
indexes = []
# series temporelles
series = []
# liste de dataframes
df_series = []

with open(DATA_PATH + '/' + 'MM_TIO_EW_31TGK_20151227_to_20200906.csv') as csv_file:
    csv_reader = csv.reader(csv_file, delimiter=",")
    line_count = 1 
    for row in csv_reader:
        if line_count == num_list_dates:
            indexes = [row[0].split(' ')[1]] + row[1:]
        if line_count >= num_start:
            # extraction des premiers attributs
            for i in range(len(columns)):
                data[columns[i]].append(row[i])
            # extraction de l'attribut TS(série temporelle)
            series.append([float(v) for v in row[len(columns):]])
        line_count  += 1
    if len(indexes) != len(series[0]):
        print('Erreur : Les indexes et les valeurs ne correspondent pas')
    # convertir les index en date
    indexes = [to_date(d) for d in indexes]
    # créer une liste de dataframes, chacun contenant une série temporelle
    for serie in series:
        df_series.append(pd.DataFrame({'deplacement': pd.Series(serie, index=indexes)}))
    # creer un dataframe pour les autres attributs
    df = pd.DataFrame(data)
5/169: plt.scatter(df[:100]['Topo'],df[:100]['Vel'])
5/170:
plt.scatter(df[:100]['Topo'],df[:100]['Vel'])
plt.show()
5/171:
plt.scatter(df[:600]['Topo'],df[:600]['Vel'])
plt.show()
5/172:
plt.scatter(df[:1000]['Topo'],df[:1000]['Vel'])
plt.show()
5/173:
import seaborn as sns
plt.scatter(df[:1000]['Topo'],df[:1000]['Vel'])
plt.show()
5/174:
import seaborn as sns
sns.scatterplot(data=df, x="Topo", y="Vel")
plt.show()
5/175:
import seaborn as sns
sns.scatterplot(data=df[:100], x="Topo", y="Vel")
plt.show()
5/176:
import pandas as pd
import numpy as np
import os
import matplotlib.pyplot as plt
import csv
from datetime import date
#plt.style.use('fivethirtyeight')
5/177:
import seaborn as sns
sns.scatterplot(data=df[:100], x="Topo", y="Vel")
plt.show()
 6/1:
import matplotlib.pyplot as plt

x = [1,2,3,4,5,6,7,8]  #fake data
y = [1,2,3,4,3,2,9,12]

fig, ax = plt.subplots()

ax.plot(x, y, 'k')
ax.grid()
ax.margins(0) # remove default margins (matplotlib verision 2+)

ax.axhspan(0, 4, facecolor='green', alpha=0.5)
ax.axhspan(4, 9, facecolor='yellow', alpha=0.5)
ax.axhspan(9, 12, facecolor='red', alpha=0.5)

plt.show()
 6/2: Decomposition:  Serie temporelle = Saisonalité + tendance + bruit
 6/3: # Decomposition:  Serie temporelle = Saisonalité + tendance + bruit
 6/4: from statsmodels.tsa.seasonal import seasonal_decompose
 6/5:
from statsmodels.tsa.seasonal import seasonal_decompose
result = seasonal_decompose(df_series[0], model='additive')
 6/6:
def to_date(str):
    str_strp = str.strip()
    year, month, day = int(str_strp[0:4]), int(str_strp[4:6]), int(str_strp[6:8])
    return date(year, month, day)

# numéro de la ligne ou commence les données
num_start = 44
# numéro de la ligne ou se trouve la liste des dates
num_list_dates = 40
# attributs présent dans les données
columns = ['id', 'Lat','Lon', 'Topo', 'Vel', 'Coer',' CosN', 'CosE', 'CosU']
# dictionnaire stockant les données
data = {column: [] for column in columns}
# liste des dates 
indexes = []
# series temporelles
series = []
# liste de dataframes
df_series = []

with open(DATA_PATH + '/' + 'MM_TIO_EW_31TGK_20151227_to_20200906.csv') as csv_file:
    csv_reader = csv.reader(csv_file, delimiter=",")
    line_count = 1 
    for row in csv_reader:
        if line_count == num_list_dates:
            indexes = [row[0].split(' ')[1]] + row[1:]
        if line_count >= num_start:
            # extraction des premiers attributs
            for i in range(len(columns)):
                data[columns[i]].append(row[i])
            # extraction de l'attribut TS(série temporelle)
            series.append([float(v) for v in row[len(columns):]])
        line_count  += 1
    if len(indexes) != len(series[0]):
        print('Erreur : Les indexes et les valeurs ne correspondent pas')
    # convertir les index en date
    indexes = [to_date(d) for d in indexes]
    # créer une liste de dataframes, chacun contenant une série temporelle
    for serie in series:
        df_series.append(pd.DataFrame({'deplacement': pd.Series(serie, index=indexes)}))
    # creer un dataframe pour les autres attributs
    df = pd.DataFrame(data)
 6/7:
import pandas as pd
import numpy as np
import os
import matplotlib.pyplot as plt
import csv
from datetime import date
#plt.style.use('fivethirtyeight')
 6/8: DATA_PATH = './donnees'
 6/9:
for filename in os.listdir(DATA_PATH):
    if filename.endswith('.csv'):
        print(filename)
6/10:
# angle d'incidence du satellite en géométrie ascendante (angle entre la vertical et la direction du  satellite)
theta_asc = 0
# angle d'incidence du satelitte en géométrie descendante (angle entre la vertical et la direction du satellite)
theta_desc = 0
# difference angulaire des orbites des géométries ascendante et descendante
delta_alpha =  0
# déplacement le long de la ligne de visée en géométrie ascendante
d_los_asc = 0
# déplacement le long de la ligne de visée en géométrie descendante
d_los_dsc = 0
# # déplacement vertical
d_up = 0
6/11:
def to_date(str):
    str_strp = str.strip()
    year, month, day = int(str_strp[0:4]), int(str_strp[4:6]), int(str_strp[6:8])
    return date(year, month, day)

# numéro de la ligne ou commence les données
num_start = 44
# numéro de la ligne ou se trouve la liste des dates
num_list_dates = 40
# attributs présent dans les données
columns = ['id', 'Lat','Lon', 'Topo', 'Vel', 'Coer',' CosN', 'CosE', 'CosU']
# dictionnaire stockant les données
data = {column: [] for column in columns}
# liste des dates 
indexes = []
# series temporelles
series = []
# liste de dataframes
df_series = []

with open(DATA_PATH + '/' + 'MM_TIO_EW_31TGK_20151227_to_20200906.csv') as csv_file:
    csv_reader = csv.reader(csv_file, delimiter=",")
    line_count = 1 
    for row in csv_reader:
        if line_count == num_list_dates:
            indexes = [row[0].split(' ')[1]] + row[1:]
        if line_count >= num_start:
            # extraction des premiers attributs
            for i in range(len(columns)):
                data[columns[i]].append(row[i])
            # extraction de l'attribut TS(série temporelle)
            series.append([float(v) for v in row[len(columns):]])
        line_count  += 1
    if len(indexes) != len(series[0]):
        print('Erreur : Les indexes et les valeurs ne correspondent pas')
    # convertir les index en date
    indexes = [to_date(d) for d in indexes]
    # créer une liste de dataframes, chacun contenant une série temporelle
    for serie in series:
        df_series.append(pd.DataFrame({'deplacement': pd.Series(serie, index=indexes)}))
    # creer un dataframe pour les autres attributs
    df = pd.DataFrame(data)
 7/1:
import pandas as pd
import numpy as np
import os
import matplotlib.pyplot as plt
import csv
from datetime import date
#plt.style.use('fivethirtyeight')
 7/2: DATA_PATH = './donnees'
 7/3:
for filename in os.listdir(DATA_PATH):
    if filename.endswith('.csv'):
        print(filename)
 7/4:
for filename in os.listdir(DATA_PATH):
    if filename.endswith('.csv'):
        print(filename)
 7/5:
def to_date(str):
    str_strp = str.strip()
    year, month, day = int(str_strp[0:4]), int(str_strp[4:6]), int(str_strp[6:8])
    return date(year, month, day)

# numéro de la ligne ou commence les données
num_start = 44
# numéro de la ligne ou se trouve la liste des dates
num_list_dates = 40
# attributs présent dans les données
columns = ['id', 'Lat','Lon', 'Topo', 'Vel', 'Coer',' CosN', 'CosE', 'CosU']
# dictionnaire stockant les données
data = {column: [] for column in columns}
# liste des dates 
indexes = []
# series temporelles
series = []
# liste de dataframes
df_series = []

with open(DATA_PATH + '/' + 'MM_TIO_EW_31TGK_20151227_to_20200906.csv') as csv_file:
    csv_reader = csv.reader(csv_file, delimiter=",")
    line_count = 1 
    for row in csv_reader:
        if line_count == num_list_dates:
            indexes = [row[0].split(' ')[1]] + row[1:]
        if line_count >= num_start:
            # extraction des premiers attributs
            for i in range(len(columns)):
                data[columns[i]].append(row[i])
            # extraction de l'attribut TS(série temporelle)
            series.append([float(v) for v in row[len(columns):]])
        line_count  += 1
    if len(indexes) != len(series[0]):
        print('Erreur : Les indexes et les valeurs ne correspondent pas')
    # convertir les index en date
    indexes = [to_date(d) for d in indexes]
    # créer une liste de dataframes, chacun contenant une série temporelle
    for serie in series:
        df_series.append(pd.DataFrame({'deplacement': pd.Series(serie, index=indexes)}))
    # creer un dataframe pour les autres attributs
    df = pd.DataFrame(data)
 7/6:
from statsmodels.tsa.seasonal import seasonal_decompose
result = seasonal_decompose(df_series[0], model='additive')
 7/7: type(df_series[0])
 7/8: type(df_series.index)
 7/9: df_series.index
7/10: df_series[0].head(3)
7/11:
def to_date(str):
    str_strp = str.strip()
    year, month, day = int(str_strp[0:4]), int(str_strp[4:6]), int(str_strp[6:8])
    return date(year, month, day)

# numéro de la ligne ou commence les données
num_start = 44
# numéro de la ligne ou se trouve la liste des dates
num_list_dates = 40
# attributs présent dans les données
columns = ['id', 'Lat','Lon', 'Topo', 'Vel', 'Coer',' CosN', 'CosE', 'CosU']
# dictionnaire stockant les données
data = {column: [] for column in columns}
# liste des dates 
indexes = []
# series temporelles
series = []
# liste de dataframes
df_series = []

with open(DATA_PATH + '/' + 'MM_TIO_EW_31TGK_20151227_to_20200906.csv') as csv_file:
    csv_reader = csv.reader(csv_file, delimiter=",")
    line_count = 1 
    for row in csv_reader:
        if line_count == num_list_dates:
            indexes = [row[0].split(' ')[1]] + row[1:]
        if line_count >= num_start:
            # extraction des premiers attributs
            for i in range(len(columns)):
                data[columns[i]].append(row[i])
            # extraction de l'attribut TS(série temporelle)
            series.append([float(v) for v in row[len(columns):]])
        line_count  += 1
    if len(indexes) != len(series[0]):
        print('Erreur : Les indexes et les valeurs ne correspondent pas')
    # convertir les index en date
    indexes = [pd.to_datetime(d.strip()[0:8] , format='%Y%m%d', errors='ignore') for d in indexes]
    # créer une liste de dataframes, chacun contenant une série temporelle
    for serie in series:
        df_series.append(pd.DataFrame({'deplacement': pd.Series(serie, index=indexes)}))
    # creer un dataframe pour les autres attributs
    df = pd.DataFrame(data)
7/12: df_series.index
7/13: indexes
7/14: pd.Series(indexes)
7/15:
def to_date(str):
    str_strp = str.strip()
    year, month, day = int(str_strp[0:4]), int(str_strp[4:6]), int(str_strp[6:8])
    return date(year, month, day)

# numéro de la ligne ou commence les données
num_start = 44
# numéro de la ligne ou se trouve la liste des dates
num_list_dates = 40
# attributs présent dans les données
columns = ['id', 'Lat','Lon', 'Topo', 'Vel', 'Coer',' CosN', 'CosE', 'CosU']
# dictionnaire stockant les données
data = {column: [] for column in columns}
# liste des dates 
indexes = []
# series temporelles
series = []
# liste de dataframes
df_series = []

with open(DATA_PATH + '/' + 'MM_TIO_EW_31TGK_20151227_to_20200906.csv') as csv_file:
    csv_reader = csv.reader(csv_file, delimiter=",")
    line_count = 1 
    for row in csv_reader:
        if line_count == num_list_dates:
            indexes = [row[0].split(' ')[1]] + row[1:]
        if line_count >= num_start:
            # extraction des premiers attributs
            for i in range(len(columns)):
                data[columns[i]].append(row[i])
            # extraction de l'attribut TS(série temporelle)
            series.append([float(v) for v in row[len(columns):]])
        line_count  += 1
    if len(indexes) != len(series[0]):
        print('Erreur : Les indexes et les valeurs ne correspondent pas')
    # convertir les index en date
    indexes = [d.strip()[0:8] , format='%Y%m%d', errors='ignore') for d in indexes]
    # créer une liste de dataframes, chacun contenant une série temporelle
    for serie in series:
        tmp_serie = pd.DataFrame({'deplacement': pd.Series(serie, index=indexes)})
        df_series.append(pd.DataFrame({'deplacement': pd.Series(serie, index=pd.DatetimeIndex(indexes))}))
    # creer un dataframe pour les autres attributs
    df = pd.DataFrame(data)
7/16:
def to_date(str):
    str_strp = str.strip()
    year, month, day = int(str_strp[0:4]), int(str_strp[4:6]), int(str_strp[6:8])
    return date(year, month, day)

# numéro de la ligne ou commence les données
num_start = 44
# numéro de la ligne ou se trouve la liste des dates
num_list_dates = 40
# attributs présent dans les données
columns = ['id', 'Lat','Lon', 'Topo', 'Vel', 'Coer',' CosN', 'CosE', 'CosU']
# dictionnaire stockant les données
data = {column: [] for column in columns}
# liste des dates 
indexes = []
# series temporelles
series = []
# liste de dataframes
df_series = []

with open(DATA_PATH + '/' + 'MM_TIO_EW_31TGK_20151227_to_20200906.csv') as csv_file:
    csv_reader = csv.reader(csv_file, delimiter=",")
    line_count = 1 
    for row in csv_reader:
        if line_count == num_list_dates:
            indexes = [row[0].split(' ')[1]] + row[1:]
        if line_count >= num_start:
            # extraction des premiers attributs
            for i in range(len(columns)):
                data[columns[i]].append(row[i])
            # extraction de l'attribut TS(série temporelle)
            series.append([float(v) for v in row[len(columns):]])
        line_count  += 1
    if len(indexes) != len(series[0]):
        print('Erreur : Les indexes et les valeurs ne correspondent pas')
    # convertir les index en date
    indexes = [d.strip()[0:8] for d in indexes]
    # créer une liste de dataframes, chacun contenant une série temporelle
    for serie in series:
        tmp_serie = pd.DataFrame({'deplacement': pd.Series(serie, index=indexes)})
        df_series.append(pd.DataFrame({'deplacement': pd.Series(serie, index=pd.DatetimeIndex(indexes))}))
    # creer un dataframe pour les autres attributs
    df = pd.DataFrame(data)
7/17: df_series.index
7/18: df_series.index
7/19: df_series
7/20: df_series[0].head(3)
7/21: df_series[0].head(3).index
7/22:
from statsmodels.tsa.seasonal import seasonal_decompose
result = seasonal_decompose(df_series[0], model='additive')
7/23:
from statsmodels.tsa.seasonal import seasonal_decompose
result = seasonal_decompose(df_series[0], model='additive')
7/24: df_series[0].index
7/25:
from statsmodels.tsa.seasonal import seasonal_decompose
result = seasonal_decompose(df_series[0], model='additive')
7/26:
def to_date(str):
    str_strp = str.strip()
    year, month, day = int(str_strp[0:4]), int(str_strp[4:6]), int(str_strp[6:8])
    return date(year, month, day)

# numéro de la ligne ou commence les données
num_start = 44
# numéro de la ligne ou se trouve la liste des dates
num_list_dates = 40
# attributs présent dans les données
columns = ['id', 'Lat','Lon', 'Topo', 'Vel', 'Coer',' CosN', 'CosE', 'CosU']
# dictionnaire stockant les données
data = {column: [] for column in columns}
# liste des dates 
indexes = []
# series temporelles
series = []
# liste de dataframes
df_series = []

with open(DATA_PATH + '/' + 'MM_TIO_EW_31TGK_20151227_to_20200906.csv') as csv_file:
    csv_reader = csv.reader(csv_file, delimiter=",")
    line_count = 1 
    for row in csv_reader:
        if line_count == num_list_dates:
            indexes = [row[0].split(' ')[1]] + row[1:]
        if line_count >= num_start:
            # extraction des premiers attributs
            for i in range(len(columns)):
                data[columns[i]].append(row[i])
            # extraction de l'attribut TS(série temporelle)
            series.append([float(v) for v in row[len(columns):]])
        line_count  += 1
    if len(indexes) != len(series[0]):
        print('Erreur : Les indexes et les valeurs ne correspondent pas')
    # convertir les index en date
    indexes = [d.strip()[0:8] for d in indexes]
    # créer une liste de dataframes, chacun contenant une série temporelle
    for serie in series:
        tmp_serie = pd.DataFrame({'deplacement': pd.Series(serie, index=pd.DatetimeIndex(indexes))})
        tmp_serie.sort_index(inplace=True)
        df_series.append(pd.DataFrame({'deplacement': pd.Series(serie, index=pd.DatetimeIndex(indexes))}))
    # creer un dataframe pour les autres attributs
    df = pd.DataFrame(data)
7/27:
def to_date(str):
    str_strp = str.strip()
    year, month, day = int(str_strp[0:4]), int(str_strp[4:6]), int(str_strp[6:8])
    return date(year, month, day)

# numéro de la ligne ou commence les données
num_start = 44
# numéro de la ligne ou se trouve la liste des dates
num_list_dates = 40
# attributs présent dans les données
columns = ['id', 'Lat','Lon', 'Topo', 'Vel', 'Coer',' CosN', 'CosE', 'CosU']
# dictionnaire stockant les données
data = {column: [] for column in columns}
# liste des dates 
indexes = []
# series temporelles
series = []
# liste de dataframes
df_series = []

with open(DATA_PATH + '/' + 'MM_TIO_EW_31TGK_20151227_to_20200906.csv') as csv_file:
    csv_reader = csv.reader(csv_file, delimiter=",")
    line_count = 1 
    for row in csv_reader:
        if line_count == num_list_dates:
            indexes = [row[0].split(' ')[1]] + row[1:]
        if line_count >= num_start:
            # extraction des premiers attributs
            for i in range(len(columns)):
                data[columns[i]].append(row[i])
            # extraction de l'attribut TS(série temporelle)
            series.append([float(v) for v in row[len(columns):]])
        line_count  += 1
    if len(indexes) != len(series[0]):
        print('Erreur : Les indexes et les valeurs ne correspondent pas')
    # convertir les index en date
    indexes = [d.strip()[0:8] for d in indexes]
    # créer une liste de dataframes, chacun contenant une série temporelle
    for serie in series:
        tmp_serie = pd.DataFrame({'deplacement': pd.Series(serie, index=pd.DatetimeIndex(indexes))})
        tmp_serie.sort_index(inplace=True)
        df_series.append(tmp_serie)
    # creer un dataframe pour les autres attributs
    df = pd.DataFrame(data)
7/28: df_series[0].index
7/29:
from statsmodels.tsa.seasonal import seasonal_decompose
result = seasonal_decompose(df_series[0], model='additive')
7/30: df_serie[0].head(3)
7/31: df_series[0].head(3)
7/32: df_series[0].head(5)
7/33: df_series[0].head(10)
7/34:
from statsmodels.tsa.seasonal import seasonal_decompose
result = seasonal_decompose(df_series[0], model='additive',freq=12)
7/35:
from statsmodels.tsa.seasonal import seasonal_decompose
result = seasonal_decompose(df_series[0], model='additive',period=12)
7/36:
from statsmodels.tsa.seasonal import seasonal_decompose
result = seasonal_decompose(df_series[0], model='additive',period=12)
result.plot()
7/37:
from statsmodels.tsa.seasonal import seasonal_decompose
result = seasonal_decompose(df_series[0], model='multiplicative',period=12)
result.plot()
7/38:
from statsmodels.tsa.seasonal import seasonal_decompose
result = seasonal_decompose(df_series[0], model='additive',period=12)
result.plot()
7/39: df_series[0].index[5] - df_series[0].index[6]
7/40: df_series[0].index[0] - df_series[1].index[6]
7/41: df_series[0].head(3)
7/42: y = df_series[0].index[0] - f_series[0].index[1]
7/43: y = df_series[0].index[0] - df_series[0].index[1]
7/44:
y = df_series[0].index[0] - df_series[0].index[1]
y
7/45:
y = df_series[0].index[0] - df_series[0].index[1]
y.days
7/46:
y = df_series[0].index[0] - df_series[0].index[1]
abs(y.days)
7/47:
indexes = df_series[0].index
durations = []

for i in range(len(indexes)):
    durations.append(abs(indexes[i+1] - index[i]))
7/48:
indexes = df_series[0].index
durations = []

for i in range(len(indexes)):
    durations.append(abs(indexes[i+1] - indexes[i]))
7/49:
indexes = df_series[0].index
durations = []

for i in range(len(indexes)-1):
    durations.append(abs(indexes[i+1] - indexes[i]))
7/50: durations
7/51:
indexes = df_series[0].index
durations = []

for i in range(len(indexes)-1):
    durations.append(abs((indexes[i+1] - indexes[i]).days))
7/52: durations
7/53:
indexes = df_series[0].index
durations = []

for i in range(len(indexes)-1):
    durations.append(abs((indexes[i+1] - indexes[i]).days))
7/54: durations
7/55: plt.hist(durations)
7/56:
plt.hist(durations)
plt.show()
7/57:
plt.hist(durations,bins=5)
plt.show()
7/58:
plt.hist(durations,bins=10)
plt.show()
7/59:
plt.hist(durations,bins=15)
plt.show()
7/60:
plt.hist(durations,bins=30)
plt.show()
7/61:
plt.hist(durations,bins=40)
plt.show()
7/62:
plt.hist(durations,bins=15)
plt.show()
7/63:
plt.hist(durations)
plt.show()
7/64:
plt.hist(durations)
plt.show()
7/65:
plt.hist(durations)
plt.show()
7/66: len(df_series)
7/67: durations.unique()
7/68: unique(durations)
 8/1:
# saisons
# printemps [20 mars - 21 juin]
# Ete [21 juin - 22 septembre]
# automne [22 septembre - 21 décembre]
# Hiver [21 décembre - 20 mars]
from datetime import date, datetime
def get_season(date):
    pass
 8/2: now = date.today()
 8/3:
now = date.today()
now
 8/4:
now = date.today()
now.month
 8/5:
now = date.today()
now.day
 8/6: seasons = [('spring'),(),()]
 8/7: print(get_season(date.today()))
 8/8: print(get_season(date.today()))
 8/9:
# saisons
# printemps [20 mars - 21 juin]
# Ete [21 juin - 22 septembre]
# automne [22 septembre - 21 décembre]
# Hiver [21 décembre - 20 mars]

Y = 2000 # dummy leap year to allow input X-02-29 (leap day)
seasons = [('winter', (date(Y,  1,  1),  date(Y,  3, 20))),
           ('spring', (date(Y,  3, 21),  date(Y,  6, 20))),
           ('summer', (date(Y,  6, 21),  date(Y,  9, 22))),
           ('autumn', (date(Y,  9, 23),  date(Y, 12, 20))),
           ('winter', (date(Y, 12, 21),  date(Y, 12, 31)))]

def get_season(now):
    if isinstance(now, datetime):
        now = now.date()
    now = now.replace(year=Y)
    return next(season for season, (start, end) in seasons
                if start <= now <= end)
8/10:
# saisons
# printemps [20 mars - 21 juin]
# Ete [21 juin - 22 septembre]
# automne [22 septembre - 21 décembre]
# Hiver [21 décembre - 20 mars]

Y = 2000 # dummy leap year to allow input X-02-29 (leap day)
seasons = [('winter', (date(Y,  1,  1),  date(Y,  3, 20))),
           ('spring', (date(Y,  3, 21),  date(Y,  6, 20))),
           ('summer', (date(Y,  6, 21),  date(Y,  9, 22))),
           ('autumn', (date(Y,  9, 23),  date(Y, 12, 20))),
           ('winter', (date(Y, 12, 21),  date(Y, 12, 31)))]

def get_season(now):
    if isinstance(now, datetime):
        now = now.date()
        print('hhhh')
    now = now.replace(year=Y)
    return next(season for season, (start, end) in seasons
                if start <= now <= end)
8/11: print(get_season(date.today()))
8/12:
# saisons
# printemps [20 mars - 21 juin]
# Ete [21 juin - 22 septembre]
# automne [22 septembre - 21 décembre]
# Hiver [21 décembre - 20 mars]

Y = 2000 # dummy leap year to allow input X-02-29 (leap day)
seasons = [('winter', (date(Y,  1,  1),  date(Y,  3, 20))),
           ('spring', (date(Y,  3, 21),  date(Y,  6, 20))),
           ('summer', (date(Y,  6, 21),  date(Y,  9, 22))),
           ('autumn', (date(Y,  9, 23),  date(Y, 12, 20))),
           ('winter', (date(Y, 12, 21),  date(Y, 12, 31)))]

def get_season(now):
    if isinstance(now, datetime):
        now = now.date()
        print('hhhh')
    now = now.replace(year=Y)
    return next(season for season, (start, end) in seasons
                if start <= now <= end)
8/13: print(get_season(date.today()))
8/14:
# saisons
# printemps [20 mars - 21 juin]
# Ete [21 juin - 22 septembre]
# automne [22 septembre - 21 décembre]
# Hiver [21 décembre - 20 mars]

Y = 2000 # dummy leap year to allow input X-02-29 (leap day)
seasons = [('winter', (date(Y,  1,  1),  date(Y,  3, 20))),
           ('spring', (date(Y,  3, 21),  date(Y,  6, 20))),
           ('summer', (date(Y,  6, 21),  date(Y,  9, 22))),
           ('autumn', (date(Y,  9, 23),  date(Y, 12, 20))),
           ('winter', (date(Y, 12, 21),  date(Y, 12, 31)))]

def get_season(now):
    if isinstance(now, datetime):
        now = now.date()
    now = now.replace(year=Y)
    return next(season for season, (start, end) in seasons
                if start <= now <= end)
8/15: print(get_season(date.today()))
8/16:
def to_date(str):
    str_strp = str.strip()
    year, month, day = int(str_strp[0:4]), int(str_strp[4:6]), int(str_strp[6:8])
    return date(year, month, day)

# numéro de la ligne ou commence les données
num_start = 44
# numéro de la ligne ou se trouve la liste des dates
num_list_dates = 40
# attributs présent dans les données
columns = ['id', 'Lat','Lon', 'Topo', 'Vel', 'Coer',' CosN', 'CosE', 'CosU']
# dictionnaire stockant les données
data = {column: [] for column in columns}
# liste des dates 
indexes = []
# series temporelles
series = []
# liste de dataframes
df_series = []

with open(DATA_PATH + '/' + 'MM_TIO_EW_31TGK_20151227_to_20200906.csv') as csv_file:
    csv_reader = csv.reader(csv_file, delimiter=",")
    line_count = 1 
    for row in csv_reader:
        if line_count == num_list_dates:
            indexes = [row[0].split(' ')[1]] + row[1:]
        if line_count >= num_start:
            # extraction des premiers attributs
            for i in range(len(columns)):
                data[columns[i]].append(row[i])
            # extraction de l'attribut TS(série temporelle)
            series.append([float(v) for v in row[len(columns):]])
        line_count  += 1
    if len(indexes) != len(series[0]):
        print('Erreur : Les indexes et les valeurs ne correspondent pas')
    # convertir les index en date
    indexes = [d.strip()[0:8] for d in indexes]
    # créer une liste de dataframes, chacun contenant une série temporelle
    for serie in series:
        tmp_serie = pd.DataFrame({'deplacement': pd.Series(serie, index=pd.DatetimeIndex(indexes))})
        tmp_serie.sort_index(inplace=True)
        df_series.append(tmp_serie)
    # creer un dataframe pour les autres attributs
    df = pd.DataFrame(data)
8/17:
import pandas as pd
import numpy as np
import os
import matplotlib.pyplot as plt
import csv
from datetime import date
#plt.style.use('fivethirtyeight')
8/18: DATA_PATH = './donnees'
8/19:
for filename in os.listdir(DATA_PATH):
    if filename.endswith('.csv'):
        print(filename)
8/20:
# angle d'incidence du satellite en géométrie ascendante (angle entre la vertical et la direction du  satellite)
theta_asc = 0
# angle d'incidence du satelitte en géométrie descendante (angle entre la vertical et la direction du satellite)
theta_desc = 0
# difference angulaire des orbites des géométries ascendante et descendante
delta_alpha =  0
# déplacement le long de la ligne de visée en géométrie ascendante
d_los_asc = 0
# déplacement le long de la ligne de visée en géométrie descendante
d_los_dsc = 0
# # déplacement vertical
d_up = 0
8/21:
def to_date(str):
    str_strp = str.strip()
    year, month, day = int(str_strp[0:4]), int(str_strp[4:6]), int(str_strp[6:8])
    return date(year, month, day)

# numéro de la ligne ou commence les données
num_start = 44
# numéro de la ligne ou se trouve la liste des dates
num_list_dates = 40
# attributs présent dans les données
columns = ['id', 'Lat','Lon', 'Topo', 'Vel', 'Coer',' CosN', 'CosE', 'CosU']
# dictionnaire stockant les données
data = {column: [] for column in columns}
# liste des dates 
indexes = []
# series temporelles
series = []
# liste de dataframes
df_series = []

with open(DATA_PATH + '/' + 'MM_TIO_EW_31TGK_20151227_to_20200906.csv') as csv_file:
    csv_reader = csv.reader(csv_file, delimiter=",")
    line_count = 1 
    for row in csv_reader:
        if line_count == num_list_dates:
            indexes = [row[0].split(' ')[1]] + row[1:]
        if line_count >= num_start:
            # extraction des premiers attributs
            for i in range(len(columns)):
                data[columns[i]].append(row[i])
            # extraction de l'attribut TS(série temporelle)
            series.append([float(v) for v in row[len(columns):]])
        line_count  += 1
    if len(indexes) != len(series[0]):
        print('Erreur : Les indexes et les valeurs ne correspondent pas')
    # convertir les index en date
    indexes = [d.strip()[0:8] for d in indexes]
    # créer une liste de dataframes, chacun contenant une série temporelle
    for serie in series:
        tmp_serie = pd.DataFrame({'deplacement': pd.Series(serie, index=pd.DatetimeIndex(indexes))})
        tmp_serie.sort_index(inplace=True)
        df_series.append(tmp_serie)
    # creer un dataframe pour les autres attributs
    df = pd.DataFrame(data)
8/22:
def get_samples_per_season(dates):
    samples_per_season = {'winter': 0, 'spring': 0, 'summer': 0, 'autumn': 0}
    for date in dates:
        samples_per[get_season(date)] += 1
8/23:
def count_sample_per_season(dates):
    samples_per_season = {'winter': 0, 'spring': 0, 'summer': 0, 'autumn': 0}
    for date in dates:
        samples_per[get_season(date)] += 1
8/24: t = count_sample_per_season(df_series[0].index)
8/25:
def count_samples_per_season(dates):
    samples_per_season = {'winter': 0, 'spring': 0, 'summer': 0, 'autumn': 0}
    for date in dates:
        samples_per[get_season(date)] += 1
8/26: t = count_samples_per_season(df_series[0].index)
8/27:
def count_samples_per_season(dates):
    samples_per_season = {'winter': 0, 'spring': 0, 'summer': 0, 'autumn': 0}
    for date in dates:
        samples_per_season[get_season(date)] += 1
8/28: t = count_samples_per_season(df_series[0].index)
8/29: t.plot()
8/30:
def count_samples_per_season(dates):
    samples_per_season = {'winter': 0, 'spring': 0, 'summer': 0, 'autumn': 0}
    for date in dates:
        samples_per_season[get_season(date)] += 1
    return samples_per_season
8/31: t = count_samples_per_season(df_series[0].index)
8/32: t.plot()
8/33: pd.Series(t).plot()
8/34: pd.Series(t).plot(kind='hist')
8/35: pd.Series(t).plot()
8/36: pd.Series(t).plot(kind='bar')
8/37: t
8/38: len(df_series[0].index))
8/39: len(df_series[0].index)
8/40: len(df_series)
8/41: pd.Series(t).plot(kind='hbar')
8/42: t.keys()
8/43: list(t.keys())
8/44:
def plot_hbar(x, y, num_tot):
    
    y_pos = np.arange(len(y))
    error = np.array([100*v/num_tot for v ib x])

    fig, ax = plt.subplots()

    hbars = ax.barh(y_pos, performance, xerr=error, align='center')
    ax.set_yticks(y_pos)
    ax.set_yticklabels(people)
    ax.invert_yaxis()  # labels read top-to-bottom
    ax.set_xlabel('Performance')
    ax.set_title('Number of Time series per season')

    # Label with specially formatted floats
    ax.bar_label(hbars, fmt='%.2f')
    ax.set_xlim(right=15)  # adjust xlim to fit labels

    plt.show()
8/45:
def plot_hbar(x, y, num_tot):
    
    y_pos = np.arange(len(y))
    error = np.array([100*v/num_tot for v in x])

    fig, ax = plt.subplots()

    hbars = ax.barh(y_pos, performance, xerr=error, align='center')
    ax.set_yticks(y_pos)
    ax.set_yticklabels(people)
    ax.invert_yaxis()  # labels read top-to-bottom
    ax.set_xlabel('Performance')
    ax.set_title('Number of Time series per season')

    # Label with specially formatted floats
    ax.bar_label(hbars, fmt='%.2f')
    ax.set_xlim(right=15)  # adjust xlim to fit labels

    plt.show()
8/46: list(t.values())
8/47: plot_hbar(list(t.keys()), list(t.values()))
8/48:
def plot_hbar(x, y):
    
    num_tot = sum(y)
    y_pos = np.arange(len(y))
    error = np.array([100*v/num_tot for v in x])

    fig, ax = plt.subplots()

    hbars = ax.barh(y_pos, performance, xerr=error, align='center')
    ax.set_yticks(y_pos)
    ax.set_yticklabels(people)
    ax.invert_yaxis()  # labels read top-to-bottom
    ax.set_xlabel('Performance')
    ax.set_title('Number of Time series per season')

    # Label with specially formatted floats
    ax.bar_label(hbars, fmt='%.2f')
    ax.set_xlim(right=15)  # adjust xlim to fit labels

    plt.show()
8/49: plot_hbar(list(t.keys()), list(t.values()))
8/50:
def plot_hbar(x, y):
    
    num_tot = sum(y)
    y_pos = np.arange(len(y))
    error = np.array([100*v/num_tot for v in y])

    fig, ax = plt.subplots()

    hbars = ax.barh(y_pos, performance, xerr=error, align='center')
    ax.set_yticks(y_pos)
    ax.set_yticklabels(people)
    ax.invert_yaxis()  # labels read top-to-bottom
    ax.set_xlabel('Performance')
    ax.set_title('Number of Time series per season')

    # Label with specially formatted floats
    ax.bar_label(hbars, fmt='%.2f')
    ax.set_xlim(right=15)  # adjust xlim to fit labels

    plt.show()
8/51: plot_hbar(list(t.keys()), list(t.values()))
8/52:
def plot_hbar(x, y):
    
    num_tot = sum(y)
    y_pos = np.arange(len(y))
    error = np.array([100*v/num_tot for v in y])

    fig, ax = plt.subplots()

    hbars = ax.barh(y_pos, y, xerr=error, align='center')
    ax.set_yticks(y_pos)
    ax.set_yticklabels(people)
    ax.invert_yaxis()  # labels read top-to-bottom
    ax.set_xlabel('Performance')
    ax.set_title('Number of Time series per season')

    # Label with specially formatted floats
    ax.bar_label(hbars, fmt='%.2f')
    ax.set_xlim(right=15)  # adjust xlim to fit labels

    plt.show()
8/53: plot_hbar(list(t.keys()), list(t.values()))
8/54:
# Pie chart, where the slices will be ordered and plotted counter-clockwise:
labels = list(t.keys())
sizes = list(t.values())

fig1, ax1 = plt.subplots()
ax1.pie(sizes, explode=explode, labels=labels, autopct='%1.1f%%',
        shadow=True, startangle=90)
ax1.axis('equal')  # Equal aspect ratio ensures that pie is drawn as a circle.

plt.show()
8/55:
# Pie chart, where the slices will be ordered and plotted counter-clockwise:
labels = list(t.keys())
sizes = list(t.values())

fig1, ax1 = plt.subplots()
ax1.pie(sizes, labels=labels, autopct='%1.1f%%',
        shadow=True, startangle=90)
ax1.axis('equal')  # Equal aspect ratio ensures that pie is drawn as a circle.

plt.show()
8/56:
def plot_data_per_season(labels, values):

    fig1, ax1 = plt.subplots()
    ax1.pie(values, labels=labels, autopct='%1.1f%%',
            shadow=True, startangle=90)
    ax1.axis('equal')  # Equal aspect ratio ensures that pie is drawn as a circle.

    plt.show()
8/57: plot_data_per_season(list(t.keys()), list(t.values()))
8/58:
indexes = df_series[0].index
durations = []
for i in range(len(indexes)-1):
    durations.append(abs((indexes[i+1] - indexes[i]).days))
8/59:
plt.hist(durations)
plt.show()
8/60: import simplekml
8/61:
import simplekml
df.head()
8/62:
import simplekml
kml=simplekml.Kml()
style = simplekml.Style()
style.labelstyle.color = simplekml.Color.red  
style.labelstyle.scale = 2
for index, row in df.iterrows():
    kml.newpoint(name=row[''], coords=[(row['Lat'], row['Lon'], row['Topo'])])
kml.save('ps.kml')
8/63:
import simplekml
kml=simplekml.Kml()
style = simplekml.Style()
style.labelstyle.color = simplekml.Color.red  
style.labelstyle.scale = 2
for index, row in df.iterrows():
    kml.newpoint(name=row['Vel'], coords=[(row['Lat'], row['Lon'], row['Topo'])])
kml.save('ps.kml')
8/64:
import simplekml
kml=simplekml.Kml()
style = simplekml.Style()
style.labelstyle.color = simplekml.Color.red  
style.labelstyle.scale = 2
style.iconstyle.icon.href = 'http://maps.google.com/mapfiles/kml/shapes/placemark_circle.png'
for index, row in df.iterrows():
    kml.newpoint(name=row['Vel'], coords=[(row['Lat'], row['Lon'], row['Topo'])])
kml.save('ps.kml')
8/65:
for i in range(10):
    df_series[i].plot()
8/66:
for i in range(300,350):
    df_series[i].plot()
8/67: df.head()
8/68: df.Coer.plot(kind='hist')
8/69: df
8/70: df.info()
8/71: df.head()
8/72: T = pd.to_numeric(df)
8/73: T = df.apply(pd.to_numeric)
8/74: T = df.apply(pd.to_numeric(errors='coerce))
8/75: T = df.apply(pd.to_numeric(errors='coerce'))
8/76:
for column in df.columns:
        df[column] = pd.to_numeric(df[column],errors='coerce')
8/77: df.info()
8/78: sns.scatterplot(data=df[['Vel','Coer']] , x="Vel", y="Coer")
8/79:
import pandas as pd
import numpy as np
import os
import matplotlib.pyplot as plt
import csv
from datetime import date
import seaborn as sns
#plt.style.use('fivethirtyeight')
8/80: sns.scatterplot(data=df[['Vel','Coer']] , x="Vel", y="Coer")
8/81: df.columns
8/82:
def to_date(str):
    str_strp = str.strip()
    year, month, day = int(str_strp[0:4]), int(str_strp[4:6]), int(str_strp[6:8])
    return date(year, month, day)

# numéro de la ligne ou commence les données
num_start = 44
# numéro de la ligne ou se trouve la liste des dates
num_list_dates = 40
# attributs présent dans les données
columns = ['id', 'Lat','Lon', 'Topo', 'Vel', 'Coer',' CosN', 'CosE', 'CosU']
# dictionnaire stockant les données
data = {column: [] for column in columns}
# liste des dates 
indexes = []
# series temporelles
series = []
# liste de dataframes
df_series = []

with open(DATA_PATH + '/' + 'MM_TIO_EW_31TGK_20151227_to_20200906.csv') as csv_file:
    csv_reader = csv.reader(csv_file, delimiter=",")
    line_count = 1 
    for row in csv_reader:
        if line_count == num_list_dates:
            indexes = [row[0].split(' ')[1]] + row[1:]
        if line_count >= num_start:
            # extraction des premiers attributs
            for i in range(len(columns)):
                data[columns[i]].append(row[i])
            # extraction de l'attribut TS(série temporelle)
            series.append([float(v) for v in row[len(columns):]])
        line_count  += 1
    if len(indexes) != len(series[0]):
        print('Erreur : Les indexes et les valeurs ne correspondent pas')
    # convertir les index en date
    indexes = [d.strip()[0:8] for d in indexes]
    # créer une liste de dataframes, chacun contenant une série temporelle
    for serie in series:
        tmp_serie = pd.DataFrame({'deplacement': pd.Series(serie, index=pd.DatetimeIndex(indexes))})
        tmp_serie.sort_index(inplace=True)
        df_series.append(tmp_serie)
    # creer un dataframe pour les autres attributs
    df = pd.DataFrame(data)
    for column in df.columns:
        df[column] = pd.to_numeric(df[column],errors='coerce')
    df.set_index('id')
8/83: df.columns
8/84: df
8/85: df.Vel.plot(kind='hist')
8/86: sns.scatterplot(data=df[['Topo','Coer']] , x="Topo", y="Coer")
8/87:
for i in range(30):
    df_series[i].plot()
8/88:
  def plot_series(self, num_rows=num_rows, num_cols=num_cols, colormap='tab20'):

    print(num_rows, num_cols)
    fig, axs = plt.subplots(num_rows,num_cols,figsize=(25,25))
    cmap = plt.get_cmap(colormap)
    colors = [cmap(i) for i in np.linspace(0,1,num_rows*num_cols)]

    for num_row in range(num_rows):
      for num_col in range(num_cols):
        if num_row*num_cols + num_col < len(self.series):
          axs[num_row, num_col].plot(self.series[num_row*num_cols + num_col],color=colors[num_row*num_cols + num_col])
          axs[num_row, num_col].set_title('serie: %s'%(self.names[num_row*num_cols + num_col].split('.')[0]))

    plt.show()
8/89:
import simplekml
kml=simplekml.Kml()
style = simplekml.Style()
style.labelstyle.color = simplekml.Color.red  
style.labelstyle.scale = 2
style.iconstyle.icon.href = 'http://maps.google.com/mapfiles/kml/shapes/placemark_circle.png'
for index, row in df.iterrows():
    kml.newpoint(name=row['Vel'], coords=[(row['Lat'], row['Lon'], row['Topo'])])
kml.save('ps.kml')
8/90:
num_rows = 6
num_cols = 4
def plot_series(self, num_rows=num_rows, num_cols=num_cols, colormap='tab20'):

    fig, axs = plt.subplots(num_rows,num_cols,figsize=(25,25))
    cmap = plt.get_cmap(colormap)
    colors = [cmap(i) for i in np.linspace(0,1,num_rows*num_cols)]

    for num_row in range(num_rows):
      for num_col in range(num_cols):
        if num_row*num_cols + num_col < len(df_series):
          axs[num_row, num_col].plot(df_series[num_row*num_cols + num_col],color=colors[num_row*num_cols + num_col])
          #axs[num_row, num_col].set_title('serie: %s'%(self.names[num_row*num_cols + num_col].split('.')[0]))

    plt.show()
8/91:
num_rows = 6
num_cols = 4

def plot_series(self, num_rows=num_rows, num_cols=num_cols, colormap='tab20'):

    fig, axs = plt.subplots(num_rows,num_cols,figsize=(25,25))
    cmap = plt.get_cmap(colormap)
    colors = [cmap(i) for i in np.linspace(0,1,num_rows*num_cols)]

    for num_row in range(num_rows):
        for num_col in range(num_cols):
            if num_row*num_cols + num_col < len(self.series):
                axs[num_row, num_col].plot(self.series[num_row*num_cols + num_col],color=colors[num_row*num_cols + num_col])
                #axs[num_row, num_col].set_title('serie: %s'%(self.names[num_row*num_cols + num_col].split('.')[0]))

    plt.show()
8/92:
num_rows = 6
num_cols = 4

def plot_series(series, num_rows=num_rows, num_cols=num_cols, colormap='tab20'):

    fig, axs = plt.subplots(num_rows,num_cols,figsize=(25,25))
    cmap = plt.get_cmap(colormap)
    colors = [cmap(i) for i in np.linspace(0,1,num_rows*num_cols)]

    for num_row in range(num_rows):
        for num_col in range(num_cols):
            if num_row*num_cols + num_col < len(series):
                axs[num_row, num_col].plot(series[num_row*num_cols + num_col],color=colors[num_row*num_cols + num_col])
                #axs[num_row, num_col].set_title('serie: %s'%(self.names[num_row*num_cols + num_col].split('.')[0]))

    plt.show()
8/93: plot_series(df_series[0:25])
8/94: plot_series(df_series[100:125])
8/95: plot_series(df_series[0:12])
8/96:
for x,y in zip(df_series[0], df_series[1]):
    print(x, y)
8/97:
for x,y in zip(df_series[0]['deplacement'], df_series[1]['deplacement']):
    print(x, y)
8/98: plot_series(df_series[0:25])
8/99: plot_series(df_series[0:100])
8/100: plot_series(df_series[0:100])
8/101:
import pandas as pd
import numpy as np
import os
import matplotlib.pyplot as plt
import csv
from datetime import date
import seaborn as sns
plt.style.use('fivethirtyeight')
8/102: plot_data_per_season(list(t.keys()), list(t.values()))
8/103:
plt.hist(durations)
plt.show()
8/104: plot_series(df_series[0:100])
8/105:
import matplotlib.pyplot as plt

x = [1,2,3,4,5,6,7,8]  #fake data
y = [1,2,3,4,3,2,9,12]

fig, ax = plt.subplots()

ax.plot(x, y, 'k')
ax.grid()
ax.margins(0) # remove default margins (matplotlib verision 2+)

ax.axhspan(0, 4, facecolor='green', alpha=0.5)
ax.axhspan(4, 9, facecolor='yellow', alpha=0.5)
ax.axhspan(9, 12, facecolor='red', alpha=0.5)

plt.show()
8/106:
def plot_season_serie(dates):
    
    seasons = list()
    breakpoints_index = list(0)
    
    for date in dates:
        seasons.append(get_season(date))
        
    for i in range(len(seasons)-1):
        if seasons[i] != seasons[i+1]:
            breakpopints_index.append(i)
            
    return breakpoints_index
8/107: p = plot_season_serie(df_series[0].index)
8/108:
def plot_season_serie(dates):
    
    seasons = []
    breakpoints_index = [0]
    
    for date in dates:
        seasons.append(get_season(date))
        
    for i in range(len(seasons)-1):
        if seasons[i] != seasons[i+1]:
            breakpopints_index.append(i)
            
    return breakpoints_index
8/109: p = plot_season_serie(df_series[0].index)
8/110:
def plot_season_serie(dates):
    
    seasons = []
    breakpoints_index = [0]
    
    for date in dates:
        seasons.append(get_season(date))
        
    for i in range(len(seasons)-1):
        if seasons[i] != seasons[i+1]:
            breakpoints_index.append(i)
            
    return breakpoints_index
8/111: p = plot_season_serie(df_series[0].index)
8/112: p = plot_season_serie(df_series[0].index)
8/113: p
8/114:
def plot_season_serie(dates):
    
    seasons = []
    breakpoints_index = []
    
    for date in dates:
        seasons.append(get_season(date))
        
    for i in range(len(seasons)-1):
        if seasons[i] != seasons[i+1]:
            breakpoints_index.append(i)
            
    return breakpoints_index
8/115: p = plot_season_serie(df_series[0].index)
8/116: p
   1:
import pandas as pd
import numpy as np
import os
import matplotlib.pyplot as plt
import csv
from datetime import date
import seaborn as sns
plt.style.use('fivethirtyeight')
   2:
for filename in os.listdir(DATA_PATH):
    if filename.endswith('.csv'):
        print(filename)
   3: DATA_PATH = './donnees'
   4:
import pandas as pd
import numpy as np
import os
import matplotlib.pyplot as plt
import csv
from datetime import date
import seaborn as sns
plt.style.use('fivethirtyeight')
   5:
for filename in os.listdir(DATA_PATH):
    if filename.endswith('.csv'):
        print(filename)
   6:
# angle d'incidence du satellite en géométrie ascendante (angle entre la vertical et la direction du  satellite)
theta_asc = 0
# angle d'incidence du satelitte en géométrie descendante (angle entre la vertical et la direction du satellite)
theta_desc = 0
# difference angulaire des orbites des géométries ascendante et descendante
delta_alpha =  0
# déplacement le long de la ligne de visée en géométrie ascendante
d_los_asc = 0
# déplacement le long de la ligne de visée en géométrie descendante
d_los_dsc = 0
# # déplacement vertical
d_up = 0
   7:
import matplotlib.pyplot as plt

x = [1,2,3,4,5,6,7,8]  #fake data
y = [1,2,3,4,3,2,9,12]

fig, ax = plt.subplots()

ax.plot(x, y, 'k')
ax.grid()
ax.margins(0) # remove default margins (matplotlib verision 2+)

ax.axhspan(0, 4, facecolor='green', alpha=0.5)
ax.axhspan(4, 9, facecolor='yellow', alpha=0.5)
ax.axhspan(9, 12, facecolor='red', alpha=0.5)

plt.show()
   8:
def plot_season_serie(dates):
    
    seasons = []
    breakpoints_index = []
    
    for date in dates:
        seasons.append(get_season(date))
        
    for i in range(len(seasons)-1):
        if seasons[i] != seasons[i+1]:
            breakpoints_index.append(i)
            
    return breakpoints_index
   9:
for filename in os.listdir(DATA_PATH):
    if filename.endswith('.csv'):
        print(filename)
  10: %history -g
  11: %history -g -f notebook_file.ipynb

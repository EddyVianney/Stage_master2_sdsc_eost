{
 "cells": [
  {
   "cell_type": "code",
   "execution_count": 216,
   "id": "99eda386",
   "metadata": {},
   "outputs": [],
   "source": [
    "import numpy as np\n",
    "import pandas as pd\n",
    "import numpy as np\n",
    "import os\n",
    "import matplotlib.pyplot as plt\n",
    "import csv\n",
    "from datetime import date, datetime\n",
    "import datetime\n",
    "from tslearn.barycenters import dtw_barycenter_averaging\n",
    "from tslearn.clustering import TimeSeriesKMeans\n",
    "from sklearn.cluster import KMeans\n",
    "from sklearn.decomposition import PCA, FastICA\n",
    "from sklearn.preprocessing import StandardScaler, MinMaxScaler\n",
    "from sklearn.preprocessing import RobustScaler\n",
    "from scipy.spatial.distance import euclidean\n",
    "from sklearn.feature_selection import f_regression\n",
    "from statsmodels.tsa.stattools import adfuller\n",
    "from sklearn.manifold import TSNE\n",
    "from DBCV import DBCV\n",
    "import hdbscan\n",
    "import csv\n",
    "import multiprocessing\n",
    "import itertools\n",
    "import operator\n",
    "import math\n",
    "from dtaidistance import dtw\n",
    "import seaborn as sns\n",
    "import elevation\n",
    "import json\n",
    "plt.style.use('fivethirtyeight')\n",
    "from osgeo import gdal \n",
    "from subprocess import Popen\n",
    "import simplekml\n",
    "import copy\n",
    "from sklearn.cluster import DBSCAN\n",
    "import numpy.ma as ma\n",
    "from numpy import linalg as LA"
   ]
  },
  {
   "cell_type": "code",
   "execution_count": 321,
   "id": "cc211b0c",
   "metadata": {},
   "outputs": [],
   "source": [
    "class Data():\n",
    "    \n",
    "    def __init__(self, data_path, filename1, filename2, pc=0.3):\n",
    "        self.load(data_path, filename1, filename2, pc)\n",
    "        \n",
    "    def set_latitudes(self, latitudes):\n",
    "        self.latitudes = latitudes\n",
    "        \n",
    "    def set_longitudes(self, longitudes):\n",
    "        self.longitudes = longitudes\n",
    "        \n",
    "    def set_topo(self, topo):\n",
    "        self.topo = topo\n",
    "        \n",
    "    def set_ns_mean_velocities(self, velocities):\n",
    "        self.ns_mean_velocities = velocities\n",
    "        \n",
    "    def set_ew_mean_velocities(self, velocities):\n",
    "        self.ew_mean_velocities = velocities\n",
    "    \n",
    "    def set_dates(self, dates):\n",
    "        self.dates = dates\n",
    "    \n",
    "    def set_ns_displacements(self, ns_displacements):\n",
    "        self.ns_displacements = ns_displacements\n",
    "        \n",
    "    def set_ew_displacements(self, ew_displacements):\n",
    "        self.ew_displacements = ew_displacements\n",
    "        \n",
    "    def load(self,  data_path, filename1, filename2, pc):\n",
    "        ns_displacements, ew_displacements, booleans = [], [], []\n",
    "        ns_infos, ns = self.load_component(data_path, filename1)\n",
    "        ew_infos, ew = self.load_component(data_path, filename2)\n",
    "        m = len(ns[0])\n",
    "        \n",
    "        for n, components in enumerate(zip(ns, ew)):\n",
    "            if ns[n].isnull().sum().sum() / m < pc:\n",
    "                ns_displacements.append(components[0].interpolate(limit_direction='both', inplace=False)['displacement'].values)\n",
    "                ew_displacements.append(components[1].interpolate(limit_direction='both', inplace=False)['displacement'].values)\n",
    "                booleans.append(False)\n",
    "            else:\n",
    "                booleans.append(True)\n",
    "            \n",
    "        self.set_latitudes(ma.array(ns_infos['Lat'].values, mask = booleans).compressed())\n",
    "        self.set_longitudes(ma.array(ns_infos['Lon'].values, mask = booleans).compressed())\n",
    "        self.set_topo(ma.array(ns_infos['Topo'].values, mask = booleans).compressed())\n",
    "        self.set_ns_mean_velocities(ma.array(ns_infos['Vel'].values, mask = booleans).compressed())\n",
    "        self.set_ew_mean_velocities(ma.array(ew_infos['Vel'].values, mask = booleans).compressed())\n",
    "        self.set_ns_displacements(np.array(ns_displacements))\n",
    "        self.set_ew_displacements(np.array(ew_displacements))\n",
    "        self.set_dates(ns[0].index)\n",
    "        \n",
    "    #np.count_nonzero(np.isnan(data))\n",
    "    def load_image_correlation(self, data_path, ns_fi, ew_filename):\n",
    "        df_ns, df_ns_ts = self.load_component(data_path, ns_filename)\n",
    "        df_ew, df_ew_ts = self.load_component(data_path, ew_filename)\n",
    "        df_ew.rename(columns={'Vel': 'Vel_ew'}, inplace=True)\n",
    "        df_ns.rename(columns={'Vel': 'Vel_ns'}, inplace=True)\n",
    "        geo = pd.concat([df_ew[['id', 'Lat','Lon','Topo','Vel_ew']], df_ns[['Vel_ns']]], axis=1)\n",
    "        return geo, df_ns_ts, df_ew_ts\n",
    "        \n",
    "    def load_component(self, data_path, filename):\n",
    "        \n",
    "        # numéro de la ligne ou commence les données\n",
    "        num_start = 44\n",
    "        # numéro de la ligne ou se trouve la liste des dates\n",
    "        num_list_dates = 40\n",
    "        # attributs présent dans les données\n",
    "        columns = ['id', 'Lat','Lon', 'Topo', 'Vel', 'Coer',' CosN', 'CosE', 'CosU']\n",
    "        # dictionnaire stockant les données\n",
    "        data = {column: [] for column in columns}\n",
    "        # liste des dates \n",
    "        indexes = []\n",
    "        # series temporelles\n",
    "        series = []\n",
    "        # liste de dataframes\n",
    "        df_series = []\n",
    "        \n",
    "        with open(data_path + '/' + filename) as csv_file:\n",
    "            csv_reader = csv.reader(csv_file, delimiter=\",\")\n",
    "            line_count = 1 \n",
    "            for row in csv_reader:\n",
    "                if line_count == num_list_dates:\n",
    "                    indexes = [row[0].split(' ')[1]] + row[1:]\n",
    "                if line_count >= num_start:\n",
    "                    # extraction des premiers attributs\n",
    "                    for i in range(len(columns)):\n",
    "                        data[columns[i]].append(row[i])\n",
    "                    # extraction de l'attribut TS(série temporelle)\n",
    "                    series.append([float(v) for v in row[len(columns):]])\n",
    "                line_count  += 1\n",
    "            if len(indexes) != len(series[0]):\n",
    "                print('Erreur : Les indexes et les valeurs ne correspondent pas')\n",
    "            # convertir les index en date\n",
    "            indexes = [d.strip()[0:8] for d in indexes]\n",
    "            # créer une liste de dataframes, chacun contenant une série temporelle\n",
    "            for serie in series:\n",
    "                tmp_serie = pd.DataFrame({'displacement': pd.Series(serie, index=pd.DatetimeIndex(indexes))})\n",
    "                tmp_serie.sort_index(inplace=True)\n",
    "                df_series.append(tmp_serie)\n",
    "            # creer un dataframe pour les autres attributs\n",
    "            df = pd.DataFrame(data)\n",
    "            for column in df.columns:\n",
    "                df[column] = pd.to_numeric(df[column], errors='coerce')\n",
    "            df.set_index('id')\n",
    "            \n",
    "        return df, df_series"
   ]
  },
  {
   "cell_type": "code",
   "execution_count": 218,
   "id": "78935272",
   "metadata": {},
   "outputs": [],
   "source": [
    "class Displacement():\n",
    "    def __init__(self):\n",
    "        pass\n",
    "    \n",
    "    def compute_velocity(self, displacement):\n",
    "        return 0\n",
    "    \n",
    "    def test(self):\n",
    "        return 0\n",
    "    \n",
    "    def is_mean_velocity_significant(self, displacements, days):\n",
    "        # extraire X et y\n",
    "        X = StandardScaler().fit_transform(displacements)\n",
    "        # calculer la p-value de la regression lineaire\n",
    "        _, pval = f_regression(X, days)\n",
    "        return  pval[0]\n",
    "    \n",
    "    def compute_inst_vel(self, displacements, dates):\n",
    "        diff_displacements, durations = self.prepare(displacements, dates)\n",
    "        return np.divide(diff_displacements, durations)\n",
    "    \n",
    "    # TODO\n",
    "    def is_stationary(self, displacement, alpha, freq='D'):\n",
    "        resampled = displacement.resample(freq)\n",
    "        interpolated = upsampled.interpolate(method='linear')\n",
    "        return self.compute_adfuller(interpolated) < alpha\n",
    "    \n",
    "     # TODO\n",
    "    def smooth(self, displacement, factor):\n",
    "        std = math.sqrt(serie.var())\n",
    "        for i in range(len(serie)):\n",
    "            if abs(serie.iloc[i].displacement) > ampl*std:\n",
    "                serie.iloc[i, serie.columns.get_loc('displacement')]= np.nan\n",
    "        return serie.interpolate(limit_direction='both', inplace=False)\n",
    "    \n",
    "    def prepare(self, displacement, dates):\n",
    "        durations = np.diff(dates) / np.timedelta64(1,'D')\n",
    "        return self.transform_displacement(displacement), self.transform_date(dates)\n",
    "    \n",
    "    def transform_date(self, dates):\n",
    "        temp = np.diff(np.array(dates))\n",
    "        shifted = np.array([np.timedelta64(1, 'D') for n in range(temp.shape[0])])\n",
    "        shifted[0:-1] = temp[1:]\n",
    "        return (shifted + temp)[:-1] / np.timedelta64(1,'D')\n",
    "    \n",
    "    def transform_displacement(self, displacement):\n",
    "        temp = np.diff(np.array(displacement))\n",
    "        shifted = np.zeros(temp.shape[0])\n",
    "        shifted[0:-1] = temp[1:]\n",
    "        return np.add(temp, shifted)[:-1]\n",
    "    \n",
    "    def transform_dates_for_lnreg(self, dates):\n",
    "        lnr_dates = np.cumsum( np.diff(data.dates) /  np.timedelta64(1,'D') )\n",
    "        return np.insert(lnr_dates, 0, 0, axis=0)"
   ]
  },
  {
   "cell_type": "code",
   "execution_count": 341,
   "id": "dc75f772",
   "metadata": {},
   "outputs": [],
   "source": [
    "class DataFromImageCorrelation():\n",
    "    \n",
    "    def __init__(self, data, raster_folder_name, dem_filename, pc=0.4, alpha=0.05, ref='wgs84'):\n",
    "        self.data  = data\n",
    "        self.compute_slope_map(raster_folder_name, dem_filename)\n",
    "        self.compute_vlm_std()\n",
    "        self.n_cores = multiprocessing.cpu_count()\n",
    "        self.pc = pc\n",
    "        self.ref = ref\n",
    "        self.alpha = alpha\n",
    "        self.velocities = []\n",
    "        self.mask = np.array([])\n",
    "    \n",
    "    def compute_vel(self, ns_component, ew_component):\n",
    "        return math.sqrt(ns_component * ns_component + ew_component * ew_component)\n",
    "    \n",
    "    def is_ns_mean_velocity_significant(self, n):\n",
    "        displacement = self.data.ns_displacements[n].reshape(-1, 1)\n",
    "        dates = Displacement().transform_dates_for_lnreg(self.data.dates)\n",
    "        return Displacement().is_mean_velocity_significant(displacement, dates) < self.alpha\n",
    "    \n",
    "    def is_ew_mean_velocity_significant(self, n):\n",
    "        displacement = self.data.ew_displacements[n].reshape(-1, 1)\n",
    "        dates = Displacement().transform_dates_for_lnreg(self.data.dates)\n",
    "        return Displacement().is_mean_velocity_significant(displacement, dates) < self.alpha\n",
    "    \n",
    "    def is_mean_velocity_significant(self, n):\n",
    "        return self.is_ns_mean_velocity_significant(n) and self.is_ew_mean_velocity_significant(n)\n",
    "    \n",
    "    def is_moving(self, n, factor):\n",
    "        ns_vel = data.ns_mean_velocities[n]\n",
    "        ew_vel = data.ew_mean_velocities[n]\n",
    "        return self.compute_vel(ns_vel, ew_vel) > factor * self.sigma\n",
    "    \n",
    "    def filter_by(self, factor, min_slope=5):\n",
    "        vfunc = np.vectorize(self.is_to_select)\n",
    "        self.mask = vfunc(np.arange(self.data.latitudes.shape[0]), factor, min_slope)\n",
    "\n",
    "    def is_to_select(self, n, factor, min_slope):\n",
    "        return (self.is_moving(n, factor) and\n",
    "               self.is_ns_mean_velocity_significant(n) and\n",
    "                self.is_ew_mean_velocity_significant(n))\n",
    "    \n",
    "    def filter_by_linear_reg(self):\n",
    "        pass\n",
    "                \n",
    "    def compute_vlm_std(self):\n",
    "        vfunc = np.vectorize(self.compute_vel)\n",
    "        ns_velocities = self.data.ns_mean_velocities\n",
    "        ew_velocities = self.data.ew_mean_velocities\n",
    "        self.sigma = np.std(vfunc(ns_velocities, ew_velocities))\n",
    "        \n",
    "    def compute_inst_vels(self, series):\n",
    "        with multiprocessing.Pool(self.n_cores) as p:\n",
    "            results = p.map(Displacement().compute_inst_vel, series)\n",
    "            return results\n",
    "        \n",
    "    def compute_velocities(self):\n",
    "        if self.mask.shape[0] > 0:\n",
    "            ns_displacements = self.data.ns_displacements[~np.array(self.mask)]\n",
    "            ew_displacements = self.data.ew_displacements[~np.array(self.mask)]\n",
    "            ns_vels = self.compute_inst_vels(ns_displacements)\n",
    "            ew_vels = self.compute_inst_vels(ew_displacements)\n",
    "            vfunc = np.vectorize(self.compute_vel)\n",
    "            self.velocities = np.array([vfunc(ns, ew) for ns, ew in zip(ns_displacements, ew_displacements)])\n",
    "                    \n",
    "    def set_slope_map_path(self, slope_map_path):\n",
    "        self.slope_map_path = slope_map_path\n",
    "        \n",
    "    def load_raster(self, raster_folder_name, raster_filename):\n",
    "        return gdal.Open(raster_folder_name + '/' +  raster_filename)\n",
    "        \n",
    "    def compute_slope_map(self, raster_folder_name, dem_name):\n",
    "        dem = None\n",
    "        slope_map = None\n",
    "        slope_map_name = dem_name.split('.')[0] + '_' + 'slope_map.tif'\n",
    "        slope_map_path = raster_folder_name + '/' + slope_map_name\n",
    "        if not os.path.isfile(slope_map_path):\n",
    "            dem = gdal.Open(raster_folder_name + '/'+ dem_name)\n",
    "            slope_map = gdal.DEMProcessing(slope_map_path, dem, 'slope', computeEdges = True)\n",
    "        self.set_slope_map_path(slope_map_path)"
   ]
  },
  {
   "cell_type": "markdown",
   "id": "0db25a6c",
   "metadata": {},
   "source": [
    "# Application"
   ]
  },
  {
   "cell_type": "markdown",
   "id": "5d0ebd41",
   "metadata": {},
   "source": [
    "## Chargement des données"
   ]
  },
  {
   "cell_type": "code",
   "execution_count": 220,
   "id": "2d396b43",
   "metadata": {},
   "outputs": [],
   "source": [
    "DATA_PATH = './donnees' \n",
    "filename1  = 'MM_TIO_NS_31TGK_20151227_to_20200906.csv'\n",
    "filename2  = 'MM_TIO_EW_31TGK_20151227_to_20200906.csv'"
   ]
  },
  {
   "cell_type": "code",
   "execution_count": 221,
   "id": "dce0130c",
   "metadata": {},
   "outputs": [],
   "source": [
    "data = Data(DATA_PATH, filename1, filename2)"
   ]
  },
  {
   "cell_type": "markdown",
   "id": "18b5e309",
   "metadata": {},
   "source": [
    "## Calcul des profils de vitesse"
   ]
  },
  {
   "cell_type": "code",
   "execution_count": 281,
   "id": "79a3ebbd",
   "metadata": {},
   "outputs": [],
   "source": [
    "raster_folder_path = 'rasters'\n",
    "dem_filename =  '31TGK_copernicus_dem.tif'"
   ]
  },
  {
   "cell_type": "code",
   "execution_count": 342,
   "id": "2786928b",
   "metadata": {},
   "outputs": [],
   "source": [
    "img_correlation = DataFromImageCorrelation(data, raster_folder_path, dem_filename)"
   ]
  },
  {
   "cell_type": "code",
   "execution_count": 294,
   "id": "523f77dd",
   "metadata": {},
   "outputs": [
    {
     "data": {
      "text/plain": [
       "0.0015833768879708388"
      ]
     },
     "execution_count": 294,
     "metadata": {},
     "output_type": "execute_result"
    }
   ],
   "source": [
    "img_correlation.sigma"
   ]
  },
  {
   "cell_type": "code",
   "execution_count": 343,
   "id": "15bc4fea",
   "metadata": {},
   "outputs": [],
   "source": [
    "img_correlation.filter_by(factor=3)"
   ]
  },
  {
   "cell_type": "code",
   "execution_count": 304,
   "id": "ba1f0bbf",
   "metadata": {},
   "outputs": [
    {
     "data": {
      "text/plain": [
       "0.0015833768879708388"
      ]
     },
     "execution_count": 304,
     "metadata": {},
     "output_type": "execute_result"
    }
   ],
   "source": [
    "img_correlation.sigma"
   ]
  },
  {
   "cell_type": "code",
   "execution_count": 344,
   "id": "279b42cf",
   "metadata": {},
   "outputs": [
    {
     "ename": "TypeError",
     "evalue": "compute_inst_vel() missing 1 required positional argument: 'dates'",
     "output_type": "error",
     "traceback": [
      "\u001b[0;31m---------------------------------------------------------------------------\u001b[0m",
      "\u001b[0;31mRemoteTraceback\u001b[0m                           Traceback (most recent call last)",
      "\u001b[0;31mRemoteTraceback\u001b[0m: \n\"\"\"\nTraceback (most recent call last):\n  File \"/home/eost-user/miniconda3/lib/python3.9/multiprocessing/pool.py\", line 125, in worker\n    result = (True, func(*args, **kwds))\n  File \"/home/eost-user/miniconda3/lib/python3.9/multiprocessing/pool.py\", line 48, in mapstar\n    return list(map(*args))\nTypeError: compute_inst_vel() missing 1 required positional argument: 'dates'\n\"\"\"",
      "\nThe above exception was the direct cause of the following exception:\n",
      "\u001b[0;31mTypeError\u001b[0m                                 Traceback (most recent call last)",
      "\u001b[0;32m<ipython-input-344-85e693f0c9d3>\u001b[0m in \u001b[0;36m<module>\u001b[0;34m\u001b[0m\n\u001b[0;32m----> 1\u001b[0;31m \u001b[0mimg_correlation\u001b[0m\u001b[0;34m.\u001b[0m\u001b[0mcompute_velocities\u001b[0m\u001b[0;34m(\u001b[0m\u001b[0;34m)\u001b[0m\u001b[0;34m\u001b[0m\u001b[0;34m\u001b[0m\u001b[0m\n\u001b[0m",
      "\u001b[0;32m<ipython-input-341-e03ffeaf7548>\u001b[0m in \u001b[0;36mcompute_velocities\u001b[0;34m(self)\u001b[0m\n\u001b[1;32m     60\u001b[0m             \u001b[0mns_displacements\u001b[0m \u001b[0;34m=\u001b[0m \u001b[0mself\u001b[0m\u001b[0;34m.\u001b[0m\u001b[0mdata\u001b[0m\u001b[0;34m.\u001b[0m\u001b[0mns_displacements\u001b[0m\u001b[0;34m[\u001b[0m\u001b[0;34m~\u001b[0m\u001b[0mnp\u001b[0m\u001b[0;34m.\u001b[0m\u001b[0marray\u001b[0m\u001b[0;34m(\u001b[0m\u001b[0mself\u001b[0m\u001b[0;34m.\u001b[0m\u001b[0mmask\u001b[0m\u001b[0;34m)\u001b[0m\u001b[0;34m]\u001b[0m\u001b[0;34m\u001b[0m\u001b[0;34m\u001b[0m\u001b[0m\n\u001b[1;32m     61\u001b[0m             \u001b[0mew_displacements\u001b[0m \u001b[0;34m=\u001b[0m \u001b[0mself\u001b[0m\u001b[0;34m.\u001b[0m\u001b[0mdata\u001b[0m\u001b[0;34m.\u001b[0m\u001b[0mew_displacements\u001b[0m\u001b[0;34m[\u001b[0m\u001b[0;34m~\u001b[0m\u001b[0mnp\u001b[0m\u001b[0;34m.\u001b[0m\u001b[0marray\u001b[0m\u001b[0;34m(\u001b[0m\u001b[0mself\u001b[0m\u001b[0;34m.\u001b[0m\u001b[0mmask\u001b[0m\u001b[0;34m)\u001b[0m\u001b[0;34m]\u001b[0m\u001b[0;34m\u001b[0m\u001b[0;34m\u001b[0m\u001b[0m\n\u001b[0;32m---> 62\u001b[0;31m             \u001b[0mns_vels\u001b[0m \u001b[0;34m=\u001b[0m \u001b[0mself\u001b[0m\u001b[0;34m.\u001b[0m\u001b[0mcompute_inst_vels\u001b[0m\u001b[0;34m(\u001b[0m\u001b[0mns_displacements\u001b[0m\u001b[0;34m)\u001b[0m\u001b[0;34m\u001b[0m\u001b[0;34m\u001b[0m\u001b[0m\n\u001b[0m\u001b[1;32m     63\u001b[0m             \u001b[0mew_vels\u001b[0m \u001b[0;34m=\u001b[0m \u001b[0mself\u001b[0m\u001b[0;34m.\u001b[0m\u001b[0mcompute_inst_vels\u001b[0m\u001b[0;34m(\u001b[0m\u001b[0mew_displacements\u001b[0m\u001b[0;34m)\u001b[0m\u001b[0;34m\u001b[0m\u001b[0;34m\u001b[0m\u001b[0m\n\u001b[1;32m     64\u001b[0m             \u001b[0mvfunc\u001b[0m \u001b[0;34m=\u001b[0m \u001b[0mnp\u001b[0m\u001b[0;34m.\u001b[0m\u001b[0mvectorize\u001b[0m\u001b[0;34m(\u001b[0m\u001b[0mself\u001b[0m\u001b[0;34m.\u001b[0m\u001b[0mcompute_vel\u001b[0m\u001b[0;34m)\u001b[0m\u001b[0;34m\u001b[0m\u001b[0;34m\u001b[0m\u001b[0m\n",
      "\u001b[0;32m<ipython-input-341-e03ffeaf7548>\u001b[0m in \u001b[0;36mcompute_inst_vels\u001b[0;34m(self, series)\u001b[0m\n\u001b[1;32m     53\u001b[0m     \u001b[0;32mdef\u001b[0m \u001b[0mcompute_inst_vels\u001b[0m\u001b[0;34m(\u001b[0m\u001b[0mself\u001b[0m\u001b[0;34m,\u001b[0m \u001b[0mseries\u001b[0m\u001b[0;34m)\u001b[0m\u001b[0;34m:\u001b[0m\u001b[0;34m\u001b[0m\u001b[0;34m\u001b[0m\u001b[0m\n\u001b[1;32m     54\u001b[0m         \u001b[0;32mwith\u001b[0m \u001b[0mmultiprocessing\u001b[0m\u001b[0;34m.\u001b[0m\u001b[0mPool\u001b[0m\u001b[0;34m(\u001b[0m\u001b[0mself\u001b[0m\u001b[0;34m.\u001b[0m\u001b[0mn_cores\u001b[0m\u001b[0;34m)\u001b[0m \u001b[0;32mas\u001b[0m \u001b[0mp\u001b[0m\u001b[0;34m:\u001b[0m\u001b[0;34m\u001b[0m\u001b[0;34m\u001b[0m\u001b[0m\n\u001b[0;32m---> 55\u001b[0;31m             \u001b[0mresults\u001b[0m \u001b[0;34m=\u001b[0m \u001b[0mp\u001b[0m\u001b[0;34m.\u001b[0m\u001b[0mmap\u001b[0m\u001b[0;34m(\u001b[0m\u001b[0mDisplacement\u001b[0m\u001b[0;34m(\u001b[0m\u001b[0;34m)\u001b[0m\u001b[0;34m.\u001b[0m\u001b[0mcompute_inst_vel\u001b[0m\u001b[0;34m,\u001b[0m \u001b[0mseries\u001b[0m\u001b[0;34m)\u001b[0m\u001b[0;34m\u001b[0m\u001b[0;34m\u001b[0m\u001b[0m\n\u001b[0m\u001b[1;32m     56\u001b[0m             \u001b[0;32mreturn\u001b[0m \u001b[0mresults\u001b[0m\u001b[0;34m\u001b[0m\u001b[0;34m\u001b[0m\u001b[0m\n\u001b[1;32m     57\u001b[0m \u001b[0;34m\u001b[0m\u001b[0m\n",
      "\u001b[0;32m~/miniconda3/lib/python3.9/multiprocessing/pool.py\u001b[0m in \u001b[0;36mmap\u001b[0;34m(self, func, iterable, chunksize)\u001b[0m\n\u001b[1;32m    362\u001b[0m         \u001b[0;32min\u001b[0m \u001b[0ma\u001b[0m \u001b[0mlist\u001b[0m \u001b[0mthat\u001b[0m \u001b[0;32mis\u001b[0m \u001b[0mreturned\u001b[0m\u001b[0;34m.\u001b[0m\u001b[0;34m\u001b[0m\u001b[0;34m\u001b[0m\u001b[0m\n\u001b[1;32m    363\u001b[0m         '''\n\u001b[0;32m--> 364\u001b[0;31m         \u001b[0;32mreturn\u001b[0m \u001b[0mself\u001b[0m\u001b[0;34m.\u001b[0m\u001b[0m_map_async\u001b[0m\u001b[0;34m(\u001b[0m\u001b[0mfunc\u001b[0m\u001b[0;34m,\u001b[0m \u001b[0miterable\u001b[0m\u001b[0;34m,\u001b[0m \u001b[0mmapstar\u001b[0m\u001b[0;34m,\u001b[0m \u001b[0mchunksize\u001b[0m\u001b[0;34m)\u001b[0m\u001b[0;34m.\u001b[0m\u001b[0mget\u001b[0m\u001b[0;34m(\u001b[0m\u001b[0;34m)\u001b[0m\u001b[0;34m\u001b[0m\u001b[0;34m\u001b[0m\u001b[0m\n\u001b[0m\u001b[1;32m    365\u001b[0m \u001b[0;34m\u001b[0m\u001b[0m\n\u001b[1;32m    366\u001b[0m     \u001b[0;32mdef\u001b[0m \u001b[0mstarmap\u001b[0m\u001b[0;34m(\u001b[0m\u001b[0mself\u001b[0m\u001b[0;34m,\u001b[0m \u001b[0mfunc\u001b[0m\u001b[0;34m,\u001b[0m \u001b[0miterable\u001b[0m\u001b[0;34m,\u001b[0m \u001b[0mchunksize\u001b[0m\u001b[0;34m=\u001b[0m\u001b[0;32mNone\u001b[0m\u001b[0;34m)\u001b[0m\u001b[0;34m:\u001b[0m\u001b[0;34m\u001b[0m\u001b[0;34m\u001b[0m\u001b[0m\n",
      "\u001b[0;32m~/miniconda3/lib/python3.9/multiprocessing/pool.py\u001b[0m in \u001b[0;36mget\u001b[0;34m(self, timeout)\u001b[0m\n\u001b[1;32m    769\u001b[0m             \u001b[0;32mreturn\u001b[0m \u001b[0mself\u001b[0m\u001b[0;34m.\u001b[0m\u001b[0m_value\u001b[0m\u001b[0;34m\u001b[0m\u001b[0;34m\u001b[0m\u001b[0m\n\u001b[1;32m    770\u001b[0m         \u001b[0;32melse\u001b[0m\u001b[0;34m:\u001b[0m\u001b[0;34m\u001b[0m\u001b[0;34m\u001b[0m\u001b[0m\n\u001b[0;32m--> 771\u001b[0;31m             \u001b[0;32mraise\u001b[0m \u001b[0mself\u001b[0m\u001b[0;34m.\u001b[0m\u001b[0m_value\u001b[0m\u001b[0;34m\u001b[0m\u001b[0;34m\u001b[0m\u001b[0m\n\u001b[0m\u001b[1;32m    772\u001b[0m \u001b[0;34m\u001b[0m\u001b[0m\n\u001b[1;32m    773\u001b[0m     \u001b[0;32mdef\u001b[0m \u001b[0m_set\u001b[0m\u001b[0;34m(\u001b[0m\u001b[0mself\u001b[0m\u001b[0;34m,\u001b[0m \u001b[0mi\u001b[0m\u001b[0;34m,\u001b[0m \u001b[0mobj\u001b[0m\u001b[0;34m)\u001b[0m\u001b[0;34m:\u001b[0m\u001b[0;34m\u001b[0m\u001b[0;34m\u001b[0m\u001b[0m\n",
      "\u001b[0;31mTypeError\u001b[0m: compute_inst_vel() missing 1 required positional argument: 'dates'"
     ]
    }
   ],
   "source": [
    "img_correlation.compute_velocities()"
   ]
  },
  {
   "cell_type": "code",
   "execution_count": 340,
   "id": "e8ad915e",
   "metadata": {},
   "outputs": [
    {
     "data": {
      "text/plain": [
       "array([[1, 2],\n",
       "       [2, 3]])"
      ]
     },
     "execution_count": 340,
     "metadata": {},
     "output_type": "execute_result"
    }
   ],
   "source": [
    "x = np.array([[1,2],[2,3],[3,4]])\n",
    "mask = [False,False,True]\n",
    "x[~np.array(mask)]"
   ]
  },
  {
   "cell_type": "code",
   "execution_count": 338,
   "id": "f720ad0b",
   "metadata": {},
   "outputs": [
    {
     "data": {
      "text/plain": [
       "array([[ 0.    , -1.4829, -1.1083, ..., -1.6207, -0.747 , -1.7681],\n",
       "       [ 0.    , -1.5048, -1.135 , ..., -1.6455, -0.7691, -1.8022],\n",
       "       [ 0.    , -1.471 , -1.1931, ..., -1.7787, -0.8391, -1.9032],\n",
       "       ...,\n",
       "       [ 0.    , -0.4363,  2.7005, ..., -3.4003,  4.2267, -3.3809],\n",
       "       [ 0.    , -0.4398,  2.6997, ..., -3.4046,  4.2232, -3.3834],\n",
       "       [ 0.    , -0.4432,  2.6989, ..., -3.4085,  4.2196, -3.3856]])"
      ]
     },
     "execution_count": 338,
     "metadata": {},
     "output_type": "execute_result"
    }
   ],
   "source": [
    "data.ns_displacements"
   ]
  },
  {
   "cell_type": "markdown",
   "id": "e81377fb",
   "metadata": {},
   "source": [
    "## Analyse en composantes princpales(PCA) et décomposition en composantes indépendantes (ICA)"
   ]
  },
  {
   "cell_type": "code",
   "execution_count": 22,
   "id": "23df7af8",
   "metadata": {},
   "outputs": [],
   "source": [
    "from sklearn.decomposition import PCA, FastICA"
   ]
  },
  {
   "cell_type": "code",
   "execution_count": 89,
   "id": "17a954b9",
   "metadata": {},
   "outputs": [
    {
     "data": {
      "text/plain": [
       "(87016, 87)"
      ]
     },
     "execution_count": 89,
     "metadata": {},
     "output_type": "execute_result"
    }
   ],
   "source": [
    "data.ns_displacements.shape"
   ]
  },
  {
   "cell_type": "code",
   "execution_count": 58,
   "id": "8f743d04",
   "metadata": {},
   "outputs": [],
   "source": [
    "n_components = 20\n",
    "pca = PCA(n_components=n_components, random_state=0)\n",
    "ica = FastICA(n_components=n_components, random_state=0)\n",
    "pca_sources = pca.fit_transform(StandardScaler().fit_transform(data.ns_displacements))\n",
    "ica_sources = ica.fit_transform(data.ns_displacements)"
   ]
  },
  {
   "cell_type": "code",
   "execution_count": 193,
   "id": "38a7df03",
   "metadata": {},
   "outputs": [
    {
     "data": {
      "image/png": "[encoded data removed]",
      "text/plain": [
       "<Figure size 640x480 with 1 Axes>"
      ]
     },
     "metadata": {},
     "output_type": "display_data"
    }
   ],
   "source": [
    "n = 86000\n",
    "plt.plot(pc_sources[n,:], color='red', label='PCA')\n",
    "plt.plot(ica_sources[n,:], color='orange', label='ICA')\n",
    "plt.legend(loc='best')\n",
    "plt.show()"
   ]
  }
 ],
 "metadata": {
  "kernelspec": {
   "display_name": "Python 3",
   "language": "python",
   "name": "python3"
  },
  "language_info": {
   "codemirror_mode": {
    "name": "ipython",
    "version": 3
   },
   "file_extension": ".py",
   "mimetype": "text/x-python",
   "name": "python",
   "nbconvert_exporter": "python",
   "pygments_lexer": "ipython3",
   "version": "3.9.0"
  }
 },
 "nbformat": 4,
 "nbformat_minor": 5
}

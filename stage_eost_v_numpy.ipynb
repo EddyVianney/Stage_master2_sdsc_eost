{
 "cells": [
  {
   "cell_type": "code",
   "execution_count": 9,
   "id": "99eda386",
   "metadata": {},
   "outputs": [],
   "source": [
    "import numpy as np\n",
    "import pandas as pd\n",
    "import numpy as np\n",
    "import os\n",
    "import matplotlib.pyplot as plt\n",
    "import csv\n",
    "from datetime import date, datetime\n",
    "import datetime\n",
    "from sklearn.cluster import KMeans\n",
    "from sklearn.decomposition import PCA, FastICA\n",
    "from sklearn.preprocessing import StandardScaler, MinMaxScaler\n",
    "from sklearn.preprocessing import RobustScaler\n",
    "from scipy.spatial.distance import euclidean\n",
    "from sklearn.feature_selection import f_regression\n",
    "from statsmodels.tsa.stattools import adfuller\n",
    "from sklearn.manifold import TSNE\n",
    "from DBCV import DBCV\n",
    "import hdbscan\n",
    "import csv\n",
    "import multiprocessing\n",
    "import itertools\n",
    "import operator\n",
    "import math\n",
    "from dtaidistance import dtw\n",
    "import seaborn as sns\n",
    "import json\n",
    "plt.style.use('fivethirtyeight')\n",
    "from osgeo import gdal \n",
    "from subprocess import Popen\n",
    "import simplekml\n",
    "import copy\n",
    "from sklearn.cluster import DBSCAN\n",
    "import numpy.ma as ma\n",
    "from numpy import linalg as LA"
   ]
  },
  {
   "cell_type": "code",
   "execution_count": 23,
   "id": "cc211b0c",
   "metadata": {},
   "outputs": [],
   "source": [
    "class Data():\n",
    "    \n",
    "    def __init__(self, filename1, filename2, pc=0.3):\n",
    "        self.load(filename1, filename2, pc)\n",
    "        \n",
    "    def set_latitudes(self, latitudes):\n",
    "        self.latitudes = latitudes\n",
    "        \n",
    "    def set_longitudes(self, longitudes):\n",
    "        self.longitudes = longitudes\n",
    "        \n",
    "    def set_topo(self, topo):\n",
    "        self.topo = topo\n",
    "        \n",
    "    def set_ns_mean_velocities(self, velocities):\n",
    "        self.ns_mean_velocities = velocities\n",
    "        \n",
    "    def set_ew_mean_velocities(self, velocities):\n",
    "        self.ew_mean_velocities = velocities\n",
    "    \n",
    "    def set_dates(self, dates):\n",
    "        self.dates = dates\n",
    "    \n",
    "    def set_ns_displacements(self, ns_displacements):\n",
    "        self.ns_displacements = ns_displacements\n",
    "        \n",
    "    def set_ew_displacements(self, ew_displacements):\n",
    "        self.ew_displacements = ew_displacements\n",
    "        \n",
    "    def load(self, ns_file_path, ew_file_path, pc):\n",
    "        ns_displacements, ew_displacements, booleans = [], [], []\n",
    "        ns_infos, ns = self.load_component(ns_file_path)\n",
    "        ew_infos, ew = self.load_component(ew_file_path)\n",
    "        m = len(ns[0])\n",
    "        \n",
    "        mask = [(ns[n].isnull().sum().sum() / len(ns[0])) < pc for n in range(len(ns))]\n",
    "        \n",
    "        for n, components in enumerate(zip(ns, ew)):\n",
    "            if ns[n].isnull().sum().sum() / m < pc:\n",
    "                ns_displacements.append(components[0].interpolate(limit_direction='both', inplace=False)['displacement'].values)\n",
    "                ew_displacements.append(components[1].interpolate(limit_direction='both', inplace=False)['displacement'].values)\n",
    "                booleans.append(False)\n",
    "            else:\n",
    "                booleans.append(True)\n",
    "            \n",
    "        self.set_latitudes(ns_infos['Lat'].values[mask])\n",
    "        self.set_longitudes(ns_infos['Lon'].values[mask])\n",
    "        self.set_topo(ns_infos['Topo'].values[mask])\n",
    "        self.set_ns_mean_velocities(ns_infos['Vel'].values[mask])\n",
    "        self.set_ew_mean_velocities(ew_infos['Vel'].values[mask])\n",
    "        self.set_ns_displacements(np.array(ns_displacements))\n",
    "        self.set_ew_displacements(np.array(ew_displacements))\n",
    "        self.set_dates(ns[0].index)\n",
    "        \n",
    "    #np.count_nonzero(np.isnan(data))\n",
    "    def load_image_correlation(self, ns_fi, ew_filename):\n",
    "        df_ns, df_ns_ts = self.load_component(ns_filename)\n",
    "        df_ew, df_ew_ts = self.load_component(ew_filename)\n",
    "        df_ew.rename(columns={'Vel': 'Vel_ew'}, inplace=True)\n",
    "        df_ns.rename(columns={'Vel': 'Vel_ns'}, inplace=True)\n",
    "        geo = pd.concat([df_ew[['id', 'Lat','Lon','Topo','Vel_ew']], df_ns[['Vel_ns']]], axis=1)\n",
    "        return geo, df_ns_ts, df_ew_ts\n",
    "        \n",
    "    def load_component(self, filename):\n",
    "        \n",
    "        # numéro de la ligne ou commence les données\n",
    "        num_start = 44\n",
    "        # numéro de la ligne ou se trouve la liste des dates\n",
    "        num_list_dates = 40\n",
    "        # attributs présent dans les données\n",
    "        columns = ['id', 'Lat','Lon', 'Topo', 'Vel', 'Coer',' CosN', 'CosE', 'CosU']\n",
    "        # dictionnaire stockant les données\n",
    "        data = {column: [] for column in columns}\n",
    "        # liste des dates \n",
    "        indexes = []\n",
    "        # series temporelles\n",
    "        series = []\n",
    "        # liste de dataframes\n",
    "        df_series = []\n",
    "        \n",
    "        with open(filename) as csv_file:\n",
    "            csv_reader = csv.reader(csv_file, delimiter=\",\")\n",
    "            line_count = 1 \n",
    "            for row in csv_reader:\n",
    "                if line_count == num_list_dates:\n",
    "                    indexes = [row[0].split(' ')[1]] + row[1:]\n",
    "                if line_count >= num_start:\n",
    "                    # extraction des premiers attributs\n",
    "                    for i in range(len(columns)):\n",
    "                        data[columns[i]].append(row[i])\n",
    "                    # extraction de l'attribut TS(série temporelle)\n",
    "                    series.append([float(v) for v in row[len(columns):]])\n",
    "                line_count  += 1\n",
    "            if len(indexes) != len(series[0]):\n",
    "                print('Erreur : Les indexes et les valeurs ne correspondent pas')\n",
    "            # convertir les index en date\n",
    "            indexes = [d.strip()[0:8] for d in indexes]\n",
    "            # créer une liste de dataframes, chacun contenant une série temporelle\n",
    "            for serie in series:\n",
    "                tmp_serie = pd.DataFrame({'displacement': pd.Series(serie, index=pd.DatetimeIndex(indexes))})\n",
    "                tmp_serie.sort_index(inplace=True)\n",
    "                df_series.append(tmp_serie)\n",
    "            # creer un dataframe pour les autres attributs\n",
    "            df = pd.DataFrame(data)\n",
    "            for column in df.columns:\n",
    "                df[column] = pd.to_numeric(df[column], errors='coerce')\n",
    "            df.set_index('id')\n",
    "        return df, df_series"
   ]
  },
  {
   "cell_type": "code",
   "execution_count": 24,
   "id": "78935272",
   "metadata": {},
   "outputs": [],
   "source": [
    "class Displacement():\n",
    "    def __init__(self):\n",
    "        pass\n",
    "    \n",
    "    def compute_velocity(self, displacement):\n",
    "        return 0\n",
    "    \n",
    "    def test(self):\n",
    "        return 0\n",
    "    \n",
    "    def is_mean_velocity_significant(self, displacements, days):\n",
    "        # extraire X et y\n",
    "        X = StandardScaler().fit_transform(displacements)\n",
    "        # calculer la p-value de la regression lineaire\n",
    "        _, pval = f_regression(X, days)\n",
    "        return  pval[0]\n",
    "    \n",
    "    def compute_inst_vel(self, displacements, dates):\n",
    "        diff_displacements, durations = self.prepare(displacements, dates)\n",
    "        return np.divide(diff_displacements, durations)\n",
    "    \n",
    "    # TODO\n",
    "    def is_stationary(self, displacement, alpha, freq='D'):\n",
    "        resampled = displacement.resample(freq)\n",
    "        interpolated = upsampled.interpolate(method='linear')\n",
    "        return self.compute_adfuller(interpolated) < alpha\n",
    "    \n",
    "     # TODO\n",
    "    def smooth(self, displacement, factor):\n",
    "        std = math.sqrt(serie.var())\n",
    "        for i in range(len(serie)):\n",
    "            if abs(serie.iloc[i].displacement) > ampl*std:\n",
    "                serie.iloc[i, serie.columns.get_loc('displacement')]= np.nan\n",
    "        return serie.interpolate(limit_direction='both', inplace=False)\n",
    "    \n",
    "    def prepare(self, displacement, dates):\n",
    "        durations = np.diff(dates) / np.timedelta64(1,'D')\n",
    "        return self.transform_displacement(displacement), self.transform_date(dates)\n",
    "    \n",
    "    def transform_date(self, dates):\n",
    "        temp = np.diff(np.array(dates))\n",
    "        shifted = np.array([np.timedelta64(1, 'D') for n in range(temp.shape[0])])\n",
    "        shifted[0:-1] = temp[1:]\n",
    "        return (shifted + temp)[:-1] / np.timedelta64(1,'D')\n",
    "    \n",
    "    def transform_displacement(self, displacement):\n",
    "        temp = np.diff(np.array(displacement))\n",
    "        shifted = np.zeros(temp.shape[0])\n",
    "        shifted[0:-1] = temp[1:]\n",
    "        return np.add(temp, shifted)[:-1]\n",
    "    \n",
    "    def transform_dates_for_lnreg(self, dates):\n",
    "        lnr_dates = np.cumsum( np.diff(data.dates) /  np.timedelta64(1,'D') )\n",
    "        return np.insert(lnr_dates, 0, 0, axis=0)"
   ]
  },
  {
   "cell_type": "code",
   "execution_count": 25,
   "id": "dc75f772",
   "metadata": {},
   "outputs": [],
   "source": [
    "class DataFromImageCorrelation():\n",
    "    \n",
    "    def __init__(self, data, raster_folder_name, dem_filename, pc=0.4, alpha=0.05, ref='wgs84'):\n",
    "        self.data  = data\n",
    "        self.compute_slope_map(raster_folder_name, dem_filename)\n",
    "        self.compute_vlm_std()\n",
    "        self.n_cores = multiprocessing.cpu_count()\n",
    "        self.pc = pc\n",
    "        self.ref = ref\n",
    "        self.alpha = alpha\n",
    "        self.velocities = []\n",
    "        self.mask = np.array([])\n",
    "    \n",
    "    def compute_vel(self, ns_component, ew_component):\n",
    "        return math.sqrt(ns_component * ns_component + ew_component * ew_component)\n",
    "    \n",
    "    def is_ns_mean_velocity_significant(self, n):\n",
    "        displacement = self.data.ns_displacements[n].reshape(-1, 1)\n",
    "        dates = Displacement().transform_dates_for_lnreg(self.data.dates)\n",
    "        return Displacement().is_mean_velocity_significant(displacement, dates) < self.alpha\n",
    "    \n",
    "    def is_ew_mean_velocity_significant(self, n):\n",
    "        displacement = self.data.ew_displacements[n].reshape(-1, 1)\n",
    "        dates = Displacement().transform_dates_for_lnreg(self.data.dates)\n",
    "        return Displacement().is_mean_velocity_significant(displacement, dates) < self.alpha\n",
    "    \n",
    "    def is_mean_velocity_significant(self, n):\n",
    "        return self.is_ns_mean_velocity_significant(n) and self.is_ew_mean_velocity_significant(n)\n",
    "    \n",
    "    def is_moving(self, n, factor):\n",
    "        ns_vel = data.ns_mean_velocities[n]\n",
    "        ew_vel = data.ew_mean_velocities[n]\n",
    "        return self.compute_vel(ns_vel, ew_vel) > factor * self.sigma\n",
    "    \n",
    "    def filter_by(self, factor, min_slope=5):\n",
    "        vfunc = np.vectorize(self.is_to_select)\n",
    "        self.mask = vfunc(np.arange(self.data.latitudes.shape[0]), factor, min_slope)\n",
    "\n",
    "    def is_to_select(self, n, factor, min_slope):\n",
    "        return (self.is_moving(n, factor) and\n",
    "               self.is_ns_mean_velocity_significant(n) and\n",
    "                self.is_ew_mean_velocity_significant(n))\n",
    "    \n",
    "    def filter_by_linear_reg(self):\n",
    "        pass\n",
    "                \n",
    "    def compute_vlm_std(self):\n",
    "        vfunc = np.vectorize(self.compute_vel)\n",
    "        ns_velocities = self.data.ns_mean_velocities\n",
    "        ew_velocities = self.data.ew_mean_velocities\n",
    "        self.sigma = np.std(vfunc(ns_velocities, ew_velocities))\n",
    "        \n",
    "    def compute_inst_vels(self, series):\n",
    "        with multiprocessing.Pool(self.n_cores) as p:\n",
    "            results = p.map(Displacement().compute_inst_vel, series)\n",
    "            return results\n",
    "        \n",
    "    def compute_velocities(self):\n",
    "        if self.mask.shape[0] > 0:\n",
    "            ns_displacements = self.data.ns_displacements[~np.array(self.mask)]\n",
    "            ew_displacements = self.data.ew_displacements[~np.array(self.mask)]\n",
    "            ns_vels = self.compute_inst_vels(ns_displacements)\n",
    "            ew_vels = self.compute_inst_vels(ew_displacements)\n",
    "            vfunc = np.vectorize(self.compute_vel)\n",
    "            self.velocities = np.array([vfunc(ns, ew) for ns, ew in zip(ns_displacements, ew_displacements)])\n",
    "                    \n",
    "    def set_slope_map_path(self, slope_map_path):\n",
    "        self.slope_map_path = slope_map_path\n",
    "        \n",
    "    def load_raster(self, raster_folder_name, raster_filename):\n",
    "        return gdal.Open(raster_folder_name + '/' +  raster_filename)\n",
    "        \n",
    "    def compute_slope_map(self, raster_folder_name, dem_name):\n",
    "        dem = None\n",
    "        slope_map = None\n",
    "        slope_map_name = dem_name.split('.')[0] + '_' + 'slope_map.tif'\n",
    "        slope_map_path = raster_folder_name + '/' + slope_map_name\n",
    "        if not os.path.isfile(slope_map_path):\n",
    "            dem = gdal.Open(raster_folder_name + '/'+ dem_name)\n",
    "            slope_map = gdal.DEMProcessing(slope_map_path, dem, 'slope', computeEdges = True)\n",
    "        self.set_slope_map_path(slope_map_path)"
   ]
  },
  {
   "cell_type": "markdown",
   "id": "0db25a6c",
   "metadata": {},
   "source": [
    "# Application"
   ]
  },
  {
   "cell_type": "markdown",
   "id": "5d0ebd41",
   "metadata": {},
   "source": [
    "## Chargement des données"
   ]
  },
  {
   "cell_type": "code",
   "execution_count": 26,
   "id": "2d396b43",
   "metadata": {},
   "outputs": [],
   "source": [
    "DATA_PATH  = './donnees' \n",
    "ns_path = 'rasters/Lavalette/MM_TIO_NS_31TGK_20151227_to_20200906.csv'\n",
    "ew_path = 'rasters/Lavalette/MM_TIO_EW_31TGK_20151227_to_20200906.csv'"
   ]
  },
  {
   "cell_type": "code",
   "execution_count": 27,
   "id": "dce0130c",
   "metadata": {},
   "outputs": [
    {
     "ename": "KeyboardInterrupt",
     "evalue": "",
     "output_type": "error",
     "traceback": [
      "\u001b[0;31m---------------------------------------------------------------------------\u001b[0m",
      "\u001b[0;31mKeyboardInterrupt\u001b[0m                         Traceback (most recent call last)",
      "\u001b[0;32m<ipython-input-27-3d1b49837012>\u001b[0m in \u001b[0;36m<module>\u001b[0;34m\u001b[0m\n\u001b[0;32m----> 1\u001b[0;31m \u001b[0mdata\u001b[0m \u001b[0;34m=\u001b[0m \u001b[0mData\u001b[0m\u001b[0;34m(\u001b[0m\u001b[0mns_path\u001b[0m\u001b[0;34m,\u001b[0m \u001b[0mew_path\u001b[0m\u001b[0;34m)\u001b[0m\u001b[0;34m\u001b[0m\u001b[0;34m\u001b[0m\u001b[0m\n\u001b[0m",
      "\u001b[0;32m<ipython-input-23-30307821094f>\u001b[0m in \u001b[0;36m__init__\u001b[0;34m(self, filename1, filename2, pc)\u001b[0m\n\u001b[1;32m      2\u001b[0m \u001b[0;34m\u001b[0m\u001b[0m\n\u001b[1;32m      3\u001b[0m     \u001b[0;32mdef\u001b[0m \u001b[0m__init__\u001b[0m\u001b[0;34m(\u001b[0m\u001b[0mself\u001b[0m\u001b[0;34m,\u001b[0m \u001b[0mfilename1\u001b[0m\u001b[0;34m,\u001b[0m \u001b[0mfilename2\u001b[0m\u001b[0;34m,\u001b[0m \u001b[0mpc\u001b[0m\u001b[0;34m=\u001b[0m\u001b[0;36m0.3\u001b[0m\u001b[0;34m)\u001b[0m\u001b[0;34m:\u001b[0m\u001b[0;34m\u001b[0m\u001b[0;34m\u001b[0m\u001b[0m\n\u001b[0;32m----> 4\u001b[0;31m         \u001b[0mself\u001b[0m\u001b[0;34m.\u001b[0m\u001b[0mload\u001b[0m\u001b[0;34m(\u001b[0m\u001b[0mfilename1\u001b[0m\u001b[0;34m,\u001b[0m \u001b[0mfilename2\u001b[0m\u001b[0;34m,\u001b[0m \u001b[0mpc\u001b[0m\u001b[0;34m)\u001b[0m\u001b[0;34m\u001b[0m\u001b[0;34m\u001b[0m\u001b[0m\n\u001b[0m\u001b[1;32m      5\u001b[0m \u001b[0;34m\u001b[0m\u001b[0m\n\u001b[1;32m      6\u001b[0m     \u001b[0;32mdef\u001b[0m \u001b[0mset_latitudes\u001b[0m\u001b[0;34m(\u001b[0m\u001b[0mself\u001b[0m\u001b[0;34m,\u001b[0m \u001b[0mlatitudes\u001b[0m\u001b[0;34m)\u001b[0m\u001b[0;34m:\u001b[0m\u001b[0;34m\u001b[0m\u001b[0;34m\u001b[0m\u001b[0m\n",
      "\u001b[0;32m<ipython-input-23-30307821094f>\u001b[0m in \u001b[0;36mload\u001b[0;34m(self, ns_file_path, ew_file_path, pc)\u001b[0m\n\u001b[1;32m     39\u001b[0m             \u001b[0;32mif\u001b[0m \u001b[0mns\u001b[0m\u001b[0;34m[\u001b[0m\u001b[0mn\u001b[0m\u001b[0;34m]\u001b[0m\u001b[0;34m.\u001b[0m\u001b[0misnull\u001b[0m\u001b[0;34m(\u001b[0m\u001b[0;34m)\u001b[0m\u001b[0;34m.\u001b[0m\u001b[0msum\u001b[0m\u001b[0;34m(\u001b[0m\u001b[0;34m)\u001b[0m\u001b[0;34m.\u001b[0m\u001b[0msum\u001b[0m\u001b[0;34m(\u001b[0m\u001b[0;34m)\u001b[0m \u001b[0;34m/\u001b[0m \u001b[0mm\u001b[0m \u001b[0;34m<\u001b[0m \u001b[0mpc\u001b[0m\u001b[0;34m:\u001b[0m\u001b[0;34m\u001b[0m\u001b[0;34m\u001b[0m\u001b[0m\n\u001b[1;32m     40\u001b[0m                 \u001b[0mns_displacements\u001b[0m\u001b[0;34m.\u001b[0m\u001b[0mappend\u001b[0m\u001b[0;34m(\u001b[0m\u001b[0mcomponents\u001b[0m\u001b[0;34m[\u001b[0m\u001b[0;36m0\u001b[0m\u001b[0;34m]\u001b[0m\u001b[0;34m.\u001b[0m\u001b[0minterpolate\u001b[0m\u001b[0;34m(\u001b[0m\u001b[0mlimit_direction\u001b[0m\u001b[0;34m=\u001b[0m\u001b[0;34m'both'\u001b[0m\u001b[0;34m,\u001b[0m \u001b[0minplace\u001b[0m\u001b[0;34m=\u001b[0m\u001b[0;32mFalse\u001b[0m\u001b[0;34m)\u001b[0m\u001b[0;34m[\u001b[0m\u001b[0;34m'displacement'\u001b[0m\u001b[0;34m]\u001b[0m\u001b[0;34m.\u001b[0m\u001b[0mvalues\u001b[0m\u001b[0;34m)\u001b[0m\u001b[0;34m\u001b[0m\u001b[0;34m\u001b[0m\u001b[0m\n\u001b[0;32m---> 41\u001b[0;31m                 \u001b[0mew_displacements\u001b[0m\u001b[0;34m.\u001b[0m\u001b[0mappend\u001b[0m\u001b[0;34m(\u001b[0m\u001b[0mcomponents\u001b[0m\u001b[0;34m[\u001b[0m\u001b[0;36m1\u001b[0m\u001b[0;34m]\u001b[0m\u001b[0;34m.\u001b[0m\u001b[0minterpolate\u001b[0m\u001b[0;34m(\u001b[0m\u001b[0mlimit_direction\u001b[0m\u001b[0;34m=\u001b[0m\u001b[0;34m'both'\u001b[0m\u001b[0;34m,\u001b[0m \u001b[0minplace\u001b[0m\u001b[0;34m=\u001b[0m\u001b[0;32mFalse\u001b[0m\u001b[0;34m)\u001b[0m\u001b[0;34m[\u001b[0m\u001b[0;34m'displacement'\u001b[0m\u001b[0;34m]\u001b[0m\u001b[0;34m.\u001b[0m\u001b[0mvalues\u001b[0m\u001b[0;34m)\u001b[0m\u001b[0;34m\u001b[0m\u001b[0;34m\u001b[0m\u001b[0m\n\u001b[0m\u001b[1;32m     42\u001b[0m                 \u001b[0mbooleans\u001b[0m\u001b[0;34m.\u001b[0m\u001b[0mappend\u001b[0m\u001b[0;34m(\u001b[0m\u001b[0;32mFalse\u001b[0m\u001b[0;34m)\u001b[0m\u001b[0;34m\u001b[0m\u001b[0;34m\u001b[0m\u001b[0m\n\u001b[1;32m     43\u001b[0m             \u001b[0;32melse\u001b[0m\u001b[0;34m:\u001b[0m\u001b[0;34m\u001b[0m\u001b[0;34m\u001b[0m\u001b[0m\n",
      "\u001b[0;32m~/miniconda3/envs/sdsc_stage/lib/python3.9/site-packages/pandas/core/generic.py\u001b[0m in \u001b[0;36minterpolate\u001b[0;34m(self, method, axis, limit, inplace, limit_direction, limit_area, downcast, **kwargs)\u001b[0m\n\u001b[1;32m   7214\u001b[0m                 )\n\u001b[1;32m   7215\u001b[0m \u001b[0;34m\u001b[0m\u001b[0m\n\u001b[0;32m-> 7216\u001b[0;31m         \u001b[0;32mif\u001b[0m \u001b[0misna\u001b[0m\u001b[0;34m(\u001b[0m\u001b[0mindex\u001b[0m\u001b[0;34m)\u001b[0m\u001b[0;34m.\u001b[0m\u001b[0many\u001b[0m\u001b[0;34m(\u001b[0m\u001b[0;34m)\u001b[0m\u001b[0;34m:\u001b[0m\u001b[0;34m\u001b[0m\u001b[0;34m\u001b[0m\u001b[0m\n\u001b[0m\u001b[1;32m   7217\u001b[0m             raise NotImplementedError(\n\u001b[1;32m   7218\u001b[0m                 \u001b[0;34m\"Interpolation with NaNs in the index \"\u001b[0m\u001b[0;34m\u001b[0m\u001b[0;34m\u001b[0m\u001b[0m\n",
      "\u001b[0;32m~/miniconda3/envs/sdsc_stage/lib/python3.9/site-packages/pandas/core/dtypes/missing.py\u001b[0m in \u001b[0;36misna\u001b[0;34m(obj)\u001b[0m\n\u001b[1;32m    125\u001b[0m     \u001b[0mName\u001b[0m\u001b[0;34m:\u001b[0m \u001b[0;36m1\u001b[0m\u001b[0;34m,\u001b[0m \u001b[0mdtype\u001b[0m\u001b[0;34m:\u001b[0m \u001b[0mbool\u001b[0m\u001b[0;34m\u001b[0m\u001b[0;34m\u001b[0m\u001b[0m\n\u001b[1;32m    126\u001b[0m     \"\"\"\n\u001b[0;32m--> 127\u001b[0;31m     \u001b[0;32mreturn\u001b[0m \u001b[0m_isna\u001b[0m\u001b[0;34m(\u001b[0m\u001b[0mobj\u001b[0m\u001b[0;34m)\u001b[0m\u001b[0;34m\u001b[0m\u001b[0;34m\u001b[0m\u001b[0m\n\u001b[0m\u001b[1;32m    128\u001b[0m \u001b[0;34m\u001b[0m\u001b[0m\n\u001b[1;32m    129\u001b[0m \u001b[0;34m\u001b[0m\u001b[0m\n",
      "\u001b[0;32m~/miniconda3/envs/sdsc_stage/lib/python3.9/site-packages/pandas/core/dtypes/missing.py\u001b[0m in \u001b[0;36m_isna\u001b[0;34m(obj, inf_as_na)\u001b[0m\n\u001b[1;32m    158\u001b[0m         \u001b[0;32mreturn\u001b[0m \u001b[0;32mFalse\u001b[0m\u001b[0;34m\u001b[0m\u001b[0;34m\u001b[0m\u001b[0m\n\u001b[1;32m    159\u001b[0m     \u001b[0;32melif\u001b[0m \u001b[0misinstance\u001b[0m\u001b[0;34m(\u001b[0m\u001b[0mobj\u001b[0m\u001b[0;34m,\u001b[0m \u001b[0;34m(\u001b[0m\u001b[0mABCSeries\u001b[0m\u001b[0;34m,\u001b[0m \u001b[0mnp\u001b[0m\u001b[0;34m.\u001b[0m\u001b[0mndarray\u001b[0m\u001b[0;34m,\u001b[0m \u001b[0mABCIndexClass\u001b[0m\u001b[0;34m,\u001b[0m \u001b[0mABCExtensionArray\u001b[0m\u001b[0;34m)\u001b[0m\u001b[0;34m)\u001b[0m\u001b[0;34m:\u001b[0m\u001b[0;34m\u001b[0m\u001b[0;34m\u001b[0m\u001b[0m\n\u001b[0;32m--> 160\u001b[0;31m         \u001b[0;32mreturn\u001b[0m \u001b[0m_isna_ndarraylike\u001b[0m\u001b[0;34m(\u001b[0m\u001b[0mobj\u001b[0m\u001b[0;34m,\u001b[0m \u001b[0minf_as_na\u001b[0m\u001b[0;34m=\u001b[0m\u001b[0minf_as_na\u001b[0m\u001b[0;34m)\u001b[0m\u001b[0;34m\u001b[0m\u001b[0;34m\u001b[0m\u001b[0m\n\u001b[0m\u001b[1;32m    161\u001b[0m     \u001b[0;32melif\u001b[0m \u001b[0misinstance\u001b[0m\u001b[0;34m(\u001b[0m\u001b[0mobj\u001b[0m\u001b[0;34m,\u001b[0m \u001b[0mABCDataFrame\u001b[0m\u001b[0;34m)\u001b[0m\u001b[0;34m:\u001b[0m\u001b[0;34m\u001b[0m\u001b[0;34m\u001b[0m\u001b[0m\n\u001b[1;32m    162\u001b[0m         \u001b[0;32mreturn\u001b[0m \u001b[0mobj\u001b[0m\u001b[0;34m.\u001b[0m\u001b[0misna\u001b[0m\u001b[0;34m(\u001b[0m\u001b[0;34m)\u001b[0m\u001b[0;34m\u001b[0m\u001b[0;34m\u001b[0m\u001b[0m\n",
      "\u001b[0;32m~/miniconda3/envs/sdsc_stage/lib/python3.9/site-packages/pandas/core/dtypes/missing.py\u001b[0m in \u001b[0;36m_isna_ndarraylike\u001b[0;34m(obj, inf_as_na)\u001b[0m\n\u001b[1;32m    224\u001b[0m         \u001b[0;32melse\u001b[0m\u001b[0;34m:\u001b[0m\u001b[0;34m\u001b[0m\u001b[0;34m\u001b[0m\u001b[0m\n\u001b[1;32m    225\u001b[0m             \u001b[0mresult\u001b[0m \u001b[0;34m=\u001b[0m \u001b[0mvalues\u001b[0m\u001b[0;34m.\u001b[0m\u001b[0misna\u001b[0m\u001b[0;34m(\u001b[0m\u001b[0;34m)\u001b[0m\u001b[0;34m\u001b[0m\u001b[0;34m\u001b[0m\u001b[0m\n\u001b[0;32m--> 226\u001b[0;31m     \u001b[0;32melif\u001b[0m \u001b[0mis_string_dtype\u001b[0m\u001b[0;34m(\u001b[0m\u001b[0mdtype\u001b[0m\u001b[0;34m)\u001b[0m\u001b[0;34m:\u001b[0m\u001b[0;34m\u001b[0m\u001b[0;34m\u001b[0m\u001b[0m\n\u001b[0m\u001b[1;32m    227\u001b[0m         \u001b[0mresult\u001b[0m \u001b[0;34m=\u001b[0m \u001b[0m_isna_string_dtype\u001b[0m\u001b[0;34m(\u001b[0m\u001b[0mvalues\u001b[0m\u001b[0;34m,\u001b[0m \u001b[0mdtype\u001b[0m\u001b[0;34m,\u001b[0m \u001b[0minf_as_na\u001b[0m\u001b[0;34m=\u001b[0m\u001b[0minf_as_na\u001b[0m\u001b[0;34m)\u001b[0m\u001b[0;34m\u001b[0m\u001b[0;34m\u001b[0m\u001b[0m\n\u001b[1;32m    228\u001b[0m     \u001b[0;32melif\u001b[0m \u001b[0mneeds_i8_conversion\u001b[0m\u001b[0;34m(\u001b[0m\u001b[0mdtype\u001b[0m\u001b[0;34m)\u001b[0m\u001b[0;34m:\u001b[0m\u001b[0;34m\u001b[0m\u001b[0;34m\u001b[0m\u001b[0m\n",
      "\u001b[0;32m~/miniconda3/envs/sdsc_stage/lib/python3.9/site-packages/pandas/core/dtypes/common.py\u001b[0m in \u001b[0;36mis_string_dtype\u001b[0;34m(arr_or_dtype)\u001b[0m\n\u001b[1;32m    610\u001b[0m         \u001b[0;32mreturn\u001b[0m \u001b[0many\u001b[0m\u001b[0;34m(\u001b[0m\u001b[0mis_excluded\u001b[0m\u001b[0;34m(\u001b[0m\u001b[0mdtype\u001b[0m\u001b[0;34m)\u001b[0m \u001b[0;32mfor\u001b[0m \u001b[0mis_excluded\u001b[0m \u001b[0;32min\u001b[0m \u001b[0mis_excluded_checks\u001b[0m\u001b[0;34m)\u001b[0m\u001b[0;34m\u001b[0m\u001b[0;34m\u001b[0m\u001b[0m\n\u001b[1;32m    611\u001b[0m \u001b[0;34m\u001b[0m\u001b[0m\n\u001b[0;32m--> 612\u001b[0;31m     \u001b[0;32mreturn\u001b[0m \u001b[0m_is_dtype\u001b[0m\u001b[0;34m(\u001b[0m\u001b[0marr_or_dtype\u001b[0m\u001b[0;34m,\u001b[0m \u001b[0mcondition\u001b[0m\u001b[0;34m)\u001b[0m\u001b[0;34m\u001b[0m\u001b[0;34m\u001b[0m\u001b[0m\n\u001b[0m\u001b[1;32m    613\u001b[0m \u001b[0;34m\u001b[0m\u001b[0m\n\u001b[1;32m    614\u001b[0m \u001b[0;34m\u001b[0m\u001b[0m\n",
      "\u001b[0;32m~/miniconda3/envs/sdsc_stage/lib/python3.9/site-packages/pandas/core/dtypes/common.py\u001b[0m in \u001b[0;36m_is_dtype\u001b[0;34m(arr_or_dtype, condition)\u001b[0m\n\u001b[1;32m   1567\u001b[0m         \u001b[0;32mreturn\u001b[0m \u001b[0;32mFalse\u001b[0m\u001b[0;34m\u001b[0m\u001b[0;34m\u001b[0m\u001b[0m\n\u001b[1;32m   1568\u001b[0m     \u001b[0;32mtry\u001b[0m\u001b[0;34m:\u001b[0m\u001b[0;34m\u001b[0m\u001b[0;34m\u001b[0m\u001b[0m\n\u001b[0;32m-> 1569\u001b[0;31m         \u001b[0mdtype\u001b[0m \u001b[0;34m=\u001b[0m \u001b[0mget_dtype\u001b[0m\u001b[0;34m(\u001b[0m\u001b[0marr_or_dtype\u001b[0m\u001b[0;34m)\u001b[0m\u001b[0;34m\u001b[0m\u001b[0;34m\u001b[0m\u001b[0m\n\u001b[0m\u001b[1;32m   1570\u001b[0m     \u001b[0;32mexcept\u001b[0m \u001b[0;34m(\u001b[0m\u001b[0mTypeError\u001b[0m\u001b[0;34m,\u001b[0m \u001b[0mValueError\u001b[0m\u001b[0;34m,\u001b[0m \u001b[0mUnicodeEncodeError\u001b[0m\u001b[0;34m)\u001b[0m\u001b[0;34m:\u001b[0m\u001b[0;34m\u001b[0m\u001b[0;34m\u001b[0m\u001b[0m\n\u001b[1;32m   1571\u001b[0m         \u001b[0;32mreturn\u001b[0m \u001b[0;32mFalse\u001b[0m\u001b[0;34m\u001b[0m\u001b[0;34m\u001b[0m\u001b[0m\n",
      "\u001b[0;31mKeyboardInterrupt\u001b[0m: "
     ]
    }
   ],
   "source": [
    "data = Data(ns_path, ew_path)"
   ]
  },
  {
   "cell_type": "markdown",
   "id": "18b5e309",
   "metadata": {},
   "source": [
    "## Calcul des profils de vitesse"
   ]
  },
  {
   "cell_type": "code",
   "execution_count": 6,
   "id": "79a3ebbd",
   "metadata": {},
   "outputs": [],
   "source": [
    "raster_folder_path = 'rasters'\n",
    "dem_filename =  '31TGK_copernicus_dem.tif'"
   ]
  },
  {
   "cell_type": "code",
   "execution_count": null,
   "id": "2786928b",
   "metadata": {},
   "outputs": [],
   "source": [
    "img_correlation = DataFromImageCorrelation(data, raster_folder_path, dem_filename)"
   ]
  },
  {
   "cell_type": "code",
   "execution_count": 7,
   "id": "03bd4b09",
   "metadata": {},
   "outputs": [],
   "source": [
    " def plot_disp_ns_ew(ns_ts, ew_ts):\n",
    "\n",
    "        fig, ax = plt.subplots(2, 1, figsize=(15,10))\n",
    "\n",
    "        ax[0].plot(ns_ts, color='blue', label='displacement (m)', marker='o', linewidth=2)\n",
    "        ax[0].set_title('NS cumulative displacement')\n",
    "        ax[0].set_xlabel('time')\n",
    "        ax[0].set_ylabel('displacement')\n",
    "        ax[0].legend()\n",
    "\n",
    "        ax[1].plot(ew_ts, color='orange', label='displacement (m)', marker='o', linewidth=2)\n",
    "        ax[1].set_title('EW cumulative displacement')\n",
    "        ax[1].set_xlabel('time')\n",
    "        ax[1].set_ylabel('displacement')\n",
    "        ax[1].legend()\n",
    "        plt.savefig('displacement.png')\n",
    "        fig.tight_layout()\n",
    "        plt.show()\n",
    "        "
   ]
  },
  {
   "cell_type": "markdown",
   "id": "e81377fb",
   "metadata": {},
   "source": [
    "## Analyse en composantes princpales(PCA) et décomposition en composantes indépendantes (ICA)"
   ]
  },
  {
   "cell_type": "code",
   "execution_count": 8,
   "id": "23df7af8",
   "metadata": {},
   "outputs": [],
   "source": [
    "from sklearn.decomposition import PCA, FastICA"
   ]
  },
  {
   "cell_type": "code",
   "execution_count": 9,
   "id": "8f743d04",
   "metadata": {},
   "outputs": [],
   "source": [
    "n_components = None\n",
    "pca = PCA(n_components=n_components, random_state=0)\n",
    "ica = FastICA(n_components=n_components, random_state=0)"
   ]
  },
  {
   "cell_type": "code",
   "execution_count": 10,
   "id": "14835b57",
   "metadata": {},
   "outputs": [],
   "source": [
    "def compute_decomposition(data, n_components=20, tol=0.005, random_state=0):\n",
    "    \n",
    "    sources_ica = compute_ica_decomposition(data)\n",
    "    sources_pca = compute_pca_decomposition(data)\n",
    "    \n",
    "    return sources_ica, sources_pca\n",
    "\n",
    "def compute_ica_decomposition(data, n_components=20, tol=0.005, random_state=0):\n",
    "    \n",
    "    # normalisation des données\n",
    "    X = normalize(data).T\n",
    "    \n",
    "    # décomposition en composantes indépendantes (ICA)\n",
    "    ica = FastICA(n_components=n_components, random_state=random_state, tol=tol)\n",
    "    sources_ica = ica.fit_transform(X)\n",
    "    \n",
    "    return sources_ica\n",
    "\n",
    "def compute_pca_decomposition(data, n_components=20, tol=0.005, random_state=0):\n",
    "    \n",
    "    # normalisation des données\n",
    "    X = normalize(data).T\n",
    "    \n",
    "     # décompositions en composantes principales (PCA)\n",
    "    pca = PCA(n_components=n_components, random_state=random_state)\n",
    "    sources_pca = pca.fit_transform(X)\n",
    "    \n",
    "    return sources_pca\n",
    "\n",
    "def plot_components(data, output, ncols=3, colormap='tab20', figsize=(25,15)):\n",
    "    n = data.shape[1]\n",
    "    nrows = int(n / ncols) if n % ncols == 0 else int(math.ceil(n / ncols))\n",
    "    fig, axes = plt.subplots(nrows=nrows, ncols=ncols, figsize=figsize)\n",
    "    cmap = plt.get_cmap(colormap)\n",
    "    colors = [cmap(i) for i in np.linspace(0, 1, n)]\n",
    "    for i in range(n):\n",
    "        axes[int(i / ncols), i % ncols].plot(data[:, i], color=colors[i])\n",
    "        axes[int(i / ncols), i % ncols].set_title('component %d' % (i+1))\n",
    "    plt.savefig(output + '.png')\n",
    "    fig.tight_layout()\n",
    "    plt.show()"
   ]
  },
  {
   "cell_type": "code",
   "execution_count": null,
   "id": "e978f600",
   "metadata": {},
   "outputs": [],
   "source": [
    "ns_sources_ica = compute_ica_decomposition(data.ns_displacements, n_components=20)\n",
    "ew_sources_ica = compute_ica_decomposition(data.ew_displacements, n_components=20)\n",
    "ns_sources_pca = compute_pca_decomposition(data.ns_displacements, n_components=20)\n",
    "ew_sources_pca = compute_pca_decomposition(data.ew_displacements, n_components=20)"
   ]
  },
  {
   "cell_type": "code",
   "execution_count": null,
   "id": "23290f81",
   "metadata": {},
   "outputs": [],
   "source": [
    "plot_components(ns_sources_ica, 'ns_ica')\n",
    "plot_components(ew_sources_ica, 'ew_ica')\n",
    "plot_components(ns_sources_pca, 'ns_pca')\n",
    "plot_components(ew_sources_pca, 'ew_pca')"
   ]
  },
  {
   "cell_type": "markdown",
   "id": "e9ec5d15",
   "metadata": {},
   "source": [
    "# Sélection des sources"
   ]
  },
  {
   "cell_type": "markdown",
   "id": "4a683938",
   "metadata": {},
   "source": [
    "# Remarques"
   ]
  },
  {
   "cell_type": "markdown",
   "id": "a6ab91e2",
   "metadata": {},
   "source": [
    "* les deux méthodes ne renvoient pas la même amplitude \n",
    "* amplitude plus faible avec ICA\n",
    "* les sources avec PCA sont obtenues dans la base orthogonal formée par les composantes principales\n"
   ]
  },
  {
   "cell_type": "code",
   "execution_count": 12,
   "id": "c1052632",
   "metadata": {},
   "outputs": [],
   "source": [
    "def generate_kml_file(latitudes, longitudes, color, kml=None, filename='visualization', generate=True):\n",
    "    \n",
    "    url = 'http://maps.google.com/mapfiles/ms/micons/'\n",
    "    kml = simplekml.Kml()\n",
    "    for n, coords in enumerate(zip(latitudes, longitudes)):\n",
    "        pnt = kml.newpoint(description=str(n), coords=[(coords[0], coords[1])])\n",
    "        pnt.iconstyle.icon.href = url + color + '-dot.png'\n",
    "    if generate:\n",
    "        kml.save(filename + '.kml')\n",
    "        return  None\n",
    "    else:\n",
    "        return kml\n",
    "        "
   ]
  },
  {
   "cell_type": "markdown",
   "id": "ba3d5561",
   "metadata": {},
   "source": [
    "# Décomposition en composantes indépendantes"
   ]
  },
  {
   "cell_type": "code",
   "execution_count": 13,
   "id": "433b097f",
   "metadata": {},
   "outputs": [],
   "source": [
    "ica_path = './donnees/ica/'"
   ]
  },
  {
   "cell_type": "code",
   "execution_count": 14,
   "id": "9273e7bd",
   "metadata": {},
   "outputs": [],
   "source": [
    "import os"
   ]
  },
  {
   "cell_type": "code",
   "execution_count": 34,
   "id": "178d3392",
   "metadata": {},
   "outputs": [],
   "source": [
    "# UU : EW\n",
    "# VV : NS\n",
    "def load_displacements(ica_path):\n",
    "    uu, vv = [], []\n",
    "    for filename in os.listdir(ica_path):\n",
    "        if 'FILTER' in filename:\n",
    "            raster = gdal.Open(ica_path + filename)\n",
    "            values = raster.GetRasterBand(1).ReadAsArray()\n",
    "            if 'MM_NS' in filename:\n",
    "                vv.append(values)\n",
    "            if 'MM_EW' in filename:\n",
    "                uu.append(values)\n",
    "    return np.array(uu), np.array(vv)"
   ]
  },
  {
   "cell_type": "code",
   "execution_count": 57,
   "id": "17916f44",
   "metadata": {},
   "outputs": [],
   "source": [
    "def get_component_filenames(ica_path, component):\n",
    "    filenames = []\n",
    "    for filename in os.listdir(ica_path):\n",
    "        if 'FILTER' in filename and  component in filename:\n",
    "            filenames.append(filename)\n",
    "    return filenames\n",
    "\n",
    "def extract_date():"
   ]
  },
  {
   "cell_type": "code",
   "execution_count": 74,
   "id": "9a28d5e8",
   "metadata": {},
   "outputs": [],
   "source": [
    "UU, VV = load_displacements(ica_path)"
   ]
  },
  {
   "cell_type": "code",
   "execution_count": 148,
   "id": "20d0f865",
   "metadata": {},
   "outputs": [],
   "source": [
    "from datetime import datetime\n",
    "\n",
    "def to_date(string):\n",
    "    year = string[0:4]\n",
    "    month = string[4:6]\n",
    "    day = string[6:8]\n",
    "    new_str = ' '.join([year, month, day])\n",
    "    return datetime.strptime(new_str, \"%Y %m %d\")\n",
    "\n",
    "def to_filename(year, month, day):\n",
    "    new_month = None\n",
    "    new_day   = None\n",
    "    if month < 10:\n",
    "        new_month = '0' + str(month)\n",
    "    else:\n",
    "        new_month = str(month)\n",
    "    if day < 10:\n",
    "        new_day = '0' + str(day)\n",
    "    else:\n",
    "        new_day = str(day)\n",
    "        \n",
    "    return str(year) + new_month + new_day \n",
    "\n",
    "def checked_connection_(date1, date2, filenames):\n",
    "    year1, month1, day1 = date1.year, date1.month, date1.day\n",
    "    year2, month2, day2 = date2.year, date2.month, date2.day\n",
    "    for filename in filenames:\n",
    "        if to_filename(year1, month1, day1) in filename and to_filename(year2, month2, day2) in filename:\n",
    "            return 1\n",
    "        else:\n",
    "            return 0"
   ]
  },
  {
   "cell_type": "code",
   "execution_count": 223,
   "id": "d212c4a2",
   "metadata": {},
   "outputs": [],
   "source": [
    "def checked_connection(date1, date2, filenames):\n",
    "    for filename in filenames:\n",
    "        if ('FILTER' in filename) and ( (date1 + '_vs_' + date2 in filename) or\n",
    "            (date2 + '_vs_' + date1 in filename) ):\n",
    "            return 1\n",
    "    return 0\n",
    "\n",
    "def extract_dates(filenames):\n",
    "    dates = [s for filename in filenames for s in filename.split('_') if s.isdigit()]\n",
    "    dates = list(OrderedDict.fromkeys(sorted(dates)))\n",
    "    return sorted(dates)"
   ]
  },
  {
   "cell_type": "code",
   "execution_count": 254,
   "id": "324f8b86",
   "metadata": {},
   "outputs": [],
   "source": [
    "# from collections import OrderedDict\n",
    "# filenames = get_component_filenames(ica_path, 'MM_NS')\n",
    "# dates = [s for filename in filenames for s in filename.split('_') if s.isdigit()]\n",
    "# dates = [to_date(date) for date in dates]\n",
    "# dates = sorted(dates)\n",
    "# dates = list(OrderedDict.fromkeys(sorted(dates)))\n",
    "# dates"
   ]
  },
  {
   "cell_type": "code",
   "execution_count": 215,
   "id": "7a0ab8f1",
   "metadata": {},
   "outputs": [],
   "source": [
    "filenames = get_component_filenames(ica_path, 'MM_NS')\n",
    "dates = extract_dates(filenames)"
   ]
  },
  {
   "cell_type": "code",
   "execution_count": 261,
   "id": "faf89aef",
   "metadata": {},
   "outputs": [],
   "source": [
    "A = np.zeros((len(dates), len(dates)), dtype='int64')\n",
    "for i in range(0, len(dates)):\n",
    "    for j in range(i + 1, len(dates)):\n",
    "        A[i][j] = checked_connection(dates[i], dates[j], filenames)\n",
    "        A[j][i] = A[i][j]"
   ]
  },
  {
   "cell_type": "code",
   "execution_count": 251,
   "id": "d81d543e",
   "metadata": {},
   "outputs": [],
   "source": [
    "for i in range(0, len(dates)):\n",
    "    for j in range(i + 1, len(dates)):\n",
    "        pass\n",
    "        #print(A[i][j])"
   ]
  },
  {
   "cell_type": "code",
   "execution_count": 257,
   "id": "7d43ad87",
   "metadata": {},
   "outputs": [
    {
     "ename": "LinAlgError",
     "evalue": "Singular matrix",
     "output_type": "error",
     "traceback": [
      "\u001b[0;31m---------------------------------------------------------------------------\u001b[0m",
      "\u001b[0;31mLinAlgError\u001b[0m                               Traceback (most recent call last)",
      "\u001b[0;32m<ipython-input-257-6c27d4b2abea>\u001b[0m in \u001b[0;36m<module>\u001b[0;34m\u001b[0m\n\u001b[0;32m----> 1\u001b[0;31m \u001b[0mAA\u001b[0m \u001b[0;34m=\u001b[0m \u001b[0mnp\u001b[0m\u001b[0;34m.\u001b[0m\u001b[0mlinalg\u001b[0m\u001b[0;34m.\u001b[0m\u001b[0minv\u001b[0m\u001b[0;34m(\u001b[0m\u001b[0mnp\u001b[0m\u001b[0;34m.\u001b[0m\u001b[0mtranspose\u001b[0m\u001b[0;34m(\u001b[0m\u001b[0mA\u001b[0m\u001b[0;34m)\u001b[0m\u001b[0;34m.\u001b[0m\u001b[0mdot\u001b[0m\u001b[0;34m(\u001b[0m\u001b[0mA\u001b[0m\u001b[0;34m)\u001b[0m\u001b[0;34m)\u001b[0m\u001b[0;34m.\u001b[0m\u001b[0mdot\u001b[0m\u001b[0;34m(\u001b[0m\u001b[0mnp\u001b[0m\u001b[0;34m.\u001b[0m\u001b[0mtranspose\u001b[0m\u001b[0;34m(\u001b[0m\u001b[0mA\u001b[0m\u001b[0;34m)\u001b[0m\u001b[0;34m)\u001b[0m\u001b[0;34m\u001b[0m\u001b[0;34m\u001b[0m\u001b[0m\n\u001b[0m",
      "\u001b[0;32m<__array_function__ internals>\u001b[0m in \u001b[0;36minv\u001b[0;34m(*args, **kwargs)\u001b[0m\n",
      "\u001b[0;32m~/miniconda3/lib/python3.9/site-packages/numpy/linalg/linalg.py\u001b[0m in \u001b[0;36minv\u001b[0;34m(a)\u001b[0m\n\u001b[1;32m    543\u001b[0m     \u001b[0msignature\u001b[0m \u001b[0;34m=\u001b[0m \u001b[0;34m'D->D'\u001b[0m \u001b[0;32mif\u001b[0m \u001b[0misComplexType\u001b[0m\u001b[0;34m(\u001b[0m\u001b[0mt\u001b[0m\u001b[0;34m)\u001b[0m \u001b[0;32melse\u001b[0m \u001b[0;34m'd->d'\u001b[0m\u001b[0;34m\u001b[0m\u001b[0;34m\u001b[0m\u001b[0m\n\u001b[1;32m    544\u001b[0m     \u001b[0mextobj\u001b[0m \u001b[0;34m=\u001b[0m \u001b[0mget_linalg_error_extobj\u001b[0m\u001b[0;34m(\u001b[0m\u001b[0m_raise_linalgerror_singular\u001b[0m\u001b[0;34m)\u001b[0m\u001b[0;34m\u001b[0m\u001b[0;34m\u001b[0m\u001b[0m\n\u001b[0;32m--> 545\u001b[0;31m     \u001b[0mainv\u001b[0m \u001b[0;34m=\u001b[0m \u001b[0m_umath_linalg\u001b[0m\u001b[0;34m.\u001b[0m\u001b[0minv\u001b[0m\u001b[0;34m(\u001b[0m\u001b[0ma\u001b[0m\u001b[0;34m,\u001b[0m \u001b[0msignature\u001b[0m\u001b[0;34m=\u001b[0m\u001b[0msignature\u001b[0m\u001b[0;34m,\u001b[0m \u001b[0mextobj\u001b[0m\u001b[0;34m=\u001b[0m\u001b[0mextobj\u001b[0m\u001b[0;34m)\u001b[0m\u001b[0;34m\u001b[0m\u001b[0;34m\u001b[0m\u001b[0m\n\u001b[0m\u001b[1;32m    546\u001b[0m     \u001b[0;32mreturn\u001b[0m \u001b[0mwrap\u001b[0m\u001b[0;34m(\u001b[0m\u001b[0mainv\u001b[0m\u001b[0;34m.\u001b[0m\u001b[0mastype\u001b[0m\u001b[0;34m(\u001b[0m\u001b[0mresult_t\u001b[0m\u001b[0;34m,\u001b[0m \u001b[0mcopy\u001b[0m\u001b[0;34m=\u001b[0m\u001b[0;32mFalse\u001b[0m\u001b[0;34m)\u001b[0m\u001b[0;34m)\u001b[0m\u001b[0;34m\u001b[0m\u001b[0;34m\u001b[0m\u001b[0m\n\u001b[1;32m    547\u001b[0m \u001b[0;34m\u001b[0m\u001b[0m\n",
      "\u001b[0;32m~/miniconda3/lib/python3.9/site-packages/numpy/linalg/linalg.py\u001b[0m in \u001b[0;36m_raise_linalgerror_singular\u001b[0;34m(err, flag)\u001b[0m\n\u001b[1;32m     86\u001b[0m \u001b[0;34m\u001b[0m\u001b[0m\n\u001b[1;32m     87\u001b[0m \u001b[0;32mdef\u001b[0m \u001b[0m_raise_linalgerror_singular\u001b[0m\u001b[0;34m(\u001b[0m\u001b[0merr\u001b[0m\u001b[0;34m,\u001b[0m \u001b[0mflag\u001b[0m\u001b[0;34m)\u001b[0m\u001b[0;34m:\u001b[0m\u001b[0;34m\u001b[0m\u001b[0;34m\u001b[0m\u001b[0m\n\u001b[0;32m---> 88\u001b[0;31m     \u001b[0;32mraise\u001b[0m \u001b[0mLinAlgError\u001b[0m\u001b[0;34m(\u001b[0m\u001b[0;34m\"Singular matrix\"\u001b[0m\u001b[0;34m)\u001b[0m\u001b[0;34m\u001b[0m\u001b[0;34m\u001b[0m\u001b[0m\n\u001b[0m\u001b[1;32m     89\u001b[0m \u001b[0;34m\u001b[0m\u001b[0m\n\u001b[1;32m     90\u001b[0m \u001b[0;32mdef\u001b[0m \u001b[0m_raise_linalgerror_nonposdef\u001b[0m\u001b[0;34m(\u001b[0m\u001b[0merr\u001b[0m\u001b[0;34m,\u001b[0m \u001b[0mflag\u001b[0m\u001b[0;34m)\u001b[0m\u001b[0;34m:\u001b[0m\u001b[0;34m\u001b[0m\u001b[0;34m\u001b[0m\u001b[0m\n",
      "\u001b[0;31mLinAlgError\u001b[0m: Singular matrix"
     ]
    }
   ],
   "source": [
    "AA = np.linalg.inv(np.transpose(A).dot(A)).dot(np.transpose(A))"
   ]
  }
 ],
 "metadata": {
  "kernelspec": {
   "display_name": "Python 3",
   "language": "python",
   "name": "python3"
  },
  "language_info": {
   "codemirror_mode": {
    "name": "ipython",
    "version": 3
   },
   "file_extension": ".py",
   "mimetype": "text/x-python",
   "name": "python",
   "nbconvert_exporter": "python",
   "pygments_lexer": "ipython3",
   "version": "3.9.0"
  }
 },
 "nbformat": 4,
 "nbformat_minor": 5
}

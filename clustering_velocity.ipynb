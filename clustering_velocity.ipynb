{
 "cells": [
  {
   "cell_type": "code",
   "execution_count": 2,
   "id": "58898c37",
   "metadata": {},
   "outputs": [],
   "source": [
    "import pandas as pd\n",
    "import numpy as np\n",
    "import os\n",
    "import matplotlib.pyplot as plt\n",
    "import csv\n",
    "from datetime import date, datetime\n",
    "import datetime\n",
    "from sklearn.cluster import KMeans\n",
    "from sklearn.decomposition import PCA, FastICA\n",
    "from sklearn.preprocessing import StandardScaler, MinMaxScaler\n",
    "from sklearn.preprocessing import RobustScaler\n",
    "from scipy.spatial.distance import euclidean\n",
    "from sklearn.feature_selection import f_regression\n",
    "from statsmodels.tsa.stattools import adfuller\n",
    "from sklearn.manifold import TSNE\n",
    "from DBCV import DBCV\n",
    "import hdbscan\n",
    "import csv\n",
    "import multiprocessing\n",
    "import itertools\n",
    "import operator\n",
    "import math\n",
    "from dtaidistance import dtw\n",
    "import seaborn as sns\n",
    "import json\n",
    "plt.style.use('fivethirtyeight')\n",
    "from osgeo import gdal \n",
    "from subprocess import Popen\n",
    "import simplekml\n",
    "import copy\n",
    "from sklearn.cluster import DBSCAN\n",
    "import numpy.ma as ma\n",
    "import rasterio\n",
    "from pyproj import Proj\n",
    "from affine import Affine\n",
    "from pyproj import Proj, transform"
   ]
  },
  {
   "cell_type": "code",
   "execution_count": 3,
   "id": "228732ac",
   "metadata": {},
   "outputs": [],
   "source": [
    "velocities_path = 'rasters/mpic/'\n",
    "mean_velocity_ns_filename = 'MM_Mean_velocity_NS_31TGK_20151227_to_20200906.tif'\n",
    "mean_velocity_ew_filename = 'MM_Mean_velocity_EW_31TGK_20151227_to_20200906.tif'\n",
    "analysis_quality_map_filename = 'MM_Analysis_quality_map_1126_lay_31TGK_20151227_to_20200906.tif'\n",
    "vector_coherence_filename = 'MM_Vector_coherence_31TGK_20151227_to_20200906.tif'\n",
    "mean_velocity_magnitude_filename = 'MM_Mean_veloc_magnitude_31TGK_20151227_to_20200906.tif'"
   ]
  },
  {
   "cell_type": "code",
   "execution_count": 4,
   "id": "5f4da733",
   "metadata": {},
   "outputs": [],
   "source": [
    "inpath = 'rasters/mpic/'\n",
    "input_filenames = [mean_velocity_ns_filename, mean_velocity_ew_filename, mean_velocity_magnitude_filename, vector_coherence_filename]\n",
    "output_filenames  = ['velocity_NS', 'velocity_EW', 'veloc_magnitude', 'Vector_coherence']"
   ]
  },
  {
   "cell_type": "code",
   "execution_count": 7,
   "id": "be7c0822",
   "metadata": {},
   "outputs": [],
   "source": [
    "ns_velocities_rasterio = rasterio.open(velocities_path + mean_velocity_ns_filename)\n",
    "ns_velocities_raster = gdal.Open(velocities_path + mean_velocity_ns_filename)\n",
    "ew_velocities_raster = gdal.Open(velocities_path + mean_velocity_ew_filename)\n",
    "analysis_quality_raster = gdal.Open(velocities_path + analysis_quality_map_filename)\n",
    "vector_coherence_raster = gdal.Open(velocities_path + vector_coherence_filename)\n",
    "velocity_magnitude_raster = gdal.Open(velocities_path + mean_velocity_magnitude_filename)"
   ]
  },
  {
   "cell_type": "code",
   "execution_count": 8,
   "id": "3322745c",
   "metadata": {},
   "outputs": [],
   "source": [
    "ns_velocities = ns_velocities_raster.GetRasterBand(1).ReadAsArray()\n",
    "ew_velocities = ew_velocities_raster.GetRasterBand(1).ReadAsArray()\n",
    "analysis_quality = analysis_quality_raster.GetRasterBand(1).ReadAsArray()\n",
    "vector_coherence = vector_coherence_raster.GetRasterBand(1).ReadAsArray()\n",
    "velocity_magnitude_g = velocity_magnitude_raster.GetRasterBand(1).ReadAsArray()"
   ]
  },
  {
   "cell_type": "code",
   "execution_count": 9,
   "id": "f77be6d9",
   "metadata": {},
   "outputs": [],
   "source": [
    "class Raster():\n",
    "    \n",
    "    def __init__(self):\n",
    "        pass\n",
    "    \n",
    "    def split_raster2(self, in_path, input_filename, output_filename, x_pixel_step, y_pixel_step):\n",
    "\n",
    "        ds = gdal.Open(in_path + input_filename)\n",
    "        xsize = ds.RasterXSize\n",
    "        ysize = ds.RasterYSize\n",
    "        \n",
    "        n_count = 0\n",
    "        for i in range(0, xsize, x_pixel_step):\n",
    "            for j in range(0, ysize, y_pixel_step):\n",
    "                print(i,j, n_count)\n",
    "                com_string = \"gdal_translate -of GTIFF -srcwin \" + str(i)+ \", \" + str(j) + \", \" + str(x_pixel_step) + \", \" + str(y_pixel_step) + \" \" + str(in_path) + str(input_filename) + \" \" + str(in_path) + 'split_' + str(output_filename) + '_' + str(n_count) + \".tif\"\n",
    "                os.system(com_string)\n",
    "                n_count += 1\n",
    "    \n",
    "    def split_raster(self, in_path, input_filename, output_filename, n_split=5):\n",
    "\n",
    "        ds = gdal.Open(in_path + input_filename)\n",
    "        band = ds.GetRasterBand(1)\n",
    "        xsize = band.XSize\n",
    "        ysize = band.YSize\n",
    "\n",
    "        tile_size_x = math.ceil(xsize / n_split)\n",
    "        tile_size_y = ysize # on découpe le raster verticalement !\n",
    "        n_count = 0\n",
    "        for i in range(0, xsize, tile_size_x):\n",
    "            for j in range(0, ysize, tile_size_y):\n",
    "                com_string = \"gdal_translate -of GTIFF -srcwin \" + str(i)+ \", \" + str(j) + \", \" + str(tile_size_x) + \", \" + str(tile_size_y) + \" \" + str(in_path) + str(input_filename) + \" \" + str(in_path) + 'split_' + str(output_filename) + '_' + str(n_count) + \".tif\"\n",
    "                os.system(com_string)\n",
    "                n_count += 1\n",
    "        ds = None\n",
    "        \n",
    "    def split_rasters2(self, in_path, input_filenames, output_filenames,  x_pixel_step=3323, y_pixel_step=371):\n",
    "        for input_filename, output_filename in zip(input_filenames, output_filenames):\n",
    "            self.split_raster2(in_path, input_filename, output_filename, x_pixel_step=x_pixel_step, y_pixel_step=y_pixel_step)\n",
    "\n",
    "    def split_rasters(self, in_path, input_filenames, output_filenames, n_split=5):\n",
    "        for input_filename, output_filename in zip(input_filenames, output_filenames):\n",
    "            self.split_raster(in_path, input_filename, output_filename, n_split=n_split)\n",
    "        \n",
    "    def load_split_rasters(self, in_path, output_filenames, n_splits=5):\n",
    "        rasters, filenames_to_load = [], []\n",
    "        for output_filename in output_filenames:\n",
    "            filenames_to_load.append(['split_' + output_filename + '_' + str(n) + '.tif' for n in range(n_splits)])\n",
    "        for n in range(n_splits):\n",
    "            files = [rasterio.open(in_path + files[n]) for files in filenames_to_load]\n",
    "            rasters.append(tuple(files))\n",
    "        return rasters\n",
    "    \n",
    "    def getBoxBounds(self, raster):\n",
    "        min_y = raster.bounds.bottom\n",
    "        max_y = raster.bounds.top\n",
    "        min_x = raster.bounds.left\n",
    "        max_x = raster.bounds.right\n",
    "        min_lat, min_lon = proj(min_x, min_y, inverse=True)\n",
    "        max_lat, max_lon = proj(max_x, max_y, inverse=True)\n",
    "        return (min_x, min_y, max_x, max_y), (min_lon, min_lat, max_lon, max_lat)\n",
    "    \n",
    "    def compute_slope_azimuth_map(self, dem_path, output_name):\n",
    "        dem = gdal.Open(dem_path)\n",
    "        slope_map = gdal.DEMProcessing('rasters/azimuths/' + output_name + '.tif', dem, 'aspect', computeEdges = True, trigonometric=False)\n",
    "        dem = None\n",
    "        slope_map = None\n",
    "        \n",
    "    def compute_slope_map(self, dem_path, output_name):\n",
    "        dem = gdal.Open(dem_path)\n",
    "        slope_map = gdal.DEMProcessing('rasters/slopes/' + output_name + '.tif', dem, 'slope', computeEdges = True)\n",
    "        dem = None\n",
    "        slope_map = None\n",
    "        \n",
    "    def compute_slope_azimuth_map_from_scratch():\n",
    "        pass\n",
    "    \n",
    "    def extract_value_from_raster(self, lat, lon, file, ref='wgs84'):\n",
    "        val = os.popen('gdallocationinfo -valonly -%s %s %f %f' % (ref, file, lat, lon)).read()\n",
    "        if len(val) == 0:\n",
    "            raise ValueError('La valeur est non valide !')\n",
    "        return float(val)\n",
    "    \n",
    "    def generate_shapefile(self, raster_in_path, shapefile_out_path):\n",
    "        cmd = [\"gdaltindex\", shapefile_out_path, raster_in_path]\n",
    "        subprocess.run(cmd1)\n",
    "        \n",
    "    def get_raster_resolution(self, raster):\n",
    "        xres, yres = rasterio.open(raster).res\n",
    "        return xres, yres\n",
    "    \n",
    "    def cut_raster(raster_output, shapefile_output, xres, yres):\n",
    "        small_raster = gdal.Warp(raster_output, ds, cutlineDSName=shapefile_output, cropToCutline=True, dstNodata=np.nan, xRes=pxsz, yRes=pysz, resampleAlg='cubic')\n",
    "        small_raster = None\n",
    "    \n",
    "    def split_raster3(self, in_path, input_filename, output_filename, x_pixel_step, y_pixel_step):\n",
    "        raster = gdal.Open(in_path + input_filename)\n",
    "        gt = raster.GetGeoTransform()\n",
    "        \n",
    "        xmin = gt[0]\n",
    "        ymax = gt[3]\n",
    "        res = gt[1]\n",
    "        xlen = res * raster.RasterXSize\n",
    "        ylen = res * raster.RasterYSize\n",
    "\n",
    "        xsize = x_pixel_step * res\n",
    "        ysize = y_pixel_step * res\n",
    "\n",
    "        xnsplits = int(raster.RasterXSize / x_pixel_step)\n",
    "        ynsplits = int(raster.RasterYSize / y_pixel_step)\n",
    "\n",
    "        xsteps = [xmin + xsize * i for i in range(xnsplits + 1)]\n",
    "        ysteps = [ymax - ysize * i for i in range(ynsplits + 1)]\n",
    "    \n",
    "        n_count = 0\n",
    "        for i in range(xnsplits):\n",
    "            for j in range(ynsplits):\n",
    "                xmin_ = xsteps[i]\n",
    "                xmax_ = xsteps[i + 1]\n",
    "                ymax_ = ysteps[j]\n",
    "                ymin_ = ysteps[j + 1]\n",
    "                print(xmin_, xmax_, ymin_, ymax_)\n",
    "                #gdal.Warp(raster_filename + str(i) + str(j) + '.tif', raster, outputBounds=(xmin_, xmax_, ymin_, ymax_), dstNodata=-9999)\n",
    "                gdal.Translate(inpath + 'split_' + output_filename + '_' + str(n_count) + '.tif', raster, projWin=(xmin_, ymax_, xmax_, ymin_))\n",
    "                n_count += 1\n",
    "        raster = None\n",
    "        \n",
    "                \n",
    "    def split_rasters3(self, in_path, input_filenames, output_filenames,  x_pixel_step=3323, y_pixel_step=371):\n",
    "        for input_filename, output_filename in zip(input_filenames, output_filenames):\n",
    "            self.split_raster3(in_path, input_filename, output_filename, x_pixel_step, y_pixel_step)\n",
    "            \n",
    "            \n",
    "    def from_utm_to_lat_lon(self, filename):\n",
    "        # Read raster\n",
    "        with rasterio.open(filename) as r:\n",
    "            T0 = r.transform  # upper-left pixel corner affine transform\n",
    "            p1 = Proj(r.crs)\n",
    "            A = r.read()  # pixel values\n",
    "\n",
    "        # All rows and columns\n",
    "        cols, rows = np.meshgrid(np.arange(A.shape[2]), np.arange(A.shape[1]))\n",
    "\n",
    "        # Get affine transform for pixel centres\n",
    "        T1 = T0 * Affine.translation(0.5, 0.5)\n",
    "        # Function to convert pixel row/column index (from 0) to easting/northing at centre\n",
    "        rc2en = lambda r, c: (c, r) * T1\n",
    "\n",
    "        # All eastings and northings (there is probably a faster way to do this)\n",
    "        eastings, northings = np.vectorize(rc2en, otypes=[float, float])(rows, cols)\n",
    "\n",
    "        # Project all longitudes, latitudes\n",
    "        p2 = Proj(proj='latlong',datum='WGS84')\n",
    "        lats, lons = transform(p1, p2, eastings, northings)\n",
    "\n",
    "        return lats, lons\n",
    "    \n",
    "    def compute_azimuths(self, raster_azimuth_name, raster_ns_vel_name, raster_ew_vel_name):\n",
    "        gdal_azimuths = rasterio.open(raster_azimuth_name).read(1)\n",
    "        ns_velocities = rasterio.open(raster_ns_vel_name).read(1)\n",
    "        ew_velocities = rasterio.open(raster_ew_vel_name).read(1)\n",
    "        azimuths = np.arctan2(ew_velocities, ns_velocities)\n",
    "        azimuths = np.where(azimuths >= 0, azimuths, azimuths + 2 * np.pi)\n",
    "        azimuths = np.degrees(azimuths)\n",
    "        #azimuths_mask = np.logical_and(azimuths > gdal_azimuths - tol, azimuths < gdal_azimuths + tol)\n",
    "        return gdal_azimuths, azimuths"
   ]
  },
  {
   "cell_type": "code",
   "execution_count": 1,
   "id": "3986a076",
   "metadata": {},
   "outputs": [],
   "source": [
    "def convert_to_lat_lon(x, y, epsg_code='32631'):\n",
    "    proj = Proj(\"epsg:\" + epsg_code, preserve_units=False)\n",
    "    return p(x, y, inverse=True)\n",
    "\n",
    "def compute_lat_lon_matrix(raster):\n",
    "    latitudes, longitudes = [], []\n",
    "    for i in range(raster.height):\n",
    "        for j in range(raster.width):\n",
    "            utms = raster.transform * (i, j)\n",
    "            lat, lon = convert_to_lat_lon(utms[0], utms[1])\n",
    "            latitudes.append(lat)\n",
    "            longitudes.append(lon)\n",
    "    return np.array(latitudes).reshape(raster.height, raster.width), np.array(longitudes).reshape(raster.height, raster.width)\n",
    "\n",
    "def generate_kml_file(latitudes, longitudes, color, zone, filename):\n",
    "    \n",
    "    url = 'http://maps.google.com/mapfiles/ms/micons/'\n",
    "    kml = simplekml.Kml()\n",
    "    for latitude, longitude in zip(latitudes, longitudes):\n",
    "        pnt = kml.newpoint(description='', coords=[(latitude, longitude)])\n",
    "        pnt.iconstyle.icon.href = url + color + '-dot.png'\n",
    "    kml.save('Resultats/zone' + str(zone) + '/' + filename + '.kml')\n",
    "    \n",
    "    \n",
    "def generate_kml_file2(latitudes, longitudes, color, filename):\n",
    "    \n",
    "    url = 'http://maps.google.com/mapfiles/ms/micons/'\n",
    "    kml = simplekml.Kml()\n",
    "    for latitude, longitude in zip(latitudes, longitudes):\n",
    "        pnt = kml.newpoint(description='', coords=[(latitude, longitude)])\n",
    "        pnt.iconstyle.icon.href = url + color + '-dot.png'\n",
    "    kml.save('Resultats/' + filename + '.kml')\n",
    "\n",
    "    \n",
    "def generate_kml_file_ll(latitudes, longitudes, labels):\n",
    "    if labels.max() > -1:\n",
    "        icones = generate_icones2()\n",
    "        dense_cluster_labels = get_important_labels(labels)\n",
    "        kml=simplekml.Kml()\n",
    "        fol = kml.newfolder(name=\"HDBSCAN Clustering\")\n",
    "        for n in range(latitudes.shape[0]):\n",
    "            pnt = None\n",
    "            if labels[n] > -1:\n",
    "                pnt = fol.newpoint(description='', coords=[(latitudes[n], longitudes[n])])\n",
    "                if labels[n] in dense_cluster_labels:\n",
    "                    ind = dense_cluster_labels.index(labels[n])\n",
    "                    pnt.iconstyle.icon.href = icones[ind]\n",
    "                else:\n",
    "                    pnt.iconstyle.icon.href = icones[-1]\n",
    "        kml.save('Resultats/clustering_results.kml')\n",
    "        print('ok finished')\n",
    "    else:\n",
    "        print('Hdbscan only found outliers. kml file cannot be generated !')\n",
    "            \n",
    "def generate_icones2():\n",
    "    base = 'http://maps.google.com/mapfiles/ms/micons/'\n",
    "    colors = ['blue', 'red', 'yellow', 'green', 'orange', 'purple', 'pink']\n",
    "    return [base + color + '-dot.png' for color in (colors + ['ltblue'])[:]] + [base + color + '.png' for color in (colors + ['lightblue'])[:]]\n",
    "\n",
    "def get_important_labels(labels, n_classes=15):\n",
    "    classes = []\n",
    "    unique, counts = np.unique(labels, return_counts=True)\n",
    "    sort_labels = sorted(dict(zip(unique, counts)).items(), key=lambda x: x[1], reverse=True)\n",
    "    for label, count in sort_labels:\n",
    "        if label > -1 and len(classes) < n_classes:\n",
    "            classes.append(label)\n",
    "    return classes"
   ]
  },
  {
   "cell_type": "markdown",
   "id": "a175a4bb",
   "metadata": {},
   "source": [
    "# Clustering des vitesses"
   ]
  },
  {
   "cell_type": "code",
   "execution_count": 14,
   "id": "6d8c7e9c",
   "metadata": {},
   "outputs": [],
   "source": [
    "# zone 1 (zone de lavalette)\n",
    "magnitude_veloc_zone1 = rasterio.open('rasters/mpic/zones/zone1/veloc_magnitude.tif')\n",
    "coherence_zone1 =  rasterio.open('rasters/mpic/zones/zone1/Vector_coherence.tif')\n",
    "ew_veloc_zone1 =  rasterio.open('rasters/mpic/zones/zone1/velocity_EW.tif')\n",
    "ns_veloc_zone1 =  rasterio.open('rasters/mpic/zones/zone1/velocity_NS.tif')\n",
    "slopes_zone1 = rasterio.open('rasters/slopes/validation_zone1.tif')\n",
    "mnt_azimuth_zone1, azimuths_zone1 = Raster().compute_azimuths('rasters/azimuths/validation_zone1.tif', 'rasters/mpic/zones/zone1/velocity_NS.tif', 'rasters/mpic/zones/zone1/velocity_EW.tif')\n",
    "\n",
    "\n",
    "# zone 2 (zone au nord de la lavalette, pente abrupte et absence de végétation)\n",
    "magnitude_veloc_zone2 = rasterio.open('rasters/mpic/zones/zone2/veloc_magnitude.tif')\n",
    "coherence_zone2 =  rasterio.open('rasters/mpic/zones/zone2/Vector_coherence.tif')\n",
    "ew_veloc_zone2 =  rasterio.open('rasters/mpic/zones/zone2/velocity_EW.tif')\n",
    "ns_veloc_zone2 =  rasterio.open('rasters/mpic/zones/zone2/velocity_NS.tif')\n",
    "\n",
    "# zone 3 (contenant le polygone 6)\n",
    "magnitude_veloc_zone3 = rasterio.open('rasters/mpic/zones/zone3/veloc_magnitude.tif')\n",
    "coherence_zone3 =  rasterio.open('rasters/mpic/zones/zone3/Vector_coherence.tif')\n",
    "ew_veloc_zone3 =  rasterio.open('rasters/mpic/zones/zone3/velocity_EW.tif')\n",
    "ns_veloc_zone3 =  rasterio.open('rasters/mpic/zones/zone3/velocity_NS.tif')\n",
    "\n",
    "# zone 4 (la cohérence est nulle sur cette zone)\n",
    "magnitude_veloc_zone4 = rasterio.open('rasters/mpic/zones/zone4/veloc_magnitude.tif')\n",
    "coherence_zone4 =  rasterio.open('rasters/mpic/zones/zone4/Vector_coherence.tif')\n",
    "ew_veloc_zone4 =  rasterio.open('rasters/mpic/zones/zone4/velocity_EW.tif')\n",
    "ns_veloc_zone4 =  rasterio.open('rasters/mpic/zones/zone4/velocity_NS.tif')"
   ]
  },
  {
   "cell_type": "markdown",
   "id": "20941ba4",
   "metadata": {},
   "source": [
    "# Statistiques"
   ]
  },
  {
   "cell_type": "code",
   "execution_count": 15,
   "id": "2bc299d6",
   "metadata": {},
   "outputs": [
    {
     "name": "stderr",
     "output_type": "stream",
     "text": [
      "<ipython-input-15-a8d06d577bbd>:8: MatplotlibDeprecationWarning: Case-insensitive properties were deprecated in 3.3 and support will be removed two minor releases later\n",
      "  plt.title('Pourcentage de valeurs de cohérence nulle par zone', fontSize=15)\n"
     ]
    },
    {
     "data": {
      "image/png": "[encoded data removed]",
      "text/plain": [
       "<Figure size 432x288 with 1 Axes>"
      ]
     },
     "metadata": {},
     "output_type": "display_data"
    }
   ],
   "source": [
    "zeros_zones = {'zone ' + str(i+1): 0 for i in range(4)}\n",
    "for zone, raster in zip(zeros_zones.keys(), [coherence_zone1, coherence_zone2, coherence_zone3, coherence_zone4]):\n",
    "    n_samples = raster.read(1).flatten().shape[0]\n",
    "    n_zeros = np.count_nonzero(raster.read(1).flatten() == 0.0)\n",
    "    zeros_zones[zone] = 100 * n_zeros / n_samples\n",
    "\n",
    "plt.bar(*zip(*zeros_zones.items()))\n",
    "plt.title('Pourcentage de valeurs de cohérence nulle par zone', fontSize=15)\n",
    "plt.show()"
   ]
  },
  {
   "cell_type": "code",
   "execution_count": 251,
   "id": "3f774f66",
   "metadata": {},
   "outputs": [
    {
     "data": {
      "image/png": "[encoded data removed]",
      "text/plain": [
       "<Figure size 432x288 with 1 Axes>"
      ]
     },
     "metadata": {},
     "output_type": "display_data"
    }
   ],
   "source": [
    "plt.boxplot(magnitude_veloc_zone1.read(1).flatten())\n",
    "plt.show()"
   ]
  },
  {
   "cell_type": "code",
   "execution_count": 21,
   "id": "f5a9eb51",
   "metadata": {},
   "outputs": [
    {
     "name": "stderr",
     "output_type": "stream",
     "text": [
      "<ipython-input-9-805a1b29a76f>:147: DeprecationWarning: Right multiplication will be prohibited in version 3.0\n",
      "  rc2en = lambda r, c: (c, r) * T1\n",
      "<ipython-input-9-805a1b29a76f>:154: DeprecationWarning: This function is deprecated. See: https://pyproj4.github.io/pyproj/stable/gotchas.html#upgrading-to-pyproj-2-from-pyproj-1\n",
      "  lats, lons = transform(p1, p2, eastings, northings)\n"
     ]
    }
   ],
   "source": [
    "min_cluster_size = 50\n",
    "min_samples = 100\n",
    "\n",
    "fname = 'rasters/mpic/zones/zone1/veloc_magnitude.tif'\n",
    "lats, lons = Raster().from_utm_to_lat_lon(fname)\n",
    "lats = lats.flatten()\n",
    "lons = lons.flatten()\n",
    "std_vel = np.nanstd(magnitude_veloc_zone1.read(1))\n",
    "#mask = raster.read(1) > max_coherence / 100000000000\n",
    "#mask = raster.read(1) > 1.5 * std_vel\n",
    "tol = 80\n",
    "azmth = azimuths_zone1.flatten()\n",
    "mnt_azmth = mnt_azimuth_zone1.flatten()\n",
    "mask = (magnitude_veloc_zone1.read(1).flatten() > 1.5 * std_vel) & np.logical_and(azmth < mnt_azmth + tol,  azmth > mnt_azmth - tol)\n",
    "mask = mask.flatten()\n",
    "\n",
    "lats_r = np.radians(lats[mask])\n",
    "lons_r = np.radians(lons[mask])\n",
    "X = np.stack((lats_r, lons_r), axis=-1)\n",
    "\n",
    "#generate_kml_file2(lats[mask], lons[mask], 'yellow', 'filtering')\n",
    "clustering_results = hdbscan.HDBSCAN(min_cluster_size=min_cluster_size, min_samples=None,  gen_min_span_tree=True, metric='haversine').fit(X)"
   ]
  },
  {
   "cell_type": "code",
   "execution_count": 22,
   "id": "074ab476",
   "metadata": {},
   "outputs": [
    {
     "name": "stdout",
     "output_type": "stream",
     "text": [
      "ok finished\n"
     ]
    }
   ],
   "source": [
    "generate_kml_file_ll(lats[mask], lons[mask], clustering_results.labels_)"
   ]
  },
  {
   "cell_type": "markdown",
   "id": "8fcd35dd",
   "metadata": {},
   "source": [
    "# Clustering et Detection"
   ]
  },
  {
   "cell_type": "code",
   "execution_count": 261,
   "id": "5f459ed2",
   "metadata": {},
   "outputs": [],
   "source": [
    "class Clustering():\n",
    "    def __init__(self, raster_vel_name, raster_ns_vel_name, raster_ew_vel_name, raster_coherence_name, raster_slope_name, raster_azimuth_name):\n",
    "        mnt_azimuths, azimuths = Raster().compute_azimuths(raster_azimuth_name, raster_ns_vel_name, raster_ew_vel_name)\n",
    "        latitudes, longitudes = Raster().from_utm_to_lat_lon(raster_vel_name)\n",
    "        self.velocities = rasterio.open(raster_vel_name).read(1).flatten()\n",
    "        self.ns_velocities = rasterio.open(raster_ns_vel_name).read(1).flatten()\n",
    "        self.ew_velocities = rasterio.open(raster_ew_vel_name).read(1).flatten()\n",
    "        self.coherences = rasterio.open(raster_coherence_name).read(1).flatten()\n",
    "        self.slopes = rasterio.open(raster_slope_name).read(1).flatten()\n",
    "        self.mnt_azimuths = mnt_azimuths.flatten()\n",
    "        self.azimuths = azimuths.flatten()\n",
    "        self.latitudes = latitudes.flatten()\n",
    "        self.longitudes = longitudes.flatten()\n",
    "        self.std_vel = np.nanstd(self.velocities)\n",
    "        self.clustering_results = None\n",
    "        self.cluster_member_indexes = None\n",
    "        self.velocities_mask = None\n",
    "        self.slopes_mask = None\n",
    "\n",
    "    def set_slopes_mask(self, slopes_mask):\n",
    "        self.slopes_mask = slopes_mask\n",
    "        \n",
    "    def set_velocities_mask(self, velocities_mask):\n",
    "        self.velocities_mask = velocities_mask\n",
    "        \n",
    "    def set_clustering_results(self, clustering_results):\n",
    "        self.clustering_results = clustering_results\n",
    "        \n",
    "    def set_cluster_member_indexes(self, cluster_member_indexes):\n",
    "        self.cluster_member_indexes = cluster_member_indexes\n",
    "        \n",
    "    def filter(self):\n",
    "        pass\n",
    "    \n",
    "    def cluster(self, factor=2, min_cluster_size=50, min_samples=None, metric='haversine'):\n",
    "        mask = np.absolute(self.velocities) > factor * self.std_vel\n",
    "        mask = mask.flatten()\n",
    "        \n",
    "        lats_r = np.radians(self.latitudes[mask])\n",
    "        lons_r = np.radians(self.longitudes[mask])\n",
    "\n",
    "        X = np.stack((lats_r, lons_r), axis=-1)\n",
    "        clustering_results = hdbscan.HDBSCAN(min_cluster_size=min_cluster_size, min_samples=min_samples,  gen_min_span_tree=True, metric=metric).fit(X)\n",
    "        \n",
    "        self.set_clustering_results(clustering_results)\n",
    "        #self.set_cluster_member_indexes()\n",
    "        \n",
    "        return self.latitudes[mask], self.longitudes[mask], clustering_results\n",
    "    \n",
    "    def filter_slopes(self, min_slope=15):\n",
    "        labels = self.clustering_results.label_\n",
    "        mask = self.slopes > min_slope\n",
    "        n_clusters = labels.max() + 1 if labels.max() > -1 else 0\n",
    "        \n",
    "    \n",
    "    def compute_statistiques(self, clustering_results, tol=60):\n",
    "        labels = clustering_results.labels_\n",
    "        n_clusters = labels.max() + 1 if labels.max() > -1 else 0\n",
    "        cluster_members_index = [np.where(labels == label) for label in np.unique(labels)]\n",
    "        if labels.min() < 0:\n",
    "            cluster_members_index = cluster_members_index[1:]\n",
    "        \n",
    "        mean_cluster_velocities = []\n",
    "        mean_cluster_coherences = []\n",
    "        std_cluster_delta_azimuths = []\n",
    "        percentage_valid = []\n",
    "        mean_cluster_slopes = []\n",
    "\n",
    "        # statistiques \n",
    "        for n in range(n_clusters):\n",
    "            cluster = cluster_members_index[n][0]\n",
    "            print(cluster.shape[0])\n",
    "            mean_cluster_velocities.append(self.velocities[cluster].mean())\n",
    "            mean_cluster_coherences.append(self.coherences[cluster].mean())\n",
    "            mean_cluster_slopes.append(self.slopes[cluster].mean())\n",
    "            mnt_azimuths = self.mnt_azimuths[cluster]\n",
    "            azimuths = self.azimuths[cluster]\n",
    "            azimuths_mask = np.logical_and(azimuths > mnt_azimuths - tol, azimuths < mnt_azimuths + tol)\n",
    "            percentage = 100 * np.count_nonzero(azimuths_mask) /  azimuths_mask.shape[0]\n",
    "            percentage_valid.append(percentage)\n",
    "            #std_cluster_delta_azimuths.append((mnt_azimuths - azimuths).std())\n",
    "        return mean_cluster_velocities, mean_cluster_coherences, mean_cluster_slopes, percentage_valid"
   ]
  },
  {
   "cell_type": "code",
   "execution_count": 253,
   "id": "204745cb",
   "metadata": {},
   "outputs": [],
   "source": [
    "raster_vel_name = 'rasters/mpic/zones/zone1/veloc_magnitude.tif'\n",
    "raster_ew_vel_name = 'rasters/mpic/zones/zone1/velocity_EW.tif'\n",
    "raster_ns_vel_name = 'rasters/mpic/zones/zone1/velocity_NS.tif'\n",
    "raster_coherence_name = 'rasters/mpic/zones/zone1/Vector_coherence.tif'\n",
    "raster_slope_name = 'rasters/slopes/validation_zone1.tif'\n",
    "raster_azimuth_name = 'rasters/azimuths/validation_zone1.tif'"
   ]
  },
  {
   "cell_type": "code",
   "execution_count": 262,
   "id": "d6edd0bc",
   "metadata": {},
   "outputs": [
    {
     "name": "stderr",
     "output_type": "stream",
     "text": [
      "<ipython-input-63-805a1b29a76f>:147: DeprecationWarning: Right multiplication will be prohibited in version 3.0\n",
      "  rc2en = lambda r, c: (c, r) * T1\n",
      "<ipython-input-63-805a1b29a76f>:154: DeprecationWarning: This function is deprecated. See: https://pyproj4.github.io/pyproj/stable/gotchas.html#upgrading-to-pyproj-2-from-pyproj-1\n",
      "  lats, lons = transform(p1, p2, eastings, northings)\n"
     ]
    }
   ],
   "source": [
    "clustering = Clustering(raster_vel_name, raster_ns_vel_name, raster_ew_vel_name, raster_coherence_name, raster_slope_name, raster_azimuth_name)"
   ]
  },
  {
   "cell_type": "code",
   "execution_count": 263,
   "id": "ee936b77",
   "metadata": {},
   "outputs": [],
   "source": [
    "latitudes, longitudes, clustering_results = clustering.cluster(min_cluster_size=50)"
   ]
  },
  {
   "cell_type": "code",
   "execution_count": 264,
   "id": "5f3e807e",
   "metadata": {},
   "outputs": [
    {
     "ename": "KeyboardInterrupt",
     "evalue": "",
     "output_type": "error",
     "traceback": [
      "\u001b[0;31m---------------------------------------------------------------------------\u001b[0m",
      "\u001b[0;31mKeyboardInterrupt\u001b[0m                         Traceback (most recent call last)",
      "\u001b[0;32m<ipython-input-264-bea1477aa46a>\u001b[0m in \u001b[0;36m<module>\u001b[0;34m\u001b[0m\n\u001b[0;32m----> 1\u001b[0;31m \u001b[0mgenerate_kml_file_ll\u001b[0m\u001b[0;34m(\u001b[0m\u001b[0mlatitudes\u001b[0m\u001b[0;34m,\u001b[0m \u001b[0mlongitudes\u001b[0m\u001b[0;34m,\u001b[0m \u001b[0mclustering_results\u001b[0m\u001b[0;34m.\u001b[0m\u001b[0mlabels_\u001b[0m\u001b[0;34m)\u001b[0m\u001b[0;34m\u001b[0m\u001b[0;34m\u001b[0m\u001b[0m\n\u001b[0m",
      "\u001b[0;32m<ipython-input-7-968c0101eee6>\u001b[0m in \u001b[0;36mgenerate_kml_file_ll\u001b[0;34m(latitudes, longitudes, labels)\u001b[0m\n\u001b[1;32m     45\u001b[0m                 \u001b[0;32mif\u001b[0m \u001b[0mlabels\u001b[0m\u001b[0;34m[\u001b[0m\u001b[0mn\u001b[0m\u001b[0;34m]\u001b[0m \u001b[0;32min\u001b[0m \u001b[0mdense_cluster_labels\u001b[0m\u001b[0;34m:\u001b[0m\u001b[0;34m\u001b[0m\u001b[0;34m\u001b[0m\u001b[0m\n\u001b[1;32m     46\u001b[0m                     \u001b[0mind\u001b[0m \u001b[0;34m=\u001b[0m \u001b[0mdense_cluster_labels\u001b[0m\u001b[0;34m.\u001b[0m\u001b[0mindex\u001b[0m\u001b[0;34m(\u001b[0m\u001b[0mlabels\u001b[0m\u001b[0;34m[\u001b[0m\u001b[0mn\u001b[0m\u001b[0;34m]\u001b[0m\u001b[0;34m)\u001b[0m\u001b[0;34m\u001b[0m\u001b[0;34m\u001b[0m\u001b[0m\n\u001b[0;32m---> 47\u001b[0;31m                     \u001b[0mpnt\u001b[0m\u001b[0;34m.\u001b[0m\u001b[0miconstyle\u001b[0m\u001b[0;34m.\u001b[0m\u001b[0micon\u001b[0m\u001b[0;34m.\u001b[0m\u001b[0mhref\u001b[0m \u001b[0;34m=\u001b[0m \u001b[0micones\u001b[0m\u001b[0;34m[\u001b[0m\u001b[0mind\u001b[0m\u001b[0;34m]\u001b[0m\u001b[0;34m\u001b[0m\u001b[0;34m\u001b[0m\u001b[0m\n\u001b[0m\u001b[1;32m     48\u001b[0m                 \u001b[0;32melse\u001b[0m\u001b[0;34m:\u001b[0m\u001b[0;34m\u001b[0m\u001b[0;34m\u001b[0m\u001b[0m\n\u001b[1;32m     49\u001b[0m                     \u001b[0mpnt\u001b[0m\u001b[0;34m.\u001b[0m\u001b[0miconstyle\u001b[0m\u001b[0;34m.\u001b[0m\u001b[0micon\u001b[0m\u001b[0;34m.\u001b[0m\u001b[0mhref\u001b[0m \u001b[0;34m=\u001b[0m \u001b[0micones\u001b[0m\u001b[0;34m[\u001b[0m\u001b[0;34m-\u001b[0m\u001b[0;36m1\u001b[0m\u001b[0;34m]\u001b[0m\u001b[0;34m\u001b[0m\u001b[0;34m\u001b[0m\u001b[0m\n",
      "\u001b[0;32m~/miniconda3/envs/sdsc_stage/lib/python3.9/site-packages/simplekml/featgeom.py\u001b[0m in \u001b[0;36miconstyle\u001b[0;34m(self)\u001b[0m\n\u001b[1;32m    961\u001b[0m     \u001b[0;32mdef\u001b[0m \u001b[0miconstyle\u001b[0m\u001b[0;34m(\u001b[0m\u001b[0mself\u001b[0m\u001b[0;34m)\u001b[0m\u001b[0;34m:\u001b[0m\u001b[0;34m\u001b[0m\u001b[0;34m\u001b[0m\u001b[0m\n\u001b[1;32m    962\u001b[0m         \u001b[0;34m\"\"\"IconStyle of the feature, accepts :class:`simplekml.IconStyle`\"\"\"\u001b[0m\u001b[0;34m\u001b[0m\u001b[0;34m\u001b[0m\u001b[0m\n\u001b[0;32m--> 963\u001b[0;31m         \u001b[0;32mreturn\u001b[0m \u001b[0mself\u001b[0m\u001b[0;34m.\u001b[0m\u001b[0mstyle\u001b[0m\u001b[0;34m.\u001b[0m\u001b[0miconstyle\u001b[0m\u001b[0;34m\u001b[0m\u001b[0;34m\u001b[0m\u001b[0m\n\u001b[0m\u001b[1;32m    964\u001b[0m \u001b[0;34m\u001b[0m\u001b[0m\n\u001b[1;32m    965\u001b[0m     \u001b[0;34m@\u001b[0m\u001b[0miconstyle\u001b[0m\u001b[0;34m.\u001b[0m\u001b[0msetter\u001b[0m\u001b[0;34m\u001b[0m\u001b[0;34m\u001b[0m\u001b[0m\n",
      "\u001b[0;32m~/miniconda3/envs/sdsc_stage/lib/python3.9/site-packages/simplekml/featgeom.py\u001b[0m in \u001b[0;36mstyle\u001b[0;34m(self)\u001b[0m\n\u001b[1;32m    929\u001b[0m             \u001b[0mself\u001b[0m\u001b[0;34m.\u001b[0m\u001b[0m_placemark\u001b[0m\u001b[0;34m.\u001b[0m\u001b[0m_setstyle\u001b[0m\u001b[0;34m(\u001b[0m\u001b[0mself\u001b[0m\u001b[0;34m.\u001b[0m\u001b[0m_style\u001b[0m\u001b[0;34m)\u001b[0m\u001b[0;34m\u001b[0m\u001b[0;34m\u001b[0m\u001b[0m\n\u001b[1;32m    930\u001b[0m             \u001b[0;32mif\u001b[0m \u001b[0mself\u001b[0m\u001b[0;34m.\u001b[0m\u001b[0m_parent\u001b[0m \u001b[0;32mis\u001b[0m \u001b[0;32mnot\u001b[0m \u001b[0;32mNone\u001b[0m\u001b[0;34m:\u001b[0m\u001b[0;34m\u001b[0m\u001b[0;34m\u001b[0m\u001b[0m\n\u001b[0;32m--> 931\u001b[0;31m                 \u001b[0mself\u001b[0m\u001b[0;34m.\u001b[0m\u001b[0m_parent\u001b[0m\u001b[0;34m.\u001b[0m\u001b[0m_addstyle\u001b[0m\u001b[0;34m(\u001b[0m\u001b[0mself\u001b[0m\u001b[0;34m.\u001b[0m\u001b[0m_style\u001b[0m\u001b[0;34m)\u001b[0m\u001b[0;34m\u001b[0m\u001b[0;34m\u001b[0m\u001b[0m\n\u001b[0m\u001b[1;32m    932\u001b[0m         \u001b[0;32mreturn\u001b[0m \u001b[0mself\u001b[0m\u001b[0;34m.\u001b[0m\u001b[0m_style\u001b[0m\u001b[0;34m\u001b[0m\u001b[0;34m\u001b[0m\u001b[0m\n\u001b[1;32m    933\u001b[0m \u001b[0;34m\u001b[0m\u001b[0m\n",
      "\u001b[0;32m~/miniconda3/envs/sdsc_stage/lib/python3.9/site-packages/simplekml/featgeom.py\u001b[0m in \u001b[0;36m_addstyle\u001b[0;34m(self, style)\u001b[0m\n\u001b[1;32m    387\u001b[0m         \u001b[0;34m\"\"\"Attaches the given style (style) to this feature.\"\"\"\u001b[0m\u001b[0;34m\u001b[0m\u001b[0;34m\u001b[0m\u001b[0m\n\u001b[1;32m    388\u001b[0m         \u001b[0;32mif\u001b[0m \u001b[0mstyle\u001b[0m \u001b[0;32mnot\u001b[0m \u001b[0;32min\u001b[0m \u001b[0mself\u001b[0m\u001b[0;34m.\u001b[0m\u001b[0m_styles\u001b[0m\u001b[0;34m:\u001b[0m\u001b[0;34m\u001b[0m\u001b[0;34m\u001b[0m\u001b[0m\n\u001b[0;32m--> 389\u001b[0;31m             \u001b[0mself\u001b[0m\u001b[0;34m.\u001b[0m\u001b[0m_styles\u001b[0m\u001b[0;34m.\u001b[0m\u001b[0mappend\u001b[0m\u001b[0;34m(\u001b[0m\u001b[0mstyle\u001b[0m\u001b[0;34m)\u001b[0m\u001b[0;34m\u001b[0m\u001b[0;34m\u001b[0m\u001b[0m\n\u001b[0m\u001b[1;32m    390\u001b[0m \u001b[0;34m\u001b[0m\u001b[0m\n\u001b[1;32m    391\u001b[0m     \u001b[0;32mdef\u001b[0m \u001b[0m_addstylemap\u001b[0m\u001b[0;34m(\u001b[0m\u001b[0mself\u001b[0m\u001b[0;34m,\u001b[0m \u001b[0mstyle\u001b[0m\u001b[0;34m)\u001b[0m\u001b[0;34m:\u001b[0m\u001b[0;34m\u001b[0m\u001b[0;34m\u001b[0m\u001b[0m\n",
      "\u001b[0;31mKeyboardInterrupt\u001b[0m: "
     ]
    }
   ],
   "source": [
    "generate_kml_file_ll(latitudes, longitudes, clustering_results.labels_)"
   ]
  },
  {
   "cell_type": "code",
   "execution_count": null,
   "id": "7ceeec1e",
   "metadata": {},
   "outputs": [],
   "source": [
    "mean_cluster_velocities, mean_cluster_coherences, mean_cluster_slopes, percentages = clustering.compute_statistiques(clustering_results)"
   ]
  },
  {
   "cell_type": "markdown",
   "id": "bfe0a2c3",
   "metadata": {},
   "source": [
    "# Clustering avec une mésure de similarité"
   ]
  },
  {
   "cell_type": "code",
   "execution_count": 149,
   "id": "8e48b6ab",
   "metadata": {},
   "outputs": [],
   "source": [
    "from sklearn.metrics.pairwise import cosine_similarity\n",
    "from sklearn.cluster import DBSCAN\n",
    "\n",
    "ew_velocities_zone1 = rasterio.open('rasters/mpic/zones/zone1/velocity_EW.tif').read(1)\n",
    "ns_velocities_zone1 = rasterio.open('rasters/mpic/zones/zone1/velocity_NS.tif').read(1)\n",
    "velocities_zone1 = rasterio.open('rasters/mpic/zones/zone1/veloc_magnitude.tif').read(1)\n",
    "\n",
    "std_vel = np.nanstd(velocities_zone1)\n",
    "mask_vel = velocities_zone1.flatten() >  3 * std_vel \n",
    "mask_nan = np.isnan(velocities_zone1.flatten())"
   ]
  },
  {
   "cell_type": "code",
   "execution_count": 150,
   "id": "f068b4ba",
   "metadata": {},
   "outputs": [
    {
     "data": {
      "text/plain": [
       "(11867,)"
      ]
     },
     "execution_count": 150,
     "metadata": {},
     "output_type": "execute_result"
    }
   ],
   "source": [
    "ew_vel = ew_velocities_zone1.flatten()[mask_vel]\n",
    "ew_vel.shape"
   ]
  },
  {
   "cell_type": "code",
   "execution_count": 151,
   "id": "8ed031af",
   "metadata": {},
   "outputs": [],
   "source": [
    "ew_vel = ew_velocities_zone1.flatten()[mask_vel]\n",
    "ns_evl = ns_velocities_zone1.flatten()[mask_vel]\n",
    "vectors = np.stack((ew_vel, ns_evl), axis=-1)\n",
    "#similarity_matrix = cosine_similarity(vectors)\n",
    "clustering_results = DBSCAN(eps=3, min_samples=30, metric='cosine').fit(vectors)"
   ]
  },
  {
   "cell_type": "code",
   "execution_count": null,
   "id": "7ef16d3c",
   "metadata": {},
   "outputs": [],
   "source": []
  }
 ],
 "metadata": {
  "kernelspec": {
   "display_name": "Python 3",
   "language": "python",
   "name": "python3"
  },
  "language_info": {
   "codemirror_mode": {
    "name": "ipython",
    "version": 3
   },
   "file_extension": ".py",
   "mimetype": "text/x-python",
   "name": "python",
   "nbconvert_exporter": "python",
   "pygments_lexer": "ipython3",
   "version": "3.9.0"
  }
 },
 "nbformat": 4,
 "nbformat_minor": 5
}

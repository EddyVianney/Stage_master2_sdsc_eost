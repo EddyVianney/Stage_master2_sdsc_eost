{
 "cells": [
  {
   "cell_type": "code",
   "execution_count": 2,
   "id": "506aa286",
   "metadata": {},
   "outputs": [],
   "source": [
    "\n",
    "from abc import ABC, abstractmethod\n"
   ]
  },
  {
   "cell_type": "code",
   "execution_count": 7,
   "id": "ffdea436",
   "metadata": {},
   "outputs": [],
   "source": [
    "class Data(ABC):\n",
    "    @abstractmethod\n",
    "    def load(self):\n",
    "        pass\n",
    "    \n",
    "    @abstractmethod\n",
    "    def load_component(self, filename):\n",
    "        pass\n",
    "    \n",
    "    @abstractmethod\n",
    "    def select(self):\n",
    "        pass\n",
    "    \n",
    "    @abstractmethod\n",
    "    def set_displacement(self):\n",
    "        pass"
   ]
  },
  {
   "cell_type": "code",
   "execution_count": 8,
   "id": "1f1d7c1c",
   "metadata": {},
   "outputs": [],
   "source": [
    "class InsarData(Data):\n",
    "    def __init__(self):\n",
    "        pass\n",
    "    \n",
    "    def load(self, data, filename):\n",
    "        print('iiii')"
   ]
  },
  {
   "cell_type": "code",
   "execution_count": 10,
   "id": "b4b7e2ce",
   "metadata": {},
   "outputs": [
    {
     "name": "stdout",
     "output_type": "stream",
     "text": [
      "iiii\n"
     ]
    }
   ],
   "source": [
    "class OpticalImageryData(Data):\n",
    "    def __init__(self):\n",
    "        pass\n",
    "    \n",
    "    def load(self, data, filename1, filename2):\n",
    "        print('iiii')"
   ]
  },
  {
   "cell_type": "code",
   "execution_count": null,
   "id": "58c43830",
   "metadata": {},
   "outputs": [],
   "source": [
    "class Processing():\n",
    "    def compute_slope_map(self, raster_folder_name, dem_name):\n",
    "        pass\n",
    "    \n",
    "    def load_raster(self, raster_folder_name, raster_filename):\n",
    "        pass\n",
    "\n",
    "    def set_slope_map_path(self, slope_map_path):\n",
    "        pass\n",
    "    "
   ]
  }
 ],
 "metadata": {
  "kernelspec": {
   "display_name": "Python 3",
   "language": "python",
   "name": "python3"
  },
  "language_info": {
   "codemirror_mode": {
    "name": "ipython",
    "version": 3
   },
   "file_extension": ".py",
   "mimetype": "text/x-python",
   "name": "python",
   "nbconvert_exporter": "python",
   "pygments_lexer": "ipython3",
   "version": "3.9.0"
  }
 },
 "nbformat": 4,
 "nbformat_minor": 5
}
